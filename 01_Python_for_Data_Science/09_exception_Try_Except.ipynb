{
 "cells": [
  {
   "cell_type": "markdown",
   "id": "d541c051-aef4-48fc-9f1b-406a40aa72d6",
   "metadata": {},
   "source": [
    "#  Data Science Learning Journey  \n",
    "*Curiosity to Capability — One Notebook at a Time*\n",
    "\n",
    "---\n",
    "Compiled and authored by **Partho Sarothi Das**   \n",
    "\tDhaka, Bangladesh  \n",
    "\tBachelor's & Master's in Statistics  \n",
    "\tInvestment Banking Professional → Aspiring Data Scientist \n",
    "    \n",
    "---"
   ]
  },
  {
   "cell_type": "raw",
   "id": "66f93396-4544-41d5-b460-f0806beb516a",
   "metadata": {},
   "source": [
    "There are 2 stages where error may happen in a program\n",
    "\n",
    "- During compilation ---> Syntax Error\n",
    "- During execution -----> Exceptions"
   ]
  },
  {
   "cell_type": "markdown",
   "id": "e75b025a-1bfb-4a39-81cb-052fd1416a0b",
   "metadata": {},
   "source": [
    "# Syntax Error\n",
    "\n",
    "- Something in the program is not written according to the program grammar.\n",
    "- Error is raised by the interpreter/compiler\n",
    "- Can solve it by rectifying the program"
   ]
  },
  {
   "cell_type": "code",
   "execution_count": 3,
   "id": "247d03fa-4af0-49ac-92d3-4a8173b7a719",
   "metadata": {},
   "outputs": [
    {
     "ename": "SyntaxError",
     "evalue": "Missing parentheses in call to 'print'. Did you mean print(...)? (528539990.py, line 2)",
     "output_type": "error",
     "traceback": [
      "\u001b[1;36m  Cell \u001b[1;32mIn[3], line 2\u001b[1;36m\u001b[0m\n\u001b[1;33m    print 'hello world'\u001b[0m\n\u001b[1;37m    ^\u001b[0m\n\u001b[1;31mSyntaxError\u001b[0m\u001b[1;31m:\u001b[0m Missing parentheses in call to 'print'. Did you mean print(...)?\n"
     ]
    }
   ],
   "source": [
    "# Examples of syntax error\n",
    "print 'hello world'"
   ]
  },
  {
   "cell_type": "markdown",
   "id": "28aebcfa-4f81-4557-972e-54204318b534",
   "metadata": {},
   "source": [
    "### Other examples of syntax error\n",
    "\n",
    "- Leaving symbols like colon,brackets\n",
    "- Misspelling a keyword\n",
    "- Incorrect indentation\n",
    "- empty if/else/loops/class/functions"
   ]
  },
  {
   "cell_type": "code",
   "execution_count": 17,
   "id": "0d179adc-d103-4293-8632-0094bf64c28e",
   "metadata": {},
   "outputs": [
    {
     "ename": "SyntaxError",
     "evalue": "expected ':' (3315782095.py, line 2)",
     "output_type": "error",
     "traceback": [
      "\u001b[1;36m  Cell \u001b[1;32mIn[17], line 2\u001b[1;36m\u001b[0m\n\u001b[1;33m    if a==3\u001b[0m\n\u001b[1;37m           ^\u001b[0m\n\u001b[1;31mSyntaxError\u001b[0m\u001b[1;31m:\u001b[0m expected ':'\n"
     ]
    }
   ],
   "source": [
    "a = 5\n",
    "if a==3\n",
    "  print('hello')"
   ]
  },
  {
   "cell_type": "code",
   "execution_count": 19,
   "id": "5b1ee467-05a7-449f-bcbc-1758824335b7",
   "metadata": {},
   "outputs": [
    {
     "ename": "SyntaxError",
     "evalue": "invalid syntax (521424995.py, line 2)",
     "output_type": "error",
     "traceback": [
      "\u001b[1;36m  Cell \u001b[1;32mIn[19], line 2\u001b[1;36m\u001b[0m\n\u001b[1;33m    iff a==3:\u001b[0m\n\u001b[1;37m        ^\u001b[0m\n\u001b[1;31mSyntaxError\u001b[0m\u001b[1;31m:\u001b[0m invalid syntax\n"
     ]
    }
   ],
   "source": [
    "a = 5\n",
    "iff a==3:\n",
    "  print('hello')"
   ]
  },
  {
   "cell_type": "code",
   "execution_count": 21,
   "id": "504d1c76-479a-4dfc-b0e4-b6fa391f3bbc",
   "metadata": {},
   "outputs": [
    {
     "ename": "IndentationError",
     "evalue": "expected an indented block after 'if' statement on line 4 (4270086160.py, line 5)",
     "output_type": "error",
     "traceback": [
      "\u001b[1;36m  Cell \u001b[1;32mIn[21], line 5\u001b[1;36m\u001b[0m\n\u001b[1;33m    print('hello')\u001b[0m\n\u001b[1;37m    ^\u001b[0m\n\u001b[1;31mIndentationError\u001b[0m\u001b[1;31m:\u001b[0m expected an indented block after 'if' statement on line 4\n"
     ]
    }
   ],
   "source": [
    "# IndentationError\n",
    "\n",
    "a = 5\n",
    "if a==3:\n",
    "print('hello')"
   ]
  },
  {
   "cell_type": "code",
   "execution_count": 23,
   "id": "8497b0de-e674-4852-a4ba-fc2d2cac84f1",
   "metadata": {},
   "outputs": [
    {
     "ename": "IndexError",
     "evalue": "list index out of range",
     "output_type": "error",
     "traceback": [
      "\u001b[1;31m---------------------------------------------------------------------------\u001b[0m",
      "\u001b[1;31mIndexError\u001b[0m                                Traceback (most recent call last)",
      "Cell \u001b[1;32mIn[23], line 5\u001b[0m\n\u001b[0;32m      1\u001b[0m \u001b[38;5;66;03m# IndexError\u001b[39;00m\n\u001b[0;32m      2\u001b[0m \u001b[38;5;66;03m# The IndexError is thrown when trying to access an item at an invalid index.\u001b[39;00m\n\u001b[0;32m      4\u001b[0m L \u001b[38;5;241m=\u001b[39m [\u001b[38;5;241m1\u001b[39m,\u001b[38;5;241m2\u001b[39m,\u001b[38;5;241m3\u001b[39m]\n\u001b[1;32m----> 5\u001b[0m L[\u001b[38;5;241m100\u001b[39m]\n",
      "\u001b[1;31mIndexError\u001b[0m: list index out of range"
     ]
    }
   ],
   "source": [
    "# IndexError\n",
    "# The IndexError is thrown when trying to access an item at an invalid index.\n",
    "\n",
    "L = [1,2,3]\n",
    "L[100]"
   ]
  },
  {
   "cell_type": "code",
   "execution_count": null,
   "id": "3901ebf0-cb04-4c49-8d0f-fc3c82a55288",
   "metadata": {},
   "outputs": [],
   "source": [
    "# ModuleNotFoundError\n",
    "# The ModuleNotFoundError is thrown when a module could not be found.\n",
    "\n",
    "import mathi\n",
    "math.floor(5.3)"
   ]
  },
  {
   "cell_type": "code",
   "execution_count": null,
   "id": "3dae3166-c464-421c-adf1-44cdddaee042",
   "metadata": {},
   "outputs": [],
   "source": [
    "# KeyError\n",
    "# The KeyError is thrown when a key is not found\n",
    "\n",
    "d = {'name':'partho'}\n",
    "d['age']"
   ]
  },
  {
   "cell_type": "code",
   "execution_count": 27,
   "id": "4cd644f2-32b9-4050-b5fb-50ffce3eb100",
   "metadata": {},
   "outputs": [
    {
     "ename": "TypeError",
     "evalue": "unsupported operand type(s) for +: 'int' and 'str'",
     "output_type": "error",
     "traceback": [
      "\u001b[1;31m---------------------------------------------------------------------------\u001b[0m",
      "\u001b[1;31mTypeError\u001b[0m                                 Traceback (most recent call last)",
      "Cell \u001b[1;32mIn[27], line 4\u001b[0m\n\u001b[0;32m      1\u001b[0m \u001b[38;5;66;03m# TypeError\u001b[39;00m\n\u001b[0;32m      2\u001b[0m \u001b[38;5;66;03m# The TypeError is thrown when an operation or function is applied to an object of an inappropriate type.\u001b[39;00m\n\u001b[1;32m----> 4\u001b[0m \u001b[38;5;241m1\u001b[39m \u001b[38;5;241m+\u001b[39m \u001b[38;5;124m'\u001b[39m\u001b[38;5;124ma\u001b[39m\u001b[38;5;124m'\u001b[39m\n",
      "\u001b[1;31mTypeError\u001b[0m: unsupported operand type(s) for +: 'int' and 'str'"
     ]
    }
   ],
   "source": [
    "# TypeError\n",
    "# The TypeError is thrown when an operation or function is applied to an object of an inappropriate type.\n",
    "\n",
    "1 + 'a'"
   ]
  },
  {
   "cell_type": "code",
   "execution_count": 29,
   "id": "4ea61e91-defd-498a-b148-c4febfe9615b",
   "metadata": {},
   "outputs": [
    {
     "ename": "ValueError",
     "evalue": "invalid literal for int() with base 10: 'a'",
     "output_type": "error",
     "traceback": [
      "\u001b[1;31m---------------------------------------------------------------------------\u001b[0m",
      "\u001b[1;31mValueError\u001b[0m                                Traceback (most recent call last)",
      "Cell \u001b[1;32mIn[29], line 3\u001b[0m\n\u001b[0;32m      1\u001b[0m \u001b[38;5;66;03m# ValueError\u001b[39;00m\n\u001b[0;32m      2\u001b[0m \u001b[38;5;66;03m# The ValueError is thrown when a function's argument is of an inappropriate type.\u001b[39;00m\n\u001b[1;32m----> 3\u001b[0m \u001b[38;5;28mint\u001b[39m(\u001b[38;5;124m'\u001b[39m\u001b[38;5;124ma\u001b[39m\u001b[38;5;124m'\u001b[39m)\n",
      "\u001b[1;31mValueError\u001b[0m: invalid literal for int() with base 10: 'a'"
     ]
    }
   ],
   "source": [
    "# ValueError\n",
    "# The ValueError is thrown when a function's argument is of an inappropriate type.\n",
    "int('a')"
   ]
  },
  {
   "cell_type": "code",
   "execution_count": 31,
   "id": "398a54a7-0834-48b8-b0a3-10967331f597",
   "metadata": {},
   "outputs": [
    {
     "ename": "NameError",
     "evalue": "name 'k' is not defined",
     "output_type": "error",
     "traceback": [
      "\u001b[1;31m---------------------------------------------------------------------------\u001b[0m",
      "\u001b[1;31mNameError\u001b[0m                                 Traceback (most recent call last)",
      "Cell \u001b[1;32mIn[31], line 3\u001b[0m\n\u001b[0;32m      1\u001b[0m \u001b[38;5;66;03m# NameError\u001b[39;00m\n\u001b[0;32m      2\u001b[0m \u001b[38;5;66;03m# The NameError is thrown when an object could not be found.\u001b[39;00m\n\u001b[1;32m----> 3\u001b[0m \u001b[38;5;28mprint\u001b[39m(k)\n",
      "\u001b[1;31mNameError\u001b[0m: name 'k' is not defined"
     ]
    }
   ],
   "source": [
    "# NameError\n",
    "# The NameError is thrown when an object could not be found.\n",
    "print(k)"
   ]
  },
  {
   "cell_type": "code",
   "execution_count": 33,
   "id": "7cca64f2-e8c4-4c74-a22a-f81d095bebc9",
   "metadata": {},
   "outputs": [
    {
     "ename": "AttributeError",
     "evalue": "'list' object has no attribute 'upper'",
     "output_type": "error",
     "traceback": [
      "\u001b[1;31m---------------------------------------------------------------------------\u001b[0m",
      "\u001b[1;31mAttributeError\u001b[0m                            Traceback (most recent call last)",
      "Cell \u001b[1;32mIn[33], line 3\u001b[0m\n\u001b[0;32m      1\u001b[0m \u001b[38;5;66;03m# AttributeError\u001b[39;00m\n\u001b[0;32m      2\u001b[0m L \u001b[38;5;241m=\u001b[39m [\u001b[38;5;241m1\u001b[39m,\u001b[38;5;241m2\u001b[39m,\u001b[38;5;241m3\u001b[39m]\n\u001b[1;32m----> 3\u001b[0m L\u001b[38;5;241m.\u001b[39mupper()\n",
      "\u001b[1;31mAttributeError\u001b[0m: 'list' object has no attribute 'upper'"
     ]
    }
   ],
   "source": [
    "# AttributeError\n",
    "L = [1,2,3]\n",
    "L.upper()\n",
    "\n",
    "# Stacktrace"
   ]
  },
  {
   "cell_type": "markdown",
   "id": "3e08ef79-fd06-4211-98c0-d16c05999bb8",
   "metadata": {},
   "source": [
    "# Exceptions\n",
    "\n",
    "If things go wrong during the execution of the program(runtime). It generally happens when something unforeseen has happened.\n",
    "\n",
    "- Exceptions are raised by python runtime\n",
    "- You have to takle is on the fly\n",
    "\n",
    "### **Examples**\n",
    "\n",
    "- Memory overflow\n",
    "- Divide by 0 -> logical error\n",
    "- Database error"
   ]
  },
  {
   "cell_type": "markdown",
   "id": "52aed57b-e5fd-47b5-bebc-e460a5f29c35",
   "metadata": {},
   "source": [
    "---\n",
    "# Try Except\n",
    "---\n",
    "- try ------> The try block lets you test a block of code for errors.\n",
    "- except ---> The except block lets you handle the error.\n",
    "- else -----> The else block lets you execute code when there is no error.\n",
    "- finally --> The finally block lets you execute code, regardless of the result of the try- and except blocks."
   ]
  },
  {
   "cell_type": "code",
   "execution_count": 37,
   "id": "085e614f-0d1b-41ac-8879-058d87d3cf86",
   "metadata": {},
   "outputs": [
    {
     "name": "stdout",
     "output_type": "stream",
     "text": [
      "An exception occurred.\n"
     ]
    }
   ],
   "source": [
    "try:\n",
    "    print(x)\n",
    "except:\n",
    "    print(\"An exception occurred.\")"
   ]
  },
  {
   "cell_type": "code",
   "execution_count": 39,
   "id": "02c2a952-6755-44bc-a599-b7a54f68749c",
   "metadata": {},
   "outputs": [
    {
     "name": "stdout",
     "output_type": "stream",
     "text": [
      "Variable x is not defined.\n"
     ]
    }
   ],
   "source": [
    "# Many Exceptions\n",
    "# You can define as many exception blocks as you want, e.g. if you want to execute a special block of code for a special kind of error:\n",
    "\n",
    "try:\n",
    "    print(x)\n",
    "except NameError:\n",
    "    print(\"Variable x is not defined.\")\n",
    "except:\n",
    "    print(\"Something else goes wrong.\")"
   ]
  },
  {
   "cell_type": "code",
   "execution_count": 41,
   "id": "d9ed2829-3890-40b7-90c6-980e99014047",
   "metadata": {},
   "outputs": [
    {
     "name": "stdout",
     "output_type": "stream",
     "text": [
      "Hello\n",
      "Nothing went wrong\n"
     ]
    }
   ],
   "source": [
    "# else\n",
    "\n",
    "try:\n",
    "  print(\"Hello\")\n",
    "except:\n",
    "  print(\"Something went wrong\")\n",
    "else:\n",
    "  print(\"Nothing went wrong\")"
   ]
  },
  {
   "cell_type": "code",
   "execution_count": 43,
   "id": "c0d4eeff-1591-4b05-a0aa-6d2772ebe1cf",
   "metadata": {},
   "outputs": [
    {
     "name": "stdout",
     "output_type": "stream",
     "text": [
      "Something went wrong\n",
      "The 'try except' is finished\n"
     ]
    }
   ],
   "source": [
    "# Finally--->finally block -----> will be executed regardless if the try block raises an error or not.\n",
    "\n",
    "try:\n",
    "  print(y)\n",
    "except:\n",
    "  print(\"Something went wrong\")\n",
    "else:\n",
    "    print('Nothing went wrong')\n",
    "finally:\n",
    "  print(\"The 'try except' is finished\")"
   ]
  },
  {
   "cell_type": "code",
   "execution_count": 45,
   "id": "1c5dcd1d-2c1e-41bf-92f7-ae487f70e87f",
   "metadata": {},
   "outputs": [
    {
     "name": "stdout",
     "output_type": "stream",
     "text": [
      "Something went wrong when opening the file\n"
     ]
    }
   ],
   "source": [
    "# Try to open and write to a file that is not writable:\n",
    "\n",
    "try:\n",
    "  f = open(\"demofile.txt\")\n",
    "  try:\n",
    "    f.write(\"Lorum Ipsum\")\n",
    "  except:\n",
    "    print(\"Something went wrong when writing to the file\")\n",
    "  finally:\n",
    "    f.close()\n",
    "except:\n",
    "  print(\"Something went wrong when opening the file\")"
   ]
  },
  {
   "cell_type": "markdown",
   "id": "c681186c-bd64-4de7-b7fc-2210603fd51f",
   "metadata": {},
   "source": [
    "# Raise an exception\n",
    "\n",
    "- In Python programming, exceptions are raised when errors occur at runtime.\n",
    "- We can also manually raise exceptions using the raise keyword.\n",
    "- We can optionally pass values to the exception to clarify why that exception was raised"
   ]
  },
  {
   "cell_type": "code",
   "execution_count": 48,
   "id": "f32f8a82-018d-4960-aeb9-ba0ec8dd1a8f",
   "metadata": {},
   "outputs": [
    {
     "ename": "Exception",
     "evalue": "Sorry, no number below zero is allowed",
     "output_type": "error",
     "traceback": [
      "\u001b[1;31m---------------------------------------------------------------------------\u001b[0m",
      "\u001b[1;31mException\u001b[0m                                 Traceback (most recent call last)",
      "Cell \u001b[1;32mIn[48], line 5\u001b[0m\n\u001b[0;32m      3\u001b[0m x \u001b[38;5;241m=\u001b[39m \u001b[38;5;241m-\u001b[39m\u001b[38;5;241m1\u001b[39m\n\u001b[0;32m      4\u001b[0m \u001b[38;5;28;01mif\u001b[39;00m x\u001b[38;5;241m<\u001b[39m\u001b[38;5;241m0\u001b[39m:\n\u001b[1;32m----> 5\u001b[0m     \u001b[38;5;28;01mraise\u001b[39;00m \u001b[38;5;167;01mException\u001b[39;00m(\u001b[38;5;124m'\u001b[39m\u001b[38;5;124mSorry, no number below zero is allowed\u001b[39m\u001b[38;5;124m'\u001b[39m)\n",
      "\u001b[1;31mException\u001b[0m: Sorry, no number below zero is allowed"
     ]
    }
   ],
   "source": [
    "# Raise an error and stop the program if x is lower than 0\n",
    "\n",
    "x = -1\n",
    "if x<0:\n",
    "    raise Exception('Sorry, no number below zero is allowed')"
   ]
  },
  {
   "cell_type": "code",
   "execution_count": 50,
   "id": "dda24b62-1abe-4d0d-b09c-f1270a4f155e",
   "metadata": {},
   "outputs": [
    {
     "ename": "TypeError",
     "evalue": "Only integers are allowed.",
     "output_type": "error",
     "traceback": [
      "\u001b[1;31m---------------------------------------------------------------------------\u001b[0m",
      "\u001b[1;31mTypeError\u001b[0m                                 Traceback (most recent call last)",
      "Cell \u001b[1;32mIn[50], line 5\u001b[0m\n\u001b[0;32m      3\u001b[0m x \u001b[38;5;241m=\u001b[39m \u001b[38;5;124m'\u001b[39m\u001b[38;5;124mHello\u001b[39m\u001b[38;5;124m'\u001b[39m\n\u001b[0;32m      4\u001b[0m \u001b[38;5;28;01mif\u001b[39;00m \u001b[38;5;129;01mnot\u001b[39;00m \u001b[38;5;28mtype\u001b[39m(x) \u001b[38;5;129;01mis\u001b[39;00m \u001b[38;5;28mint\u001b[39m:\n\u001b[1;32m----> 5\u001b[0m     \u001b[38;5;28;01mraise\u001b[39;00m \u001b[38;5;167;01mTypeError\u001b[39;00m(\u001b[38;5;124m\"\u001b[39m\u001b[38;5;124mOnly integers are allowed.\u001b[39m\u001b[38;5;124m\"\u001b[39m)\n",
      "\u001b[1;31mTypeError\u001b[0m: Only integers are allowed."
     ]
    }
   ],
   "source": [
    "# Define what kind of error to raise, and the text to print to the user.\n",
    "\n",
    "x = 'Hello'\n",
    "if not type(x) is int:\n",
    "    raise TypeError(\"Only integers are allowed.\")"
   ]
  },
  {
   "cell_type": "markdown",
   "id": "267adc1a-17a3-42ec-815b-9ac8ce567b13",
   "metadata": {},
   "source": [
    "# 🔹 **Basic Level (1–7)**"
   ]
  },
  {
   "cell_type": "code",
   "execution_count": null,
   "id": "42952aeb-0a36-4e0e-b52b-cfd804b1897f",
   "metadata": {},
   "outputs": [],
   "source": [
    "# 1. What is an exception in Python?"
   ]
  },
  {
   "cell_type": "code",
   "execution_count": null,
   "id": "b2ce3e6d-426f-404c-ab49-c8674d514246",
   "metadata": {},
   "outputs": [],
   "source": [
    "# 2. What is the purpose of the `try` and `except` block?"
   ]
  },
  {
   "cell_type": "code",
   "execution_count": null,
   "id": "e5de19db-7953-43f8-b930-3ba52dd70580",
   "metadata": {},
   "outputs": [],
   "source": [
    "# 3. Write a program to handle division by zero using `try-except`."
   ]
  },
  {
   "cell_type": "code",
   "execution_count": 59,
   "id": "f59366f1-cd8d-4fea-87ae-a033208ff05e",
   "metadata": {},
   "outputs": [
    {
     "name": "stdout",
     "output_type": "stream",
     "text": [
      "Caught a ValueError\n"
     ]
    }
   ],
   "source": [
    "# 4. What will be the output of this code?\n",
    "\n",
    "try:\n",
    "   x = int(\"abc\")\n",
    "except ValueError:\n",
    "   print(\"Caught a ValueError\")\n"
   ]
  },
  {
   "cell_type": "code",
   "execution_count": null,
   "id": "1da71319-5d5a-4ff5-b6f2-6ba552eced3b",
   "metadata": {},
   "outputs": [],
   "source": [
    "# 5. Which built-in exception is raised when an index is out of range in a list?"
   ]
  },
  {
   "cell_type": "code",
   "execution_count": null,
   "id": "73e929e6-3437-4fd1-83ad-5cc8b9dc7e1b",
   "metadata": {},
   "outputs": [],
   "source": [
    "# 6. Write a program that catches a `FileNotFoundError` when opening a missing file."
   ]
  },
  {
   "cell_type": "code",
   "execution_count": null,
   "id": "b80042ad-9969-48ac-8069-387a5f49ac8b",
   "metadata": {},
   "outputs": [],
   "source": [
    "# 7. What is the difference between `SyntaxError` and `Exception`?"
   ]
  },
  {
   "cell_type": "markdown",
   "id": "d028e707-5a2e-4cb0-9ab5-41670e5d9b5f",
   "metadata": {},
   "source": [
    "# 🔹 **Intermediate Level (8–14)**"
   ]
  },
  {
   "cell_type": "code",
   "execution_count": null,
   "id": "1c995ab0-51ab-488a-b80b-73661fa8daa0",
   "metadata": {},
   "outputs": [],
   "source": [
    "# 8. How can you handle multiple exceptions in a single `try` block? (Write code)"
   ]
  },
  {
   "cell_type": "code",
   "execution_count": null,
   "id": "6b8bfa85-c409-4880-8b49-fb64318f7fe9",
   "metadata": {},
   "outputs": [],
   "source": [
    "# 9. What does the `else` block do in a `try-except-else` structure?"
   ]
  },
  {
   "cell_type": "code",
   "execution_count": null,
   "id": "189d9c31-e33a-4bb2-bbcc-e8dc9dc056a7",
   "metadata": {},
   "outputs": [],
   "source": [
    "# 10. Write a program using `try-except-else` that prints a success message if no error occurs."
   ]
  },
  {
   "cell_type": "code",
   "execution_count": null,
   "id": "7f2fea2b-1084-40d1-8404-20cb27da6107",
   "metadata": {},
   "outputs": [],
   "source": [
    "# 11. How does the `finally` block behave even if an exception is not raised?"
   ]
  },
  {
   "cell_type": "code",
   "execution_count": null,
   "id": "e4de43b4-aaee-4e30-a75a-578ca9424472",
   "metadata": {},
   "outputs": [],
   "source": [
    "# 12. What happens if you don’t catch an exception in the `try` block?"
   ]
  },
  {
   "cell_type": "code",
   "execution_count": null,
   "id": "2ec17cd5-989b-41ef-9b02-136d76b030f9",
   "metadata": {},
   "outputs": [],
   "source": [
    "# 13. Modify this code to handle both `ZeroDivisionError` and `ValueError`:"
   ]
  },
  {
   "cell_type": "code",
   "execution_count": null,
   "id": "5c1c4382-4d8d-442c-a87c-dbbc3a97bb64",
   "metadata": {},
   "outputs": [],
   "source": [
    "#     ```python\n",
    "#     a = int(input(\"Enter number: \"))\n",
    "#     print(10 / a)\n",
    "#     ```"
   ]
  },
  {
   "cell_type": "code",
   "execution_count": null,
   "id": "77b9b342-fe5f-42c7-8e82-62dc2b0ba5db",
   "metadata": {},
   "outputs": [],
   "source": [
    "# 14. Write a program to handle a `KeyError` while accessing a dictionary."
   ]
  },
  {
   "cell_type": "markdown",
   "id": "94e2b30f-5452-4fef-83ce-b5b4b07ba1d2",
   "metadata": {},
   "source": [
    "# 🔹 **Advanced Level (15–20)**"
   ]
  },
  {
   "cell_type": "code",
   "execution_count": null,
   "id": "72d6942b-019b-4090-bbbe-af1db49e5d01",
   "metadata": {},
   "outputs": [],
   "source": [
    "# 15. What is exception chaining (`raise ... from`)? Give an example."
   ]
  },
  {
   "cell_type": "code",
   "execution_count": null,
   "id": "fb1ab5c2-ff4d-4b5c-8302-44dffdb50ce9",
   "metadata": {},
   "outputs": [],
   "source": [
    "# 16. Can you catch an exception and raise it again? Show how."
   ]
  },
  {
   "cell_type": "code",
   "execution_count": null,
   "id": "6921ed34-9248-4869-a8cc-d9f1382e3f31",
   "metadata": {},
   "outputs": [],
   "source": [
    "# 17. Explain the use of `assert` and how it raises an `AssertionError`."
   ]
  },
  {
   "cell_type": "code",
   "execution_count": null,
   "id": "83bfdbcc-ac19-4226-87f7-74235f6de143",
   "metadata": {},
   "outputs": [],
   "source": [
    "# 18. Write a custom exception class `NegativeNumberError` that is raised when a number is negative."
   ]
  },
  {
   "cell_type": "code",
   "execution_count": null,
   "id": "7f5f78d6-c090-4a3c-81d7-168c3e657292",
   "metadata": {},
   "outputs": [],
   "source": [
    "# 19. Explain the difference between catching `Exception` vs catching specific exceptions."
   ]
  },
  {
   "cell_type": "code",
   "execution_count": null,
   "id": "6a6bbff9-4b8e-4569-8288-a326721abf3c",
   "metadata": {},
   "outputs": [],
   "source": [
    "# 20. What are the risks of using a blank `except:` clause in Python? Show with example."
   ]
  }
 ],
 "metadata": {
  "kernelspec": {
   "display_name": "Python [conda env:base] *",
   "language": "python",
   "name": "conda-base-py"
  },
  "language_info": {
   "codemirror_mode": {
    "name": "ipython",
    "version": 3
   },
   "file_extension": ".py",
   "mimetype": "text/x-python",
   "name": "python",
   "nbconvert_exporter": "python",
   "pygments_lexer": "ipython3",
   "version": "3.12.7"
  }
 },
 "nbformat": 4,
 "nbformat_minor": 5
}
