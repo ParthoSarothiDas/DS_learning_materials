{
 "cells": [
  {
   "cell_type": "markdown",
   "id": "a7068008-122e-41e4-bdcd-948c4a73acca",
   "metadata": {},
   "source": [
    "#  Data Science Learning Journey  \n",
    "*Curiosity to Capability — One Notebook at a Time*\n",
    "\n",
    "---\n",
    "Compiled and authored by **Partho Sarothi Das**   \n",
    "\tDhaka, Bangladesh  \n",
    "\tBachelor's & Master's in Statistics  \n",
    "\tInvestment Banking Professional → Aspiring Data Scientist "
   ]
  },
  {
   "cell_type": "markdown",
   "id": "29b2cdf5-797e-4320-89cf-148ebe2a1ebe",
   "metadata": {},
   "source": [
    "# Python Collections (Arrays)_3"
   ]
  },
  {
   "cell_type": "raw",
   "id": "013acf25-8f93-4efe-94dd-5bbc8ec6249a",
   "metadata": {},
   "source": [
    "There are four collection data types in the Python programming language:\n",
    "\n",
    "List is a collection which is ordered and changeable. Allows duplicate members.\n",
    "Tuple is a collection which is ordered and unchangeable. Allows duplicate members.\n",
    "Set is a collection which is unordered, unchangeable*, and unindexed. No duplicate members.\n",
    "Dictionary is a collection which is ordered** and changeable. No duplicate members."
   ]
  },
  {
   "cell_type": "markdown",
   "id": "d5101a62-2aac-4ffe-95da-74e4a6b628e5",
   "metadata": {},
   "source": [
    "# Sets\n",
    "\n",
    "A Set is an unordered collection of items.  \n",
    "Characterestic:\n",
    "- Unordered\n",
    "- Immutable\n",
    "- No Duplicates\n",
    "- Can't contain mutable data types"
   ]
  },
  {
   "cell_type": "code",
   "execution_count": 4,
   "id": "644e0c9b-2c8a-4bf1-a18d-336c835ec007",
   "metadata": {},
   "outputs": [],
   "source": [
    "s = {'apple', 'mango', 'jackfruite'}"
   ]
  },
  {
   "cell_type": "code",
   "execution_count": 5,
   "id": "5cfaccf6-c7a5-4943-9a62-5b40c7e834d3",
   "metadata": {},
   "outputs": [
    {
     "data": {
      "text/plain": [
       "set()"
      ]
     },
     "execution_count": 5,
     "metadata": {},
     "output_type": "execute_result"
    }
   ],
   "source": [
    "# empty set\n",
    "\n",
    "s = set()\n",
    "s"
   ]
  },
  {
   "cell_type": "code",
   "execution_count": 6,
   "id": "78468483-84c1-4213-8c1c-6319be86d5e7",
   "metadata": {},
   "outputs": [
    {
     "data": {
      "text/plain": [
       "{1, 2, 3}"
      ]
     },
     "execution_count": 6,
     "metadata": {},
     "output_type": "execute_result"
    }
   ],
   "source": [
    "# 1D / Homo\n",
    "s1 ={1,2,3}\n",
    "s1"
   ]
  },
  {
   "cell_type": "code",
   "execution_count": 7,
   "id": "eecaa031-22de-4154-9656-e855be792bf7",
   "metadata": {},
   "outputs": [
    {
     "data": {
      "text/plain": [
       "{(1, 2, 3), 1, 4.5, 'discipline'}"
      ]
     },
     "execution_count": 7,
     "metadata": {},
     "output_type": "execute_result"
    }
   ],
   "source": [
    "s = {1, 'discipline', 4.5, (1,2,3)}\n",
    "s"
   ]
  },
  {
   "cell_type": "code",
   "execution_count": 8,
   "id": "3a420f8b-47f6-4fd8-910f-ba39cefc392a",
   "metadata": {},
   "outputs": [
    {
     "data": {
      "text/plain": [
       "{1, 2, 3}"
      ]
     },
     "execution_count": 8,
     "metadata": {},
     "output_type": "execute_result"
    }
   ],
   "source": [
    "s = set([1,2,3])\n",
    "s"
   ]
  },
  {
   "cell_type": "code",
   "execution_count": 9,
   "id": "dd684396-ef0d-49e3-81bb-fe93a84826dd",
   "metadata": {},
   "outputs": [
    {
     "data": {
      "text/plain": [
       "{1, 2, 3}"
      ]
     },
     "execution_count": 9,
     "metadata": {},
     "output_type": "execute_result"
    }
   ],
   "source": [
    "# Duplicate value not allowed\n",
    "s = {1,1,2,2,3,3}\n",
    "s"
   ]
  },
  {
   "cell_type": "raw",
   "id": "ff66cc65-f1fd-476a-a089-047b1bbfb334",
   "metadata": {},
   "source": [
    "# error\n",
    "s2 = {1,2,3,{4,5}}  \n",
    "\n",
    "# Note: sets in Python cannot contain other sets (i.e., they must contain only hashable (immutable) types)."
   ]
  },
  {
   "cell_type": "raw",
   "id": "beec92be-489b-463b-8afe-b87e4a11cd94",
   "metadata": {},
   "source": [
    "# error\n",
    "\n",
    "s = {1,2,[1,4]}\n",
    "s"
   ]
  },
  {
   "cell_type": "code",
   "execution_count": 10,
   "id": "01198129-852b-4e90-bdb9-ead459461845",
   "metadata": {},
   "outputs": [
    {
     "name": "stdout",
     "output_type": "stream",
     "text": [
      "s1 {1, 2, 3}\n",
      "s2 {1, 2, 3}\n"
     ]
    },
    {
     "data": {
      "text/plain": [
       "True"
      ]
     },
     "execution_count": 10,
     "metadata": {},
     "output_type": "execute_result"
    }
   ],
   "source": [
    "# Unordered\n",
    "\n",
    "s1 = {1,2,3}\n",
    "s2 = {3,2,1}\n",
    "\n",
    "print('s1', s1)\n",
    "print('s2', s2)\n",
    "\n",
    "s1 == s2"
   ]
  },
  {
   "cell_type": "code",
   "execution_count": 11,
   "id": "1b1e3139-b66a-4dc0-97fe-de87c612a368",
   "metadata": {},
   "outputs": [
    {
     "data": {
      "text/plain": [
       "{True}"
      ]
     },
     "execution_count": 11,
     "metadata": {},
     "output_type": "execute_result"
    }
   ],
   "source": [
    "# True and 1 is considered the same value:\n",
    "\n",
    "s = {True,1}\n",
    "s"
   ]
  },
  {
   "cell_type": "code",
   "execution_count": 12,
   "id": "dd538a35-c558-4509-b688-b3882b86dd34",
   "metadata": {},
   "outputs": [
    {
     "data": {
      "text/plain": [
       "{0}"
      ]
     },
     "execution_count": 12,
     "metadata": {},
     "output_type": "execute_result"
    }
   ],
   "source": [
    "# False and 0 is considered the same value:\n",
    "\n",
    "s = {0, False}\n",
    "s"
   ]
  },
  {
   "cell_type": "code",
   "execution_count": 86,
   "id": "169e55ae-4a1a-4e29-9696-a5275b1f7c81",
   "metadata": {},
   "outputs": [
    {
     "data": {
      "text/plain": [
       "set"
      ]
     },
     "execution_count": 86,
     "metadata": {},
     "output_type": "execute_result"
    }
   ],
   "source": [
    "# type()\n",
    "\n",
    "s = {1,2,3}\n",
    "type(s)"
   ]
  },
  {
   "cell_type": "markdown",
   "id": "86a98c58-fc1a-4f11-b44e-1b94f1c6e922",
   "metadata": {},
   "source": [
    "# Access List Items\n",
    "\n",
    "You cannot access items in a set by referring to an index or a key."
   ]
  },
  {
   "cell_type": "code",
   "execution_count": 14,
   "id": "9e01247b-b195-40e6-baa9-5f343285df63",
   "metadata": {},
   "outputs": [
    {
     "name": "stdout",
     "output_type": "stream",
     "text": [
      "Denmark\n",
      "Spain\n",
      "Ireland\n"
     ]
    }
   ],
   "source": [
    "# Loop\n",
    "s = {'Denmark', 'Ireland', 'Spain'}\n",
    "for x in s:\n",
    "    print(x)"
   ]
  },
  {
   "cell_type": "code",
   "execution_count": 15,
   "id": "114c053d-b75e-4638-9afb-41fa9f3cf533",
   "metadata": {},
   "outputs": [
    {
     "data": {
      "text/plain": [
       "True"
      ]
     },
     "execution_count": 15,
     "metadata": {},
     "output_type": "execute_result"
    }
   ],
   "source": [
    "# Check if \"Denmark\" is present in the set:\n",
    "\n",
    "'Denmark' in s"
   ]
  },
  {
   "cell_type": "code",
   "execution_count": 16,
   "id": "5be17157-eda7-4e5f-a272-e94422cac78e",
   "metadata": {},
   "outputs": [
    {
     "data": {
      "text/plain": [
       "False"
      ]
     },
     "execution_count": 16,
     "metadata": {},
     "output_type": "execute_result"
    }
   ],
   "source": [
    "# Check if \"Denmark\" NOT is present in the set:\n",
    "\n",
    "'Denmark' not in s"
   ]
  },
  {
   "cell_type": "markdown",
   "id": "fa4b8b56-5752-4411-a1cc-ee1d0982fced",
   "metadata": {},
   "source": [
    "# Insert items in a set\n",
    "\n",
    "Once a set is created, you cannot change its items, but you can add new items."
   ]
  },
  {
   "cell_type": "code",
   "execution_count": 18,
   "id": "46877792-c5fd-4597-88bb-221cf35965ba",
   "metadata": {},
   "outputs": [
    {
     "data": {
      "text/plain": [
       "{1, 2, 3, 5}"
      ]
     },
     "execution_count": 18,
     "metadata": {},
     "output_type": "execute_result"
    }
   ],
   "source": [
    "# add() -------> Add an item to a set\n",
    "\n",
    "s = {1,2,3}\n",
    "s.add(5)\n",
    "s"
   ]
  },
  {
   "cell_type": "code",
   "execution_count": 19,
   "id": "cac0b380-54ed-4f41-b99f-323becf5e2ca",
   "metadata": {},
   "outputs": [
    {
     "data": {
      "text/plain": [
       "{1, 2, 3, 4, 'a', 'b', 'c'}"
      ]
     },
     "execution_count": 19,
     "metadata": {},
     "output_type": "execute_result"
    }
   ],
   "source": [
    "# update() -------> Add Sets\n",
    "\n",
    "s = {1,2,3,4}\n",
    "s1 = {'a','b','c'}\n",
    "s.update(s1)\n",
    "s"
   ]
  },
  {
   "cell_type": "code",
   "execution_count": 20,
   "id": "4be8da09-ceed-4ad5-a9fb-de19c479abee",
   "metadata": {},
   "outputs": [
    {
     "data": {
      "text/plain": [
       "{1, 2, 3, 7, 8, 9}"
      ]
     },
     "execution_count": 20,
     "metadata": {},
     "output_type": "execute_result"
    }
   ],
   "source": [
    "# update() --------> Add Any Iterable\n",
    "\n",
    "s = {1,2,3}\n",
    "L = [7,8,9]\n",
    "s.update(L)\n",
    "s"
   ]
  },
  {
   "cell_type": "markdown",
   "id": "873faa61-9660-4e3f-8b41-1a5ce0b5d597",
   "metadata": {},
   "source": [
    "# Removing items"
   ]
  },
  {
   "cell_type": "code",
   "execution_count": 22,
   "id": "6d5ea205-ab2c-4133-9e08-cba7141f9895",
   "metadata": {},
   "outputs": [
    {
     "data": {
      "text/plain": [
       "{1, 3, 4}"
      ]
     },
     "execution_count": 22,
     "metadata": {},
     "output_type": "execute_result"
    }
   ],
   "source": [
    "# remove() -------> To remove an item in a set\n",
    "\n",
    "s = {1,2,3,4}\n",
    "s.remove(2)\n",
    "s\n",
    "\n",
    "# Note: If the item to remove does not exist, remove() will raise an error."
   ]
  },
  {
   "cell_type": "code",
   "execution_count": 23,
   "id": "c7c1aa32-f759-487a-b3ec-176cbd264d37",
   "metadata": {},
   "outputs": [
    {
     "data": {
      "text/plain": [
       "{1, 3, 4}"
      ]
     },
     "execution_count": 23,
     "metadata": {},
     "output_type": "execute_result"
    }
   ],
   "source": [
    "# discard() -------> To remove an item in a set\n",
    "\n",
    "s = {1,2,3,4}\n",
    "s.discard(2)\n",
    "s\n",
    "\n",
    "# Note: If the item to remove does not exist, remove() will NOT raise an error."
   ]
  },
  {
   "cell_type": "code",
   "execution_count": 24,
   "id": "4fb5b502-04cd-4895-97fa-9760c3818c43",
   "metadata": {},
   "outputs": [
    {
     "data": {
      "text/plain": [
       "{2, 3, 4, 5, 6, 7, 8}"
      ]
     },
     "execution_count": 24,
     "metadata": {},
     "output_type": "execute_result"
    }
   ],
   "source": [
    "# pop() -------> To remove a Arbitrary (not index-based, not random) item\n",
    "\n",
    "s = {1,2,3,4,5,6,7,8}\n",
    "s.pop()\n",
    "s"
   ]
  },
  {
   "cell_type": "code",
   "execution_count": 25,
   "id": "e2b10753-ec92-421c-817b-f5f10384e366",
   "metadata": {},
   "outputs": [
    {
     "data": {
      "text/plain": [
       "set()"
      ]
     },
     "execution_count": 25,
     "metadata": {},
     "output_type": "execute_result"
    }
   ],
   "source": [
    "# clear() -------> method empties the set:\n",
    "\n",
    "s = {1,2,3}\n",
    "s.clear()\n",
    "s"
   ]
  },
  {
   "cell_type": "raw",
   "id": "a37cc4f0-7b2c-4fe9-9592-09b06842a24c",
   "metadata": {},
   "source": [
    "# del -----> keyword will delete the set completely\n",
    "\n",
    "s = {1,2,3}\n",
    "del s\n",
    "s"
   ]
  },
  {
   "cell_type": "markdown",
   "id": "bbb19139-d753-4282-b22f-46ca02eefcbc",
   "metadata": {},
   "source": [
    "# Set Functions"
   ]
  },
  {
   "cell_type": "code",
   "execution_count": 27,
   "id": "717a3966-d179-464f-97a8-b8241a278e5f",
   "metadata": {},
   "outputs": [
    {
     "data": {
      "text/plain": [
       "5"
      ]
     },
     "execution_count": 27,
     "metadata": {},
     "output_type": "execute_result"
    }
   ],
   "source": [
    "# len() -----> Number of items\n",
    "\n",
    "s = {1,2,3,4,5}\n",
    "len(s)"
   ]
  },
  {
   "cell_type": "code",
   "execution_count": 28,
   "id": "48dc02a7-5636-4f45-aca6-c801913b0c0b",
   "metadata": {},
   "outputs": [
    {
     "data": {
      "text/plain": [
       "1"
      ]
     },
     "execution_count": 28,
     "metadata": {},
     "output_type": "execute_result"
    }
   ],
   "source": [
    "# min() -----> minimum value\n",
    "\n",
    "s = {1,2,3,4,5}\n",
    "min(s)"
   ]
  },
  {
   "cell_type": "code",
   "execution_count": 29,
   "id": "ca55a035-bdc8-4ded-94f8-059c9441ddc2",
   "metadata": {},
   "outputs": [
    {
     "data": {
      "text/plain": [
       "5"
      ]
     },
     "execution_count": 29,
     "metadata": {},
     "output_type": "execute_result"
    }
   ],
   "source": [
    "# max() -----> maximum value\n",
    "\n",
    "s = {1,2,3,4,5}\n",
    "max(s)"
   ]
  },
  {
   "cell_type": "code",
   "execution_count": 30,
   "id": "80c0801d-c245-42db-9201-87968ace3fef",
   "metadata": {},
   "outputs": [
    {
     "data": {
      "text/plain": [
       "15"
      ]
     },
     "execution_count": 30,
     "metadata": {},
     "output_type": "execute_result"
    }
   ],
   "source": [
    "# sum() -----> total of the values\n",
    "\n",
    "s = {1,2,3,4,5}\n",
    "sum(s)"
   ]
  },
  {
   "cell_type": "code",
   "execution_count": 31,
   "id": "8514fae3-7f54-4a8f-9ea9-b5a12d016737",
   "metadata": {},
   "outputs": [
    {
     "data": {
      "text/plain": [
       "[5, 4, 3, 2, 1]"
      ]
     },
     "execution_count": 31,
     "metadata": {},
     "output_type": "execute_result"
    }
   ],
   "source": [
    "# sorted -----> \n",
    "\n",
    "s = {1,2,3,4,5}\n",
    "sorted(s, reverse = True)"
   ]
  },
  {
   "cell_type": "code",
   "execution_count": 32,
   "id": "67e41035-3a37-4010-b457-a4e3aed8878c",
   "metadata": {},
   "outputs": [
    {
     "data": {
      "text/plain": [
       "{1, 2, 3, 4, 5, 6, 7, 8}"
      ]
     },
     "execution_count": 32,
     "metadata": {},
     "output_type": "execute_result"
    }
   ],
   "source": [
    "# union() -----> Original set will not change\n",
    "\n",
    "s = {1,2,3,4,5}\n",
    "p = {4,5,6,7,8}\n",
    "s.union(p)"
   ]
  },
  {
   "cell_type": "code",
   "execution_count": 33,
   "id": "a96df5ce-da43-41b1-a655-e1e9869d5287",
   "metadata": {},
   "outputs": [
    {
     "data": {
      "text/plain": [
       "{1, 2, 3, 4, 5, 6, 7, 8}"
      ]
     },
     "execution_count": 33,
     "metadata": {},
     "output_type": "execute_result"
    }
   ],
   "source": [
    "# update() ----> Original set will change\n",
    "\n",
    "s = {1,2,3,4,5}\n",
    "p = {4,5,6,7,8}\n",
    "s.update(p)\n",
    "s"
   ]
  },
  {
   "cell_type": "code",
   "execution_count": 34,
   "id": "cd63d86a-12ec-44e1-86a5-32310e6b6d3c",
   "metadata": {},
   "outputs": [
    {
     "data": {
      "text/plain": [
       "{4, 5}"
      ]
     },
     "execution_count": 34,
     "metadata": {},
     "output_type": "execute_result"
    }
   ],
   "source": [
    "# intersection() ------> Original set will not change\n",
    "\n",
    "s = {1,2,3,4,5}\n",
    "p = {4,5,6,7,8}\n",
    "s.intersection(p)"
   ]
  },
  {
   "cell_type": "code",
   "execution_count": 35,
   "id": "0ca8167b-8d51-4d7e-9cc4-ac114e587692",
   "metadata": {},
   "outputs": [
    {
     "data": {
      "text/plain": [
       "{4, 5}"
      ]
     },
     "execution_count": 35,
     "metadata": {},
     "output_type": "execute_result"
    }
   ],
   "source": [
    "# intersection_update() ------> Original set will change\n",
    "\n",
    "s = {1,2,3,4,5}\n",
    "p = {4,5,6,7,8}\n",
    "s.intersection_update(p)\n",
    "s"
   ]
  },
  {
   "cell_type": "code",
   "execution_count": 36,
   "id": "b95a23cf-efdf-4b28-b231-02d25eab0865",
   "metadata": {},
   "outputs": [
    {
     "data": {
      "text/plain": [
       "{1, 2, 3}"
      ]
     },
     "execution_count": 36,
     "metadata": {},
     "output_type": "execute_result"
    }
   ],
   "source": [
    "# difference()  ------------> Original set will not change\n",
    "\n",
    "s = {1,2,3,4,5}\n",
    "p = {4,5,6,7,8}\n",
    "s.difference(p)"
   ]
  },
  {
   "cell_type": "code",
   "execution_count": 37,
   "id": "ecb9f16a-2174-47c1-a9f2-307772a03c2b",
   "metadata": {},
   "outputs": [
    {
     "data": {
      "text/plain": [
       "{1, 2, 3}"
      ]
     },
     "execution_count": 37,
     "metadata": {},
     "output_type": "execute_result"
    }
   ],
   "source": [
    "# difference_update()  ------------> Original set will change\n",
    "\n",
    "s = {1,2,3,4,5}\n",
    "p = {4,5,6,7,8}\n",
    "s.difference_update(p)\n",
    "s"
   ]
  },
  {
   "cell_type": "code",
   "execution_count": 38,
   "id": "655b0213-c2e6-420e-a931-bf5f67da36e5",
   "metadata": {},
   "outputs": [
    {
     "data": {
      "text/plain": [
       "{1, 2, 3, 6, 7, 8}"
      ]
     },
     "execution_count": 38,
     "metadata": {},
     "output_type": "execute_result"
    }
   ],
   "source": [
    "# symmetric_difference() -------> Original set will not change\n",
    "\n",
    "s = {1,2,3,4,5}\n",
    "p = {4,5,6,7,8}\n",
    "s.symmetric_difference(p)"
   ]
  },
  {
   "cell_type": "code",
   "execution_count": 39,
   "id": "6c7993b0-eeb0-4563-981d-dc43b263a4cd",
   "metadata": {},
   "outputs": [
    {
     "data": {
      "text/plain": [
       "{1, 2, 3, 6, 7, 8}"
      ]
     },
     "execution_count": 39,
     "metadata": {},
     "output_type": "execute_result"
    }
   ],
   "source": [
    "# symmetric_difference() -------> Original set will not change\n",
    "\n",
    "s = {1,2,3,4,5}\n",
    "p = {4,5,6,7,8}\n",
    "\n",
    "s^p"
   ]
  },
  {
   "cell_type": "code",
   "execution_count": 40,
   "id": "f8ca682d-5938-4c0f-8546-149e40c6d16a",
   "metadata": {},
   "outputs": [
    {
     "data": {
      "text/plain": [
       "{1, 2, 3, 6, 7, 8}"
      ]
     },
     "execution_count": 40,
     "metadata": {},
     "output_type": "execute_result"
    }
   ],
   "source": [
    "# symmetric_difference_update() -------> Original set will change\n",
    "\n",
    "s = {1,2,3,4,5}\n",
    "p = {4,5,6,7,8}\n",
    "s.symmetric_difference_update(p)\n",
    "s"
   ]
  },
  {
   "cell_type": "code",
   "execution_count": 41,
   "id": "17d273d5-7a91-4edc-ab63-b34948491083",
   "metadata": {},
   "outputs": [
    {
     "data": {
      "text/plain": [
       "False"
      ]
     },
     "execution_count": 41,
     "metadata": {},
     "output_type": "execute_result"
    }
   ],
   "source": [
    "# isdisjoint() ----> There are no common items.\n",
    "\n",
    "s = {1,2,3,4,5}\n",
    "p = {4,5,6,7,8}\n",
    "s.isdisjoint(p)"
   ]
  },
  {
   "cell_type": "code",
   "execution_count": 42,
   "id": "77f1f301-2e5e-49ab-93ed-db80ba83943e",
   "metadata": {},
   "outputs": [
    {
     "data": {
      "text/plain": [
       "True"
      ]
     },
     "execution_count": 42,
     "metadata": {},
     "output_type": "execute_result"
    }
   ],
   "source": [
    "# issubset() -------> if all items of p has in s, p will be subset of s.\n",
    "\n",
    "s = {1,2,3,4,5}\n",
    "p = {4,5}\n",
    "p.issubset(s)"
   ]
  },
  {
   "cell_type": "code",
   "execution_count": 43,
   "id": "8897ab26-e3a2-460b-9aeb-0640d6bf5824",
   "metadata": {},
   "outputs": [
    {
     "data": {
      "text/plain": [
       "True"
      ]
     },
     "execution_count": 43,
     "metadata": {},
     "output_type": "execute_result"
    }
   ],
   "source": [
    "# issuperset() -------> if all items of p has in s, s will be superset of p.\n",
    "\n",
    "s = {1,2,3,4,5}\n",
    "p = {4,5}\n",
    "s.issuperset(p)"
   ]
  },
  {
   "cell_type": "markdown",
   "id": "cec49928-e077-4a77-adf9-6ced360bae46",
   "metadata": {},
   "source": [
    "# Copy a set"
   ]
  },
  {
   "cell_type": "code",
   "execution_count": 45,
   "id": "b0c98bbc-3e75-426d-88ef-9143c600ba82",
   "metadata": {},
   "outputs": [
    {
     "data": {
      "text/plain": [
       "{1, 2, 3, 4}"
      ]
     },
     "execution_count": 45,
     "metadata": {},
     "output_type": "execute_result"
    }
   ],
   "source": [
    "s1 = {1,2,3,4}\n",
    "s2 = s1.copy()\n",
    "s2"
   ]
  },
  {
   "cell_type": "markdown",
   "id": "c9c81d09-9943-4047-b6e0-3fd8e42997c5",
   "metadata": {},
   "source": [
    "# Questions"
   ]
  },
  {
   "cell_type": "markdown",
   "id": "f847eece-e469-41ac-8374-22ef8b367a5a",
   "metadata": {},
   "source": [
    "# 🔹 **Basic Level (1–10)**"
   ]
  },
  {
   "cell_type": "code",
   "execution_count": 48,
   "id": "88b6a6eb-aa2b-4ce5-a5e2-cb6026e8522a",
   "metadata": {},
   "outputs": [
    {
     "data": {
      "text/plain": [
       "\u001b[1;31mInit signature:\u001b[0m \u001b[0mlist\u001b[0m\u001b[1;33m(\u001b[0m\u001b[0miterable\u001b[0m\u001b[1;33m=\u001b[0m\u001b[1;33m(\u001b[0m\u001b[1;33m)\u001b[0m\u001b[1;33m,\u001b[0m \u001b[1;33m/\u001b[0m\u001b[1;33m)\u001b[0m\u001b[1;33m\u001b[0m\u001b[1;33m\u001b[0m\u001b[0m\n",
       "\u001b[1;31mDocstring:\u001b[0m     \n",
       "Built-in mutable sequence.\n",
       "\n",
       "If no argument is given, the constructor creates a new empty list.\n",
       "The argument must be an iterable if specified.\n",
       "\u001b[1;31mType:\u001b[0m           type\n",
       "\u001b[1;31mSubclasses:\u001b[0m     _List, _HashedSeq, StackSummary, _Threads, ConvertingList, DeferredConfigList, _ymd, _Accumulator, SList, _ImmutableLineList, ..."
      ]
     },
     "metadata": {},
     "output_type": "display_data"
    }
   ],
   "source": [
    "1. What is a set in Python? How is it different from a list?"
   ]
  },
  {
   "cell_type": "code",
   "execution_count": 49,
   "id": "8725100b-cd9e-4d30-9d92-c4e74e98a66a",
   "metadata": {},
   "outputs": [
    {
     "name": "stdout",
     "output_type": "stream",
     "text": [
      "{1, 2, 3, 4}\n"
     ]
    }
   ],
   "source": [
    "# 2. Create a set with values: 1, 2, 3, 2, 4. Print it.\n",
    "\n",
    "# Answer:\n",
    "s = {1,2,3,2,4}\n",
    "print(s)"
   ]
  },
  {
   "cell_type": "code",
   "execution_count": 50,
   "id": "e8038e1d-cbbf-42c1-be3b-65ace4ff0bc5",
   "metadata": {},
   "outputs": [
    {
     "data": {
      "text/plain": [
       "{1, 2, 3, 4, 5}"
      ]
     },
     "execution_count": 50,
     "metadata": {},
     "output_type": "execute_result"
    }
   ],
   "source": [
    "# 3. How can you add an element `5` to a set `s`?\n",
    "\n",
    "# Answer:\n",
    "s = {1,2,3,4}\n",
    "s.add(5)\n",
    "s"
   ]
  },
  {
   "cell_type": "code",
   "execution_count": 51,
   "id": "4c32e227-0df7-42c3-81a1-78c09ca3e03a",
   "metadata": {},
   "outputs": [
    {
     "data": {
      "text/plain": [
       "{1, 2, 4, 5}"
      ]
     },
     "execution_count": 51,
     "metadata": {},
     "output_type": "execute_result"
    }
   ],
   "source": [
    "# 4. Remove an element from a set without raising an error if the element doesn’t exist.\n",
    "s = {1,2,3,4,5}\n",
    "\n",
    "# Answer:\n",
    "s.discard(3)\n",
    "s\n",
    "s.discard(100)\n",
    "s"
   ]
  },
  {
   "cell_type": "code",
   "execution_count": 52,
   "id": "034e242f-efd3-458c-a8c8-4a778c982c9e",
   "metadata": {},
   "outputs": [
    {
     "data": {
      "text/plain": [
       "False"
      ]
     },
     "execution_count": 52,
     "metadata": {},
     "output_type": "execute_result"
    }
   ],
   "source": [
    "# 5. Check if the element `7` is in the set `{2, 4, 6, 8}`.\n",
    "s = {2,4,6,8}\n",
    "\n",
    "# Answer:\n",
    "7 in s"
   ]
  },
  {
   "cell_type": "code",
   "execution_count": 53,
   "id": "f733dbea-9907-4125-8f44-52cb4c53ed62",
   "metadata": {},
   "outputs": [],
   "source": [
    "# 6. What will be the output of:\n",
    "\"\"\"\n",
    "   python\n",
    "   s = {1, 2, 3}; s.add(2); print(s)\n",
    "\"\"\"\n",
    "# Answer:\n",
    "s = {1,2,3}"
   ]
  },
  {
   "cell_type": "code",
   "execution_count": 54,
   "id": "d16ecf45-15d3-4433-bd0a-b6602b2bd87d",
   "metadata": {},
   "outputs": [
    {
     "data": {
      "text/plain": [
       "{1, 2, 3, 4, 5, 6, 7}"
      ]
     },
     "execution_count": 54,
     "metadata": {},
     "output_type": "execute_result"
    }
   ],
   "source": [
    "# 7. Write a program to find the union of two sets.\n",
    "s1 = {1,2,3,4,5}\n",
    "s2 = {4,5,6,7}\n",
    "\n",
    "# Answer:\n",
    "s1.union(s2)"
   ]
  },
  {
   "cell_type": "code",
   "execution_count": 55,
   "id": "6e9dc6b3-0b9a-4b85-af62-3d347422ac52",
   "metadata": {},
   "outputs": [
    {
     "data": {
      "text/plain": [
       "{4, 5}"
      ]
     },
     "execution_count": 55,
     "metadata": {},
     "output_type": "execute_result"
    }
   ],
   "source": [
    "# 8. Write a program to find the intersection of two sets.\n",
    "s1 = {1,2,3,4,5}\n",
    "s2 = {4,5,6,7}\n",
    "\n",
    "# Answer:\n",
    "s1.intersection(s2)"
   ]
  },
  {
   "cell_type": "code",
   "execution_count": 56,
   "id": "5bbca283-11eb-45f8-8f38-a8741c402e87",
   "metadata": {},
   "outputs": [
    {
     "data": {
      "text/plain": [
       "[1, 2, 3, 4, 5]"
      ]
     },
     "execution_count": 56,
     "metadata": {},
     "output_type": "execute_result"
    }
   ],
   "source": [
    "# 9. Use set to remove duplicates from the list: `[1, 2, 2, 3, 4, 4, 5]`.\n",
    "L = [1, 2, 2, 3, 4, 4, 5]\n",
    "\n",
    "# Answer:\n",
    "s = set(L)\n",
    "L = list(s)\n",
    "L"
   ]
  },
  {
   "cell_type": "code",
   "execution_count": 57,
   "id": "73e13a5a-d4ec-46f6-af52-319d427c61c1",
   "metadata": {},
   "outputs": [],
   "source": [
    "# 10. What is the difference between `discard()` and `remove()` methods?\n",
    "\n",
    "# Answer:\n"
   ]
  },
  {
   "cell_type": "markdown",
   "id": "2a8f64ff-5170-4d32-a7cd-a08beafe4cf1",
   "metadata": {},
   "source": [
    "# 🔹 **Intermediate Level (11–20)**"
   ]
  },
  {
   "cell_type": "code",
   "execution_count": 59,
   "id": "9f283a90-2ce0-4c58-8872-3d949d721683",
   "metadata": {},
   "outputs": [
    {
     "data": {
      "text/plain": [
       "{1, 2}"
      ]
     },
     "execution_count": 59,
     "metadata": {},
     "output_type": "execute_result"
    }
   ],
   "source": [
    "# 11. Explain the result of the following code:\n",
    "\"\"\"\n",
    "python\n",
    "a = {1, 2, 3}; b = {3, 4, 5}; print(a - b)\n",
    "\"\"\"\n",
    "a = {1,2,3}\n",
    "b = {3,4,5}\n",
    "a-b"
   ]
  },
  {
   "cell_type": "code",
   "execution_count": 60,
   "id": "4f1eaf90-6f93-4580-a8ef-672a84447063",
   "metadata": {},
   "outputs": [
    {
     "data": {
      "text/plain": [
       "{1, 2, 4, 5}"
      ]
     },
     "execution_count": 60,
     "metadata": {},
     "output_type": "execute_result"
    }
   ],
   "source": [
    "# 12. What will `a ^ b` return for `a = {1,2,3}` and `b = {3,4,5}`?\n",
    "a = {1,2,3}\n",
    "b = {3,4,5}\n",
    "\n",
    "# Answer: {1,2,4,5}\n",
    "a^b"
   ]
  },
  {
   "cell_type": "code",
   "execution_count": 61,
   "id": "b091ea00-0388-446d-8604-41192bdc4d23",
   "metadata": {},
   "outputs": [
    {
     "data": {
      "text/plain": [
       "{4, 5}"
      ]
     },
     "execution_count": 61,
     "metadata": {},
     "output_type": "execute_result"
    }
   ],
   "source": [
    "# 13. Create two sets from two lists and find elements common to both.\n",
    "\n",
    "# Answer:\n",
    "s1 = {1,2,3,4,5}\n",
    "s2 = {4,5,6,7}\n",
    "s1.intersection(s2)"
   ]
  },
  {
   "cell_type": "code",
   "execution_count": 62,
   "id": "cffa66a4-fe82-4862-a4b3-9d17be972f56",
   "metadata": {},
   "outputs": [
    {
     "data": {
      "text/plain": [
       "4"
      ]
     },
     "execution_count": 62,
     "metadata": {},
     "output_type": "execute_result"
    }
   ],
   "source": [
    "# 14. Given a string, return the number of unique characters using a set.\n",
    "\n",
    "# Answer:\n",
    "a = 'apple'\n",
    "s = len(set(a))\n",
    "s"
   ]
  },
  {
   "cell_type": "code",
   "execution_count": 63,
   "id": "50a8de82-f1bb-4f45-8873-184f2653f099",
   "metadata": {},
   "outputs": [
    {
     "name": "stdout",
     "output_type": "stream",
     "text": [
      "{10, 20, 30}\n",
      "[10, 20, 30]\n"
     ]
    }
   ],
   "source": [
    "# 15. Convert the list `[10, 20, 30, 20, 10]` into a set and then back to a list.\n",
    "L = [10, 20, 30, 20, 10]\n",
    "\n",
    "# Answer:\n",
    "s = set(L)\n",
    "print(s)\n",
    "L = list(s)\n",
    "print(L)"
   ]
  },
  {
   "cell_type": "code",
   "execution_count": 64,
   "id": "c1801b10-25dd-496c-b5c8-4f65358fd402",
   "metadata": {},
   "outputs": [
    {
     "data": {
      "text/plain": [
       "{1, 2, 3, 4}"
      ]
     },
     "execution_count": 64,
     "metadata": {},
     "output_type": "execute_result"
    }
   ],
   "source": [
    "# 16. Find all elements present in one set but not in another.\n",
    "s1 = {1,2,3,4,5,6,7}\n",
    "s2 = {5,6,7,8,9}\n",
    "\n",
    "# Answer:\n",
    "s1-s2"
   ]
  },
  {
   "cell_type": "code",
   "execution_count": 65,
   "id": "e136af78-0f0b-4629-a9be-b6205f93f4a8",
   "metadata": {},
   "outputs": [
    {
     "name": "stdout",
     "output_type": "stream",
     "text": [
      "{'Khulna', 'Chittagong', 'Dhaka', 'Rajshahi'}\n"
     ]
    }
   ],
   "source": [
    "# 17. Given a DataFrame column with repeated values, get the unique values using a set.\n",
    "\n",
    "# Answer:\n",
    "import pandas as pd\n",
    "\n",
    "df = pd.DataFrame({\n",
    "    'city': ['Dhaka', 'Chittagong', 'Dhaka', 'Khulna', 'Rajshahi', 'Khulna']\n",
    "})\n",
    "\n",
    "# Get unique values using set\n",
    "unique_cities = set(df['city'])\n",
    "\n",
    "print(unique_cities)"
   ]
  },
  {
   "cell_type": "code",
   "execution_count": 66,
   "id": "51fff148-d82a-4468-a6fd-75425e7a89ca",
   "metadata": {},
   "outputs": [
    {
     "data": {
      "text/plain": [
       "True"
      ]
     },
     "execution_count": 66,
     "metadata": {},
     "output_type": "execute_result"
    }
   ],
   "source": [
    "# 18. Check if one set is a subset of another.\n",
    "\n",
    "# Answer:\n",
    "s1 = {1,2,3,4,5,6}\n",
    "s2 = {1,3,5}\n",
    "s2.issubset(s1)"
   ]
  },
  {
   "cell_type": "code",
   "execution_count": 67,
   "id": "8938ede9-cbfb-42fc-87ff-60197fb9a7d3",
   "metadata": {},
   "outputs": [
    {
     "name": "stdin",
     "output_type": "stream",
     "text": [
      "Enter multiple values separated by spaces: 9 8 7 2 5 23 8 5\n"
     ]
    },
    {
     "data": {
      "text/plain": [
       "['2', '23', '5', '7', '8', '9']"
      ]
     },
     "execution_count": 67,
     "metadata": {},
     "output_type": "execute_result"
    }
   ],
   "source": [
    "# 19. Create a set from user input and print all values in sorted order.\n",
    "\n",
    "# Answer:\n",
    "user_input = input('Enter multiple values separated by spaces:')\n",
    "values = user_input.split()\n",
    "unique_values = set(values)\n",
    "sorted_values = sorted(unique_values)\n",
    "sorted_values"
   ]
  },
  {
   "cell_type": "code",
   "execution_count": 68,
   "id": "531b1c63-2b56-4e9e-8a13-bf14b756b9ba",
   "metadata": {},
   "outputs": [
    {
     "data": {
      "text/plain": [
       "{(1, 2)}"
      ]
     },
     "execution_count": 68,
     "metadata": {},
     "output_type": "execute_result"
    }
   ],
   "source": [
    "# 20. What is the output of: s = set(); s.add((1,2)); print(s)\n",
    "\n",
    "# Answer: \n",
    "s = set()\n",
    "s.add((1,2))\n",
    "s"
   ]
  },
  {
   "cell_type": "markdown",
   "id": "dfa25c2d-9472-4840-94b5-7a43df038633",
   "metadata": {},
   "source": [
    "# 🔹 **Advanced / Data Science-Oriented (21–30)**"
   ]
  },
  {
   "cell_type": "code",
   "execution_count": 70,
   "id": "4414a39e-545a-469d-a4a8-5fd9f8130d79",
   "metadata": {},
   "outputs": [],
   "source": [
    "# 21. How can sets help in handling categorical variables in a dataset?"
   ]
  },
  {
   "cell_type": "raw",
   "id": "7866ce9f-a9e4-4f36-abe6-4d722a23f9a4",
   "metadata": {},
   "source": [
    "# 22. Given a DataFrame column `df['city']`, how can you count the number of unique cities using a set?\n",
    "\n",
    "Answer: number_unique_cities = len(set(df['city']))"
   ]
  },
  {
   "cell_type": "code",
   "execution_count": 71,
   "id": "0b3ab93a-80f7-46a5-9c04-2b0309bc8ce3",
   "metadata": {},
   "outputs": [
    {
     "name": "stdout",
     "output_type": "stream",
     "text": [
      "Common Features: {'age', 'name'}\n",
      "Unique to f1: {'gender', 'country'}\n",
      "Unique to f2: {'city', 'married'}\n",
      "Symmetric Difference: {'gender', 'married', 'city', 'country'}\n"
     ]
    }
   ],
   "source": [
    "# 23. Suppose you have two lists of feature names. Find features common to both and unique to each using set operations.\n",
    "\n",
    "# Answer:\n",
    "f1 = ['name','age','gender','country']\n",
    "f2 = ['name','age','city','married']\n",
    "\n",
    "f1 = set(f1)\n",
    "f2 = set(f2)\n",
    "print('Common Features:', f1.intersection(f2))\n",
    "print('Unique to f1:', f1-f2)\n",
    "print('Unique to f2:', f2-f1)\n",
    "print('Symmetric Difference:',f1.symmetric_difference(f2))"
   ]
  },
  {
   "cell_type": "code",
   "execution_count": 72,
   "id": "436b14c6-76d3-45b5-a42c-f07c9e018135",
   "metadata": {},
   "outputs": [
    {
     "data": {
      "text/plain": [
       "['am', 'complete', 'data', 'in', 'masters', 'partho', 'science', 'to', 'want']"
      ]
     },
     "execution_count": 72,
     "metadata": {},
     "output_type": "execute_result"
    }
   ],
   "source": [
    "# 24. How do you remove stopwords from a list of tokens using sets?\n",
    "\n",
    "# Answer:\n",
    "sample_stopwords = ['i','me','my','myself','we','our','ours','ourselves','you','your','yours','yourself','yourselves','he','him','his','himself']\n",
    "tokens = ['i','am','partho','i','want','to','complete','masters','in','data','science']\n",
    "\n",
    "sample_stopwords = set(sample_stopwords)\n",
    "tokens = set(tokens)\n",
    "removed_tokens = sorted(tokens - sample_stopwords) # Use sorted() to convert it into list.\n",
    "removed_tokens"
   ]
  },
  {
   "cell_type": "raw",
   "id": "9d8d6ff2-c81d-423b-a462-c1f3da0a3f2f",
   "metadata": {},
   "source": [
    "25. Compare `set()` vs `np.unique()` in NumPy – when to prefer each?\n",
    "\n",
    "# Answer:\n",
    "- Use set() for quick uniqueness checks, membership testing, or categorical filtering in pure Python workflows.\n",
    "- Use np.unique() for numerical analysis, sorting, or axis-wise uniqueness in NumPy arrays or data science projects."
   ]
  },
  {
   "cell_type": "code",
   "execution_count": 73,
   "id": "05d8746e-f2e1-4874-8a94-8d6927ac9e39",
   "metadata": {},
   "outputs": [
    {
     "name": "stdout",
     "output_type": "stream",
     "text": [
      "{1, 2, 3, 4, 5, 8, nan}\n"
     ]
    }
   ],
   "source": [
    "# 26. You have a list of values with NaNs. How can you use a set to remove duplicates excluding NaN?\n",
    "\n",
    "# Answer:\n",
    "import numpy as np\n",
    "L = [1,2,3,4, np.nan, 8, np.nan,3,4,5, np.nan]\n",
    "unique = set(L)\n",
    "print(unique)"
   ]
  },
  {
   "cell_type": "code",
   "execution_count": 75,
   "id": "139789cd-203d-498f-bf78-44f127fe856d",
   "metadata": {},
   "outputs": [],
   "source": [
    "# 27. Explain the time complexity of checking membership in a set vs a list."
   ]
  },
  {
   "cell_type": "code",
   "execution_count": 77,
   "id": "9eba1fda-43ef-4389-bea6-7fe999fadb1f",
   "metadata": {},
   "outputs": [
    {
     "name": "stdout",
     "output_type": "stream",
     "text": [
      "{'banana', 'apple'}\n"
     ]
    }
   ],
   "source": [
    "# 28. In a large dataset, how can a set help in detecting duplicates efficiently?\n",
    "\n",
    "# Answer:\n",
    "data = ['apple', 'banana', 'orange', 'apple', 'grape', 'banana']\n",
    "\n",
    "seen = set()\n",
    "duplicate = set()\n",
    "for item in data:\n",
    "    if item in seen:\n",
    "        duplicate.add(item)\n",
    "    else:\n",
    "        seen.add(item)\n",
    "print(duplicate)"
   ]
  },
  {
   "cell_type": "code",
   "execution_count": 79,
   "id": "681bfa0d-a643-4162-b900-fa1324dfc2cb",
   "metadata": {},
   "outputs": [],
   "source": [
    "# 29. Write a function that accepts two DataFrame columns and returns common values using set operations.\n",
    "\n",
    "# Answer:\n",
    "import pandas as pd\n",
    "\n",
    "def common_values(col1, col2):\n",
    "    set1 = set(col1.dropna())\n",
    "    set2 = set(col2.dropna())\n",
    "    return set1 & set2"
   ]
  },
  {
   "cell_type": "code",
   "execution_count": 81,
   "id": "c27e29c3-82af-43cb-bf13-becce61d7d15",
   "metadata": {},
   "outputs": [],
   "source": [
    "# 30. Given two CSV files containing email addresses, write a Python script to find emails common to both using sets."
   ]
  },
  {
   "cell_type": "markdown",
   "id": "41a51355-9ab6-49ea-a135-c7fe63704986",
   "metadata": {},
   "source": [
    "# The End"
   ]
  }
 ],
 "metadata": {
  "kernelspec": {
   "display_name": "Python [conda env:base] *",
   "language": "python",
   "name": "conda-base-py"
  },
  "language_info": {
   "codemirror_mode": {
    "name": "ipython",
    "version": 3
   },
   "file_extension": ".py",
   "mimetype": "text/x-python",
   "name": "python",
   "nbconvert_exporter": "python",
   "pygments_lexer": "ipython3",
   "version": "3.12.7"
  }
 },
 "nbformat": 4,
 "nbformat_minor": 5
}
