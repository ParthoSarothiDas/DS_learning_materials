{
 "cells": [
  {
   "cell_type": "markdown",
   "id": "35ad92ca-3a0b-474f-8bab-18c887bc3f37",
   "metadata": {},
   "source": [
    "#  Data Science Learning Journey  \n",
    "*Curiosity to Capability — One Notebook at a Time*\n",
    "\n",
    "---\n",
    "Compiled and authored by **Partho Sarothi Das**   \n",
    "\tDhaka, Bangladesh  \n",
    "\tBachelor's & Master's in Statistics  \n",
    "\tInvestment Banking Professional → Aspiring Data Scientist "
   ]
  },
  {
   "cell_type": "markdown",
   "id": "ee817ffd-da83-42ce-9c82-4fb718cecb46",
   "metadata": {},
   "source": [
    "# Python If ... Else\n",
    "\n",
    "Python supports the usual logical conditions from mathematics:\n",
    "\n",
    "- Equals: a == b\n",
    "- Not Equals: a != b\n",
    "- Less than: a < b\n",
    "- Less than or equal to: a <= b\n",
    "- Greater than: a > b\n",
    "- Greater than or equal to: a >= b  \n",
    "\n",
    "These conditions can be used in several ways, most commonly in \"if statements\" and loops.   \n",
    "An \"if statement\" is written by using the if keyword."
   ]
  },
  {
   "cell_type": "code",
   "execution_count": 3,
   "id": "1a7f7fa5-9a34-4eb8-87b2-12e34949d473",
   "metadata": {},
   "outputs": [
    {
     "name": "stdout",
     "output_type": "stream",
     "text": [
      "a is greater than b.\n"
     ]
    }
   ],
   "source": [
    "# if ---> Statement\n",
    "\n",
    "a = 5\n",
    "b = 4\n",
    "if a>b:\n",
    "    print(\"a is greater than b.\")"
   ]
  },
  {
   "cell_type": "code",
   "execution_count": 4,
   "id": "a2c29c48-a296-4e3d-b6d9-0489f9156c54",
   "metadata": {},
   "outputs": [
    {
     "name": "stdout",
     "output_type": "stream",
     "text": [
      "b is greater than a.\n"
     ]
    }
   ],
   "source": [
    "# if.... elif.....else\n",
    "\n",
    "a = 4\n",
    "b = 5\n",
    "if a>b:\n",
    "    print(\"a is greater than b.\")\n",
    "elif a<b:\n",
    "    print('b is greater than a.')\n",
    "else:\n",
    "    print('a is equal to b.')"
   ]
  },
  {
   "cell_type": "code",
   "execution_count": 5,
   "id": "acd94f3a-3ce4-44f2-9bc2-9a178ffe5986",
   "metadata": {},
   "outputs": [
    {
     "name": "stdout",
     "output_type": "stream",
     "text": [
      "a is greater than b.\n"
     ]
    }
   ],
   "source": [
    "# Short if\n",
    "\n",
    "a=9\n",
    "b=5\n",
    "if a>b: print('a is greater than b.')"
   ]
  },
  {
   "cell_type": "code",
   "execution_count": 6,
   "id": "7e122830-b697-40e0-8af7-3f145892aaf2",
   "metadata": {},
   "outputs": [
    {
     "name": "stdout",
     "output_type": "stream",
     "text": [
      "a is greater than b\n"
     ]
    }
   ],
   "source": [
    "# Short if ... else\n",
    "\n",
    "a=9\n",
    "b=5\n",
    "print('a is greater than b') if a>b else print('b is greater than a')"
   ]
  },
  {
   "cell_type": "code",
   "execution_count": 7,
   "id": "fc20fc2c-db9f-40c5-aec9-3da0d39feeb9",
   "metadata": {},
   "outputs": [
    {
     "name": "stdout",
     "output_type": "stream",
     "text": [
      "Equal\n"
     ]
    }
   ],
   "source": [
    "# One line if else statement, with 3 conditions:\n",
    "\n",
    "x = 700\n",
    "y = 700\n",
    "print('x') if x>y else print('y') if y>x else print('Equal')"
   ]
  },
  {
   "cell_type": "code",
   "execution_count": 8,
   "id": "605c42a4-1a1d-42d5-9b43-01cec5ec81bd",
   "metadata": {},
   "outputs": [
    {
     "name": "stdout",
     "output_type": "stream",
     "text": [
      "Both conditions are true.\n"
     ]
    }
   ],
   "source": [
    "# and -----> logical operator\n",
    "\n",
    "a = 2\n",
    "b = 3\n",
    "c = 4\n",
    "if a<b and b<c:\n",
    "    print('Both conditions are true.')"
   ]
  },
  {
   "cell_type": "code",
   "execution_count": 9,
   "id": "6529948a-12d9-4d6f-adbf-c8736a90d381",
   "metadata": {},
   "outputs": [
    {
     "name": "stdout",
     "output_type": "stream",
     "text": [
      "At least one condition is True.\n"
     ]
    }
   ],
   "source": [
    "# or -------> logical operator\n",
    "\n",
    "a = 2\n",
    "b = 3\n",
    "c = 4\n",
    "if a<b or c<b:\n",
    "    print('At least one condition is True.')"
   ]
  },
  {
   "cell_type": "code",
   "execution_count": 10,
   "id": "43954d64-6ec5-41af-80a5-676637e26d3a",
   "metadata": {},
   "outputs": [
    {
     "name": "stdout",
     "output_type": "stream",
     "text": [
      "a is NOT greater than b.\n"
     ]
    }
   ],
   "source": [
    "# not -----> logical operator\n",
    "\n",
    "a = 2\n",
    "b = 5\n",
    "if not a>b:\n",
    "    print('a is NOT greater than b.')"
   ]
  },
  {
   "cell_type": "code",
   "execution_count": 11,
   "id": "6eebc030-1170-46ab-9314-1ac53fecebc7",
   "metadata": {},
   "outputs": [
    {
     "name": "stdout",
     "output_type": "stream",
     "text": [
      "x is less than 11.\n"
     ]
    }
   ],
   "source": [
    "# Nested if\n",
    "\n",
    "x = 10\n",
    "if x>10:\n",
    "    print('x is greater than 10.')\n",
    "    if x>20:\n",
    "        print('x is also greater than 20')\n",
    "    else:\n",
    "        print('but x is less than 20.')\n",
    "else:\n",
    "    print('x is less than 11.')"
   ]
  },
  {
   "cell_type": "code",
   "execution_count": 12,
   "id": "ba15d08e-fd6b-4a1a-8177-e4eec7fcccc6",
   "metadata": {},
   "outputs": [],
   "source": [
    "# pass statement\n",
    "\n",
    "a=8\n",
    "b=4\n",
    "if a>b:\n",
    "    pass"
   ]
  },
  {
   "cell_type": "markdown",
   "id": "2f215e71-092b-4088-8ac5-001f33771ad7",
   "metadata": {},
   "source": [
    "# Match\n",
    "\n",
    "Instead of writing many if..else statements, you can use the match statement.\n",
    "\n",
    "The match statement selects one of many code blocks to be executed."
   ]
  },
  {
   "cell_type": "raw",
   "id": "57b58e28-0b4c-4290-8f50-b1757b575a47",
   "metadata": {},
   "source": [
    "This is how it works:\n",
    "\n",
    "The match expression is evaluated once.\n",
    "The value of the expression is compared with the values of each case.\n",
    "If there is a match, the associated block of code is executed."
   ]
  },
  {
   "cell_type": "code",
   "execution_count": 14,
   "id": "72d6e6dc-fe99-40e8-875c-d44b9152da01",
   "metadata": {},
   "outputs": [
    {
     "name": "stdout",
     "output_type": "stream",
     "text": [
      "Thursday\n"
     ]
    }
   ],
   "source": [
    "day = 4\n",
    "match day:\n",
    "  case 1:\n",
    "    print(\"Monday\")\n",
    "  case 2:\n",
    "    print(\"Tuesday\")\n",
    "  case 3:\n",
    "    print(\"Wednesday\")\n",
    "  case 4:\n",
    "    print(\"Thursday\")\n",
    "  case 5:\n",
    "    print(\"Friday\")\n",
    "  case 6:\n",
    "    print(\"Saturday\")\n",
    "  case 7:\n",
    "    print(\"Sunday\")"
   ]
  },
  {
   "cell_type": "code",
   "execution_count": 15,
   "id": "f47bf5e9-19f1-4204-a7f0-14d1387613a9",
   "metadata": {},
   "outputs": [
    {
     "name": "stdout",
     "output_type": "stream",
     "text": [
      "Today is working day\n"
     ]
    }
   ],
   "source": [
    "# Default Value\n",
    "\n",
    "day = 7\n",
    "match day:\n",
    "    case 1:\n",
    "        print('Today is saturday')\n",
    "    case 2:\n",
    "        print('Today is sunday')\n",
    "    case _:\n",
    "        print('Today is working day')\n"
   ]
  },
  {
   "cell_type": "code",
   "execution_count": 16,
   "id": "31f23590-663e-40a1-b1e8-45ad6d31186e",
   "metadata": {},
   "outputs": [
    {
     "name": "stdout",
     "output_type": "stream",
     "text": [
      "Go for a trip!!\n"
     ]
    }
   ],
   "source": [
    "# Combine Values \n",
    "\n",
    "day = 7\n",
    "match day:\n",
    "    case 1|2|3|4|5:\n",
    "        print('Today is weekday.')\n",
    "    case 6|7:\n",
    "        print('Go for a trip!!')"
   ]
  },
  {
   "cell_type": "code",
   "execution_count": 17,
   "id": "2ce9d195-8a2c-47ac-b806-12525564210a",
   "metadata": {},
   "outputs": [
    {
     "name": "stdout",
     "output_type": "stream",
     "text": [
      "No match.\n"
     ]
    }
   ],
   "source": [
    "# If Statements as Guards\n",
    "\n",
    "month = 4\n",
    "day = 7\n",
    "match day:\n",
    "    case 1 | 2 | 3 | 4 | 5 if month == 4:\n",
    "        print('A weekday in April.')\n",
    "    case 1 | 2 | 3 | 4 | 5 if month == 5:\n",
    "        print('A weekday in May.')\n",
    "    case _:\n",
    "        print('No match.')"
   ]
  },
  {
   "cell_type": "markdown",
   "id": "90553345-3bf4-4cd8-9151-7a73f5c9829b",
   "metadata": {},
   "source": [
    "# Questions"
   ]
  },
  {
   "cell_type": "markdown",
   "id": "c5a81086-75d1-43d7-8a1b-894eb8154d21",
   "metadata": {},
   "source": [
    "# 🔹 **A. `if` Statement (6 questions)**"
   ]
  },
  {
   "cell_type": "code",
   "execution_count": 20,
   "id": "1be9693c-9f09-4567-835b-5becb43a19d6",
   "metadata": {},
   "outputs": [
    {
     "name": "stdout",
     "output_type": "stream",
     "text": [
      "x is a positive number.\n"
     ]
    }
   ],
   "source": [
    "# 1. Write a program that checks if a number is **positive**.\n",
    "\n",
    "# Answer: \n",
    "x = 67\n",
    "if x>0:\n",
    "    print('x is a positive number.')"
   ]
  },
  {
   "cell_type": "code",
   "execution_count": 21,
   "id": "cca309aa-1106-4589-b646-5cd19e0a6b86",
   "metadata": {},
   "outputs": [],
   "source": [
    "# 2. Check whether a given string contains the word `\"data\"`."
   ]
  },
  {
   "cell_type": "code",
   "execution_count": 22,
   "id": "2f56b8a0-01dd-487c-b024-07a20aeb2c2d",
   "metadata": {},
   "outputs": [
    {
     "name": "stdout",
     "output_type": "stream",
     "text": [
      "First element is: 1\n"
     ]
    }
   ],
   "source": [
    "# 3. If a list is not empty, print the first element.\n",
    "\n",
    "# Answer:\n",
    "L = [1,2,3,4]\n",
    "if L:\n",
    "    print(\"First element is:\", L[0])\n"
   ]
  },
  {
   "cell_type": "code",
   "execution_count": 23,
   "id": "2c22e60f-ac5c-4472-87e3-71b644874ae9",
   "metadata": {},
   "outputs": [
    {
     "name": "stdout",
     "output_type": "stream",
     "text": [
      "100 is divisible by 5.\n"
     ]
    }
   ],
   "source": [
    "# 4. Check if a number is divisible by 5.\n",
    "\n",
    "# Answer:\n",
    "x=100\n",
    "if x%5==0:\n",
    "    print(f'{x} is divisible by 5.')"
   ]
  },
  {
   "cell_type": "code",
   "execution_count": 24,
   "id": "5b30c238-e3f1-4cf7-bb5c-127973db8bfc",
   "metadata": {},
   "outputs": [
    {
     "name": "stdout",
     "output_type": "stream",
     "text": [
      "Age columne is present\n"
     ]
    }
   ],
   "source": [
    "# 5. If a DataFrame column `age` exists, print \"Column present\".\n",
    "\n",
    "# Answer:\n",
    "import pandas as pd\n",
    "df = pd.DataFrame({\n",
    "    'name':['partho','sheren'],\n",
    "    'age' :[43,44],\n",
    "    'city':['Dinajpur','Sylhet']\n",
    "})\n",
    "\n",
    "if 'age' in df.columns:\n",
    "    print('Age columne is present')"
   ]
  },
  {
   "cell_type": "code",
   "execution_count": 25,
   "id": "64008b38-470b-4611-b69d-3a5f6b8eae95",
   "metadata": {},
   "outputs": [
    {
     "name": "stdout",
     "output_type": "stream",
     "text": [
      "10\n"
     ]
    }
   ],
   "source": [
    "# 6. If a variable `x` is a string, print its length.\n",
    "\n",
    "# Answer:\n",
    "x = 'Bangladesh'\n",
    "if type(x) == str:\n",
    "    print(len(x))"
   ]
  },
  {
   "cell_type": "markdown",
   "id": "3d651ea1-df8a-4919-ba41-f425a6484c6f",
   "metadata": {},
   "source": [
    "# 🔹 **B. `if-else` Statement (6 questions)**"
   ]
  },
  {
   "cell_type": "code",
   "execution_count": 27,
   "id": "9c81c37a-0875-4329-8b55-15c875d08744",
   "metadata": {},
   "outputs": [
    {
     "name": "stdout",
     "output_type": "stream",
     "text": [
      "21 is a odd number.\n"
     ]
    }
   ],
   "source": [
    "# 7. Write a program to check if a number is even or odd.\n",
    "\n",
    "# Answer:\n",
    "x = 21\n",
    "if x%2 == 0:\n",
    "    print(x,'is a even number.')\n",
    "else:\n",
    "    print(x, 'is a odd number.')"
   ]
  },
  {
   "cell_type": "code",
   "execution_count": 28,
   "id": "e2e7b6f1-9668-4fd2-8813-3dd36faba4c3",
   "metadata": {},
   "outputs": [
    {
     "name": "stdout",
     "output_type": "stream",
     "text": [
      "Pass\n"
     ]
    }
   ],
   "source": [
    "# 8. Check if a student's score is above 60, print `\"Pass\"`, else print `\"Fail\"`.\n",
    "\n",
    "# Answer:\n",
    "score = 80\n",
    "if score>60:\n",
    "    print('Pass')\n",
    "else:\n",
    "    print('Fail')"
   ]
  },
  {
   "cell_type": "code",
   "execution_count": 29,
   "id": "a7f9372e-94d1-4a09-a06e-949094347f37",
   "metadata": {},
   "outputs": [
    {
     "name": "stdout",
     "output_type": "stream",
     "text": [
      "normal\n"
     ]
    }
   ],
   "source": [
    "# 9. Given a temperature, check if it's **hot** (>30) or **normal**.\n",
    "\n",
    "# Answer:\n",
    "tem = 28\n",
    "if tem >30:\n",
    "    print('hot')\n",
    "else:\n",
    "    print('normal')"
   ]
  },
  {
   "cell_type": "code",
   "execution_count": 30,
   "id": "6bcab14e-9dad-4e3b-abb3-7da8adf56f0b",
   "metadata": {},
   "outputs": [
    {
     "name": "stdout",
     "output_type": "stream",
     "text": [
      "It is wonderfull\n"
     ]
    }
   ],
   "source": [
    "# 10. If a file exists, read and print its content, else print `\"File not found\"`.\n",
    "\n",
    "# Answer:\n",
    "import os\n",
    "filename = 'data.txt'\n",
    "\n",
    "if os.path.exists(filename):\n",
    "    with open(filename,'r') as file:\n",
    "        content = file.read()\n",
    "        print(content)\n",
    "else:\n",
    "    print('File not found.')"
   ]
  },
  {
   "cell_type": "code",
   "execution_count": 31,
   "id": "358ed5b7-7aba-461f-921d-39aefc385769",
   "metadata": {},
   "outputs": [
    {
     "name": "stdout",
     "output_type": "stream",
     "text": [
      "Big List\n"
     ]
    }
   ],
   "source": [
    "# 11. If a list has more than 5 elements, print `\"Big List\"`, else `\"Small List\"`.\n",
    "\n",
    "# Answer:\n",
    "L = [1,2,3,4,5,6,7,8]\n",
    "if len(L)>5:\n",
    "    print('Big List')\n",
    "else:\n",
    "    print('Small List')"
   ]
  },
  {
   "cell_type": "code",
   "execution_count": 32,
   "id": "2bbc5d1d-6f98-459b-9c25-5b9962a17ca0",
   "metadata": {},
   "outputs": [
    {
     "name": "stdout",
     "output_type": "stream",
     "text": [
      "Machine Learning\n"
     ]
    }
   ],
   "source": [
    "# 12. Check whether a string starts with `\"ML\"`. If yes, print `\"Machine Learning\"` else `\"Not ML\"`.\n",
    "\n",
    "# Answer:\n",
    "text = 'ML'\n",
    "if text.startswith('ML'):\n",
    "    print('Machine Learning')\n",
    "else:\n",
    "    print('Not ML')"
   ]
  },
  {
   "cell_type": "markdown",
   "id": "600a081b-5c7a-4ccf-87d4-f47b7a78c5a4",
   "metadata": {},
   "source": [
    "# 🔹 **C. `if-elif-else` Statement (10 questions)**"
   ]
  },
  {
   "cell_type": "code",
   "execution_count": 34,
   "id": "bd715b1f-432d-4914-b787-9e6e97e578ec",
   "metadata": {},
   "outputs": [
    {
     "name": "stdout",
     "output_type": "stream",
     "text": [
      "F\n"
     ]
    }
   ],
   "source": [
    "# 13. Grade a student:\n",
    "\"\"\"\n",
    "* `90-100`: A\n",
    "* `80-89`: B\n",
    "* `70-79`: C\n",
    "* `<70`: F\n",
    "\"\"\"\n",
    "\n",
    "# Answer:\n",
    "score = 67\n",
    "if 90 <= score <= 100:\n",
    "    print('A')\n",
    "elif 80 <= score <= 89:\n",
    "    print('B')\n",
    "elif 70 <= score <=79:\n",
    "    print('C')\n",
    "else:\n",
    "    print('F')"
   ]
  },
  {
   "cell_type": "code",
   "execution_count": 35,
   "id": "4e936aad-4da5-4b51-99c1-85aa776d0b10",
   "metadata": {},
   "outputs": [
    {
     "name": "stdout",
     "output_type": "stream",
     "text": [
      "Positive\n"
     ]
    }
   ],
   "source": [
    "# 14. Check if a number is **positive**, **negative**, or **zero**.\n",
    "\n",
    "# Answer:\n",
    "x = 78\n",
    "if x == 0:\n",
    "    print('Zero')\n",
    "elif x > 0 :\n",
    "    print('Positive')\n",
    "else:\n",
    "    print('Negative')"
   ]
  },
  {
   "cell_type": "code",
   "execution_count": 36,
   "id": "900194d3-443b-46e8-811d-74f4a727fbc8",
   "metadata": {},
   "outputs": [],
   "source": [
    "# 15. Based on weekday number (1–7), print the weekday name."
   ]
  },
  {
   "cell_type": "code",
   "execution_count": 37,
   "id": "77cfddbf-c64d-448b-9007-f73d0da2f3cb",
   "metadata": {},
   "outputs": [],
   "source": [
    "# 16. Given a user's age, classify as `\"child\"`, `\"teen\"`, `\"adult\"`, or `\"senior\"`."
   ]
  },
  {
   "cell_type": "code",
   "execution_count": 38,
   "id": "4eaa3c9d-b8b4-4053-a906-1e4f129d3ff8",
   "metadata": {},
   "outputs": [],
   "source": [
    "# 17. If salary < 30000 → `\"Low\"`\n",
    "#     30000–60000 → `\"Medium\"`\n",
    "#     > 60000 → `\"High\"`"
   ]
  },
  {
   "cell_type": "code",
   "execution_count": 39,
   "id": "089df866-bdda-40df-9345-395673307a85",
   "metadata": {},
   "outputs": [],
   "source": [
    "# 18. Based on BMI value, classify the person: underweight, normal, overweight, obese."
   ]
  },
  {
   "cell_type": "code",
   "execution_count": 40,
   "id": "e7295f2e-01f0-46d6-a84f-46b87b9fa890",
   "metadata": {},
   "outputs": [
    {
     "name": "stdout",
     "output_type": "stream",
     "text": [
      "Valid\n",
      "Valid\n",
      "Missing\n",
      "Valid\n",
      "Missing\n"
     ]
    }
   ],
   "source": [
    "# 19. From a DataFrame column, print `\"Missing\"` if value is NaN, `\"Valid\"` otherwise.\n",
    "\n",
    "# Answer:\n",
    "import pandas as pd\n",
    "import numpy as np\n",
    "\n",
    "# Sample DataFrame\n",
    "df = pd.DataFrame({\n",
    "    'Name': ['Partho', 'Abhik', np.nan, 'Anika', None]\n",
    "})\n",
    "\n",
    "for x in df['Name']:\n",
    "    if pd.isna(x):\n",
    "        print('Missing')\n",
    "    else:\n",
    "        print('Valid')"
   ]
  },
  {
   "cell_type": "code",
   "execution_count": 41,
   "id": "0d9c936e-ed4f-4852-9d2f-86bd121468e7",
   "metadata": {},
   "outputs": [],
   "source": [
    "# 20. Classify a temperature as `\"Cold\"`, `\"Warm\"`, `\"Hot\"`, or `\"Extreme\"`."
   ]
  },
  {
   "cell_type": "code",
   "execution_count": 42,
   "id": "3007a66a-b9b4-4f1a-9d16-5922460ecb6a",
   "metadata": {},
   "outputs": [],
   "source": [
    "# 21. Based on a given month number (1–12), print the season."
   ]
  },
  {
   "cell_type": "code",
   "execution_count": 43,
   "id": "c67e1bdc-5174-4fbf-83d2-d85d75c4086a",
   "metadata": {},
   "outputs": [],
   "source": [
    "# 22. Given a student's marks, print grade using `if-elif-else`."
   ]
  },
  {
   "cell_type": "markdown",
   "id": "3c3773ba-4523-4469-856d-2238b33eaa1e",
   "metadata": {},
   "source": [
    "# 🔹 **D. `match-case` Statement (8 questions)**"
   ]
  },
  {
   "cell_type": "code",
   "execution_count": 45,
   "id": "705eef9b-e907-460c-82a7-132cfaefcf8a",
   "metadata": {},
   "outputs": [],
   "source": [
    "# 23. Use `match` to map numbers 1–5 to their English words."
   ]
  },
  {
   "cell_type": "code",
   "execution_count": 46,
   "id": "8bd2c9d4-d2ac-4474-9037-8b8dcbbd0713",
   "metadata": {},
   "outputs": [
    {
     "name": "stdout",
     "output_type": "stream",
     "text": [
      "Denmark\n"
     ]
    }
   ],
   "source": [
    "# 24. Match the country code to country name using `match-case`.\n",
    "\n",
    "# Answer:\n",
    "code = 2\n",
    "match code:\n",
    "    case 1:\n",
    "        print('Bangladesh')\n",
    "    case 2:\n",
    "        print('Denmark')\n",
    "    case 3:\n",
    "        print('Ireland')\n",
    "    case 4:\n",
    "        print('France')"
   ]
  },
  {
   "cell_type": "code",
   "execution_count": 47,
   "id": "68400a47-b24e-44fe-8ee0-26c946a0de48",
   "metadata": {},
   "outputs": [],
   "source": [
    "# 25. Given a weather condition (`\"sunny\"`, `\"rainy\"`, `\"snowy\"`), print activity suggestion."
   ]
  },
  {
   "cell_type": "code",
   "execution_count": 48,
   "id": "b71d8e8d-6f33-4348-a80e-900d32a4f45e",
   "metadata": {},
   "outputs": [],
   "source": [
    "# 26. Match a user role (`\"admin\"`, `\"editor\"`, `\"viewer\"`) and print their permissions."
   ]
  },
  {
   "cell_type": "code",
   "execution_count": 49,
   "id": "5e68cdd9-8d19-4903-b352-aea618da18f6",
   "metadata": {},
   "outputs": [],
   "source": [
    "# 27. Use `match` to return day type: `\"Weekday\"` or `\"Weekend\"`."
   ]
  },
  {
   "cell_type": "code",
   "execution_count": 50,
   "id": "89f696b3-66d9-4f38-944d-219c589d737b",
   "metadata": {},
   "outputs": [],
   "source": [
    "# 28. Use `match` to convert letter grades (`\"A\"`, `\"B\"`, `\"C\"`, etc.) into messages."
   ]
  },
  {
   "cell_type": "code",
   "execution_count": 51,
   "id": "4626dbf9-8c87-4b2c-8823-1dd51c6bd3d4",
   "metadata": {},
   "outputs": [],
   "source": [
    "# 29. Use `match` to detect file type from extension (`.csv`, `.json`, `.xlsx`, etc.)."
   ]
  },
  {
   "cell_type": "code",
   "execution_count": 52,
   "id": "4e80c751-5c6b-4c5e-8af3-3e2bcfe31c7c",
   "metadata": {},
   "outputs": [],
   "source": [
    "# 30. Match a sport name and print the number of players (e.g., `\"cricket\"` → 11)."
   ]
  }
 ],
 "metadata": {
  "kernelspec": {
   "display_name": "Python [conda env:base] *",
   "language": "python",
   "name": "conda-base-py"
  },
  "language_info": {
   "codemirror_mode": {
    "name": "ipython",
    "version": 3
   },
   "file_extension": ".py",
   "mimetype": "text/x-python",
   "name": "python",
   "nbconvert_exporter": "python",
   "pygments_lexer": "ipython3",
   "version": "3.12.7"
  }
 },
 "nbformat": 4,
 "nbformat_minor": 5
}
