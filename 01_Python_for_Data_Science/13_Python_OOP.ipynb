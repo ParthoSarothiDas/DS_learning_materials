{
 "cells": [
  {
   "cell_type": "markdown",
   "id": "971873c4-6957-4010-96be-7e17ca8300d3",
   "metadata": {},
   "source": [
    "#  Data Science Learning Journey  \n",
    "*Curiosity to Capability — One Notebook at a Time*\n",
    "\n",
    "---\n",
    "Compiled and authored by **Partho Sarothi Das**   \n",
    "\tDhaka, Bangladesh  \n",
    "\tBachelor's & Master's in Statistics  \n",
    "\tInvestment Banking Professional → Aspiring Data Scientist \n",
    "    \n",
    "---"
   ]
  },
  {
   "cell_type": "markdown",
   "id": "0fb5a45b-42c6-4460-aef9-7704133affce",
   "metadata": {},
   "source": [
    "# OOP: Object-Oriented Programming\n",
    "\n",
    "OOP in python is a programming paradigm that organizes code into objects, which bundle data and method together. It hetps in structuring code efficiently, making it reusable, and easier to maintain.\n",
    "\n",
    "**Key OOP concepts in Python :**\n",
    "\n",
    "- Classes and Objects\n",
    "- Encapsulation\n",
    "- Inheritance\n",
    "- Polymorphism\n",
    "- Abstraction\n",
    "\n",
    "**Key OOP Features in PYthon:**\n",
    "\n",
    "- Dynamic Binding: Method calls are resolved at runtime.\n",
    "- Multiple Inheritance : A class can inherit from multiple class.\n",
    "- Method Overriding: A subclass can redefine a method from its parent class.\n",
    "- Operator Overriding: Redefine how operators, like +, -, etc work for objects.\n",
    "\n",
    "**Why use OOP in Python:**\n",
    "\n",
    "- Code Reusability\n",
    "- Scalability\n",
    "- Data Security (Encapsulation)\n",
    "- Modular & Organized code.\n",
    "  "
   ]
  },
  {
   "cell_type": "markdown",
   "id": "9785482f-576e-471c-9f31-0bda9afb8779",
   "metadata": {},
   "source": [
    "# 🔶 Core Concepts of OOP in Python\n",
    "\n",
    "| Concept           | Description                                             |\n",
    "| ----------------- | ------------------------------------------------------- |\n",
    "| **Class**         | A blueprint for creating objects                        |\n",
    "| **Object**        | An instance of a class that has its unique data         |\n",
    "| **Attribute**     | A variable bound to the object                          |\n",
    "| **Method**        | A function bound to the object                          |\n",
    "| **Constructor**   | A special method (`__init__`) to initialize new objects |\n",
    "| **Inheritance**   | One class can inherit from another                      |\n",
    "| **Encapsulation** | Hiding internal details (using private attributes)      |\n",
    "| **Polymorphism**  | Ability to use a shared interface for different types   |\n"
   ]
  },
  {
   "cell_type": "code",
   "execution_count": 4,
   "id": "6871f828-a259-4ed1-be08-131576ad98cd",
   "metadata": {},
   "outputs": [
    {
     "name": "stdout",
     "output_type": "stream",
     "text": [
      "The Red Toyota engine is starting.\n",
      "Toyota\n"
     ]
    }
   ],
   "source": [
    "# Basic Structure of OOP in Python\n",
    "\n",
    "# Define a class\n",
    "class Car:  # ----> Class name should be \"Pascal Case\" -----> HelloWorld\n",
    "    # Constructor\n",
    "    def __init__(self, brand, color):\n",
    "        self.brand = brand       # Attribute\n",
    "        self.color = color\n",
    "\n",
    "    # Method\n",
    "    def start_engine(self):\n",
    "        print(f\"The {self.color} {self.brand} engine is starting.\")\n",
    "\n",
    "# Create an object (instance of Car)\n",
    "my_car = Car(\"Toyota\", \"Red\")\n",
    "\n",
    "# Access method\n",
    "my_car.start_engine()\n",
    "\n",
    "# Access attribute\n",
    "print(my_car.brand)"
   ]
  },
  {
   "cell_type": "code",
   "execution_count": 5,
   "id": "26897f0e-64e4-457f-aa8a-4889fa341741",
   "metadata": {},
   "outputs": [
    {
     "name": "stdout",
     "output_type": "stream",
     "text": [
      "Hello! My name is Partho\n"
     ]
    }
   ],
   "source": [
    "class Person:\n",
    "  def __init__(self, name, age):\n",
    "    self.name = name\n",
    "    self.age = age\n",
    "\n",
    "  def myfunc(self):\n",
    "    print(\"Hello! My name is \" + self.name)\n",
    "\n",
    "p1 = Person(\"Partho\", 42)\n",
    "p1.myfunc()"
   ]
  },
  {
   "cell_type": "code",
   "execution_count": 6,
   "id": "11c935dd-2a3b-4400-9a94-302ee11cd1cb",
   "metadata": {},
   "outputs": [
    {
     "name": "stdout",
     "output_type": "stream",
     "text": [
      "Student name: Abhik\n",
      "Student age: 5\n",
      "Student Grade: A+\n"
     ]
    }
   ],
   "source": [
    "# Modify Object Properties\n",
    "\n",
    "class Student:\n",
    "    def __init__(self, name, age, grade):\n",
    "        self.name = name\n",
    "        self.age = age\n",
    "        self.grade = grade\n",
    "\n",
    "    def student_info(self):\n",
    "        print(f\"Student name: {self.name}\\nStudent age: {self.age}\\nStudent Grade: {self.grade}\")\n",
    "\n",
    "s = Student('Abhik', 5, 'A+')\n",
    "s.student_info()"
   ]
  },
  {
   "cell_type": "code",
   "execution_count": 7,
   "id": "1492cfce-5014-4e3f-942e-901d29f915e2",
   "metadata": {},
   "outputs": [],
   "source": [
    "# Delete Object Properties\n",
    "\n",
    "del s.age"
   ]
  },
  {
   "cell_type": "code",
   "execution_count": 8,
   "id": "93ccb0f6-c28c-4b77-9373-90c08978a801",
   "metadata": {},
   "outputs": [],
   "source": [
    "# Delete Objects\n",
    "\n",
    "del s"
   ]
  },
  {
   "cell_type": "code",
   "execution_count": 9,
   "id": "0f3c9f56-ed53-47a6-be22-5238dd0c888f",
   "metadata": {},
   "outputs": [],
   "source": [
    "# pass Statement\n",
    "\n",
    "class Person:\n",
    "  pass"
   ]
  },
  {
   "cell_type": "markdown",
   "id": "f4a5a6a0-3104-4497-81e1-42a1103b4289",
   "metadata": {},
   "source": [
    "# Encapsulation\n",
    "\n",
    "Encapsulation restricts direct access to certain attributes and methods to protect data integrity attributes and methods to protect data integrity.\n",
    "--> Private attributes/ methods use double underscore _ _."
   ]
  },
  {
   "cell_type": "code",
   "execution_count": 11,
   "id": "bef4c257-15bb-4a50-85c0-fe7f6ac8c6fa",
   "metadata": {},
   "outputs": [
    {
     "name": "stdout",
     "output_type": "stream",
     "text": [
      "1500\n"
     ]
    }
   ],
   "source": [
    "class BankAccount:\n",
    "    def __init__(self, name, balance):\n",
    "        self.name = name\n",
    "        self.__balance = balance  # Private attribute\n",
    "\n",
    "    def deposit(self, amount):\n",
    "        self.__balance += amount\n",
    "\n",
    "    def get_balance(self):\n",
    "        return self.__balance\n",
    "\n",
    "account = BankAccount(\"Partho\", 1000)\n",
    "account.deposit(500)\n",
    "print(account.get_balance())"
   ]
  },
  {
   "cell_type": "code",
   "execution_count": 12,
   "id": "8b9879f2-4764-42d7-8cce-7b8ddc20b9c0",
   "metadata": {},
   "outputs": [
    {
     "data": {
      "text/plain": [
       "'Partho'"
      ]
     },
     "execution_count": 12,
     "metadata": {},
     "output_type": "execute_result"
    }
   ],
   "source": [
    "account.name"
   ]
  },
  {
   "cell_type": "code",
   "execution_count": 13,
   "id": "8eb34621-3384-43fe-aa62-5b493b666c8a",
   "metadata": {},
   "outputs": [
    {
     "data": {
      "text/plain": [
       "2000"
      ]
     },
     "execution_count": 13,
     "metadata": {},
     "output_type": "execute_result"
    }
   ],
   "source": [
    "account.deposit(500)\n",
    "account.get_balance()"
   ]
  },
  {
   "cell_type": "markdown",
   "id": "10f8f5e5-93a5-47c4-91d2-2a095148dbb5",
   "metadata": {},
   "source": [
    "# Inheritance\n",
    "\n",
    "Inheritance allows a class (child) to inherit properties and methods from another class (parent)."
   ]
  },
  {
   "cell_type": "code",
   "execution_count": 15,
   "id": "09e9ff83-8827-4157-86ae-eea61570c864",
   "metadata": {},
   "outputs": [],
   "source": [
    "# Parent class\n",
    "class Employee:\n",
    "    def __init__(self, name, salary):\n",
    "        self.name = name\n",
    "        self.salary = salary\n",
    "\n",
    "    def show_info(self):\n",
    "        print(f\"Name: {self.name}\")\n",
    "        print(f\"Salary: ${self.salary}\")\n",
    "\n",
    "# Child class 1: Inherits from Employee\n",
    "class Developer(Employee):\n",
    "    def __init__(self, name, salary, programming_language):\n",
    "        super().__init__(name, salary)  # Call parent constructor\n",
    "        self.programming_language = programming_language\n",
    "\n",
    "    def show_info(self):\n",
    "        super().show_info()\n",
    "        print(f\"Programming Language: {self.programming_language}\")\n",
    "\n",
    "# Child class 2: Inherits from Employee\n",
    "class Manager(Employee):\n",
    "    def __init__(self, name, salary, team_size):\n",
    "        super().__init__(name, salary)\n",
    "        self.team_size = team_size\n",
    "\n",
    "    def show_info(self):\n",
    "        super().show_info()\n",
    "        print(f\"Team Size: {self.team_size}\")"
   ]
  },
  {
   "cell_type": "code",
   "execution_count": 16,
   "id": "7820258a-7f06-4486-a2d4-325761470962",
   "metadata": {},
   "outputs": [
    {
     "name": "stdout",
     "output_type": "stream",
     "text": [
      "Developer Info:\n",
      "Name: Alice\n",
      "Salary: $80000\n",
      "Programming Language: Python\n",
      "\n",
      "Manager Info:\n",
      "Name: Bob\n",
      "Salary: $100000\n",
      "Team Size: 10\n"
     ]
    }
   ],
   "source": [
    "dev = Developer(\"Alice\", 80000, \"Python\")\n",
    "mgr = Manager(\"Bob\", 100000, 10)\n",
    "\n",
    "print(\"Developer Info:\")\n",
    "dev.show_info()\n",
    "\n",
    "print(\"\\nManager Info:\")\n",
    "mgr.show_info()\n"
   ]
  },
  {
   "cell_type": "markdown",
   "id": "24fa6d8e-1967-4891-b631-9452dd768ab3",
   "metadata": {},
   "source": [
    "# Polymorphism\n",
    "\n",
    "Polymorphism is often used in Class methods, where we can have multiple classes with the same method name."
   ]
  },
  {
   "cell_type": "code",
   "execution_count": 18,
   "id": "3ca2d935-2838-4e1a-963c-a338b10f7e6a",
   "metadata": {},
   "outputs": [
    {
     "name": "stdout",
     "output_type": "stream",
     "text": [
      "Drive!\n",
      "Sail!\n",
      "Fly!\n"
     ]
    }
   ],
   "source": [
    "class Car:\n",
    "  def __init__(self, brand, model):\n",
    "    self.brand = brand\n",
    "    self.model = model\n",
    "\n",
    "  def move(self):\n",
    "    print(\"Drive!\")\n",
    "\n",
    "class Boat:\n",
    "  def __init__(self, brand, model):\n",
    "    self.brand = brand\n",
    "    self.model = model\n",
    "\n",
    "  def move(self):\n",
    "    print(\"Sail!\")\n",
    "\n",
    "class Plane:\n",
    "  def __init__(self, brand, model):\n",
    "    self.brand = brand\n",
    "    self.model = model\n",
    "\n",
    "  def move(self):\n",
    "    print(\"Fly!\")\n",
    "\n",
    "car1 = Car(\"Ford\", \"Mustang\")       #Create a Car object\n",
    "boat1 = Boat(\"Ibiza\", \"Touring 20\") #Create a Boat object\n",
    "plane1 = Plane(\"Boeing\", \"747\")     #Create a Plane object\n",
    "\n",
    "for x in (car1, boat1, plane1):\n",
    "  x.move()"
   ]
  },
  {
   "cell_type": "markdown",
   "id": "ee0d9d27-18de-4578-957c-1fa2cbc7fe8b",
   "metadata": {},
   "source": [
    "# Iterators\n",
    "\n",
    "An iterator is an object that contains a countable number of values.\n",
    "\n",
    "An iterator is an object that can be iterated upon, meaning that you can traverse through all the values.\n",
    "\n",
    "Technically, in Python, an iterator is an object which implements the iterator protocol, which consist of the methods __iter__() and __next__()."
   ]
  },
  {
   "cell_type": "code",
   "execution_count": 20,
   "id": "0b6ea5da-bc0e-4615-96c0-d6bd5023bca3",
   "metadata": {},
   "outputs": [
    {
     "name": "stdout",
     "output_type": "stream",
     "text": [
      "1\n",
      "2\n",
      "3\n",
      "4\n",
      "5\n"
     ]
    }
   ],
   "source": [
    "class MyNumbers:\n",
    "  def __iter__(self):\n",
    "    self.a = 1\n",
    "    return self\n",
    "\n",
    "  def __next__(self):\n",
    "    x = self.a\n",
    "    self.a += 1\n",
    "    return x\n",
    "\n",
    "myclass = MyNumbers()\n",
    "myiter = iter(myclass)\n",
    "\n",
    "print(next(myiter))\n",
    "print(next(myiter))\n",
    "print(next(myiter))\n",
    "print(next(myiter))\n",
    "print(next(myiter))"
   ]
  },
  {
   "cell_type": "code",
   "execution_count": 21,
   "id": "4b3a6617-3c7f-4a39-9726-c6e933594edb",
   "metadata": {},
   "outputs": [
    {
     "name": "stdout",
     "output_type": "stream",
     "text": [
      "1\n",
      "2\n",
      "3\n",
      "4\n",
      "5\n",
      "6\n",
      "7\n",
      "8\n",
      "9\n",
      "10\n",
      "11\n",
      "12\n",
      "13\n",
      "14\n",
      "15\n",
      "16\n",
      "17\n",
      "18\n",
      "19\n",
      "20\n"
     ]
    }
   ],
   "source": [
    "# StopIteration\n",
    "\n",
    "class MyNumbers:\n",
    "  def __iter__(self):\n",
    "    self.a = 1\n",
    "    return self\n",
    "\n",
    "  def __next__(self):\n",
    "    if self.a <= 20:\n",
    "      x = self.a\n",
    "      self.a += 1\n",
    "      return x\n",
    "    else:\n",
    "      raise StopIteration\n",
    "\n",
    "myclass = MyNumbers()\n",
    "myiter = iter(myclass)\n",
    "\n",
    "for x in myiter:\n",
    "  print(x)"
   ]
  },
  {
   "cell_type": "markdown",
   "id": "257afa92-6973-488c-aad7-69c9df5d3e2c",
   "metadata": {},
   "source": [
    "# Conceptual Questions (15 MCQs)"
   ]
  },
  {
   "cell_type": "raw",
   "id": "eb069980-ffe3-45d2-bfae-b44598647e1f",
   "metadata": {},
   "source": [
    "1. Which of the following is not a pillar of OOP?\n",
    "   A. Inheritance\n",
    "   B. Encapsulation\n",
    "   C. Compilation\n",
    "   D. Polymorphism\n",
    "\n",
    "2. Which keyword is used to create a class in Python?\n",
    "   A. function\n",
    "   B. def\n",
    "   C. class\n",
    "   D. object\n",
    "\n",
    "3. Which method is called automatically when an object is created?\n",
    "   A. `__start__()`\n",
    "   B. `__init__()`\n",
    "   C. `__create__()`\n",
    "   D. `constructor()`\n",
    "\n",
    "4. Which of these allows different classes to use the same method name with different behaviors?\n",
    "   A. Abstraction\n",
    "   B. Inheritance\n",
    "   C. Polymorphism\n",
    "   D. Encapsulation\n",
    "\n",
    "5. What does `self` refer to in a class method?\n",
    "   A. The class itself\n",
    "   B. The object itself\n",
    "   C. A global variable\n",
    "   D. None of the above\n",
    "\n",
    "6. Which access modifier makes attributes private in Python?\n",
    "   A. `@private`\n",
    "   B. `_`\n",
    "   C. `__`\n",
    "   D. `private`\n",
    "\n",
    "7. Which of the following statements is true?\n",
    "   A. A class can have multiple constructors\n",
    "   B. An object can inherit from multiple classes\n",
    "   C. A method must return a value\n",
    "   D. All attributes in Python are public only\n",
    "\n",
    "8. What is `super()` used for?\n",
    "   A. To delete an object\n",
    "   B. To access methods from the parent class\n",
    "   C. To create multiple objects\n",
    "   D. None of the above\n",
    "\n",
    "9. Which OOP concept hides the internal implementation?\n",
    "   A. Abstraction\n",
    "   B. Inheritance\n",
    "   C. Polymorphism\n",
    "   D. Encapsulation\n",
    "\n",
    "10. Which of the following defines a class in Python?\n",
    "    A. `object MyClass:`\n",
    "    B. `new class MyClass:`\n",
    "    C. `class MyClass:`\n",
    "    D. `MyClass object:`\n",
    "\n",
    "11. Can a class inherit from multiple classes in Python?\n",
    "    A. Yes\n",
    "    B. No\n",
    "    C. Only with special syntax\n",
    "    D. Only using mixins\n",
    "\n",
    "12. Which is an example of encapsulation in Python?\n",
    "    A. Using `print()`\n",
    "    B. Using `__salary` attribute\n",
    "    C. Using `open()`\n",
    "    D. Using `lambda`\n",
    "\n",
    "13. Which function is used to represent objects as a string?\n",
    "    A. `__get__()`\n",
    "    B. `__str__()`\n",
    "    C. `__int__()`\n",
    "    D. `__init__()`\n",
    "\n",
    "14. How do you create an object from a class named `Student`?\n",
    "    A. `Student.new()`\n",
    "    B. `Student.create()`\n",
    "    C. `Student()`\n",
    "    D. `new Student()`\n",
    "\n",
    "15. What happens if you don’t define a constructor in a class?\n",
    "    A. Error\n",
    "    B. Python uses a default constructor\n",
    "    C. Object creation fails\n",
    "    D. Python skips the class\n",
    "\n",
    "Answer:\n",
    "(1. C), (2. C), (3. B), (4. C), (5. B), (6. C), (7. B), (8. B), (9. A), (10. C), (11. A), (12. B), (13. B), (14. C), (15. B)"
   ]
  },
  {
   "cell_type": "markdown",
   "id": "b5e7bcf1-264d-437d-9b1c-92b68e726e38",
   "metadata": {},
   "source": [
    "# Coding-Based Questions (15)"
   ]
  },
  {
   "cell_type": "code",
   "execution_count": null,
   "id": "366bcc25-6c53-42eb-9528-52deb042aa46",
   "metadata": {},
   "outputs": [],
   "source": [
    "# 16. **Create a class `Car` with attributes `brand` and `price`. Create two objects and print their data.**\n",
    "\n",
    "# 17. **Add a method `get_discount_price()` to class `Car` which returns 10% off on the original price.**\n",
    "\n",
    "# 18. **Write a class `Person` with a private attribute `__salary`. Add getter and setter methods.**\n",
    "\n",
    "# 19. **Define a class `Employee` and create a class variable `company = 'XYZ Ltd'`. Access it from the object.**\n",
    "\n",
    "# 20. **Create a class `Rectangle` with methods `area()` and `perimeter()`.**\n",
    "\n",
    "# 21. **Demonstrate method overriding using a `Shape` class and a `Circle` subclass.**\n",
    "\n",
    "# 22. **Demonstrate multiple inheritance using classes `Father` and `Mother` into `Child`.**\n",
    "\n",
    "# 23. **Write a class `Account` that raises an exception if the balance goes negative.**\n",
    "\n",
    "# 24. **Create a class `Student` and count how many student objects have been created (using a class variable).**\n",
    "\n",
    "# 25. **Write a program with a class method to create objects from a string (e.g., `John-25-Male`).**\n",
    "\n",
    "# 26. **Use `@staticmethod` in a `Maths` class to perform addition of two numbers.**\n",
    "\n",
    "# 27. **Create an abstract class `Animal` with an abstract method `make_sound()`. Implement it in `Dog` and `Cat`.**\n",
    "\n",
    "# 28. **Write a class `Laptop` with method `__str__()` to print brand and price.**\n",
    "\n",
    "# 29. **Use composition: class `Engine`, and class `Car` has an `Engine` object inside it.**\n",
    "\n",
    "# 30. **Build a simple Bank system using OOP concepts (class `Account`, methods `deposit`, `withdraw`, etc.).**"
   ]
  }
 ],
 "metadata": {
  "kernelspec": {
   "display_name": "Python [conda env:base] *",
   "language": "python",
   "name": "conda-base-py"
  },
  "language_info": {
   "codemirror_mode": {
    "name": "ipython",
    "version": 3
   },
   "file_extension": ".py",
   "mimetype": "text/x-python",
   "name": "python",
   "nbconvert_exporter": "python",
   "pygments_lexer": "ipython3",
   "version": "3.12.7"
  }
 },
 "nbformat": 4,
 "nbformat_minor": 5
}
