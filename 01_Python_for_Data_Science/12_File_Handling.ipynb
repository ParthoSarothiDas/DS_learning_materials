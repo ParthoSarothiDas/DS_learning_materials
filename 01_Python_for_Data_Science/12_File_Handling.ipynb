{
 "cells": [
  {
   "cell_type": "markdown",
   "id": "8a799218-050c-4855-93c2-00df66279250",
   "metadata": {},
   "source": [
    "#  Data Science Learning Journey  \n",
    "*Curiosity to Capability — One Notebook at a Time*\n",
    "\n",
    "---\n",
    "Compiled and authored by **Partho Sarothi Das**   \n",
    "\tDhaka, Bangladesh  \n",
    "\tBachelor's & Master's in Statistics  \n",
    "\tInvestment Banking Professional → Aspiring Data Scientist \n",
    "    \n",
    "---"
   ]
  },
  {
   "cell_type": "markdown",
   "id": "783a0223-6bb8-4baa-94db-e65b18d21538",
   "metadata": {},
   "source": [
    "# File Handling\n",
    "The key function for working with files in Python is the open() function.  \n",
    "\n",
    "The open() function takes two parameters; filename, and mode.\n",
    "\n",
    "There are four different methods (modes) for opening a file:\n",
    "\n",
    "- \"r\" - Read -----> Default value. Opens a file for reading, error if the file does not exist\n",
    "\n",
    "- \"a\" - Append ---> Opens a file for appending, creates the file if it does not exist\n",
    "\n",
    "- \"w\" - Write ----> Opens a file for writing, creates the file if it does not exist\n",
    "\n",
    "- \"x\" - Create ---> Creates the specified file, returns an error if the file exists\n",
    "\n",
    "In addition you can specify if the file should be handled as binary or text mode\n",
    "\n",
    "- \"t\" - Text - Default value. Text mode\n",
    "\n",
    "- \"b\" - Binary - Binary mode (e.g. images)"
   ]
  },
  {
   "cell_type": "code",
   "execution_count": 3,
   "id": "87d89754-f39a-4ef3-97f0-e4b6c95a0a2b",
   "metadata": {},
   "outputs": [],
   "source": [
    "# open()  ------> to open a file\n",
    "\n",
    "f = open(\"data.txt\")"
   ]
  },
  {
   "cell_type": "code",
   "execution_count": 4,
   "id": "17799289-560c-437d-8eab-d0873bb82c03",
   "metadata": {},
   "outputs": [],
   "source": [
    "f = open(\"data.txt\", \"rt\")"
   ]
  },
  {
   "cell_type": "markdown",
   "id": "23a85a10-5bf9-457c-994d-910026fdcf35",
   "metadata": {},
   "source": [
    "# Read files"
   ]
  },
  {
   "cell_type": "code",
   "execution_count": 6,
   "id": "4f8ab573-1e31-4b79-b5c9-3e74fd2cbe93",
   "metadata": {},
   "outputs": [
    {
     "name": "stdout",
     "output_type": "stream",
     "text": [
      "It is a wonderful day!!!\n",
      "I want to be a Data Scientist.\n",
      "I am passionate about it.I have added a line!!!\n",
      "This is a new line.\n"
     ]
    }
   ],
   "source": [
    "# read() -------> to read a file\n",
    "\n",
    "f = open(\"data.txt\")\n",
    "print(f.read())"
   ]
  },
  {
   "cell_type": "code",
   "execution_count": 7,
   "id": "8b2e8adb-8568-44d3-817f-a962a482434c",
   "metadata": {},
   "outputs": [
    {
     "data": {
      "text/plain": [
       "'It is on a different directory.\\n'"
      ]
     },
     "execution_count": 7,
     "metadata": {},
     "output_type": "execute_result"
    }
   ],
   "source": [
    "# Open a file on a different location:\n",
    "\n",
    "f = open(\"C:/Users/User/Desktop/Daily Practice/text.txt\")\n",
    "f.read()"
   ]
  },
  {
   "cell_type": "code",
   "execution_count": 8,
   "id": "2e9107ce-a93b-4ab3-a315-ad439fc41ad0",
   "metadata": {},
   "outputs": [
    {
     "name": "stdout",
     "output_type": "stream",
     "text": [
      "It is a wonderful day!!!\n",
      "I want to be a Data Scientist.\n",
      "I am passionate about it.I have added a line!!!\n",
      "This is a new line.\n"
     ]
    }
   ],
   "source": [
    "# Using the with keyword: Do not need to close the file\n",
    "\n",
    "with open(\"data.txt\") as f:\n",
    "    print(f.read())"
   ]
  },
  {
   "cell_type": "code",
   "execution_count": 9,
   "id": "795a2287-2245-4ba6-9c90-eddb7ac7f351",
   "metadata": {},
   "outputs": [
    {
     "name": "stdout",
     "output_type": "stream",
     "text": [
      "It is a wonderful day!!!\n",
      "I want to be a Data Scientist.\n",
      "I am passionate about it.I have added a line!!!\n",
      "This is a new line.\n"
     ]
    }
   ],
   "source": [
    "# Close Files\n",
    "\n",
    "f = open('data.txt')\n",
    "print(f.read())\n",
    "f.close()"
   ]
  },
  {
   "cell_type": "code",
   "execution_count": 10,
   "id": "ca9fcae8-0c8d-48b7-b29d-514777568dc0",
   "metadata": {},
   "outputs": [
    {
     "name": "stdout",
     "output_type": "stream",
     "text": [
      "It is\n"
     ]
    }
   ],
   "source": [
    "# Read Only Parts of the File\n",
    "# By default the read() method returns the whole text, but you can also specify how many characters you want to return:\n",
    "\n",
    "with open('data.txt') as f:\n",
    "    print(f.read(5)) # print 5 characters"
   ]
  },
  {
   "cell_type": "code",
   "execution_count": 11,
   "id": "3aa4db61-dee4-4d4c-9ec0-ec520e0acc1d",
   "metadata": {},
   "outputs": [
    {
     "name": "stdout",
     "output_type": "stream",
     "text": [
      "It is a wonderful day!!!\n",
      "\n"
     ]
    }
   ],
   "source": [
    "# readline()  ----->  Read Lines\n",
    "\n",
    "with open(\"data.txt\") as f:\n",
    "    print(f.readline())  # First line"
   ]
  },
  {
   "cell_type": "code",
   "execution_count": 12,
   "id": "92a5e9ab-f99b-48fd-9979-6a620209ea88",
   "metadata": {},
   "outputs": [
    {
     "name": "stdout",
     "output_type": "stream",
     "text": [
      "It is a wonderful day!!!\n",
      "\n",
      "I want to be a Data Scientist.\n",
      "\n"
     ]
    }
   ],
   "source": [
    "# readline()  ----->  Read Lines\n",
    "\n",
    "with open(\"data.txt\") as f:\n",
    "    print(f.readline())  # First line\n",
    "    print(f.readline())  # Second line"
   ]
  },
  {
   "cell_type": "code",
   "execution_count": 13,
   "id": "f8a58590-a611-4268-b7db-8fb629235f2d",
   "metadata": {},
   "outputs": [
    {
     "name": "stdout",
     "output_type": "stream",
     "text": [
      "It is a wonderful day!!!\n",
      "\n",
      "I want to be a Data Scientist.\n",
      "\n",
      "I am passionate about it.I have added a line!!!\n",
      "\n",
      "This is a new line.\n"
     ]
    }
   ],
   "source": [
    "# Line by line -----> by looping\n",
    "\n",
    "with open(\"data.txt\") as f:\n",
    "    for x in f:\n",
    "        print(x)"
   ]
  },
  {
   "cell_type": "markdown",
   "id": "24fc9f5b-69e9-413f-bdcd-1d1b4e1b0839",
   "metadata": {},
   "source": [
    "# Write file  /  Create file\n",
    "\n",
    "- \"a\" - Append - will append to the end of the file\n",
    "\n",
    "- \"w\" - Write - will overwrite any existing content"
   ]
  },
  {
   "cell_type": "code",
   "execution_count": 15,
   "id": "72c1228d-707d-4d41-a771-35eef1c59237",
   "metadata": {},
   "outputs": [],
   "source": [
    "# write() ---> Write to an Existing File\n",
    "\n",
    "with open('data.txt', 'a') as f:   # \"a\" - Append - will append to the end of the file\n",
    "    f.write('I have added a something!!!')"
   ]
  },
  {
   "cell_type": "code",
   "execution_count": 16,
   "id": "fdd0a14d-0c40-4c39-8c8a-b0c20f035780",
   "metadata": {},
   "outputs": [],
   "source": [
    "# To add a new line\n",
    "\n",
    "with open(\"data.txt\", 'a') as f:\n",
    "    f.write('\\nThis is a new line.')"
   ]
  },
  {
   "cell_type": "code",
   "execution_count": 17,
   "id": "285d2ad4-e271-438a-93a3-1142ad2176da",
   "metadata": {},
   "outputs": [
    {
     "name": "stdout",
     "output_type": "stream",
     "text": [
      "I have overwrite all.\n"
     ]
    }
   ],
   "source": [
    "# Overwrite Existing Content\n",
    "\n",
    "with open(\"data1.txt\", 'w') as f:\n",
    "    f.write('I have overwrite all.')\n",
    "\n",
    "with open(\"data1.txt\") as f:\n",
    "    print(f.read())"
   ]
  },
  {
   "cell_type": "markdown",
   "id": "8850db0d-b359-4af9-b880-c5d712d3a357",
   "metadata": {},
   "source": [
    "# Create a New File\n",
    "To create a new file in Python, use the open() method, with one of the following parameters:\n",
    "\n",
    "\"x\" - Create - will create a file, returns an error if the file exists\n",
    "\n",
    "\"a\" - Append - will create a file if the specified file does not exists\n",
    "\n",
    "\"w\" - Write - will create a file if the specified file does not exists"
   ]
  },
  {
   "cell_type": "code",
   "execution_count": 19,
   "id": "9ce22d36-8975-47bc-bf60-4b36bb7e82d0",
   "metadata": {},
   "outputs": [],
   "source": [
    "# Create a new file called \"data3.txt\":\n",
    "\n",
    "f = open(\"data3.txt\", \"x\")"
   ]
  },
  {
   "cell_type": "code",
   "execution_count": 20,
   "id": "92db5d17-7941-4070-b363-f6664383db0a",
   "metadata": {},
   "outputs": [
    {
     "name": "stdout",
     "output_type": "stream",
     "text": [
      "It is a new file.\n"
     ]
    }
   ],
   "source": [
    "with open('data3.txt','a') as f: # Open newly created file\n",
    "    f.write('It is a new file.')\n",
    "\n",
    "with open(\"data3.txt\") as f: # Write in the new created file\n",
    "    print(f.read())"
   ]
  },
  {
   "cell_type": "markdown",
   "id": "a4a760a3-85f5-4904-bfe3-55adf9f3a84d",
   "metadata": {},
   "source": [
    "# Delete File"
   ]
  },
  {
   "cell_type": "code",
   "execution_count": 22,
   "id": "5d00566d-8dd8-463b-94e9-bfe7a1ea602d",
   "metadata": {},
   "outputs": [],
   "source": [
    "# Delete file \"data3.txt\"\n",
    "\n",
    "import os\n",
    "\n",
    "os.remove(\"data3.txt\")"
   ]
  },
  {
   "cell_type": "code",
   "execution_count": 23,
   "id": "9dcd4406-3edc-4fa3-ac7c-2b0a7fd40637",
   "metadata": {},
   "outputs": [
    {
     "name": "stdout",
     "output_type": "stream",
     "text": [
      "The file does not exist.\n"
     ]
    }
   ],
   "source": [
    "# Check if File exist:  To avoid getting an error, you might want to check if the file exists before you try to delete it\n",
    "\n",
    "import os\n",
    "if os.path.exists('data3.txt'):\n",
    "    os.remove('data3.txt')\n",
    "else:\n",
    "    print('The file does not exist.')\n"
   ]
  },
  {
   "cell_type": "markdown",
   "id": "ee86e1f2-8acd-42d5-a68c-344a1337035d",
   "metadata": {},
   "source": [
    "# ✅ **Basic Questions (1–8)**"
   ]
  },
  {
   "cell_type": "code",
   "execution_count": 45,
   "id": "bc29aead-3da7-4b35-a5ca-ee922dd3edf2",
   "metadata": {},
   "outputs": [],
   "source": [
    "# 1. **What is file handling in Python?**\n",
    "# 2. **What are the different modes available to open a file in Python?**\n",
    "# 3. **What is the difference between `'r'` and `'w'` mode?**\n",
    "# 4. **What happens if a file does not exist when opened in `'r'` mode?**\n",
    "# 5. **What does the `'a'` mode do in file handling?**\n",
    "# 6. **What is the use of the `with` statement when working with files?**\n",
    "# 7. **How do you write a single line to a text file in Python?**\n",
    "# 8. **How do you read the entire content of a file as a string?**"
   ]
  },
  {
   "cell_type": "markdown",
   "id": "3fe8219c-5fcf-42cd-9205-5ca4aaac38c1",
   "metadata": {},
   "source": [
    "# ✅ **Intermediate Questions (9–15)**"
   ]
  },
  {
   "cell_type": "code",
   "execution_count": null,
   "id": "3ae56009-42f0-41df-a6f5-5a7e9b31980e",
   "metadata": {},
   "outputs": [],
   "source": [
    "# 9. **How do you read a file line by line in Python?**\n",
    "# 10. **What is the difference between `read()`, `readline()`, and `readlines()`?**\n",
    "# 11. **What is the purpose of the `seek()` method?**\n",
    "# 12. **How do you check if a file exists before opening it?**\n",
    "# 13. **What happens when you open a file in `'w'` mode and the file already exists?**\n",
    "# 14. **How do you write multiple lines to a file?**\n",
    "# 15. **How do you close a file in Python, and why is it important?**"
   ]
  },
  {
   "cell_type": "markdown",
   "id": "be0f46ee-8271-49c2-9de5-4c7a7a4a04c2",
   "metadata": {},
   "source": [
    "# ✅ **Advanced Questions (16–20)**"
   ]
  },
  {
   "cell_type": "code",
   "execution_count": null,
   "id": "3e5b4ed5-a834-439d-ac18-623be9eaa8d9",
   "metadata": {},
   "outputs": [],
   "source": [
    "# 16. **What is the difference between binary mode (`'rb'`, `'wb'`) and text mode (`'r'`, `'w'`)?**\n",
    "# 17. **How do you handle exceptions while working with files (e.g., file not found)?**\n",
    "# 18. **How can you read and write a file at the same time?**\n",
    "# 19. **How do you append a line to a file only if it doesn't already exist in the file?**\n",
    "# 20. **How would you count the number of lines, words, and characters in a file?**"
   ]
  }
 ],
 "metadata": {
  "kernelspec": {
   "display_name": "Python [conda env:base] *",
   "language": "python",
   "name": "conda-base-py"
  },
  "language_info": {
   "codemirror_mode": {
    "name": "ipython",
    "version": 3
   },
   "file_extension": ".py",
   "mimetype": "text/x-python",
   "name": "python",
   "nbconvert_exporter": "python",
   "pygments_lexer": "ipython3",
   "version": "3.12.7"
  }
 },
 "nbformat": 4,
 "nbformat_minor": 5
}
