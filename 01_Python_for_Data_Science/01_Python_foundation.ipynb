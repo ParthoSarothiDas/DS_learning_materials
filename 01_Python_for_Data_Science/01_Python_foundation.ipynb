{
 "cells": [
  {
   "cell_type": "markdown",
   "id": "340740ee-992c-4b5c-8d74-ab796a08e48e",
   "metadata": {},
   "source": [
    "#  Data Science Learning Journey  \n",
    "*Curiosity to Capability — One Notebook at a Time*\n",
    "\n",
    "---\n",
    "Compiled and authored by **Partho Sarothi Das**   \n",
    "\tDhaka, Bangladesh  \n",
    "\tBachelor's & Master's in Statistics  \n",
    "\tInvestment Banking Professional → Aspiring Data Scientist "
   ]
  },
  {
   "cell_type": "markdown",
   "id": "352bbf12-ecda-47d9-ba2f-d9615a29c082",
   "metadata": {},
   "source": [
    "# Variable\n",
    "A variable can have a short name (like x and y) or a more descriptive name (age, carname, total_volume).\n",
    "\n",
    "Rules for Python variables:\n",
    "\n",
    "A variable name must start with a letter or the underscore character\n",
    "A variable name cannot start with a number\n",
    "A variable name can only contain alpha-numeric characters and underscores (A-z, 0-9, and _ )\n",
    "Variable names are case-sensitive (age, Age and AGE are three different variables)\n",
    "A variable name cannot be any of the Python keywords."
   ]
  },
  {
   "cell_type": "code",
   "execution_count": 2,
   "id": "c6362d69-bbdf-4b6f-8933-fca2813aa46c",
   "metadata": {},
   "outputs": [
    {
     "name": "stdout",
     "output_type": "stream",
     "text": [
      "5 5.0 Hello World\n",
      "<class 'int'> <class 'float'> <class 'str'>\n"
     ]
    }
   ],
   "source": [
    "x = 5\n",
    "y = 5.0\n",
    "z = 'Hello World'\n",
    "print(x, y, z)\n",
    "print(type(x), type(y), type(z))"
   ]
  },
  {
   "cell_type": "code",
   "execution_count": 3,
   "id": "3c7d54ef-0cd9-4297-950d-a25c9aab8509",
   "metadata": {},
   "outputs": [
    {
     "data": {
      "text/plain": [
       "('5', 5, 5.0)"
      ]
     },
     "execution_count": 3,
     "metadata": {},
     "output_type": "execute_result"
    }
   ],
   "source": [
    "# Casting : to specify the data type of a variable, this can be done with casting.\n",
    "x = str(5)\n",
    "y = int(5)\n",
    "z = float(5)\n",
    "x,y,z"
   ]
  },
  {
   "cell_type": "code",
   "execution_count": 4,
   "id": "2fe99112-c471-444a-ab4a-d5e6bca23b6a",
   "metadata": {},
   "outputs": [
    {
     "name": "stdout",
     "output_type": "stream",
     "text": [
      "white\n",
      "green\n",
      "yellow\n"
     ]
    }
   ],
   "source": [
    "# Assign multiple values\n",
    "\n",
    "x, y, z = 'white', 'green', 'yellow'\n",
    "print(x)\n",
    "print(y)\n",
    "print(z)"
   ]
  },
  {
   "cell_type": "code",
   "execution_count": 5,
   "id": "9493e3ff-4c15-4059-afc8-f0cfb6983d8d",
   "metadata": {},
   "outputs": [
    {
     "name": "stdout",
     "output_type": "stream",
     "text": [
      "Denmark\n",
      "Denmark\n",
      "Denmark\n"
     ]
    }
   ],
   "source": [
    "# One value to multiple variable\n",
    "\n",
    "x = y = z = 'Denmark'\n",
    "print(x)\n",
    "print(y)\n",
    "print(z)"
   ]
  },
  {
   "cell_type": "code",
   "execution_count": 6,
   "id": "a91fb944-4031-419d-90f1-71302c5705b7",
   "metadata": {},
   "outputs": [
    {
     "name": "stdout",
     "output_type": "stream",
     "text": [
      "Denmark\n",
      "Bangladesh\n",
      "Ireland\n"
     ]
    }
   ],
   "source": [
    "# Unpack a Collection : If you have a collection of values in a list, tuple etc. Python allows you to extract the values into variables. This is called unpacking.\n",
    "\n",
    "countries = ['Denmark', 'Bangladesh', 'Ireland']\n",
    "x, y, z = countries\n",
    "print(x)\n",
    "print(y)\n",
    "print(z)"
   ]
  },
  {
   "cell_type": "code",
   "execution_count": 7,
   "id": "3c15b2fa-ea97-4086-abd5-4537a3fdc15e",
   "metadata": {},
   "outputs": [
    {
     "name": "stdout",
     "output_type": "stream",
     "text": [
      "I love my country.\n"
     ]
    }
   ],
   "source": [
    "# Output Variables : print function\n",
    "x = 'I love my country.'\n",
    "print(x)"
   ]
  },
  {
   "cell_type": "code",
   "execution_count": 8,
   "id": "7263a129-a467-428e-a506-728db474af4d",
   "metadata": {},
   "outputs": [
    {
     "name": "stdout",
     "output_type": "stream",
     "text": [
      "Ilovemycountry.\n",
      "I love my country.\n"
     ]
    }
   ],
   "source": [
    "x = 'I'\n",
    "y = 'love'\n",
    "z = 'my'\n",
    "zz = 'country.'\n",
    "\n",
    "print(x+y+z+zz)\n",
    "print(x,y,z,zz)"
   ]
  },
  {
   "cell_type": "code",
   "execution_count": 9,
   "id": "edb3a856-658c-459a-b84a-5a893f02a889",
   "metadata": {},
   "outputs": [
    {
     "name": "stdout",
     "output_type": "stream",
     "text": [
      "11\n"
     ]
    }
   ],
   "source": [
    "x = 5\n",
    "y = 6\n",
    "print(x+y)"
   ]
  },
  {
   "cell_type": "code",
   "execution_count": 10,
   "id": "9cfd1d85-be85-4467-b599-7865e2b41081",
   "metadata": {},
   "outputs": [
    {
     "name": "stdout",
     "output_type": "stream",
     "text": [
      "5 Mango\n"
     ]
    }
   ],
   "source": [
    "x = 5\n",
    "y = 'Mango'\n",
    "print(x,y) # ✅\n",
    "# print(x+y) # ❌"
   ]
  },
  {
   "cell_type": "code",
   "execution_count": 11,
   "id": "2bb65244-3f5e-4f28-bbb1-bdf898ba0fad",
   "metadata": {},
   "outputs": [
    {
     "name": "stdout",
     "output_type": "stream",
     "text": [
      "I love the earth.\n",
      "I love Bangladesh.\n"
     ]
    }
   ],
   "source": [
    "# Global Variables :Variables that are created outside of a function are known as global variables.\n",
    "\n",
    "x = 'Bangladesh.' # Global variable\n",
    "def my_func():\n",
    "    x = 'the earth.' # Local variable\n",
    "    print('I love ' + x)\n",
    "\n",
    "my_func()\n",
    "print('I love '+ x)"
   ]
  },
  {
   "cell_type": "code",
   "execution_count": 12,
   "id": "34c9bf45-06a9-4cd2-a0b0-7ea5fef2353f",
   "metadata": {},
   "outputs": [
    {
     "name": "stdout",
     "output_type": "stream",
     "text": [
      "I love the earth.\n",
      "I love the earth.\n"
     ]
    }
   ],
   "source": [
    "# Global Key : To create a global variable inside a function, we use the global keyword.\n",
    "\n",
    "def my_func():\n",
    "    global x\n",
    "    x = 'the earth.' # Local variable\n",
    "    print('I love ' + x)\n",
    "\n",
    "my_func()\n",
    "print('I love '+ x)"
   ]
  },
  {
   "cell_type": "markdown",
   "id": "5bb1e865-3a27-4e7e-a5e5-b0020b92cd82",
   "metadata": {},
   "source": [
    "# Operators\n",
    "Python divides the operators in the following groups:\n",
    "\n",
    "- Arithmetic operators : + , - , * , / , % , ** , //\n",
    "- Assignment operators  : =\n",
    "- Comparison operators  : ==, !=, >, <, >=, <=\n",
    "- Logical operators    : and, or, not\n",
    "- Identity operators    : is, is not\n",
    "- Membership operators  : in, not in\n",
    "- Bitwise operators    : & (and), | (or), ^ (Xor) , ~ (Not)"
   ]
  },
  {
   "cell_type": "code",
   "execution_count": 14,
   "id": "ad42fb46-d3bd-40c4-ad6b-02d883648241",
   "metadata": {},
   "outputs": [
    {
     "data": {
      "text/plain": [
       "(12, 8, 20, 5.0, 0, 100, 5)"
      ]
     },
     "execution_count": 14,
     "metadata": {},
     "output_type": "execute_result"
    }
   ],
   "source": [
    "x = 10\n",
    "y = 2\n",
    "x+y, x-y, x*y, x/y, x%y, x**y, x//y"
   ]
  },
  {
   "cell_type": "code",
   "execution_count": 15,
   "id": "77345fc2-43a7-468e-8e67-8c5c7b36bdca",
   "metadata": {},
   "outputs": [
    {
     "data": {
      "text/plain": [
       "'parthopartho'"
      ]
     },
     "execution_count": 15,
     "metadata": {},
     "output_type": "execute_result"
    }
   ],
   "source": [
    "a = 'partho'\n",
    "a*2"
   ]
  },
  {
   "cell_type": "markdown",
   "id": "496edc48-41a9-4a43-8ed5-7a12139c1d03",
   "metadata": {},
   "source": [
    "## Operatior + if conditions"
   ]
  },
  {
   "cell_type": "code",
   "execution_count": 17,
   "id": "57b37845-88e8-46b7-821d-f1af00508d66",
   "metadata": {},
   "outputs": [
    {
     "name": "stdout",
     "output_type": "stream",
     "text": [
      "x is greater than y\n"
     ]
    }
   ],
   "source": [
    "# short if\n",
    "if x > y: print('x is greater than y')  "
   ]
  },
  {
   "cell_type": "code",
   "execution_count": 18,
   "id": "0a92ba98-7456-4254-b8de-aab8b20557b2",
   "metadata": {},
   "outputs": [
    {
     "name": "stdout",
     "output_type": "stream",
     "text": [
      "x is greater than y\n"
     ]
    }
   ],
   "source": [
    "# short if --- else\n",
    "print('x is greater than y') if x>y else print('X is less than y')"
   ]
  },
  {
   "cell_type": "code",
   "execution_count": 19,
   "id": "9d098c95-37e6-49a6-8853-99ab3e8c512c",
   "metadata": {},
   "outputs": [
    {
     "name": "stdout",
     "output_type": "stream",
     "text": [
      "6 is the biggest number\n"
     ]
    }
   ],
   "source": [
    "# if ..... elif ..... else\n",
    "\n",
    "a, b, c = 4, 5, 6\n",
    "\n",
    "if a>b and a>c:\n",
    "    print(a, 'is the biggest number.')\n",
    "elif b> c:\n",
    "    print(b, 'is the biggest number.')\n",
    "else:\n",
    "    print(c, 'is the biggest number')"
   ]
  },
  {
   "cell_type": "code",
   "execution_count": 20,
   "id": "10def1e5-2242-415c-9087-fab53d675a12",
   "metadata": {},
   "outputs": [
    {
     "name": "stdout",
     "output_type": "stream",
     "text": [
      "Yes, Denmark has.\n",
      "Bangladesh has not.\n"
     ]
    }
   ],
   "source": [
    "countries = ['Finland','Denmark','Norway', 'Italy']\n",
    "\n",
    "if 'Denmark' in countries: print('Yes, Denmark has.')\n",
    "if 'Bangladesh' not in countries: print('Bangladesh has not.')"
   ]
  },
  {
   "cell_type": "code",
   "execution_count": 21,
   "id": "46efdf61-9014-4bbf-81a3-9175be43f4dd",
   "metadata": {},
   "outputs": [
    {
     "name": "stdout",
     "output_type": "stream",
     "text": [
      "True\n",
      "False\n",
      "True\n",
      "True\n"
     ]
    }
   ],
   "source": [
    "a = [1, 2, 3]\n",
    "b = a\n",
    "c = [1, 2, 3]\n",
    "\n",
    "print(a is b)       # True — same object in memory\n",
    "print(a is c)       # False — different objects with same content\n",
    "\n",
    "print(a == c)       # True — values are equal\n",
    "print(a is not c)   # True — different objects"
   ]
  },
  {
   "cell_type": "markdown",
   "id": "a9c754b4-22b4-4a4a-8e99-86b974482792",
   "metadata": {},
   "source": [
    "# Data Types\n",
    "| Example                                 | Data Type    |\n",
    "|-----------------------------------------|--------------|\n",
    "| `x = \"Hello World\"`                     | `str`        |\n",
    "| `x = 20`                                | `int`        |\n",
    "| `x = 20.5`                              | `float`      |\n",
    "| `x = 1j`                                | `complex`    |\n",
    "| `x = [\"apple\", \"banana\", \"cherry\"]`     | `list`       |\n",
    "| `x = (\"apple\", \"banana\", \"cherry\")`     | `tuple`      |\n",
    "| `x = range(6)`                          | `range`      |\n",
    "| `x = {\"name\" : \"John\", \"age\" : 36}`     | `dict`       |\n",
    "| `x = {\"apple\", \"banana\", \"cherry\"}`     | `set`        |\n",
    "| `x = frozenset({\"apple\", \"banana\", \"cherry\"})` | `frozenset`  |\n",
    "| `x = True`                              | `bool`       |\n",
    "| `x = b\"Hello\"`                          | `bytes`      |\n",
    "| `x = bytearray(5)`                      | `bytearray`  |\n",
    "| `x = memoryview(bytes(5))`              | `memoryview` |\n",
    "| `x = None`                              | `NoneType`   |\n"
   ]
  },
  {
   "cell_type": "markdown",
   "id": "8800275b-c9aa-4be6-a3fb-68997ae811c0",
   "metadata": {},
   "source": [
    "## String : Python strings are **immutable**"
   ]
  },
  {
   "cell_type": "code",
   "execution_count": 24,
   "id": "50d747d8-f0af-4956-ba35-77f0fd0e92b4",
   "metadata": {},
   "outputs": [
    {
     "data": {
      "text/plain": [
       "('I', ' ', 'l', 'o', 'v')"
      ]
     },
     "execution_count": 24,
     "metadata": {},
     "output_type": "execute_result"
    }
   ],
   "source": [
    "s = 'I love Abhik'\n",
    "s[0], s[1], s[2], s[3], s[4]"
   ]
  },
  {
   "cell_type": "code",
   "execution_count": 25,
   "id": "74c991f0-aaca-40fe-9900-7194cc46acaf",
   "metadata": {},
   "outputs": [
    {
     "data": {
      "text/plain": [
       "'Ban'"
      ]
     },
     "execution_count": 25,
     "metadata": {},
     "output_type": "execute_result"
    }
   ],
   "source": [
    "b = 'Bangladesh'\n",
    "b[0:3]"
   ]
  },
  {
   "cell_type": "code",
   "execution_count": 26,
   "id": "d1277f20-c5d6-489d-bd5e-f40de1cad8b9",
   "metadata": {},
   "outputs": [
    {
     "data": {
      "text/plain": [
       "'hsedalgnaB'"
      ]
     },
     "execution_count": 26,
     "metadata": {},
     "output_type": "execute_result"
    }
   ],
   "source": [
    "b[::-1] # Right to left"
   ]
  },
  {
   "cell_type": "code",
   "execution_count": 27,
   "id": "7861199d-fa22-4a99-b1e6-136a9d6e801e",
   "metadata": {},
   "outputs": [
    {
     "data": {
      "text/plain": [
       "'h'"
      ]
     },
     "execution_count": 27,
     "metadata": {},
     "output_type": "execute_result"
    }
   ],
   "source": [
    "b[-1] # Negative indexing"
   ]
  },
  {
   "cell_type": "code",
   "execution_count": 28,
   "id": "75334366-2750-4c73-9cdb-ce8aa8cd4f55",
   "metadata": {},
   "outputs": [
    {
     "name": "stdout",
     "output_type": "stream",
     "text": [
      "B\n",
      "a\n",
      "n\n",
      "g\n",
      "l\n",
      "a\n",
      "d\n",
      "e\n",
      "s\n",
      "h\n"
     ]
    }
   ],
   "source": [
    "for x in 'Bangladesh':\n",
    "    print(x)"
   ]
  },
  {
   "cell_type": "code",
   "execution_count": 29,
   "id": "27c053ba-98d4-4f0b-8bd2-73864add5099",
   "metadata": {},
   "outputs": [
    {
     "name": "stdout",
     "output_type": "stream",
     "text": [
      "True\n"
     ]
    }
   ],
   "source": [
    "print (\"A\" in 'Abhik')"
   ]
  },
  {
   "cell_type": "code",
   "execution_count": 30,
   "id": "16680c7f-3f8c-4bdb-82fe-e4ece9121f05",
   "metadata": {},
   "outputs": [
    {
     "name": "stdout",
     "output_type": "stream",
     "text": [
      "True\n"
     ]
    }
   ],
   "source": [
    "txt = 'Bangladesh is a beautiful country.'\n",
    "print ('good' not in txt)"
   ]
  },
  {
   "cell_type": "markdown",
   "id": "cdd6ac22-3bc2-4cc5-b643-6224d3804c2c",
   "metadata": {},
   "source": [
    "### Common functions with string"
   ]
  },
  {
   "cell_type": "code",
   "execution_count": 32,
   "id": "73caea30-c3aa-40cc-9b94-fcfdd6a8324a",
   "metadata": {},
   "outputs": [
    {
     "data": {
      "text/plain": [
       "(12, 'w', ' ')"
      ]
     },
     "execution_count": 32,
     "metadata": {},
     "output_type": "execute_result"
    }
   ],
   "source": [
    "s = 'hellow world'\n",
    "len(s), max(s), min(s)"
   ]
  },
  {
   "cell_type": "code",
   "execution_count": 33,
   "id": "311c051d-91a6-4982-a204-267e159e9e78",
   "metadata": {},
   "outputs": [
    {
     "name": "stdout",
     "output_type": "stream",
     "text": [
      "[' ', 'd', 'e', 'h', 'l', 'l', 'l', 'o', 'o', 'r', 'w', 'w']\n",
      "['w', 'w', 'r', 'o', 'o', 'l', 'l', 'l', 'h', 'e', 'd', ' ']\n"
     ]
    }
   ],
   "source": [
    "print(sorted(s))\n",
    "print(sorted(s, reverse=True))"
   ]
  },
  {
   "cell_type": "code",
   "execution_count": 34,
   "id": "d4f045ab-8de2-4df7-8db5-e75d15e8b137",
   "metadata": {},
   "outputs": [
    {
     "data": {
      "text/plain": [
       "('Hellow world',\n",
       " 'Hellow World',\n",
       " 'HELLOW WORLD',\n",
       " 'hellow world',\n",
       " 'HELLOW WORLD')"
      ]
     },
     "execution_count": 34,
     "metadata": {},
     "output_type": "execute_result"
    }
   ],
   "source": [
    "s.capitalize(), s.title(), s.upper(), s.lower(), s.swapcase()"
   ]
  },
  {
   "cell_type": "code",
   "execution_count": 35,
   "id": "8fce9d7e-1966-4c69-b914-d202732b0406",
   "metadata": {},
   "outputs": [
    {
     "data": {
      "text/plain": [
       "1"
      ]
     },
     "execution_count": 35,
     "metadata": {},
     "output_type": "execute_result"
    }
   ],
   "source": [
    "'partho'.count('p')"
   ]
  },
  {
   "cell_type": "code",
   "execution_count": 36,
   "id": "93c18347-c126-43ac-be56-619ffa360785",
   "metadata": {},
   "outputs": [
    {
     "data": {
      "text/plain": [
       "1"
      ]
     },
     "execution_count": 36,
     "metadata": {},
     "output_type": "execute_result"
    }
   ],
   "source": [
    "'partho'.find('a')"
   ]
  },
  {
   "cell_type": "code",
   "execution_count": 37,
   "id": "d850d3e3-60b4-4732-9f81-81d78e2b8ac2",
   "metadata": {},
   "outputs": [
    {
     "data": {
      "text/plain": [
       "-1"
      ]
     },
     "execution_count": 37,
     "metadata": {},
     "output_type": "execute_result"
    }
   ],
   "source": [
    "'partho'.find('z')"
   ]
  },
  {
   "cell_type": "code",
   "execution_count": 38,
   "id": "ba336364-aa69-457c-9ef0-261e333cd503",
   "metadata": {},
   "outputs": [
    {
     "data": {
      "text/plain": [
       "2"
      ]
     },
     "execution_count": 38,
     "metadata": {},
     "output_type": "execute_result"
    }
   ],
   "source": [
    "'partho'.index('r')"
   ]
  },
  {
   "cell_type": "code",
   "execution_count": 39,
   "id": "9a82f336-4f8b-4e49-8a0a-313a6eb63fe0",
   "metadata": {},
   "outputs": [
    {
     "data": {
      "text/plain": [
       "True"
      ]
     },
     "execution_count": 39,
     "metadata": {},
     "output_type": "execute_result"
    }
   ],
   "source": [
    "'partho'.startswith('p')"
   ]
  },
  {
   "cell_type": "code",
   "execution_count": 40,
   "id": "56ef7f71-dd17-4556-94f9-f57c4b8ae64c",
   "metadata": {},
   "outputs": [
    {
     "data": {
      "text/plain": [
       "True"
      ]
     },
     "execution_count": 40,
     "metadata": {},
     "output_type": "execute_result"
    }
   ],
   "source": [
    "'partho'.endswith('o')"
   ]
  },
  {
   "cell_type": "code",
   "execution_count": 41,
   "id": "4720b882-e14a-4705-8e53-84cc062abb13",
   "metadata": {},
   "outputs": [
    {
     "data": {
      "text/plain": [
       "False"
      ]
     },
     "execution_count": 41,
     "metadata": {},
     "output_type": "execute_result"
    }
   ],
   "source": [
    "'partho'.endswith('p')"
   ]
  },
  {
   "cell_type": "code",
   "execution_count": 42,
   "id": "e32e6e1a-1795-421e-9cf3-70762fcaf571",
   "metadata": {},
   "outputs": [
    {
     "data": {
      "text/plain": [
       "'My name is Partho and I am a male.'"
      ]
     },
     "execution_count": 42,
     "metadata": {},
     "output_type": "execute_result"
    }
   ],
   "source": [
    "# format\n",
    "name = 'Partho'\n",
    "gender = 'male'\n",
    "'My name is {1} and I am a {0}.'.format(gender, name)"
   ]
  },
  {
   "cell_type": "code",
   "execution_count": 43,
   "id": "82a23d07-cbee-4c63-8dd9-a9215bdd342e",
   "metadata": {},
   "outputs": [
    {
     "data": {
      "text/plain": [
       "'My name is Partho and I am a male.'"
      ]
     },
     "execution_count": 43,
     "metadata": {},
     "output_type": "execute_result"
    }
   ],
   "source": [
    "# format\n",
    "name = 'Partho'\n",
    "gender = 'male'\n",
    "'My name is {} and I am a {}.'.format(name, gender)"
   ]
  },
  {
   "cell_type": "code",
   "execution_count": 44,
   "id": "a6575920-f0f6-4d2c-9c66-4e981992186c",
   "metadata": {},
   "outputs": [
    {
     "data": {
      "text/plain": [
       "True"
      ]
     },
     "execution_count": 44,
     "metadata": {},
     "output_type": "execute_result"
    }
   ],
   "source": [
    "a = 'partho5222' \n",
    "a.isalnum()"
   ]
  },
  {
   "cell_type": "code",
   "execution_count": 45,
   "id": "a56ad017-d00b-4d5b-8f00-4efe3dfe7dd0",
   "metadata": {},
   "outputs": [
    {
     "data": {
      "text/plain": [
       "False"
      ]
     },
     "execution_count": 45,
     "metadata": {},
     "output_type": "execute_result"
    }
   ],
   "source": [
    "a.isalpha()"
   ]
  },
  {
   "cell_type": "code",
   "execution_count": 46,
   "id": "820a7d5f-17ea-47c0-bf47-3b7fecfd7506",
   "metadata": {},
   "outputs": [
    {
     "data": {
      "text/plain": [
       "False"
      ]
     },
     "execution_count": 46,
     "metadata": {},
     "output_type": "execute_result"
    }
   ],
   "source": [
    "a.isdigit()"
   ]
  },
  {
   "cell_type": "code",
   "execution_count": 47,
   "id": "9332a509-e0a0-4a91-bc8f-f0c2bf999e70",
   "metadata": {},
   "outputs": [
    {
     "data": {
      "text/plain": [
       "True"
      ]
     },
     "execution_count": 47,
     "metadata": {},
     "output_type": "execute_result"
    }
   ],
   "source": [
    "a.isidentifier()"
   ]
  },
  {
   "cell_type": "code",
   "execution_count": 48,
   "id": "6ef20ac5-e9bb-4f74-b39e-1a9c65c85f7a",
   "metadata": {},
   "outputs": [
    {
     "name": "stdout",
     "output_type": "stream",
     "text": [
      "['I', 'am', 'Partho']\n"
     ]
    },
    {
     "data": {
      "text/plain": [
       "'I am Partho'"
      ]
     },
     "execution_count": 48,
     "metadata": {},
     "output_type": "execute_result"
    }
   ],
   "source": [
    "# split() / join()\n",
    "\n",
    "m = 'I am Partho'.split()\n",
    "print(m)\n",
    "\n",
    "' '.join(m)"
   ]
  },
  {
   "cell_type": "code",
   "execution_count": 49,
   "id": "1e8b102f-31b5-409c-a4d2-bb91d56aeaf8",
   "metadata": {},
   "outputs": [
    {
     "data": {
      "text/plain": [
       "'Partho'"
      ]
     },
     "execution_count": 49,
     "metadata": {},
     "output_type": "execute_result"
    }
   ],
   "source": [
    "# replace()\n",
    "\n",
    "a = 'partho'\n",
    "a.replace('p','P')"
   ]
  },
  {
   "cell_type": "code",
   "execution_count": 50,
   "id": "8debf5cb-a734-458e-9828-94e242dbead4",
   "metadata": {},
   "outputs": [
    {
     "data": {
      "text/plain": [
       "'I am Partho'"
      ]
     },
     "execution_count": 50,
     "metadata": {},
     "output_type": "execute_result"
    }
   ],
   "source": [
    "#strip() -------> remove all end spaces.\n",
    "\n",
    "'   I am Partho    '.strip()"
   ]
  },
  {
   "cell_type": "code",
   "execution_count": 51,
   "id": "f6d84aeb-52c4-41a4-972a-7c0b9d586a9b",
   "metadata": {},
   "outputs": [
    {
     "name": "stdout",
     "output_type": "stream",
     "text": [
      "Hello World\n"
     ]
    }
   ],
   "source": [
    "# Concatenate string\n",
    "\n",
    "a = 'Hello'\n",
    "b = 'World'\n",
    "\n",
    "print(a+\" \"+b)"
   ]
  },
  {
   "cell_type": "code",
   "execution_count": 52,
   "id": "ce704e7b-c289-406f-bfe4-23352af3312b",
   "metadata": {},
   "outputs": [
    {
     "name": "stdout",
     "output_type": "stream",
     "text": [
      "My age is 42.\n"
     ]
    }
   ],
   "source": [
    "# F-Strings ------> A placeholder can contain variables, operations, functions, and modifiers to format the value.\n",
    "\n",
    "age = 42\n",
    "print(f'My age is {age}.')"
   ]
  },
  {
   "cell_type": "code",
   "execution_count": 53,
   "id": "8bbe4845-d2f1-4b62-89e9-d3d61ba47623",
   "metadata": {},
   "outputs": [
    {
     "name": "stdout",
     "output_type": "stream",
     "text": [
      "The price of the apple is 35.00 Dollars.\n"
     ]
    }
   ],
   "source": [
    "price = 35\n",
    "print(f'The price of the apple is {price:.2f} Dollars.')"
   ]
  },
  {
   "cell_type": "code",
   "execution_count": 54,
   "id": "6687caa6-5bc3-485a-bf90-fe5eb7d1583a",
   "metadata": {},
   "outputs": [
    {
     "name": "stdout",
     "output_type": "stream",
     "text": [
      "Price of 4 apples will be 140 Dollars.\n"
     ]
    }
   ],
   "source": [
    "print(f'Price of 4 apples will be {price * 4} Dollars.')"
   ]
  },
  {
   "cell_type": "code",
   "execution_count": 55,
   "id": "5251d4ce-0b9e-477c-9ee1-684999365d12",
   "metadata": {},
   "outputs": [
    {
     "data": {
      "text/plain": [
       "'We are the so-called \"Vikings\" from the north.'"
      ]
     },
     "execution_count": 55,
     "metadata": {},
     "output_type": "execute_result"
    }
   ],
   "source": [
    "txt = \"We are the so-called \\\"Vikings\\\" from the north.\"\n",
    "txt"
   ]
  },
  {
   "cell_type": "markdown",
   "id": "587fa05f-a4c4-4321-bfa9-2efd0c054ebf",
   "metadata": {},
   "source": [
    "### List of String Methods\n",
    "\n",
    "| Method         | Description                                                                 |\n",
    "|----------------|-----------------------------------------------------------------------------|\n",
    "| `capitalize()` | Converts the first character to upper case                                  |\n",
    "| `casefold()`   | Converts string into lower case                                              |\n",
    "| `center()`     | Returns a centered string                                                    |\n",
    "| `count()`      | Returns the number of times a specified value occurs in a string             |\n",
    "| `encode()`     | Returns an encoded version of the string                                     |\n",
    "| `endswith()`   | Returns true if the string ends with the specified value                     |\n",
    "| `expandtabs()` | Sets the tab size of the string                                              |\n",
    "| `find()`       | Searches the string for a specified value and returns its position           |\n",
    "| `format()`     | Formats specified values in a string                                         |\n",
    "| `format_map()` | Formats specified values in a string                                         |\n",
    "| `index()`      | Searches the string for a specified value and returns its position           |\n",
    "| `isalnum()`    | Returns True if all characters in the string are alphanumeric                |\n",
    "| `isalpha()`    | Returns True if all characters in the string are in the alphabet             |\n",
    "| `isascii()`    | Returns True if all characters in the string are ASCII characters            |\n",
    "| `isdecimal()`  | Returns True if all characters in the string are decimals                    |\n",
    "| `isdigit()`    | Returns True if all characters in the string are digits                      |\n",
    "| `isidentifier()` | Returns True if the string is a valid identifier                           |\n",
    "| `islower()`    | Returns True if all characters in the string are lower case                  |\n",
    "| `isnumeric()`  | Returns True if all characters in the string are numeric                     |\n",
    "| `isprintable()`| Returns True if all characters in the string are printable                   |\n",
    "| `isspace()`    | Returns True if all characters in the string are whitespaces                 |\n",
    "| `istitle()`    | Returns True if the string follows the rules of a title                      |\n",
    "| `isupper()`    | Returns True if all characters in the string are upper case                  |\n",
    "| `join()`       | Joins the elements of an iterable to the end of the string                   |\n",
    "| `ljust()`      | Returns a left justified version of the string                               |\n",
    "| `lower()`      | Converts a string into lower case                                            |\n",
    "| `lstrip()`     | Returns a left-trimmed version of the string                                 |\n",
    "| `maketrans()`  | Returns a translation table to be used in translations                       |\n",
    "| `partition()`  | Returns a tuple where the string is parted into three parts                  |\n",
    "| `replace()`    | Returns a string where a specified value is replaced                         |\n",
    "| `rfind()`      | Searches the string for a value and returns the last position                |\n",
    "| `rindex()`     | Searches the string for a value and returns the last position                |\n",
    "| `rjust()`      | Returns a right justified version of the string                              |\n",
    "| `rpartition()` | Returns a tuple where the string is parted into three parts                  |\n",
    "| `rsplit()`     | Splits the string at the specified separator and returns a list              |\n",
    "| `rstrip()`     | Returns a right-trimmed version of the string                                |\n",
    "| `split()`      | Splits the string at the specified separator and returns a list              |\n",
    "| `splitlines()` | Splits the string at line breaks and returns a list                          |\n",
    "| `startswith()` | Returns true if the string starts with the specified value                   |\n",
    "| `strip()`      | Returns a trimmed version of the string                                      |\n",
    "| `swapcase()`   | Swaps case: lower becomes upper and vice versa                               |\n",
    "| `title()`      | Converts the first character of each word to upper case                      |\n",
    "| `translate()`  | Returns a translated string                                                  |\n",
    "| `upper()`      | Converts a string into upper case                                            |\n",
    "| `zfill()`      | Fills the string with a specified number of 0 values at the beginning        |\n"
   ]
  },
  {
   "cell_type": "markdown",
   "id": "9ab9e1b5-d9a0-4217-8fd5-0f6832f8e1da",
   "metadata": {},
   "source": [
    "# Exam Questions on String"
   ]
  },
  {
   "cell_type": "code",
   "execution_count": 58,
   "id": "7470f64f-c1fc-4804-be61-4e76008ae44d",
   "metadata": {},
   "outputs": [
    {
     "data": {
      "text/plain": [
       "3"
      ]
     },
     "execution_count": 58,
     "metadata": {},
     "output_type": "execute_result"
    }
   ],
   "source": [
    "# Q. Write a Python program to count how many times the word \"apple\" appears in the string:\n",
    "text = \"apple banana apple orange apple\"\n",
    "\n",
    "# Answer :\n",
    "text.count('apple')"
   ]
  },
  {
   "cell_type": "code",
   "execution_count": 59,
   "id": "57c1b984-ee4d-45bc-a9c4-737422a9c11f",
   "metadata": {},
   "outputs": [
    {
     "data": {
      "text/plain": [
       "'hello'"
      ]
     },
     "execution_count": 59,
     "metadata": {},
     "output_type": "execute_result"
    }
   ],
   "source": [
    "# Q. Which method would you use to convert \"HELLO\" to \"hello\"?\n",
    "\n",
    "# Answer :\n",
    "'HELLO'.lower()"
   ]
  },
  {
   "cell_type": "code",
   "execution_count": 60,
   "id": "005786d1-6595-4b1b-af80-cb7805632212",
   "metadata": {},
   "outputs": [
    {
     "data": {
      "text/plain": [
       "['My', 'name', 'is', 'Partho']"
      ]
     },
     "execution_count": 60,
     "metadata": {},
     "output_type": "execute_result"
    }
   ],
   "source": [
    "# Q. Which string method splits a string into a list using a specified delimiter?\n",
    "text = 'My-name-is-Partho'\n",
    "\n",
    "# Answer :\n",
    "text.split('-')"
   ]
  },
  {
   "cell_type": "code",
   "execution_count": 61,
   "id": "ee1ba39a-afef-429e-9f9e-3b7ea26d891f",
   "metadata": {},
   "outputs": [
    {
     "data": {
      "text/plain": [
       "'Python-is-fun'"
      ]
     },
     "execution_count": 61,
     "metadata": {},
     "output_type": "execute_result"
    }
   ],
   "source": [
    "# Q. What will be the result of this code?\n",
    "\n",
    "\"-\".join([\"Python\", \"is\", \"fun\"])\n",
    "# Answer :\n",
    "\n",
    "\"Python-is-fun\""
   ]
  },
  {
   "cell_type": "code",
   "execution_count": 62,
   "id": "dd658885-56ca-4cc3-8561-7b7cb8a3274a",
   "metadata": {},
   "outputs": [
    {
     "name": "stdout",
     "output_type": "stream",
     "text": [
      "The index of the first occurrence of the word data is 17\n"
     ]
    }
   ],
   "source": [
    "# Q. Write code to find the index of the first occurrence of the word \"data\" in a string.\n",
    "\n",
    "text = 'ML needs lots of data. We need to collect this data from various sources.'\n",
    "# Answer :\n",
    "index = text.find('data')\n",
    "print(\"The index of the first occurrence of the word data is\", index )"
   ]
  },
  {
   "cell_type": "code",
   "execution_count": 63,
   "id": "2a32be86-6011-4b42-92ca-b487c8c1fe07",
   "metadata": {},
   "outputs": [
    {
     "data": {
      "text/plain": [
       "'       Python       '"
      ]
     },
     "execution_count": 63,
     "metadata": {},
     "output_type": "execute_result"
    }
   ],
   "source": [
    "# Q. How can you center the string \"Python\" in a 20-character-wide string?\n",
    "\n",
    "# Answer:\n",
    "text = 'Python'\n",
    "text.center(20)"
   ]
  },
  {
   "cell_type": "code",
   "execution_count": 64,
   "id": "cd3c4162-5b53-492a-8c8e-837776d3f89e",
   "metadata": {},
   "outputs": [
    {
     "data": {
      "text/plain": [
       "'*******Python*******'"
      ]
     },
     "execution_count": 64,
     "metadata": {},
     "output_type": "execute_result"
    }
   ],
   "source": [
    "# Answer:\n",
    "text = 'Python'\n",
    "text.center(20, '*')"
   ]
  },
  {
   "cell_type": "code",
   "execution_count": 65,
   "id": "4a3558f4-d276-4e93-84a3-40155e6c324d",
   "metadata": {},
   "outputs": [
    {
     "data": {
      "text/plain": [
       "'yrtnuoc'"
      ]
     },
     "execution_count": 65,
     "metadata": {},
     "output_type": "execute_result"
    }
   ],
   "source": [
    "# Q. Write a program to reverse a string using slicing.\n",
    "\n",
    "# Answer:\n",
    "text = 'country'\n",
    "text[::-1]"
   ]
  },
  {
   "cell_type": "code",
   "execution_count": 66,
   "id": "724c20f1-e5ab-413c-b3b1-78527c82b722",
   "metadata": {},
   "outputs": [
    {
     "data": {
      "text/plain": [
       "'1   2   3'"
      ]
     },
     "execution_count": 66,
     "metadata": {},
     "output_type": "execute_result"
    }
   ],
   "source": [
    "\"1\\t2\\t3\".expandtabs(4)\n"
   ]
  },
  {
   "cell_type": "code",
   "execution_count": 67,
   "id": "1baedff3-5887-4fa5-ba8e-be061f0b0bea",
   "metadata": {},
   "outputs": [
    {
     "data": {
      "text/plain": [
       "True"
      ]
     },
     "execution_count": 67,
     "metadata": {},
     "output_type": "execute_result"
    }
   ],
   "source": [
    "# Q. How would you check if a string only contains numeric characters?\n",
    "x = '12345'\n",
    "\n",
    "# Answer:\n",
    "x.isdigit()"
   ]
  },
  {
   "cell_type": "code",
   "execution_count": 68,
   "id": "2920795e-cf49-401f-9f7b-b402410a1b3a",
   "metadata": {},
   "outputs": [
    {
     "data": {
      "text/plain": [
       "'My_name_is_Partho.'"
      ]
     },
     "execution_count": 68,
     "metadata": {},
     "output_type": "execute_result"
    }
   ],
   "source": [
    "# Q. How can you replace all spaces in a string with underscores?\n",
    "text = 'My name is Partho.'\n",
    "\n",
    "# Answer:\n",
    "text.replace(' ','_')"
   ]
  },
  {
   "cell_type": "code",
   "execution_count": 69,
   "id": "9e5cdde9-286a-4217-b70f-215d22218824",
   "metadata": {},
   "outputs": [
    {
     "name": "stdout",
     "output_type": "stream",
     "text": [
      "***********Exam\n"
     ]
    }
   ],
   "source": [
    "# Q. Write code to right-justify the string \"Exam\" in a 15-character space using \"*\" as padding.\n",
    "\n",
    "text = \"Exam\"\n",
    "justified_text = text.rjust(15, \"*\")\n",
    "\n",
    "print(justified_text)"
   ]
  },
  {
   "cell_type": "code",
   "execution_count": 70,
   "id": "8945b0d0-1a5b-48da-bd89-20f4afd8e198",
   "metadata": {},
   "outputs": [
    {
     "name": "stdout",
     "output_type": "stream",
     "text": [
      "Number of vowels: 7\n"
     ]
    }
   ],
   "source": [
    "# Q. Write code that finds the number of vowels in a string.\n",
    "\n",
    "# Answer:\n",
    "text = 'Data Science is fun.'\n",
    "vowels = 'aeiouAEIOU'\n",
    "count = 0\n",
    "\n",
    "for char in text:\n",
    "    if char in vowels:\n",
    "        count += 1\n",
    "print('Number of vowels:', count)"
   ]
  },
  {
   "cell_type": "markdown",
   "id": "d1e846aa-aad9-49ca-a69c-5ad43a06f4e5",
   "metadata": {},
   "source": [
    "# Booleans  :   Booleans represent one of two values: True or False.\n"
   ]
  },
  {
   "cell_type": "code",
   "execution_count": 72,
   "id": "581bd064-bbab-4ab4-ab1e-2e830ff856f2",
   "metadata": {},
   "outputs": [
    {
     "name": "stdout",
     "output_type": "stream",
     "text": [
      "True\n",
      "False\n",
      "True\n"
     ]
    }
   ],
   "source": [
    "print(5>4)\n",
    "print(5<4)\n",
    "print(5==5)"
   ]
  },
  {
   "cell_type": "code",
   "execution_count": 73,
   "id": "59d35db2-cd52-438d-bbda-c1b2db8b89f2",
   "metadata": {},
   "outputs": [
    {
     "name": "stdout",
     "output_type": "stream",
     "text": [
      "True\n",
      "True\n",
      "True\n",
      "True\n",
      "True\n"
     ]
    }
   ],
   "source": [
    "# Most values are true\n",
    "\n",
    "print(bool('Hello'))\n",
    "print(bool(15))\n",
    "print(bool(['appel','banana']))\n",
    "print(bool((1,2,3)))\n",
    "print(bool({1,2,3}))"
   ]
  },
  {
   "cell_type": "code",
   "execution_count": 74,
   "id": "a4170a2d-6bdb-4f67-bde4-5079b31df027",
   "metadata": {},
   "outputs": [
    {
     "data": {
      "text/plain": [
       "(False, False, False, False, False, False, False)"
      ]
     },
     "execution_count": 74,
     "metadata": {},
     "output_type": "execute_result"
    }
   ],
   "source": [
    "# False values of bool\n",
    "# In fact, there are not many values that evaluate to False, except empty values, such as (), [], {}, \"\", the number 0, and the value None. \n",
    "# And of course the value False evaluates to False.\n",
    "\n",
    "\n",
    "bool(False), bool(()), bool([]), bool({}), bool(\"\"), bool(0), bool(None)"
   ]
  },
  {
   "cell_type": "code",
   "execution_count": 75,
   "id": "5de75bbc-e8e4-4ebd-9b29-7b517a0097fb",
   "metadata": {},
   "outputs": [
    {
     "name": "stdout",
     "output_type": "stream",
     "text": [
      "True\n"
     ]
    }
   ],
   "source": [
    "# Functions can Return a Boolean\n",
    "\n",
    "def myFunction() :\n",
    "  return True\n",
    "\n",
    "print(myFunction())"
   ]
  },
  {
   "cell_type": "code",
   "execution_count": 76,
   "id": "409e08fa-27ae-4bf8-9e79-993cb22d87eb",
   "metadata": {},
   "outputs": [
    {
     "name": "stdout",
     "output_type": "stream",
     "text": [
      "True\n"
     ]
    }
   ],
   "source": [
    "# Python also has many built-in functions that return a boolean value, like the isinstance() function, \n",
    "# which can be used to determine if an object is of a certain data type:\n",
    "\n",
    "x = 100\n",
    "print(isinstance(x, int))"
   ]
  },
  {
   "cell_type": "code",
   "execution_count": 77,
   "id": "1a120b95-77ed-43bd-b938-885341616675",
   "metadata": {},
   "outputs": [
    {
     "data": {
      "text/plain": [
       "False"
      ]
     },
     "execution_count": 77,
     "metadata": {},
     "output_type": "execute_result"
    }
   ],
   "source": [
    "bool(0)"
   ]
  },
  {
   "cell_type": "code",
   "execution_count": 78,
   "id": "f9392b5b-98c7-4f17-927e-d7a673fdf974",
   "metadata": {},
   "outputs": [
    {
     "data": {
      "text/plain": [
       "True"
      ]
     },
     "execution_count": 78,
     "metadata": {},
     "output_type": "execute_result"
    }
   ],
   "source": [
    "bool('false')"
   ]
  },
  {
   "cell_type": "markdown",
   "id": "339f3497-644e-4da8-9bca-1fe53565b02f",
   "metadata": {},
   "source": [
    "# Exam Questions on Boolean"
   ]
  },
  {
   "cell_type": "raw",
   "id": "73ccea92-ff32-47f4-b421-8187372a1833",
   "metadata": {},
   "source": [
    "Q1. What is the output of bool(0) \n",
    "\n",
    "Answer: False"
   ]
  },
  {
   "cell_type": "raw",
   "id": "fba715bc-7c00-4b19-a949-bcfde3bdb609",
   "metadata": {},
   "source": [
    "Q2. Which of the following values evaluates to True in Python?\n",
    "a) 0\n",
    "b) []\n",
    "c) \"False\"\n",
    "d) None\n",
    "\n",
    "Answer: (c)"
   ]
  },
  {
   "cell_type": "raw",
   "id": "2df63432-5acc-4062-a290-97abac01e147",
   "metadata": {},
   "source": [
    "Q3. What is the output of: \n",
    "True and False or True\n",
    "\n",
    "Answer: True"
   ]
  },
  {
   "cell_type": "raw",
   "id": "ba93a3ae-6cae-49d8-8b07-c87266eda558",
   "metadata": {},
   "source": [
    "Q4. Which Python keyword returns the opposite boolean value?\n",
    "a) flip\n",
    "b) reverse\n",
    "c) not\n",
    "d) invert\n",
    "\n",
    "Answer: (c)"
   ]
  },
  {
   "cell_type": "raw",
   "id": "1b855abd-86e4-4794-af86-7268cdcadbb0",
   "metadata": {},
   "source": [
    "Q5. Fill in the blank:\n",
    "bool(\"Data\") == ____\n",
    "\n",
    "Answer: True"
   ]
  },
  {
   "cell_type": "raw",
   "id": "6300d05f-3b96-4770-bc84-196930aabfb6",
   "metadata": {},
   "source": [
    "Q6. What will be the output:\n",
    "x = 10\n",
    "y = 5\n",
    "print(x > 5 and y < 3)\n",
    "\n",
    "Answer: False"
   ]
  },
  {
   "cell_type": "raw",
   "id": "307cc116-3451-4362-8971-d4651e05f99f",
   "metadata": {},
   "source": [
    "Q7. What will be the output?\n",
    "If data = {'a': 1, 'b': 0}, which condition will evaluate to False?\n",
    "a) data['a']\n",
    "b) bool(data['b'])\n",
    "c) not data['b']\n",
    "d) data['a'] > data['b']\n",
    "\n",
    "Answer: (b)"
   ]
  },
  {
   "cell_type": "raw",
   "id": "93d7a50a-14fa-4e3f-98f6-81ce5b9958ea",
   "metadata": {},
   "source": [
    "Q8. What will be the output?\n",
    "a = False\n",
    "b = True\n",
    "result = a or not b\n",
    "\n",
    "Answer: False"
   ]
  },
  {
   "cell_type": "raw",
   "id": "51aad193-83fa-4b61-a82d-bc0daba57e03",
   "metadata": {},
   "source": [
    "Q9. You have a DataFrame df with a column \"Age\". How do you filter rows where \"Age\" > 25?\n",
    "\n",
    "Answer: df['Age']>25"
   ]
  },
  {
   "cell_type": "raw",
   "id": "48fe45ff-7f84-4889-b4cf-607bb46be452",
   "metadata": {},
   "source": [
    "Q10. Given df['Gender'] == 'Male', how do you find rows where Gender is not 'Male'?\n",
    "\n",
    "Answer: df['Gender'] != 'Male'"
   ]
  },
  {
   "cell_type": "raw",
   "id": "3c94c2a3-012d-4f5b-854e-56306ae197b2",
   "metadata": {},
   "source": [
    "Q11. Which Pandas method returns a boolean Series for missing values?\n",
    "a) .isna()\n",
    "b) .notna()\n",
    "c) .dropna()\n",
    "d) .fillna()\n",
    "\n",
    "Answer: (a)"
   ]
  },
  {
   "cell_type": "raw",
   "id": "40707b1d-b700-434b-b895-84853dc01867",
   "metadata": {},
   "source": [
    "# Q12. In pandas, what does this return?\n",
    "\n",
    "(df['Salary'] > 50000) & (df['Experience'] > 5)\n",
    "\n",
    "Answer: It returns a Boolean Series of values True or False depending on the condition given."
   ]
  },
  {
   "cell_type": "raw",
   "id": "a7deade3-6f8f-4d3b-8ce1-48113daad135",
   "metadata": {},
   "source": [
    "Q13. What will be the result of:\n",
    "df[df['Income'].isna()]\n",
    "\n",
    "a) Rows where income is 0\n",
    "b) Rows where income is not available\n",
    "c) Rows where income is negative\n",
    "d) All rows\n",
    "\n",
    "Answer: (b)"
   ]
  },
  {
   "cell_type": "raw",
   "id": "c65f53f6-c014-48f3-aced-a71b432e5e9e",
   "metadata": {},
   "source": [
    "Q14. What will this print?\n",
    "a = [1, 2, 3]\n",
    "if a:\n",
    "    print(\"List is not empty\")\n",
    "else:\n",
    "    print(\"List is empty\")\n",
    "\n",
    "Answer: List is not empty"
   ]
  },
  {
   "cell_type": "raw",
   "id": "2f814424-48fe-4286-b6fd-28ca22e1aae0",
   "metadata": {},
   "source": [
    "Q15. Which is a correct way to check if x is between 10 and 20 inclusive?\n",
    "a) x > 10 and x < 20\n",
    "b) 10 <= x <= 20\n",
    "c) x in range(10, 20)\n",
    "d) x >= 10 or x <= 20\n",
    "\n",
    "Answer: (b)"
   ]
  },
  {
   "cell_type": "raw",
   "id": "3de56856-43f6-4e09-ba82-96aca5e1f217",
   "metadata": {},
   "source": [
    "Q16. Convert this logic into one line using a ternary conditional:\n",
    "\n",
    "if a > b:\n",
    "    result = True\n",
    "else:\n",
    "    result = False\n",
    "\n",
    "Answer: True if a>b else False"
   ]
  },
  {
   "cell_type": "raw",
   "id": "43f2e624-72da-42a0-a505-f68700fc8666",
   "metadata": {},
   "source": [
    "# Q17. What is returned by this function?\n",
    "\n",
    "def check_even(n):\n",
    "    return n % 2 == 0\n",
    "print(check_even(4))\n",
    "\n",
    "Answer: True"
   ]
  },
  {
   "cell_type": "code",
   "execution_count": 80,
   "id": "938be7c8-6a11-4340-99f3-aed860a784e8",
   "metadata": {},
   "outputs": [
    {
     "name": "stdout",
     "output_type": "stream",
     "text": [
      "True\n"
     ]
    }
   ],
   "source": [
    "# Q18. Write a Python function is_positive(num) that returns True if num is greater than 0, otherwise False.\n",
    "\n",
    "#Answer:\n",
    "def is_positive(num):\n",
    "    print(num>0) \n",
    "\n",
    "is_positive(4)"
   ]
  },
  {
   "cell_type": "code",
   "execution_count": 81,
   "id": "4ba9a1e9-88a3-47c0-a633-e7c51727627b",
   "metadata": {},
   "outputs": [
    {
     "data": {
      "text/plain": [
       "True"
      ]
     },
     "execution_count": 81,
     "metadata": {},
     "output_type": "execute_result"
    }
   ],
   "source": [
    "# Q19. How do you check if a string s is both alphabetic and not uppercase in one line?\n",
    "\n",
    "# Answer:\n",
    "s = 'asdf'\n",
    "s.isalpha() and not s.isupper()"
   ]
  },
  {
   "cell_type": "raw",
   "id": "2bd84321-2d5a-4b7c-a147-63dcf47138c6",
   "metadata": {},
   "source": [
    "Q20. You have a DataFrame df and want to check if all values in the column \"Passed\" are True. What should you write?\n",
    "a) df['Passed'].all()\n",
    "b) df['Passed'].any()\n",
    "c) all(df['Passed'] == True)\n",
    "d) Both a and c\n",
    "\n",
    "Answer:  (d)"
   ]
  },
  {
   "cell_type": "markdown",
   "id": "0b6169fc-f2c7-4319-b034-4458e75d6513",
   "metadata": {},
   "source": [
    "# The End"
   ]
  }
 ],
 "metadata": {
  "kernelspec": {
   "display_name": "Python [conda env:base] *",
   "language": "python",
   "name": "conda-base-py"
  },
  "language_info": {
   "codemirror_mode": {
    "name": "ipython",
    "version": 3
   },
   "file_extension": ".py",
   "mimetype": "text/x-python",
   "name": "python",
   "nbconvert_exporter": "python",
   "pygments_lexer": "ipython3",
   "version": "3.12.7"
  }
 },
 "nbformat": 4,
 "nbformat_minor": 5
}
