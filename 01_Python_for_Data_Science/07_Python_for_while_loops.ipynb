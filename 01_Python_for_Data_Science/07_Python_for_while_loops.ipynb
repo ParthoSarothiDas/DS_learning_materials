{
 "cells": [
  {
   "cell_type": "markdown",
   "id": "1d0022d1-6581-4ed9-a46a-fd1cfced18c9",
   "metadata": {},
   "source": [
    "#  Data Science Learning Journey  \n",
    "*Curiosity to Capability — One Notebook at a Time*\n",
    "\n",
    "---\n",
    "Compiled and authored by **Partho Sarothi Das**   \n",
    "\tDhaka, Bangladesh  \n",
    "\tBachelor's & Master's in Statistics  \n",
    "\tInvestment Banking Professional → Aspiring Data Scientist "
   ]
  },
  {
   "cell_type": "markdown",
   "id": "0e2901b9-8e56-412a-bc2a-7bdf297c905a",
   "metadata": {},
   "source": [
    "# Python Loops\n",
    "Python has two primitive loop commands:\n",
    "\n",
    "- while loops\n",
    "- for loops"
   ]
  },
  {
   "cell_type": "markdown",
   "id": "7911bf53-ad86-41f4-a28e-edda081aee91",
   "metadata": {},
   "source": [
    "# The while Loop"
   ]
  },
  {
   "cell_type": "code",
   "execution_count": 3,
   "id": "d93d41db-69fe-40e8-9f73-4f4824f24409",
   "metadata": {},
   "outputs": [
    {
     "name": "stdout",
     "output_type": "stream",
     "text": [
      "1\n",
      "2\n",
      "3\n",
      "4\n",
      "5\n"
     ]
    }
   ],
   "source": [
    "# With the while loop we can execute a set of statements as long as a condition is true.\n",
    "\n",
    "i = 1\n",
    "while i<6:\n",
    "    print(i)\n",
    "    i +=1"
   ]
  },
  {
   "cell_type": "code",
   "execution_count": 4,
   "id": "16617259-3494-4449-b8b0-c84265b0b901",
   "metadata": {},
   "outputs": [
    {
     "name": "stdout",
     "output_type": "stream",
     "text": [
      "1\n",
      "2\n",
      "3\n",
      "4\n"
     ]
    }
   ],
   "source": [
    "# The break Statement\n",
    "\n",
    "i = 1\n",
    "while i<10:\n",
    "    print(i)\n",
    "    if i == 4:\n",
    "        break\n",
    "    i +=1"
   ]
  },
  {
   "cell_type": "code",
   "execution_count": 5,
   "id": "8699979a-d994-4b83-98c9-0254873eb6dc",
   "metadata": {},
   "outputs": [
    {
     "name": "stdout",
     "output_type": "stream",
     "text": [
      "1\n",
      "2\n",
      "3\n",
      "5\n",
      "6\n",
      "7\n"
     ]
    }
   ],
   "source": [
    "# continue Statement ----> stop the current iteration, and continue with the next.\n",
    "\n",
    "i = 0\n",
    "while i<7:\n",
    "    i +=1\n",
    "    if i ==4:\n",
    "        continue\n",
    "    print(i)"
   ]
  },
  {
   "cell_type": "code",
   "execution_count": 6,
   "id": "b13f1cf7-de38-473b-9921-5f2675468566",
   "metadata": {},
   "outputs": [
    {
     "name": "stdout",
     "output_type": "stream",
     "text": [
      "1\n",
      "2\n",
      "3\n",
      "4\n",
      "Now i not less than 5\n"
     ]
    }
   ],
   "source": [
    "# else statement\n",
    "\n",
    "i = 1\n",
    "while i<5:\n",
    "    print(i)\n",
    "    i +=1\n",
    "else:\n",
    "    print('Now i not less than 5')"
   ]
  },
  {
   "cell_type": "markdown",
   "id": "71b309f2-256b-4b9a-a027-cf9254a3fa92",
   "metadata": {},
   "source": [
    "# For Loops"
   ]
  },
  {
   "cell_type": "code",
   "execution_count": 8,
   "id": "b912f314-694c-4135-a28b-fbe4e11f8883",
   "metadata": {},
   "outputs": [
    {
     "name": "stdout",
     "output_type": "stream",
     "text": [
      "denmark\n",
      "norway\n",
      "ireland\n"
     ]
    }
   ],
   "source": [
    "# A for loop is used for iterating over a sequence (that is either a list, a tuple, a dictionary, a set, or a string).\n",
    "\n",
    "countries = ['denmark', 'norway', 'ireland']\n",
    "\n",
    "for i in countries:\n",
    "    print(i)"
   ]
  },
  {
   "cell_type": "code",
   "execution_count": 9,
   "id": "5082c0a5-b2d0-43c9-9646-acb33fde49b2",
   "metadata": {},
   "outputs": [
    {
     "name": "stdout",
     "output_type": "stream",
     "text": [
      "d\n",
      "e\n",
      "n\n",
      "m\n",
      "a\n",
      "r\n",
      "k\n"
     ]
    }
   ],
   "source": [
    "# Looping through a string\n",
    "\n",
    "s = 'denmark'\n",
    "for i in s:\n",
    "    print(i)"
   ]
  },
  {
   "cell_type": "code",
   "execution_count": 10,
   "id": "64581ef3-fc66-4e77-a6d6-8f9f2e034a52",
   "metadata": {},
   "outputs": [
    {
     "name": "stdout",
     "output_type": "stream",
     "text": [
      "denmark\n",
      "norway\n"
     ]
    }
   ],
   "source": [
    "# break - statement\n",
    "\n",
    "countries = ['denmark', 'norway', 'ireland']\n",
    "for i in countries:\n",
    "    print(i)\n",
    "    if i == 'norway':\n",
    "        break"
   ]
  },
  {
   "cell_type": "code",
   "execution_count": 11,
   "id": "a9a6c896-d034-4978-8600-c126b161fc40",
   "metadata": {},
   "outputs": [
    {
     "name": "stdout",
     "output_type": "stream",
     "text": [
      "i\n",
      "l\n",
      "o\n",
      "v\n",
      "e\n",
      "d\n",
      "a\n",
      "t\n",
      "a\n",
      "s\n",
      "c\n",
      "i\n",
      "e\n",
      "n\n",
      "c\n",
      "e\n"
     ]
    }
   ],
   "source": [
    "# continue - statement\n",
    "\n",
    "s = 'i love data science'\n",
    "for x in s:\n",
    "    if x == ' ':\n",
    "        continue\n",
    "    print(x)"
   ]
  },
  {
   "cell_type": "code",
   "execution_count": 12,
   "id": "afd4e872-ae78-4d60-ab2d-f79547e7ec34",
   "metadata": {},
   "outputs": [
    {
     "name": "stdout",
     "output_type": "stream",
     "text": [
      "0\n",
      "1\n",
      "2\n",
      "3\n",
      "4\n"
     ]
    }
   ],
   "source": [
    "# range() - function\n",
    "\n",
    "for x in range(5):\n",
    "    print(x)"
   ]
  },
  {
   "cell_type": "code",
   "execution_count": 13,
   "id": "76ee28b6-1796-4a82-a3f3-45f029f2617c",
   "metadata": {},
   "outputs": [
    {
     "name": "stdout",
     "output_type": "stream",
     "text": [
      "100\n",
      "101\n",
      "102\n",
      "103\n",
      "104\n"
     ]
    }
   ],
   "source": [
    "# range() - with start parameter\n",
    "\n",
    "for x in range(100, 105):\n",
    "    print(x)"
   ]
  },
  {
   "cell_type": "code",
   "execution_count": 14,
   "id": "e806d0de-442c-4a94-9086-a24c18e72bc4",
   "metadata": {},
   "outputs": [
    {
     "name": "stdout",
     "output_type": "stream",
     "text": [
      "2\n",
      "4\n",
      "6\n",
      "8\n"
     ]
    }
   ],
   "source": [
    "# range() - with increment the sequence value\n",
    "\n",
    "for x in range(2,10,2):\n",
    "    print(x)"
   ]
  },
  {
   "cell_type": "code",
   "execution_count": 15,
   "id": "39708076-15ab-4473-bac5-c0ebd3cbec97",
   "metadata": {},
   "outputs": [
    {
     "name": "stdout",
     "output_type": "stream",
     "text": [
      "0\n",
      "1\n",
      "2\n",
      "3\n",
      "4\n",
      "5\n",
      "Count completed!\n"
     ]
    }
   ],
   "source": [
    "# for loop with else statment\n",
    "\n",
    "for x in range(6):\n",
    "    print(x)\n",
    "else:\n",
    "    print('Count completed!')"
   ]
  },
  {
   "cell_type": "code",
   "execution_count": 16,
   "id": "c98b6590-10b7-4663-8938-7e1507be2d6a",
   "metadata": {},
   "outputs": [
    {
     "name": "stdout",
     "output_type": "stream",
     "text": [
      "0\n",
      "1\n",
      "2\n"
     ]
    }
   ],
   "source": [
    "# Note: The else block will NOT be executed if the loop is stopped by a break statement.\n",
    "\n",
    "for x in range(6):\n",
    "  if x == 3: break\n",
    "  print(x)\n",
    "else:\n",
    "  print(\"Finally finished!\")"
   ]
  },
  {
   "cell_type": "code",
   "execution_count": 17,
   "id": "b7029a03-52ea-4f32-bec9-f127be5bc753",
   "metadata": {},
   "outputs": [
    {
     "name": "stdout",
     "output_type": "stream",
     "text": [
      "2 apple\n",
      "2 banana\n",
      "2 orange\n",
      "4 apple\n",
      "4 banana\n",
      "4 orange\n",
      "6 apple\n",
      "6 banana\n",
      "6 orange\n"
     ]
    }
   ],
   "source": [
    "# Nested Loops ----->  A nested loop is a loop inside a loop.\n",
    "# The \"inner loop\" will be executed one time for each iteration of the \"outer loop\":\n",
    "\n",
    "count = [2,4,6]\n",
    "fruits = ['apple','banana','orange']\n",
    "\n",
    "for x in count:\n",
    "    for y in fruits:\n",
    "        print(x,y)"
   ]
  },
  {
   "cell_type": "code",
   "execution_count": 18,
   "id": "45ddc453-b985-449b-b7ed-d30669d47ec4",
   "metadata": {},
   "outputs": [],
   "source": [
    "# pass Statement ---> for loops cannot be empty, but if needed ---> with no content, put in the pass statement to avoid getting an error.\n",
    "\n",
    "for x in [0, 1, 2]:\n",
    "  pass"
   ]
  },
  {
   "cell_type": "markdown",
   "id": "51d9b8e4-76d6-45de-914c-70667af632c8",
   "metadata": {},
   "source": [
    "# ✅ Section A: `while` Loop Questions (15)"
   ]
  },
  {
   "cell_type": "code",
   "execution_count": 20,
   "id": "b43309f5-5d6e-4dee-8d14-42eafc0b7de7",
   "metadata": {},
   "outputs": [
    {
     "name": "stdout",
     "output_type": "stream",
     "text": [
      "1\n",
      "2\n",
      "3\n",
      "4\n",
      "5\n",
      "6\n",
      "7\n",
      "8\n",
      "9\n",
      "10\n"
     ]
    }
   ],
   "source": [
    "# 1. Write a program to print numbers from 1 to 10 using a `while` loop.\n",
    "\n",
    "# Answer:\n",
    "i=1\n",
    "while i <11:\n",
    "    print(i)\n",
    "    i +=1"
   ]
  },
  {
   "cell_type": "code",
   "execution_count": 21,
   "id": "e8d4a204-164c-4ed3-97d5-dea0fe8418aa",
   "metadata": {},
   "outputs": [
    {
     "name": "stdout",
     "output_type": "stream",
     "text": [
      "2\n",
      "4\n",
      "6\n",
      "8\n",
      "10\n",
      "12\n",
      "14\n",
      "16\n",
      "18\n",
      "20\n"
     ]
    }
   ],
   "source": [
    "# 2. Write a program to print even numbers between 1 to 20 using a 'while' loop.\n",
    "\n",
    "# Answer:\n",
    "i = 1\n",
    "while i<21:\n",
    "    if i%2 == 0:\n",
    "        print(i)\n",
    "    i+=1"
   ]
  },
  {
   "cell_type": "code",
   "execution_count": 22,
   "id": "4fa51a10-5a14-495d-a4f6-c735656507ad",
   "metadata": {},
   "outputs": [
    {
     "name": "stdin",
     "output_type": "stream",
     "text": [
      "Please input a number: 322\n"
     ]
    },
    {
     "name": "stdout",
     "output_type": "stream",
     "text": [
      "52003\n"
     ]
    }
   ],
   "source": [
    "# 3. Write a program to print the sum of numbers from 1 to N using a `while` loop.\n",
    "\n",
    "# Answer:\n",
    "N = int(input('Please input a number:'))\n",
    "sum = 0\n",
    "i = 1\n",
    "while i <=N:\n",
    "    sum = sum+i\n",
    "    i +=1\n",
    "print(sum)"
   ]
  },
  {
   "cell_type": "code",
   "execution_count": 23,
   "id": "cbd178a0-ad7f-4bc8-9f2c-5193d0f830b3",
   "metadata": {},
   "outputs": [
    {
     "name": "stdin",
     "output_type": "stream",
     "text": [
      "Input a number: 2233\n"
     ]
    },
    {
     "name": "stdout",
     "output_type": "stream",
     "text": [
      "3322\n"
     ]
    }
   ],
   "source": [
    "# 4. Write a program to reverse a given number using a `while` loop. Example: input `1234` → output `4321`\n",
    "\n",
    "# Answer:\n",
    "num = int(input('Input a number:'))\n",
    "\n",
    "reversed_num = 0\n",
    "while num>0:\n",
    "    digit = num% 10\n",
    "    reversed_num = reversed_num *10 + digit\n",
    "    num = num//10\n",
    "print(reversed_num)"
   ]
  },
  {
   "cell_type": "code",
   "execution_count": 24,
   "id": "912ebc1b-d662-4471-870c-689bc02cb36b",
   "metadata": {},
   "outputs": [
    {
     "name": "stdin",
     "output_type": "stream",
     "text": [
      "Input a integer: 2222\n"
     ]
    },
    {
     "name": "stdout",
     "output_type": "stream",
     "text": [
      "4\n"
     ]
    }
   ],
   "source": [
    "# 5. Write a program to count the number of digits in an integer using a `while` loop.\n",
    "\n",
    "# Answer:\n",
    "num = int(input(\"Input a integer:\"))\n",
    "num = abs(num)\n",
    "\n",
    "if num == 0:\n",
    "    count = 1\n",
    "else:\n",
    "    count = 0\n",
    "    while num>0:\n",
    "        num = num//10\n",
    "        count+=1\n",
    "print(count)"
   ]
  },
  {
   "cell_type": "code",
   "execution_count": 25,
   "id": "d7a2c667-8436-41d5-b13a-1a8fb768eda8",
   "metadata": {},
   "outputs": [
    {
     "name": "stdin",
     "output_type": "stream",
     "text": [
      "Input a positive number: 322\n"
     ]
    },
    {
     "name": "stdout",
     "output_type": "stream",
     "text": [
      "322 * 1 =  322\n",
      "322 * 2 =  644\n",
      "322 * 3 =  966\n",
      "322 * 4 =  1288\n",
      "322 * 5 =  1610\n",
      "322 * 6 =  1932\n",
      "322 * 7 =  2254\n",
      "322 * 8 =  2576\n",
      "322 * 9 =  2898\n",
      "322 * 10 =  3220\n"
     ]
    }
   ],
   "source": [
    "# 6. Write a program to print the multiplication table of a given number using a `while` loop.\n",
    "\n",
    "# Answer:\n",
    "num = int(input('Input a positive number:'))\n",
    "i=1\n",
    "while i<=10:\n",
    "    print(f'{num} * {i} =  {num*i}')\n",
    "    i +=1"
   ]
  },
  {
   "cell_type": "code",
   "execution_count": 26,
   "id": "69a2c918-9199-46b0-b98b-d7c21fd8dcf0",
   "metadata": {},
   "outputs": [
    {
     "name": "stdout",
     "output_type": "stream",
     "text": [
      "15\n",
      "30\n",
      "45\n",
      "60\n",
      "75\n",
      "90\n"
     ]
    }
   ],
   "source": [
    "# 7. Write a program to print all numbers divisible by 3 and 5 between 1 and 100 using a `while` loop.\n",
    "\n",
    "# Answer:\n",
    "i = 1\n",
    "while i <=100:\n",
    "    if (i%3 == 0) and (i%5 == 0):\n",
    "        print(i)\n",
    "    i += 1"
   ]
  },
  {
   "cell_type": "code",
   "execution_count": 27,
   "id": "b9125bc3-0869-4741-8d5b-4e83883c5f3e",
   "metadata": {},
   "outputs": [
    {
     "name": "stdin",
     "output_type": "stream",
     "text": [
      "Input a number: 2\n"
     ]
    },
    {
     "name": "stdout",
     "output_type": "stream",
     "text": [
      "2\n"
     ]
    }
   ],
   "source": [
    "# 8. Write a program to calculate factorial of a given number using a `while` loop.\n",
    "\n",
    "# Answer:\n",
    "num = int(input('Input a number:'))\n",
    "i = 1\n",
    "factorial = 1\n",
    "while i<= num:\n",
    "    factorial = factorial*i\n",
    "    i +=1\n",
    "print(factorial)"
   ]
  },
  {
   "cell_type": "code",
   "execution_count": 28,
   "id": "0a2cc8c1-7bb4-42a8-8922-9217fde0f413",
   "metadata": {},
   "outputs": [
    {
     "name": "stdin",
     "output_type": "stream",
     "text": [
      "Input a number: 123\n"
     ]
    },
    {
     "name": "stdout",
     "output_type": "stream",
     "text": [
      "It is not a palindrome\n"
     ]
    }
   ],
   "source": [
    "# 9. Write a program to check if a number is a palindrome (remains the same when its digits are reversed) using a `while` loop. Example: 12321\n",
    "\n",
    "# Answer:\n",
    "num = int(input('Input a number:'))\n",
    "original_num = num\n",
    "\n",
    "reversed_num = 0\n",
    "i = 1\n",
    "while num > 0:\n",
    "    digit = num%10\n",
    "    reversed_num = reversed_num * 10 + digit\n",
    "    num = num//10\n",
    "if reversed_num == original_num:\n",
    "    print('It is a palindrome.')\n",
    "else:\n",
    "    print('It is not a palindrome')"
   ]
  },
  {
   "cell_type": "code",
   "execution_count": 29,
   "id": "0626d81b-aba5-4a3d-a97b-c927d8395363",
   "metadata": {},
   "outputs": [
    {
     "name": "stdin",
     "output_type": "stream",
     "text": [
      "Input a number: 4\n"
     ]
    },
    {
     "name": "stdout",
     "output_type": "stream",
     "text": [
      "0\n",
      "1\n",
      "1\n",
      "2\n"
     ]
    }
   ],
   "source": [
    "# 10. Write a program to print the Fibonacci sequence up to N terms using a `while` loop.\n",
    "\n",
    "# Answer:\n",
    "N = int(input('Input a number:'))\n",
    "x = 0\n",
    "y = 1\n",
    "i = 0\n",
    "while i< N:\n",
    "    print(x)\n",
    "    z = (x+y)\n",
    "    x = y\n",
    "    y = z\n",
    "    i +=1"
   ]
  },
  {
   "cell_type": "code",
   "execution_count": 30,
   "id": "ec470135-b480-452b-91b4-b33907f3fab6",
   "metadata": {},
   "outputs": [
    {
     "name": "stdin",
     "output_type": "stream",
     "text": [
      "Input a number: 34\n"
     ]
    },
    {
     "name": "stdout",
     "output_type": "stream",
     "text": [
      "Sum of the digits of the number is: 7\n"
     ]
    }
   ],
   "source": [
    "# 11. Write a program to find the sum of digits of a number using a `while` loop.\n",
    "\n",
    "# Answer:\n",
    "num = int(input('Input a number:'))\n",
    "sum = 0\n",
    "while num>0:\n",
    "    digit = num%10\n",
    "    sum = sum + digit\n",
    "    num = num//10\n",
    "print('Sum of the digits of the number is:',sum)"
   ]
  },
  {
   "cell_type": "code",
   "execution_count": 31,
   "id": "7956d51b-afd6-4424-b796-5051a61c69d4",
   "metadata": {},
   "outputs": [
    {
     "name": "stdin",
     "output_type": "stream",
     "text": [
      "Input anything: exit\n"
     ]
    }
   ],
   "source": [
    "# 12. Write a program to keep asking the user for input until they type `\"exit\"` (case-insensitive).\n",
    "\n",
    "# Answer:\n",
    "user_input = '0'\n",
    "while user_input.lower() != 'exit':\n",
    "    user_input = input('Input anything:')"
   ]
  },
  {
   "cell_type": "code",
   "execution_count": 32,
   "id": "c890e8ab-a531-4bf5-a7aa-1030b446d77e",
   "metadata": {},
   "outputs": [
    {
     "name": "stdout",
     "output_type": "stream",
     "text": [
      "1\n",
      "3\n",
      "5\n",
      "7\n",
      "9\n",
      "11\n",
      "13\n",
      "15\n",
      "17\n",
      "19\n",
      "21\n",
      "23\n",
      "25\n",
      "27\n",
      "29\n",
      "31\n",
      "33\n",
      "35\n",
      "37\n",
      "39\n",
      "41\n",
      "43\n",
      "45\n",
      "47\n",
      "49\n"
     ]
    }
   ],
   "source": [
    "# 13. Write a program using a `while` loop to print all the odd numbers between 1 and 50.\n",
    "\n",
    "# Answer:\n",
    "i = 1\n",
    "while i <=50:\n",
    "    if i%2 !=0:\n",
    "       print(i)\n",
    "    i += 1"
   ]
  },
  {
   "cell_type": "code",
   "execution_count": 33,
   "id": "089f15a8-110d-491c-8f07-81c4570c4384",
   "metadata": {},
   "outputs": [
    {
     "name": "stdin",
     "output_type": "stream",
     "text": [
      "Input a number: 56\n",
      "Which number [0-9] to count: 5\n"
     ]
    },
    {
     "name": "stdout",
     "output_type": "stream",
     "text": [
      "1\n"
     ]
    }
   ],
   "source": [
    "# 14. Write a program to count how many times a digit appears in a number using a `while` loop.\n",
    "\n",
    "# Answer:\n",
    "num = int(input('Input a number:'))\n",
    "num_to_count = int(input('Which number [0-9] to count:'))\n",
    "\n",
    "count = 0\n",
    "while num>0:\n",
    "    if num%10 == num_to_count:\n",
    "        count = count+1\n",
    "    num = num//10\n",
    "print(count)"
   ]
  },
  {
   "cell_type": "code",
   "execution_count": 34,
   "id": "3a6ae683-2c39-4206-9698-dd273c9cb331",
   "metadata": {},
   "outputs": [
    {
     "name": "stdin",
     "output_type": "stream",
     "text": [
      "Input a number: 89\n"
     ]
    },
    {
     "name": "stdout",
     "output_type": "stream",
     "text": [
      "This is a prime number.\n"
     ]
    }
   ],
   "source": [
    "# 15. Write a program to check if a number is prime using a `while` loop.\n",
    "\n",
    "# Answer:\n",
    "num = int(input('Input a number:'))\n",
    "\n",
    "if num <2:\n",
    "    print('This is not a prime number.')\n",
    "else:\n",
    "    i = 2\n",
    "    is_prime = True\n",
    "    while i*i <= num:\n",
    "        if num%i == 0:\n",
    "            is_prime = False\n",
    "            break\n",
    "        i += 1\n",
    "    if is_prime:\n",
    "        print('This is a prime number.')\n",
    "    else:\n",
    "        print('This is not a prime number.')\n",
    "    \n"
   ]
  },
  {
   "cell_type": "markdown",
   "id": "5309e0ed-bc41-4885-9276-41495dbdbd1f",
   "metadata": {},
   "source": [
    "# ✅ **Section B: `for` Loop Questions (15)**"
   ]
  },
  {
   "cell_type": "code",
   "execution_count": 36,
   "id": "513a1afe-7ed7-4a2a-b14a-d69e2602553b",
   "metadata": {},
   "outputs": [
    {
     "name": "stdout",
     "output_type": "stream",
     "text": [
      "1\n",
      "2\n",
      "3\n",
      "4\n",
      "5\n",
      "6\n",
      "7\n",
      "8\n",
      "9\n",
      "10\n"
     ]
    }
   ],
   "source": [
    "# 16. Write a program to print numbers from 1 to 10 using a `for` loop.\n",
    "\n",
    "# Answer:\n",
    "for i in range(1,11):\n",
    "    print(i)"
   ]
  },
  {
   "cell_type": "code",
   "execution_count": 37,
   "id": "f5665168-9786-47b4-929a-3b42e9ef8681",
   "metadata": {},
   "outputs": [
    {
     "name": "stdout",
     "output_type": "stream",
     "text": [
      "c\n",
      "u\n",
      "r\n",
      "i\n",
      "o\n",
      "s\n",
      "i\n",
      "t\n",
      "y\n",
      " \n",
      "t\n",
      "o\n",
      " \n",
      "l\n",
      "e\n",
      "a\n",
      "r\n",
      "n\n"
     ]
    }
   ],
   "source": [
    "# 17. Write a program to print **each character** in a given string using a `for` loop.\n",
    "\n",
    "# Answer:\n",
    "s = 'curiosity to learn'\n",
    "for i in s:\n",
    "    print(i)"
   ]
  },
  {
   "cell_type": "code",
   "execution_count": 38,
   "id": "e115bbdf-ec9f-44fd-a119-4a32df6c601b",
   "metadata": {},
   "outputs": [
    {
     "name": "stdout",
     "output_type": "stream",
     "text": [
      "1\n",
      "4\n",
      "9\n",
      "16\n",
      "25\n",
      "36\n",
      "49\n",
      "64\n",
      "81\n",
      "100\n"
     ]
    }
   ],
   "source": [
    "# 18. Write a program to print the **square of each number from 1 to 10** using a `for` loop.\n",
    "\n",
    "# Answer:\n",
    "for i in range (1,11):\n",
    "    print(i**2)"
   ]
  },
  {
   "cell_type": "code",
   "execution_count": 39,
   "id": "6865b8a6-1860-4c5d-9998-5fe714cddf24",
   "metadata": {},
   "outputs": [
    {
     "name": "stdout",
     "output_type": "stream",
     "text": [
      "*\n",
      "**\n",
      "***\n",
      "****\n",
      "*****\n"
     ]
    }
   ],
   "source": [
    "# 19. Write a program to print a **right-angle triangle pattern** of stars:\n",
    "\n",
    "\"\"\"\n",
    "*\n",
    "**\n",
    "***\n",
    "****\n",
    "\"\"\"\n",
    "\n",
    "# Answer:\n",
    "for i in range(1,6):\n",
    "    print(i*'*')\n"
   ]
  },
  {
   "cell_type": "code",
   "execution_count": 40,
   "id": "792e6a42-e7f6-4c71-a252-0e168c753231",
   "metadata": {},
   "outputs": [
    {
     "name": "stdout",
     "output_type": "stream",
     "text": [
      "1\n",
      "2\n",
      "3\n",
      "4\n"
     ]
    }
   ],
   "source": [
    "# 20. Write a program to **iterate through a list** and print each item.\n",
    "L = [1,2,3,4]\n",
    "\n",
    "# Answer:\n",
    "for i in L:\n",
    "    print(i)"
   ]
  },
  {
   "cell_type": "code",
   "execution_count": 41,
   "id": "26f4c20b-2750-43d7-a4cc-f44a94d59a32",
   "metadata": {},
   "outputs": [
    {
     "name": "stdout",
     "output_type": "stream",
     "text": [
      "15\n"
     ]
    }
   ],
   "source": [
    "# 21. Write a program to **find the sum of all elements** in a list using a `for` loop.\n",
    "L = [1,2,3,4,5]\n",
    "\n",
    "# Answer:\n",
    "sum = 0\n",
    "for i in L:\n",
    "    sum = sum+i\n",
    "print(sum)"
   ]
  },
  {
   "cell_type": "code",
   "execution_count": 42,
   "id": "0bde07d7-fc56-45f3-9826-f33124dcc5d6",
   "metadata": {},
   "outputs": [
    {
     "name": "stdout",
     "output_type": "stream",
     "text": [
      "78\n",
      "40\n",
      "90\n",
      "2\n"
     ]
    }
   ],
   "source": [
    "# 22. Write a program to **print all even numbers in a list** using a `for` loop.\n",
    "L = [78, 45, 40, 90, 2, 77]\n",
    "\n",
    "# Answer:\n",
    "for i in L:\n",
    "    if i%2 == 0:\n",
    "        print(i)"
   ]
  },
  {
   "cell_type": "code",
   "execution_count": 43,
   "id": "f7133207-2b94-4246-9e4c-db897a312697",
   "metadata": {},
   "outputs": [
    {
     "name": "stdin",
     "output_type": "stream",
     "text": [
      "Enter any number: 6\n"
     ]
    },
    {
     "name": "stdout",
     "output_type": "stream",
     "text": [
      "6 * 1 = 6\n",
      "6 * 2 = 12\n",
      "6 * 3 = 18\n",
      "6 * 4 = 24\n",
      "6 * 5 = 30\n",
      "6 * 6 = 36\n",
      "6 * 7 = 42\n",
      "6 * 8 = 48\n",
      "6 * 9 = 54\n",
      "6 * 10 = 60\n"
     ]
    }
   ],
   "source": [
    "# 23. Write a program to print the **multiplication table** of a number using a `for` loop.\n",
    "\n",
    "# Answer:\n",
    "num = int(input('Enter any number:'))\n",
    "\n",
    "for i in range (1,11):\n",
    "    print(f'{num} * {i} = {num*i}')"
   ]
  },
  {
   "cell_type": "code",
   "execution_count": 44,
   "id": "a599f98e-8994-4d43-8f89-7057cebd769b",
   "metadata": {},
   "outputs": [
    {
     "name": "stdout",
     "output_type": "stream",
     "text": [
      "10\n",
      "9\n",
      "8\n",
      "7\n",
      "6\n",
      "5\n",
      "4\n",
      "3\n",
      "2\n",
      "1\n"
     ]
    }
   ],
   "source": [
    "# 24. Write a program to print **numbers in reverse order from 10 to 1** using a `for` loop.\n",
    "\n",
    "# Answer:\n",
    "for i in range(10,0,-1):\n",
    "    print(i)"
   ]
  },
  {
   "cell_type": "code",
   "execution_count": 45,
   "id": "8f98f805-30bc-47c4-bd77-44313d0c7791",
   "metadata": {},
   "outputs": [
    {
     "name": "stdout",
     "output_type": "stream",
     "text": [
      "100\n"
     ]
    }
   ],
   "source": [
    "# 25. Write a program to **find the largest number** in a list using a `for` loop.\n",
    "L = [100, 40, 20, 1, 80, 40]\n",
    "\n",
    "# Answer:\n",
    "largest_number = L[0]\n",
    "for i in L:\n",
    "    if i > largest_number:\n",
    "        largest_number = i\n",
    "print(largest_number)"
   ]
  },
  {
   "cell_type": "code",
   "execution_count": 46,
   "id": "6bb2cd50-a2a1-4971-8b46-5a2611ffc16f",
   "metadata": {},
   "outputs": [
    {
     "name": "stdout",
     "output_type": "stream",
     "text": [
      "8\n"
     ]
    }
   ],
   "source": [
    "# 26. Write a program to **count the number of vowels** in a string using a `for` loop.\n",
    "s = 'I enjoy Data Science'\n",
    "\n",
    "# Answer:\n",
    "vowel = 'aeiouAEIOU'\n",
    "count = 0\n",
    "for char in s:\n",
    "    if char in vowel:\n",
    "        count +=1\n",
    "print(count)"
   ]
  },
  {
   "cell_type": "code",
   "execution_count": 47,
   "id": "4a8b76c6-bdfb-4e7a-b9b9-be1581a2a58f",
   "metadata": {},
   "outputs": [
    {
     "name": "stdout",
     "output_type": "stream",
     "text": [
      "[2, 4, 6]\n"
     ]
    }
   ],
   "source": [
    "# 27. Write a program to **remove all odd numbers** from a list using a `for` loop.\n",
    "L = [1,2,3,4,5,6,7]\n",
    "\n",
    "# Answer:\n",
    "new_list = []\n",
    "for i in L:\n",
    "    if i%2==0:\n",
    "        new_list.append(i)\n",
    "print(new_list)"
   ]
  },
  {
   "cell_type": "code",
   "execution_count": 17,
   "id": "ac6ffe08-5890-4477-9bc0-5b5fe07722e7",
   "metadata": {},
   "outputs": [
    {
     "name": "stdout",
     "output_type": "stream",
     "text": [
      "qweewq is a palindrome.\n"
     ]
    }
   ],
   "source": [
    "# 28. Write a program to **check if a word is a palindrome** using a `for` loop.\n",
    "\n",
    "# Answer:\n",
    "# word = input('Please enter a word:')\n",
    "word = 'qweewq'\n",
    "\n",
    "is_plindrome = True\n",
    "\n",
    "for i in range(len(word)//2):\n",
    "    if word[i] != word[-(i+1)]:\n",
    "        is_plindrome = False\n",
    "        break\n",
    "\n",
    "if is_plindrome:\n",
    "    print(f'{word} is a palindrome.')\n",
    "else:\n",
    "    print(f'{word} is not a palindrome')\n",
    "                                                                  "
   ]
  },
  {
   "cell_type": "code",
   "execution_count": 96,
   "id": "89e57593-8c1c-4e42-ad65-1a9e5a0ff7e4",
   "metadata": {},
   "outputs": [
    {
     "name": "stdout",
     "output_type": "stream",
     "text": [
      "1\n",
      "12\n",
      "123\n",
      "1234\n",
      "12345\n"
     ]
    }
   ],
   "source": [
    "# 29. Write a program to print a **pattern of numbers** using nested `for` loops:\n",
    "\n",
    "\"\"\"\n",
    "1\n",
    "12\n",
    "123\n",
    "1234\n",
    "\"\"\"\n",
    "# Answer:\n",
    "# rows = int(input('Input number of rows:'))\n",
    "rows = 5\n",
    "for i in range(1, rows+1):\n",
    "    for j in range(1, i+1):\n",
    "        print(j, end='')\n",
    "    print()"
   ]
  },
  {
   "cell_type": "code",
   "execution_count": 19,
   "id": "40c641fe-8931-4e65-8c63-67fc91e2f2eb",
   "metadata": {},
   "outputs": [
    {
     "name": "stdout",
     "output_type": "stream",
     "text": [
      "name : Partho\n",
      "age : 43\n",
      "course : Data Science\n",
      "country : Bangladesh\n"
     ]
    }
   ],
   "source": [
    "# 30. Write a program to **iterate over a dictionary** and print key-value pairs using a `for` loop.\n",
    "student = {\n",
    "    \"name\": \"Partho\",\n",
    "    \"age\": 43,\n",
    "    \"course\": \"Data Science\",\n",
    "    \"country\": \"Bangladesh\"\n",
    "}\n",
    "\n",
    "# Answer:\n",
    "for key, value in student.items():\n",
    "    print(f'{key} : {value}')"
   ]
  },
  {
   "cell_type": "code",
   "execution_count": 50,
   "id": "57b06e3e-b427-4443-accf-7ba412412633",
   "metadata": {},
   "outputs": [],
   "source": [
    "# 31. Write a program to **iterate over a dictionary** and print key-value pairs using a `for` loop.\n",
    "students = [\n",
    "    {\n",
    "        \"name\": \"Partho\",\n",
    "        \"age\": 43,\n",
    "        \"course\": \"Data Science\",\n",
    "        \"country\": \"Bangladesh\"\n",
    "    },\n",
    "    {\n",
    "        \"name\": \"Ayesha\",\n",
    "        \"age\": 25,\n",
    "        \"course\": \"Machine Learning\",\n",
    "        \"country\": \"India\"\n",
    "    },\n",
    "    {\n",
    "        \"name\": \"John\",\n",
    "        \"age\": 30,\n",
    "        \"course\": \"AI Engineering\",\n",
    "        \"country\": \"USA\"\n",
    "    },\n",
    "    {\n",
    "        \"name\": \"Fatima\",\n",
    "        \"age\": 28,\n",
    "        \"course\": \"Data Analytics\",\n",
    "        \"country\": \"Pakistan\"\n",
    "    }\n",
    "]"
   ]
  },
  {
   "cell_type": "code",
   "execution_count": 70,
   "id": "c450f822-071a-4b16-a962-1bd4b0aebad1",
   "metadata": {},
   "outputs": [
    {
     "name": "stdout",
     "output_type": "stream",
     "text": [
      "Student 1\n",
      "  name : Partho\n",
      "  age : 43\n",
      "  course : Data Science\n",
      "  country : Bangladesh\n",
      "\n",
      "Student 2\n",
      "  name : Ayesha\n",
      "  age : 25\n",
      "  course : Machine Learning\n",
      "  country : India\n",
      "\n",
      "Student 3\n",
      "  name : John\n",
      "  age : 30\n",
      "  course : AI Engineering\n",
      "  country : USA\n",
      "\n",
      "Student 4\n",
      "  name : Fatima\n",
      "  age : 28\n",
      "  course : Data Analytics\n",
      "  country : Pakistan\n",
      "\n"
     ]
    }
   ],
   "source": [
    "for i, student in enumerate(students, start=1):\n",
    "    print(f'Student {i}')\n",
    "    for key, value in student.items():\n",
    "        print(f'  {key} : {value}')\n",
    "    print()"
   ]
  },
  {
   "cell_type": "markdown",
   "id": "71482333-8bcd-40b8-bdd4-dcb9c616e80e",
   "metadata": {},
   "source": [
    "# ✅ **Advanced `while` Loop Questions**"
   ]
  },
  {
   "cell_type": "code",
   "execution_count": 1,
   "id": "e29c6b41-38a8-4b22-8848-c3a071c3c192",
   "metadata": {},
   "outputs": [
    {
     "name": "stdout",
     "output_type": "stream",
     "text": [
      "2 3 5 7 11 13 17 19 23 29 31 37 41 43 47 53 59 61 67 71 73 79 83 89 97 "
     ]
    }
   ],
   "source": [
    "# 1. **Print prime numbers between 1 and 100** using a `while` loop.\n",
    "\n",
    "# Answer:\n",
    "num = 2  # Start from the first prime number\n",
    "\n",
    "while num <= 100:\n",
    "    is_prime = True\n",
    "\n",
    "    # Check if num is divisible by any number from 2 to sqrt(num)\n",
    "    i = 2\n",
    "    while i * i <= num:\n",
    "        if num % i == 0:\n",
    "            is_prime = False\n",
    "            break\n",
    "        i += 1\n",
    "\n",
    "    if is_prime:\n",
    "        print(num, end=' ')\n",
    "    \n",
    "    num += 1"
   ]
  },
  {
   "cell_type": "code",
   "execution_count": null,
   "id": "000ddd94-7881-4dd2-b035-95366acd9163",
   "metadata": {},
   "outputs": [],
   "source": [
    "2. Write a program to **find all Armstrong numbers** between 100 and 999 using a `while` loop.\n",
    "   *Hint: 153 = 1³ + 5³ + 3³*\n",
    "\n",
    "3. **Implement a number guessing game** using `while` loop until the user guesses the correct number."
   ]
  },
  {
   "cell_type": "code",
   "execution_count": 78,
   "id": "e9d58473-937a-4be8-8b28-eb6cfcd1c335",
   "metadata": {},
   "outputs": [
    {
     "name": "stdin",
     "output_type": "stream",
     "text": [
      "Enter a number: 6\n",
      "Enter a number: 4\n",
      "Enter a number: 5\n",
      "Enter a number: 7\n",
      "Enter a number: -1\n",
      "Enter a number: 0\n"
     ]
    },
    {
     "name": "stdout",
     "output_type": "stream",
     "text": [
      "21\n"
     ]
    }
   ],
   "source": [
    "# 4. Write a program that **keeps asking for input and adds it to a total** until the user enters 0.\n",
    "\n",
    "# Answer:\n",
    "num = 1\n",
    "total = 0\n",
    "while num!= 0:\n",
    "    # num = int(input('Enter a number:'))\n",
    "    total = total + num\n",
    "print(total)"
   ]
  },
  {
   "cell_type": "code",
   "execution_count": 94,
   "id": "53741035-e356-42bb-b2d7-ed9e91552247",
   "metadata": {},
   "outputs": [
    {
     "name": "stdout",
     "output_type": "stream",
     "text": [
      "1: 40\n",
      "2: 20.0\n",
      "3: 10.0\n",
      "4: 5.0\n",
      "5: 16.0\n",
      "6: 8.0\n",
      "7: 4.0\n",
      "8: 2.0\n",
      "9: 1.0\n"
     ]
    }
   ],
   "source": [
    "# 5. Write a program to **generate the Collatz sequence** for a given number using `while` loop.\n",
    "\n",
    "# Answer:\n",
    "num = 13\n",
    "count = 0\n",
    "while num !=1:\n",
    "    if num%2 == 0:\n",
    "        num = num/2\n",
    "    else:\n",
    "        num = (num*3)+1\n",
    "    count +=1\n",
    "    print(f'{count}: {num}')"
   ]
  },
  {
   "cell_type": "code",
   "execution_count": null,
   "id": "78305add-d07d-404b-bbc2-0f782e7eb5b1",
   "metadata": {},
   "outputs": [],
   "source": [
    "6. Write a program to **check if a number is a strong number** using `while`.\n",
    "   *Hint: 145 → 1! + 4! + 5! = 145*"
   ]
  },
  {
   "cell_type": "code",
   "execution_count": 122,
   "id": "162f37fc-4c7f-43c6-ba79-360ddeaca4e5",
   "metadata": {},
   "outputs": [
    {
     "name": "stdin",
     "output_type": "stream",
     "text": [
      "Enter your name: ieua\n",
      "Enter your password: 1234\n"
     ]
    },
    {
     "name": "stdout",
     "output_type": "stream",
     "text": [
      "Incorrect name or password\n"
     ]
    }
   ],
   "source": [
    "# 7. Write a program to **simulate a basic ATM withdrawal system** with a balance and password check using `while`.\n",
    "\n",
    "# Answer:\n",
    "name = 'partho'\n",
    "password = '1234'\n",
    "balance = 10000\n",
    "\n",
    "u_name = input('Enter your name:')\n",
    "u_pass = input('Enter your password:')\n",
    "\n",
    "while (u_pass == password) and (name == u_name):\n",
    "    amount = int(input('withdrawal amount:'))\n",
    "    if amount<balance:\n",
    "        balance = balance - amount\n",
    "        print('Withdrawal successful.')\n",
    "        print('Your new balance is : ', balance)\n",
    "        break\n",
    "    else:\n",
    "        print('Insufficiant Fund.')\n",
    "        break\n",
    "else:\n",
    "    print('Incorrect name or password')"
   ]
  },
  {
   "cell_type": "code",
   "execution_count": null,
   "id": "b9d964be-a12f-4b62-910b-f552c1c51bc3",
   "metadata": {},
   "outputs": [],
   "source": [
    "# 8. Create a **menu-driven program** (Add, Subtract, Exit) using a `while` loop."
   ]
  },
  {
   "cell_type": "code",
   "execution_count": null,
   "id": "bdc99213-f33d-449c-a3f8-f42c8f7937eb",
   "metadata": {},
   "outputs": [],
   "source": [
    "# 9. Write a program to **convert a decimal number to binary** using `while` loop (without using bin())."
   ]
  },
  {
   "cell_type": "code",
   "execution_count": null,
   "id": "83b127a3-26f0-4290-9fb5-a52f721500b0",
   "metadata": {},
   "outputs": [],
   "source": [
    "# 10. Write a program to **remove repeated digits from a number** using a `while` loop.\n",
    "#     *Input: 122334 → Output: 1234*"
   ]
  },
  {
   "cell_type": "markdown",
   "id": "39fc6902-4285-4c01-a954-5a12762f0a14",
   "metadata": {},
   "source": [
    "# ✅ **Advanced `for` Loop Questions**"
   ]
  },
  {
   "cell_type": "code",
   "execution_count": 152,
   "id": "633c9919-707d-4eb7-a06f-e43eb614b005",
   "metadata": {},
   "outputs": [
    {
     "name": "stdout",
     "output_type": "stream",
     "text": [
      "         *\n",
      "        ***\n",
      "       *****\n",
      "      *******\n",
      "     *********\n",
      "    ***********\n",
      "   *************\n",
      "  ***************\n",
      " *****************\n",
      "*******************\n"
     ]
    }
   ],
   "source": [
    "# 11. Write a program to **generate a pyramid pattern** like:\n",
    "\n",
    "\"\"\"\n",
    "   *\n",
    "  ***\n",
    " *****\n",
    "*******\n",
    "\"\"\"\n",
    "# Answer:\n",
    "rows = 10\n",
    "i = 1\n",
    "\n",
    "while i <= rows:\n",
    "    # Calculate number of spaces and stars\n",
    "    spaces = rows - i\n",
    "    stars = 2 * i - 1\n",
    "    print(' ' * spaces + '*' * stars)\n",
    "    i += 1"
   ]
  },
  {
   "cell_type": "code",
   "execution_count": null,
   "id": "d3580032-fa5f-47b8-888f-8de42201007e",
   "metadata": {},
   "outputs": [],
   "source": [
    "# 12. Write a program to **count word frequency in a sentence** using `for` loop and dictionary."
   ]
  },
  {
   "cell_type": "code",
   "execution_count": null,
   "id": "4444d10c-8204-498f-af07-264af6ae1074",
   "metadata": {},
   "outputs": [],
   "source": [
    "# 13. Write a program to **find all palindromes** in a list of words using a `for` loop."
   ]
  },
  {
   "cell_type": "code",
   "execution_count": null,
   "id": "5f16865a-b268-408d-a761-fb36b08a7026",
   "metadata": {},
   "outputs": [],
   "source": [
    "# 14. Write a program to **transpose a matrix** using nested `for` loops."
   ]
  },
  {
   "cell_type": "code",
   "execution_count": null,
   "id": "099bd6cf-35a7-43d6-872c-23719760768a",
   "metadata": {},
   "outputs": [],
   "source": [
    "# 15. Write a program to **generate Pascal’s Triangle** up to N rows using nested `for` loops."
   ]
  },
  {
   "cell_type": "code",
   "execution_count": null,
   "id": "ee7ccc1a-ed02-4500-b2f7-f8e785672141",
   "metadata": {},
   "outputs": [],
   "source": [
    "# 16. Write a program to **iterate through two lists simultaneously** using `zip()` and a `for` loop."
   ]
  },
  {
   "cell_type": "code",
   "execution_count": null,
   "id": "3ac48198-726d-421c-aa9d-8f00a10e5f8b",
   "metadata": {},
   "outputs": [],
   "source": [
    "# 17. Write a program to **remove all duplicates from a list** without using `set()` — only `for` loop."
   ]
  },
  {
   "cell_type": "code",
   "execution_count": null,
   "id": "3af470b0-1d00-41ec-985e-80a1c361da3d",
   "metadata": {},
   "outputs": [],
   "source": [
    "# 18. Write a program to **check if a list is sorted in ascending order** using a `for` loop."
   ]
  },
  {
   "cell_type": "code",
   "execution_count": 3,
   "id": "53034fcf-bcce-4594-99e3-407a912a83a9",
   "metadata": {},
   "outputs": [
    {
     "data": {
      "text/plain": [
       "'\\n# # # #\\n # # # #\\n# # # #\\n # # # #\\n'"
      ]
     },
     "execution_count": 3,
     "metadata": {},
     "output_type": "execute_result"
    }
   ],
   "source": [
    "# 19. Write a program to **print a checkerboard pattern** using nested `for` loops:\n",
    "\n",
    "\"\"\"\n",
    "# # # #\n",
    " # # # #\n",
    "# # # #\n",
    " # # # #\n",
    "\"\"\""
   ]
  },
  {
   "cell_type": "code",
   "execution_count": null,
   "id": "537a926a-ac76-465e-ad9b-ec49db660589",
   "metadata": {},
   "outputs": [],
   "source": [
    "# 20. Write a program to **print the frequency of each character in a string**, ignoring case and spaces, using a `for` loop."
   ]
  }
 ],
 "metadata": {
  "kernelspec": {
   "display_name": "Python [conda env:base] *",
   "language": "python",
   "name": "conda-base-py"
  },
  "language_info": {
   "codemirror_mode": {
    "name": "ipython",
    "version": 3
   },
   "file_extension": ".py",
   "mimetype": "text/x-python",
   "name": "python",
   "nbconvert_exporter": "python",
   "pygments_lexer": "ipython3",
   "version": "3.12.7"
  }
 },
 "nbformat": 4,
 "nbformat_minor": 5
}
