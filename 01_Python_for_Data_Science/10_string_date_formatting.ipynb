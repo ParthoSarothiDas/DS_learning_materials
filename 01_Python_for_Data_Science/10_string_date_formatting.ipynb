{
 "cells": [
  {
   "cell_type": "markdown",
   "id": "c5c98165-c5dc-43a7-b86c-54fbe9fbaf45",
   "metadata": {},
   "source": [
    "#  Data Science Learning Journey  \n",
    "*Curiosity to Capability — One Notebook at a Time*\n",
    "\n",
    "---\n",
    "Compiled and authored by **Partho Sarothi Das**   \n",
    "\tDhaka, Bangladesh  \n",
    "\tBachelor's & Master's in Statistics  \n",
    "\tInvestment Banking Professional → Aspiring Data Scientist \n",
    "    \n",
    "---"
   ]
  },
  {
   "cell_type": "markdown",
   "id": "5b6ab66f-3e8c-4e0f-9f03-1b5f655e4326",
   "metadata": {},
   "source": [
    "- F-String was introduced in Python 3.6, and is now the preferred way of formatting strings.\n",
    "- Before Python 3.6 we had to use the format() method."
   ]
  },
  {
   "cell_type": "markdown",
   "id": "d8c24e95-39cc-4afe-bc03-f6c68b9133a2",
   "metadata": {},
   "source": [
    "# F - Strings"
   ]
  },
  {
   "cell_type": "code",
   "execution_count": 5,
   "id": "7012350a-c0a0-4eb2-a4c2-4a7140f19648",
   "metadata": {},
   "outputs": [
    {
     "name": "stdout",
     "output_type": "stream",
     "text": [
      "The price is 100 dollors.\n"
     ]
    }
   ],
   "source": [
    "# Placeholders and Modifiers\n",
    "# To format values in an f-string, add placeholders {}, a placeholder can contain variables, operations, functions, and modifiers to format the value.\n",
    "\n",
    "price = 100\n",
    "txt = f\"The price is {price} dollors.\"\n",
    "print(txt)"
   ]
  },
  {
   "cell_type": "code",
   "execution_count": 6,
   "id": "5d4f8d70-0d59-4772-b366-b4feea061210",
   "metadata": {},
   "outputs": [
    {
     "data": {
      "text/plain": [
       "'The price is 100.00 dollors.'"
      ]
     },
     "execution_count": 6,
     "metadata": {},
     "output_type": "execute_result"
    }
   ],
   "source": [
    "# Display the price with 2 decimals.\n",
    "\n",
    "price =100\n",
    "txt = f\"The price is {price:.2f} dollors.\"\n",
    "txt"
   ]
  },
  {
   "cell_type": "code",
   "execution_count": 7,
   "id": "8aaa8a14-63dc-4a23-b380-c924d141daa6",
   "metadata": {},
   "outputs": [
    {
     "data": {
      "text/plain": [
       "'The price is 50.00 dollars.'"
      ]
     },
     "execution_count": 7,
     "metadata": {},
     "output_type": "execute_result"
    }
   ],
   "source": [
    "# Display the value 50 with 2 decimals:\n",
    "\n",
    "txt = f\"The price is {50:.2f} dollars.\"\n",
    "txt"
   ]
  },
  {
   "cell_type": "code",
   "execution_count": 8,
   "id": "a855e644-d55b-42cc-8693-f9e994784a4e",
   "metadata": {},
   "outputs": [
    {
     "data": {
      "text/plain": [
       "'The price of 12 apples is 480 dollars.'"
      ]
     },
     "execution_count": 8,
     "metadata": {},
     "output_type": "execute_result"
    }
   ],
   "source": [
    "# Operations in F-strings\n",
    "\n",
    "txt = f\"The price of 12 apples is {12 * 40} dollars.\"\n",
    "txt"
   ]
  },
  {
   "cell_type": "code",
   "execution_count": 9,
   "id": "e6d4a46e-5bc7-4ddf-8210-9601d8598370",
   "metadata": {},
   "outputs": [
    {
     "data": {
      "text/plain": [
       "'The price is 1080.0 dollars.'"
      ]
     },
     "execution_count": 9,
     "metadata": {},
     "output_type": "execute_result"
    }
   ],
   "source": [
    "# Add taxes before displaying the price\n",
    "\n",
    "price = 900\n",
    "tax = 0.20\n",
    "txt = f\"The price is {price +(price*0.20)} dollars.\"\n",
    "txt"
   ]
  },
  {
   "cell_type": "code",
   "execution_count": 10,
   "id": "3dcfbc8c-1373-4111-a82b-f40315615132",
   "metadata": {},
   "outputs": [
    {
     "name": "stdout",
     "output_type": "stream",
     "text": [
      "It is very Cheap.\n"
     ]
    }
   ],
   "source": [
    "# if ... else ----> F-string\n",
    "\n",
    "price = 40\n",
    "txt = f\"It is very {'Expensive' if price>50 else \"Cheap\"}.\"\n",
    "print(txt)"
   ]
  },
  {
   "cell_type": "code",
   "execution_count": 11,
   "id": "168fe2e7-603f-4f8e-a009-103593be23aa",
   "metadata": {},
   "outputs": [
    {
     "data": {
      "text/plain": [
       "'I love APPLE'"
      ]
     },
     "execution_count": 11,
     "metadata": {},
     "output_type": "execute_result"
    }
   ],
   "source": [
    "# Functions ----> f-string\n",
    "\n",
    "fruit = \"apple\"\n",
    "txt = f\"I love {fruit.upper()}\"\n",
    "txt"
   ]
  },
  {
   "cell_type": "code",
   "execution_count": 12,
   "id": "2ed017ff-f664-4fab-8bd7-7df281ba9e6f",
   "metadata": {},
   "outputs": [
    {
     "data": {
      "text/plain": [
       "'The plane is flying at a 666.0 meter altitude.'"
      ]
     },
     "execution_count": 12,
     "metadata": {},
     "output_type": "execute_result"
    }
   ],
   "source": [
    "# User defined functions --------> f-string\n",
    "\n",
    "def converter(x):\n",
    "    return x * 0.333\n",
    "\n",
    "txt = f\"The plane is flying at a {converter(2000)} meter altitude.\"\n",
    "txt"
   ]
  },
  {
   "cell_type": "code",
   "execution_count": 13,
   "id": "9a573791-ebcd-49b8-9679-76bb2a61912d",
   "metadata": {},
   "outputs": [
    {
     "name": "stdout",
     "output_type": "stream",
     "text": [
      "The price is 59,000 dollars\n"
     ]
    }
   ],
   "source": [
    "# comma ----> thousand separator:\n",
    "\n",
    "price = 59000\n",
    "txt = f\"The price is {price:,} dollars\"\n",
    "print(txt)"
   ]
  },
  {
   "cell_type": "code",
   "execution_count": 14,
   "id": "5a365b9c-2faf-4814-8dad-a99c0e9df92f",
   "metadata": {},
   "outputs": [
    {
     "data": {
      "text/plain": [
       "'We have 40         apple.'"
      ]
     },
     "execution_count": 14,
     "metadata": {},
     "output_type": "execute_result"
    }
   ],
   "source": [
    "# :<   Left aligns the result (within the available space)\n",
    "\n",
    "txt = f\"We have {40:<10} apple.\"\n",
    "txt"
   ]
  },
  {
   "cell_type": "code",
   "execution_count": 15,
   "id": "d4a91496-8635-48c8-bb27-8626a069cbdb",
   "metadata": {},
   "outputs": [
    {
     "data": {
      "text/plain": [
       "'We have         40 apple.'"
      ]
     },
     "execution_count": 15,
     "metadata": {},
     "output_type": "execute_result"
    }
   ],
   "source": [
    "# :<   Right aligns the result (within the available space)\n",
    "\n",
    "txt = f\"We have {40:>10} apple.\"\n",
    "txt"
   ]
  },
  {
   "cell_type": "code",
   "execution_count": 16,
   "id": "4128c4c4-625a-45c9-96e1-d01fc12bc74a",
   "metadata": {},
   "outputs": [
    {
     "data": {
      "text/plain": [
       "'We have     40     apple.'"
      ]
     },
     "execution_count": 16,
     "metadata": {},
     "output_type": "execute_result"
    }
   ],
   "source": [
    "# :^ Centre alings the result\n",
    "\n",
    "txt = f\"We have {40:^ 10} apple.\"\n",
    "txt"
   ]
  },
  {
   "cell_type": "code",
   "execution_count": 17,
   "id": "fea9b62b-9ed3-47c1-b519-ed2f36343f75",
   "metadata": {},
   "outputs": [
    {
     "name": "stdout",
     "output_type": "stream",
     "text": [
      "We have 25.000000% apple.\n"
     ]
    },
    {
     "data": {
      "text/plain": [
       "'We have 25% apple.'"
      ]
     },
     "execution_count": 17,
     "metadata": {},
     "output_type": "execute_result"
    }
   ],
   "source": [
    "# :%    Percentage format\n",
    "\n",
    "txt = f\"We have {0.25:%} apple.\"\n",
    "print(txt)\n",
    "\n",
    "# .0%    without decimals\n",
    "\n",
    "txt1 = f\"We have {0.25:.0%} apple.\"\n",
    "txt1"
   ]
  },
  {
   "cell_type": "markdown",
   "id": "8faf7ff7-26b7-4a8a-8da1-c2c148100f34",
   "metadata": {},
   "source": [
    "# String format()\n",
    "\n",
    "- Before Python 3.6 we used the format() method to format strings.\n",
    "- The format() method can still be used, but f-strings are faster and the preferred way to format strings."
   ]
  },
  {
   "cell_type": "code",
   "execution_count": 19,
   "id": "8303f221-75e7-4047-b5db-756f3b3fe58c",
   "metadata": {},
   "outputs": [
    {
     "name": "stdout",
     "output_type": "stream",
     "text": [
      "The price is 49 dollars\n"
     ]
    }
   ],
   "source": [
    "price = 49\n",
    "txt = \"The price is {} dollars\"\n",
    "print(txt.format(price))"
   ]
  },
  {
   "cell_type": "code",
   "execution_count": 20,
   "id": "ae7eb8e5-a619-4a21-bc69-50f47bd9dc12",
   "metadata": {},
   "outputs": [
    {
     "data": {
      "text/plain": [
       "'The price is 49 dollars'"
      ]
     },
     "execution_count": 20,
     "metadata": {},
     "output_type": "execute_result"
    }
   ],
   "source": [
    "price = 49\n",
    "txt = \"The price is {} dollars\".format(price)\n",
    "txt"
   ]
  },
  {
   "cell_type": "code",
   "execution_count": 21,
   "id": "cffee28a-0a01-41c1-9b93-b0ad9ef192f9",
   "metadata": {},
   "outputs": [
    {
     "name": "stdout",
     "output_type": "stream",
     "text": [
      "I want 3 pieces of item number 567 for 49.00 dollars.\n"
     ]
    }
   ],
   "source": [
    "# Multiple values\n",
    "\n",
    "quantity = 3\n",
    "itemno = 567\n",
    "price = 49\n",
    "myorder = \"I want {} pieces of item number {} for {:.2f} dollars.\"\n",
    "print(myorder.format(quantity, itemno, price))"
   ]
  },
  {
   "cell_type": "code",
   "execution_count": 22,
   "id": "a9e42a48-81e7-4b1b-93ad-4e1476730f47",
   "metadata": {},
   "outputs": [
    {
     "name": "stdout",
     "output_type": "stream",
     "text": [
      "I want 3 pieces of item number 567 for 49.00 dollars.\n"
     ]
    }
   ],
   "source": [
    "# Using Index number\n",
    "\n",
    "quantity = 3\n",
    "itemno = 567\n",
    "price = 49\n",
    "myorder = \"I want {0} pieces of item number {1} for {2:.2f} dollars.\"\n",
    "print(myorder.format(quantity, itemno, price))"
   ]
  },
  {
   "cell_type": "code",
   "execution_count": 23,
   "id": "3657ca24-d0b1-4c54-b175-0ba2c0ddbaf3",
   "metadata": {},
   "outputs": [
    {
     "name": "stdout",
     "output_type": "stream",
     "text": [
      "His name is John. John is 36 years old.\n"
     ]
    }
   ],
   "source": [
    "# use same value more than once\n",
    "\n",
    "age = 36\n",
    "name = \"John\"\n",
    "txt = \"His name is {1}. {1} is {0} years old.\"\n",
    "print(txt.format(age, name))"
   ]
  },
  {
   "cell_type": "code",
   "execution_count": 24,
   "id": "3e30af4f-f8ff-487a-83e0-bfc202075609",
   "metadata": {},
   "outputs": [
    {
     "name": "stdout",
     "output_type": "stream",
     "text": [
      "I have a Ford, it is a Mustang.\n"
     ]
    }
   ],
   "source": [
    "# Named Indexes\n",
    "\n",
    "myorder = \"I have a {carname}, it is a {model}.\"\n",
    "print(myorder.format(carname = \"Ford\", model = \"Mustang\"))"
   ]
  },
  {
   "cell_type": "markdown",
   "id": "35e5a287-3058-4dc6-9b37-54d841afda3c",
   "metadata": {},
   "source": [
    "# Dates   \n",
    "- A date in Python is not a data type of its own, but we can import a module named datetime to work with dates as date objects."
   ]
  },
  {
   "cell_type": "code",
   "execution_count": 26,
   "id": "42555ae4-dd5c-46ad-84ef-7037b6a0d6fd",
   "metadata": {},
   "outputs": [
    {
     "name": "stdout",
     "output_type": "stream",
     "text": [
      "2025-07-05 01:33:40.965272\n"
     ]
    }
   ],
   "source": [
    "import datetime\n",
    "\n",
    "x = datetime.datetime.now()\n",
    "print(x)"
   ]
  },
  {
   "cell_type": "code",
   "execution_count": 27,
   "id": "a9c270fd-f088-4e60-953c-6b31f2c7a226",
   "metadata": {},
   "outputs": [
    {
     "name": "stdout",
     "output_type": "stream",
     "text": [
      "2020-05-17 00:00:00\n"
     ]
    }
   ],
   "source": [
    "\n",
    "\n",
    "x = datetime.datetime(2020, 5, 17)\n",
    "print(x)"
   ]
  },
  {
   "cell_type": "code",
   "execution_count": 28,
   "id": "a4bc1f9a-3e2c-4660-adf6-6fa39f4f855e",
   "metadata": {},
   "outputs": [
    {
     "name": "stdout",
     "output_type": "stream",
     "text": [
      "Sat\n",
      "Saturday\n"
     ]
    }
   ],
   "source": [
    "# %a , %A  ---- > Weekday \n",
    "\n",
    "x = datetime.datetime.now()\n",
    "print(x.strftime(\"%a\"))\n",
    "print(x.strftime(\"%A\"))"
   ]
  },
  {
   "cell_type": "code",
   "execution_count": 29,
   "id": "8a4a996f-721f-4871-a379-534acc78229e",
   "metadata": {},
   "outputs": [
    {
     "name": "stdout",
     "output_type": "stream",
     "text": [
      "Jul\n",
      "July\n"
     ]
    }
   ],
   "source": [
    "# %b, %B -------> Month name\n",
    "\n",
    "x = datetime.datetime.now()\n",
    "print(x.strftime(\"%b\"))\n",
    "print(x.strftime(\"%B\"))"
   ]
  },
  {
   "cell_type": "code",
   "execution_count": 30,
   "id": "67c3067b-5d92-4cb7-875e-b85053e6f582",
   "metadata": {},
   "outputs": [
    {
     "name": "stdout",
     "output_type": "stream",
     "text": [
      "25\n",
      "2025\n"
     ]
    }
   ],
   "source": [
    "# %y, %Y -------> Year\n",
    "\n",
    "x = datetime.datetime.now()\n",
    "print(x.strftime(\"%y\"))\n",
    "print(x.strftime(\"%Y\"))"
   ]
  },
  {
   "cell_type": "code",
   "execution_count": 31,
   "id": "8b465288-432e-4c78-be17-27d3c2ca834e",
   "metadata": {},
   "outputs": [
    {
     "name": "stdout",
     "output_type": "stream",
     "text": [
      "6\n"
     ]
    }
   ],
   "source": [
    "# %w\tWeekday as a number 0-6, 0 is Sunday\n",
    "\n",
    "x = datetime.datetime.now()\n",
    "print(x.strftime(\"%w\"))"
   ]
  },
  {
   "cell_type": "code",
   "execution_count": 32,
   "id": "22929acf-5994-4547-80db-c3253d6cc661",
   "metadata": {},
   "outputs": [
    {
     "name": "stdout",
     "output_type": "stream",
     "text": [
      "05\n"
     ]
    }
   ],
   "source": [
    "# %d\tDay of month as a number\n",
    "\n",
    "x = datetime.datetime.now()\n",
    "print(x.strftime(\"%d\"))"
   ]
  },
  {
   "cell_type": "code",
   "execution_count": 33,
   "id": "8c416251-c161-48d5-98fe-694fb34574b5",
   "metadata": {},
   "outputs": [
    {
     "name": "stdout",
     "output_type": "stream",
     "text": [
      "07\n"
     ]
    }
   ],
   "source": [
    "# %m\tMonth as a number\n",
    "\n",
    "x = datetime.datetime.now()\n",
    "print(x.strftime(\"%m\"))"
   ]
  },
  {
   "cell_type": "code",
   "execution_count": 34,
   "id": "7234110f-b3b4-42f1-adcd-ecb87689871a",
   "metadata": {},
   "outputs": [
    {
     "name": "stdout",
     "output_type": "stream",
     "text": [
      "01\n",
      "01\n"
     ]
    }
   ],
   "source": [
    "# %H, %I     Hour as a number\n",
    "\n",
    "x = datetime.datetime.now()\n",
    "print(x.strftime(\"%H\")) # 24 hour time\n",
    "print(x.strftime(\"%I\")) # 12 hour time"
   ]
  },
  {
   "cell_type": "code",
   "execution_count": 35,
   "id": "763c4338-9217-49e7-86bc-d569e5a1a2f7",
   "metadata": {},
   "outputs": [
    {
     "name": "stdout",
     "output_type": "stream",
     "text": [
      "AM\n"
     ]
    }
   ],
   "source": [
    "# %p\tAM/PM\n",
    "\n",
    "x = datetime.datetime.now()\n",
    "print(x.strftime(\"%p\"))"
   ]
  },
  {
   "cell_type": "code",
   "execution_count": 36,
   "id": "ea5a0097-a9d1-4e2f-a2c9-ff5ba37c23cf",
   "metadata": {},
   "outputs": [
    {
     "name": "stdout",
     "output_type": "stream",
     "text": [
      "33\n"
     ]
    }
   ],
   "source": [
    "# %M\tMinute 00-59\n",
    "\n",
    "print(x.strftime(\"%M\"))"
   ]
  },
  {
   "cell_type": "code",
   "execution_count": 37,
   "id": "d9b36214-2123-4cc6-a0d8-707797c9a895",
   "metadata": {},
   "outputs": [
    {
     "name": "stdout",
     "output_type": "stream",
     "text": [
      "41\n"
     ]
    }
   ],
   "source": [
    "# %S\tSecond 00-59\n",
    "\n",
    "print(x.strftime(\"%S\"))"
   ]
  },
  {
   "cell_type": "code",
   "execution_count": 38,
   "id": "5c6d0547-8fe8-40df-a605-ed248c034c46",
   "metadata": {},
   "outputs": [
    {
     "name": "stdout",
     "output_type": "stream",
     "text": [
      "037536\n"
     ]
    }
   ],
   "source": [
    "# %f\tMicrosecond 000000-999999\n",
    "\n",
    "print(x.strftime(\"%f\"))"
   ]
  },
  {
   "cell_type": "code",
   "execution_count": 39,
   "id": "d52b3aa5-8eed-4c89-af6e-ee72c1460d52",
   "metadata": {},
   "outputs": [
    {
     "name": "stdout",
     "output_type": "stream",
     "text": [
      "186\n"
     ]
    }
   ],
   "source": [
    "# %j\tDay number of year 001-366\n",
    "\n",
    "print(x.strftime(\"%j\"))"
   ]
  },
  {
   "cell_type": "code",
   "execution_count": 40,
   "id": "7f7db07c-297f-4f79-8bf4-55c451cd25d1",
   "metadata": {},
   "outputs": [
    {
     "name": "stdout",
     "output_type": "stream",
     "text": [
      "26\n"
     ]
    }
   ],
   "source": [
    "# %U\tWeek number of year, Sunday as the first day of week\n",
    "\n",
    "print(x.strftime(\"%U\"))"
   ]
  },
  {
   "cell_type": "code",
   "execution_count": 41,
   "id": "748ae3dd-3f0c-419d-a826-560946cb9571",
   "metadata": {},
   "outputs": [
    {
     "name": "stdout",
     "output_type": "stream",
     "text": [
      "26\n"
     ]
    }
   ],
   "source": [
    "# %W\tWeek number of year, Monday as the first day of week\n",
    "\n",
    "print(x.strftime(\"%W\"))"
   ]
  },
  {
   "cell_type": "code",
   "execution_count": 42,
   "id": "09dd8bf3-2c5a-4921-badf-4dcd2515ebe9",
   "metadata": {},
   "outputs": [],
   "source": [
    "# %z\tUTC offset\t+0100\t\n",
    "# %Z\tTimezone\tCST\t\n",
    "# %c\tLocal version of date and time\tMon Dec 31 17:41:00 2018\t\n",
    "# %C\tCentury\t20\t\n",
    "# %x\tLocal version of date\t12/31/18\t\n",
    "# %X\tLocal version of time\t17:41:00\t\n",
    "# %%\tA % character\t%\t\n",
    "# %G\tISO 8601 year\t2018\t\n",
    "# %u\tISO 8601 weekday (1-7)\t1\t\n",
    "# %V\tISO 8601 weeknumber (01-53)\t01\t"
   ]
  },
  {
   "cell_type": "markdown",
   "id": "521ab79c-7cdc-416c-ac33-20ed95bbaad8",
   "metadata": {},
   "source": [
    "# 🔹 Excercise: Basic String Formatting"
   ]
  },
  {
   "cell_type": "code",
   "execution_count": 44,
   "id": "9dea2f32-76e7-4be9-b79d-f948b621951e",
   "metadata": {},
   "outputs": [
    {
     "name": "stdout",
     "output_type": "stream",
     "text": [
      "The value upto 2 decimal is 3.14\n"
     ]
    }
   ],
   "source": [
    "# 1. Format the float `3.14159` to 2 decimal places using `format()`.\n",
    "\n",
    "# Answer:\n",
    "a = 3.14159\n",
    "print(\"The value upto 2 decimal is {:.2f}\".format(a))"
   ]
  },
  {
   "cell_type": "code",
   "execution_count": 45,
   "id": "67d17998-4a57-4c2e-8a87-a5f13719984f",
   "metadata": {},
   "outputs": [
    {
     "name": "stdout",
     "output_type": "stream",
     "text": [
      "5 digit number is 00042\n"
     ]
    }
   ],
   "source": [
    "# 2. Format the integer `42` with leading zeros to make it 5 digits long using an f-string.\n",
    "\n",
    "# Answer:\n",
    "num = 42\n",
    "print(f'5 digit number is {num:05}')"
   ]
  },
  {
   "cell_type": "code",
   "execution_count": 46,
   "id": "9a7cc6dc-b3eb-4596-bcda-23898845c7ce",
   "metadata": {},
   "outputs": [
    {
     "name": "stdout",
     "output_type": "stream",
     "text": [
      "Hello, Alice!\n"
     ]
    }
   ],
   "source": [
    "# 3. Given `name = \"Alice\"`, insert the name in the sentence: \"Hello, \\_\\_\\_!\" using f-string.\n",
    "name = 'Alice'\n",
    "\n",
    "# Answer:\n",
    "print(f'Hello, {name}!')"
   ]
  },
  {
   "cell_type": "code",
   "execution_count": 47,
   "id": "ec008206-1845-459d-93a6-936c71954ce1",
   "metadata": {},
   "outputs": [
    {
     "name": "stdout",
     "output_type": "stream",
     "text": [
      "Accuracy: 98.23%\n"
     ]
    }
   ],
   "source": [
    "# 4. Using `%` formatting, display `\"Accuracy: 98.23%\"` where `accuracy = 98.23456`.\n",
    "\n",
    "# Answer:\n",
    "accuracy = 98.23456\n",
    "print(f'Accuracy: {accuracy:.2f}%')"
   ]
  },
  {
   "cell_type": "code",
   "execution_count": 48,
   "id": "b493fac4-f57f-4943-8a4a-2aa35633525d",
   "metadata": {},
   "outputs": [
    {
     "name": "stdout",
     "output_type": "stream",
     "text": [
      "Pi is approximately 3.14\n"
     ]
    }
   ],
   "source": [
    "# 5. Print `\"Pi is approximately 3.14\"` using `round()` and f-string.\n",
    "\n",
    "# Answer:\n",
    "pi = 3.14159\n",
    "appro = round(pi,2)\n",
    "print(f\"Pi is approximately {appro}\")"
   ]
  },
  {
   "cell_type": "code",
   "execution_count": 49,
   "id": "f4005f44-3a6a-4b15-a115-67d4e6ee62b3",
   "metadata": {},
   "outputs": [
    {
     "name": "stdout",
     "output_type": "stream",
     "text": [
      "123.5\n"
     ]
    }
   ],
   "source": [
    "# 6. Given `x = 123.4567`, format it to show only one digit after the decimal using `format()`.\n",
    "x = 123.4567\n",
    "\n",
    "# Answer:\n",
    "print(\"{:.1f}\".format(x))"
   ]
  },
  {
   "cell_type": "code",
   "execution_count": 50,
   "id": "76665792-da65-4730-9af3-4c69a2983d5e",
   "metadata": {},
   "outputs": [
    {
     "name": "stdout",
     "output_type": "stream",
     "text": [
      "1,234\n"
     ]
    }
   ],
   "source": [
    "# 7. Convert an integer `x = 1234` into a formatted string with commas: `\"1,234\"` using f-string.\n",
    "x = 1234\n",
    "\n",
    "# Answer:\n",
    "print(f\"{x:,}\")\n"
   ]
  },
  {
   "cell_type": "code",
   "execution_count": 51,
   "id": "fd7af53f-2fdc-451e-8c6d-4bfb75b8209f",
   "metadata": {},
   "outputs": [
    {
     "name": "stdout",
     "output_type": "stream",
     "text": [
      "I love     Python\n"
     ]
    }
   ],
   "source": [
    "# 8. Right-align the string `\"Python\"` in a field of width 10 using `format()`.\n",
    "\n",
    "# Answer:\n",
    "txt = 'Python'\n",
    "print(\"I love {:>10}\".format(txt))"
   ]
  },
  {
   "cell_type": "code",
   "execution_count": 52,
   "id": "8803daf8-d171-40f0-94b2-297468c62e75",
   "metadata": {},
   "outputs": [
    {
     "name": "stdout",
     "output_type": "stream",
     "text": [
      "Data       Science\n"
     ]
    }
   ],
   "source": [
    "# 9. Left-align the string `\"Data\"` in a field of width 10 using f-string.\n",
    "\n",
    "# Answer:\n",
    "txt = 'Data'\n",
    "print(f'{txt:<10} Science')"
   ]
  },
  {
   "cell_type": "code",
   "execution_count": 53,
   "id": "863e39c2-f006-4efe-9cee-b88b7ce640ad",
   "metadata": {},
   "outputs": [
    {
     "name": "stdout",
     "output_type": "stream",
     "text": [
      "'  ML  '\n"
     ]
    }
   ],
   "source": [
    "# 10. Center the string `\"ML\"` in a field of width 6 using `.center()` method.\n",
    "\n",
    "# Answer:\n",
    "text = 'ML'\n",
    "centered = text.center(6)\n",
    "print(f\"'{centered}'\")"
   ]
  },
  {
   "cell_type": "markdown",
   "id": "ad885521-4c9d-42f1-9052-68dfb15c7f9b",
   "metadata": {},
   "source": [
    "# 🔹 Excercise: String Formatting with Dictionaries & Loops"
   ]
  },
  {
   "cell_type": "code",
   "execution_count": 55,
   "id": "5e344a5c-5ccb-4fc5-9751-15d33c828a6b",
   "metadata": {},
   "outputs": [
    {
     "data": {
      "text/plain": [
       "'Name: Partho, Age: 43'"
      ]
     },
     "execution_count": 55,
     "metadata": {},
     "output_type": "execute_result"
    }
   ],
   "source": [
    "# 11. Using a dictionary `d = {'name': 'Partho', 'age': 43}`, create the string: \"Name: Partho, Age: 43\".\n",
    "d = {'name': 'Partho', 'age': 43}\n",
    "\n",
    "# Answer:\n",
    "result = f\"Name: {d['name']}, Age: {d['age']}\"\n",
    "result"
   ]
  },
  {
   "cell_type": "code",
   "execution_count": 56,
   "id": "858145a6-2a52-46ca-8000-68324f5ee4bd",
   "metadata": {},
   "outputs": [
    {
     "name": "stdout",
     "output_type": "stream",
     "text": [
      "Name: Partho\n",
      "Age: 43\n",
      "Country: Bangladesh\n"
     ]
    }
   ],
   "source": [
    "# 12. Loop through a dictionary and print each key-value pair as `Key: Value` using string formatting.\n",
    "d = {'name': 'Partho', 'age': 43, 'country': 'Bangladesh'}\n",
    "\n",
    "# Answer:\n",
    "for key, value in d.items():\n",
    "    print(f\"{key.capitalize()}: {value}\")"
   ]
  },
  {
   "cell_type": "code",
   "execution_count": 57,
   "id": "50bab06c-aff0-4353-95e2-f45a9d26b51e",
   "metadata": {},
   "outputs": [
    {
     "name": "stdout",
     "output_type": "stream",
     "text": [
      "Name: Partho, Age: 43, Country: Bangladesh\n"
     ]
    }
   ],
   "source": [
    "# 13. Format a string using `.format(**dict)` where the dict contains multiple keys.\n",
    "\n",
    "# Answer:\n",
    "data = {'name': 'Partho', 'age': 43, 'country': 'Bangladesh'}\n",
    "formatted = \"Name: {name}, Age: {age}, Country: {country}\".format(**data)\n",
    "print(formatted)"
   ]
  },
  {
   "cell_type": "code",
   "execution_count": 58,
   "id": "5720025f-7508-410f-9624-83a19b01d9ea",
   "metadata": {},
   "outputs": [
    {
     "name": "stdout",
     "output_type": "stream",
     "text": [
      "|   Name   |  Score   |  Grade   |\n"
     ]
    }
   ],
   "source": [
    "# 14. Print a table header with `Name`, `Score`, and `Grade` aligned properly using f-string.\n",
    "\n",
    "# Answer:\n",
    "print(f\"|{'Name':^10}|{'Score':^10}|{'Grade':^10}|\")"
   ]
  },
  {
   "cell_type": "code",
   "execution_count": 59,
   "id": "b6f275e8-f61f-48ed-9f4b-07f09734a493",
   "metadata": {},
   "outputs": [
    {
     "name": "stdout",
     "output_type": "stream",
     "text": [
      "Alice      |  85.5 | B\n"
     ]
    }
   ],
   "source": [
    "# 15. Display a DataFrame-like row: `\"Alice | 85.5 | B\"` using alignment formatting in an f-string.\n",
    "\n",
    "# Answer:\n",
    "name = \"Alice\"\n",
    "score = 85.5\n",
    "grade = 'B'\n",
    "\n",
    "print(f\"{name:<10} | {score:^6.1f}|{grade:>2}\")"
   ]
  },
  {
   "cell_type": "markdown",
   "id": "6386abea-0c36-41b1-9e6a-4ffea425565f",
   "metadata": {},
   "source": [
    "# 🔹 Excercise: Scientific Notation, Percentages, and Number Formats"
   ]
  },
  {
   "cell_type": "code",
   "execution_count": 61,
   "id": "868c580a-32ef-4e40-b429-6fd02d704fea",
   "metadata": {},
   "outputs": [
    {
     "name": "stdout",
     "output_type": "stream",
     "text": [
      "85.7%\n"
     ]
    }
   ],
   "source": [
    "# 16. Format a number `0.8567` as a percentage with 1 decimal place: `\"85.7%\"`.\n",
    "num = 0.8567\n",
    "\n",
    "# Answer:\n",
    "print(f'{num:.1%}')"
   ]
  },
  {
   "cell_type": "code",
   "execution_count": 62,
   "id": "477d7815-c9e4-4da7-9cc8-c9ed4ba85049",
   "metadata": {},
   "outputs": [
    {
     "name": "stdout",
     "output_type": "stream",
     "text": [
      "1.23e+07\n"
     ]
    }
   ],
   "source": [
    "# 17. Format the number `12345678.9` in scientific notation using `format()`.\n",
    "\n",
    "number = 12345678.9\n",
    "formatted = format(number, \".2e\")\n",
    "print(formatted)"
   ]
  },
  {
   "cell_type": "code",
   "execution_count": 63,
   "id": "a598aa6b-8740-46cb-8df4-0e6d85d3ecc8",
   "metadata": {},
   "outputs": [
    {
     "name": "stdout",
     "output_type": "stream",
     "text": [
      "+123.46\n"
     ]
    }
   ],
   "source": [
    "# 18. Format the float `123.456` to always show the sign (e.g., `+123.46`).\n",
    "flo = 123.456\n",
    "\n",
    "# Answer:\n",
    "print(f'{flo:+.2f}')"
   ]
  },
  {
   "cell_type": "code",
   "execution_count": 64,
   "id": "9f57a73a-720b-49f6-b916-f9db2023bf2b",
   "metadata": {},
   "outputs": [
    {
     "name": "stdout",
     "output_type": "stream",
     "text": [
      "{'12,345.69'}\n"
     ]
    }
   ],
   "source": [
    "# 19. Format a number to show thousand separators and 2 decimal places: `12,345.68`.\n",
    "num = 12345.6876\n",
    "\n",
    "# Answer:\n",
    "print({f'{num:,.2f}'})"
   ]
  },
  {
   "cell_type": "code",
   "execution_count": 65,
   "id": "2cb0e0c1-c7f7-408c-b0c4-e4c1c88e6812",
   "metadata": {},
   "outputs": [
    {
     "name": "stdout",
     "output_type": "stream",
     "text": [
      "0.12346\n"
     ]
    }
   ],
   "source": [
    "# 20. Use string formatting to limit a float `0.123456789` to the first 5 significant digits.\n",
    "num = 0.123456789\n",
    "\n",
    "# Answer:\n",
    "print(f'{num:.5g}')"
   ]
  },
  {
   "cell_type": "markdown",
   "id": "d987bdfc-5eca-46ff-a3a0-3273b2bd7000",
   "metadata": {},
   "source": [
    "# 🔹 Excercise: Date & Time Formatting with `datetime`"
   ]
  },
  {
   "cell_type": "code",
   "execution_count": 67,
   "id": "c524d555-83fb-40a2-adf1-397413ce441f",
   "metadata": {},
   "outputs": [
    {
     "name": "stdout",
     "output_type": "stream",
     "text": [
      "2025-07-05\n"
     ]
    }
   ],
   "source": [
    "# 21. Format today's date as `2025-07-04` using `strftime()`.\n",
    "\n",
    "# Answer:\n",
    "from datetime import date\n",
    "\n",
    "today = date.today()\n",
    "formatted = today.strftime(\"%Y-%m-%d\")\n",
    "print(formatted)"
   ]
  },
  {
   "cell_type": "code",
   "execution_count": 68,
   "id": "85ea4d67-e0ce-4ba5-9072-9ab4e19f4ed9",
   "metadata": {},
   "outputs": [
    {
     "name": "stdout",
     "output_type": "stream",
     "text": [
      "01:33:41\n"
     ]
    }
   ],
   "source": [
    "# 22. Print current time in `HH:MM:SS` format using string formatting.\n",
    "\n",
    "# Answer:\n",
    "from datetime import datetime\n",
    "\n",
    "now = datetime.now()\n",
    "formatted_time = now.strftime(\"%H:%M:%S\")\n",
    "print(formatted_time)"
   ]
  },
  {
   "cell_type": "code",
   "execution_count": 69,
   "id": "d495079f-f432-4877-b781-4f01f56ce0c9",
   "metadata": {},
   "outputs": [
    {
     "name": "stdout",
     "output_type": "stream",
     "text": [
      "04 July, 2025\n"
     ]
    }
   ],
   "source": [
    "# 23. Given a datetime object, format it into: \"04 July, 2025\".\n",
    "\n",
    "# Answer:\n",
    "from datetime import datetime\n",
    "\n",
    "dt = datetime(2025, 7, 4)\n",
    "formatted = dt.strftime(\"%d %B, %Y\")\n",
    "print(formatted)"
   ]
  },
  {
   "cell_type": "code",
   "execution_count": 70,
   "id": "f75480d5-d868-4cf3-a06a-6a66679201c0",
   "metadata": {},
   "outputs": [
    {
     "name": "stdout",
     "output_type": "stream",
     "text": [
      "2025-07-04T14:30:45\n"
     ]
    }
   ],
   "source": [
    "# 24. Convert a datetime object into ISO 8601 format using `.isoformat()`.\n",
    "\n",
    "# Answer:\n",
    "from datetime import datetime\n",
    "\n",
    "dt = datetime(2025, 7, 4, 14, 30, 45)\n",
    "iso_format = dt.isoformat()\n",
    "print(iso_format)"
   ]
  },
  {
   "cell_type": "code",
   "execution_count": 71,
   "id": "2f480610-46b2-4d24-a11f-d18ec9f166cf",
   "metadata": {},
   "outputs": [
    {
     "name": "stdout",
     "output_type": "stream",
     "text": [
      "2025-07\n"
     ]
    }
   ],
   "source": [
    "# 25. Print only the year and month from a datetime: `\"2025-07\"`.\n",
    "\n",
    "# Answer:\n",
    "from datetime import datetime\n",
    "\n",
    "dt = datetime(2025, 7, 4)\n",
    "formatted = dt.strftime(\"%Y-%m\")\n",
    "print(formatted)"
   ]
  },
  {
   "cell_type": "markdown",
   "id": "1d140cbd-8229-4f4f-99c5-6aec2ad68171",
   "metadata": {},
   "source": [
    "# 🔹 Excercise: Real-World Data Science Use Cases"
   ]
  },
  {
   "cell_type": "code",
   "execution_count": 73,
   "id": "f574956b-8952-4ece-9622-fc8355f3788b",
   "metadata": {},
   "outputs": [
    {
     "name": "stdout",
     "output_type": "stream",
     "text": [
      "MOdel accuracy is 0.987\n"
     ]
    }
   ],
   "source": [
    "# 26. Display model accuracy with 3 decimal places in the sentence: `\"Model accuracy is 0.987\"`.\n",
    "accuracy = 0.987123\n",
    "\n",
    "# Answer:\n",
    "print(f'MOdel accuracy is {accuracy:.3f}')"
   ]
  },
  {
   "cell_type": "code",
   "execution_count": 74,
   "id": "8e89d3f5-f988-4366-87e4-14c1a1184bbf",
   "metadata": {},
   "outputs": [
    {
     "name": "stdout",
     "output_type": "stream",
     "text": [
      "            Predicted 0    Predicted 1    \n",
      "Actual 0    50             3              \n",
      "Actual 1    3              42             \n"
     ]
    }
   ],
   "source": [
    "# 27. Print a confusion matrix header row with proper column alignment using string formatting.\n",
    "\n",
    "# Answer:\n",
    "print(f\"{' ':<12}{'Predicted 0':<15}{'Predicted 1':<15}\")\n",
    "print(f\"{'Actual 0':<12}{50:<15}{3:<15}\")\n",
    "print(f\"{'Actual 1':<12}{3:<15}{42:<15}\")"
   ]
  },
  {
   "cell_type": "code",
   "execution_count": 75,
   "id": "365922c2-a851-4ab7-b8c8-56a51f36cecb",
   "metadata": {},
   "outputs": [
    {
     "name": "stdout",
     "output_type": "stream",
     "text": [
      "Feature: age | Mean: 29.54 | Std: 4.32\n"
     ]
    }
   ],
   "source": [
    "# 28. Generate a formatted report line: `\"Feature: age | Mean: 29.54 | Std: 4.32\"` using f-string.\n",
    "\n",
    "# Answer:\n",
    "feature = \"age\"\n",
    "mean = 29.54321\n",
    "std = 4.32109\n",
    "\n",
    "print(f\"Feature: {feature} | Mean: {mean:.2f} | Std: {std:.2f}\")"
   ]
  },
  {
   "cell_type": "code",
   "execution_count": 76,
   "id": "80488763-5a91-47f9-9648-be504384689b",
   "metadata": {},
   "outputs": [
    {
     "name": "stdout",
     "output_type": "stream",
     "text": [
      "age,income,score\n"
     ]
    }
   ],
   "source": [
    "# 29. Print the first 3 feature names from a list `features = ['age', 'income', 'score']` with commas.\n",
    "features = ['age', 'income', 'score']\n",
    "\n",
    "# Answer:\n",
    "print(f\"{features[0]},{features[1]},{features[2]}\")\n"
   ]
  },
  {
   "cell_type": "code",
   "execution_count": 77,
   "id": "40f662fd-a686-49d7-81f9-0d54a0ac1766",
   "metadata": {},
   "outputs": [
    {
     "name": "stdout",
     "output_type": "stream",
     "text": [
      "Data Shape: 1000 rows x 10 columns\n"
     ]
    }
   ],
   "source": [
    "# 30. Create a formatted string showing: `\"Data Shape: 1000 rows x 10 columns\"` using variables.\n",
    "\n",
    "# Answer:\n",
    "rows = 1000\n",
    "columns = 10\n",
    "print(f\"Data Shape: {rows} rows x {columns} columns\")"
   ]
  },
  {
   "cell_type": "markdown",
   "id": "db96eb57-6329-4835-9b08-c24f8d81f7fc",
   "metadata": {},
   "source": [
    "# The End"
   ]
  }
 ],
 "metadata": {
  "kernelspec": {
   "display_name": "Python [conda env:base] *",
   "language": "python",
   "name": "conda-base-py"
  },
  "language_info": {
   "codemirror_mode": {
    "name": "ipython",
    "version": 3
   },
   "file_extension": ".py",
   "mimetype": "text/x-python",
   "name": "python",
   "nbconvert_exporter": "python",
   "pygments_lexer": "ipython3",
   "version": "3.12.7"
  }
 },
 "nbformat": 4,
 "nbformat_minor": 5
}
