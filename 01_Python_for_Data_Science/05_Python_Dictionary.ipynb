{
 "cells": [
  {
   "cell_type": "markdown",
   "id": "ed2a574d-e95d-4c17-8833-76787f6c39fb",
   "metadata": {},
   "source": [
    "#  Data Science Learning Journey  \n",
    "*Curiosity to Capability — One Notebook at a Time*\n",
    "\n",
    "---\n",
    "Compiled and authored by **Partho Sarothi Das**   \n",
    "\tDhaka, Bangladesh  \n",
    "\tBachelor's & Master's in Statistics  \n",
    "\tInvestment Banking Professional → Aspiring Data Scientist "
   ]
  },
  {
   "cell_type": "markdown",
   "id": "bf80f444-b839-4b99-996d-cc40889dfa19",
   "metadata": {},
   "source": [
    "# Python Collections (Arrays)_4"
   ]
  },
  {
   "cell_type": "raw",
   "id": "40da55d5-f016-4ba9-a06b-93dbb234a6c5",
   "metadata": {},
   "source": [
    "There are four collection data types in the Python programming language:\n",
    "\n",
    "List is a collection which is ordered and changeable. Allows duplicate members.\n",
    "Tuple is a collection which is ordered and unchangeable. Allows duplicate members.\n",
    "Set is a collection which is unordered, unchangeable*, and unindexed. No duplicate members.\n",
    "Dictionary is a collection which is ordered** and changeable. No duplicate members."
   ]
  },
  {
   "cell_type": "markdown",
   "id": "f2d2e968-fb97-4e45-b0bd-0356a3b74a1a",
   "metadata": {},
   "source": [
    "# Dictionary\n",
    "\n",
    "Dictionary are used to store data values in **key:value** pairs.  \n",
    "Characteristics:\n",
    "- Mutable\n",
    "- Indexing has no meaning\n",
    "- key's can't be duplicated\n",
    "- Key's can't be mutable items"
   ]
  },
  {
   "cell_type": "code",
   "execution_count": 4,
   "id": "609f14ac-669d-4076-b886-26abf156aa94",
   "metadata": {},
   "outputs": [
    {
     "data": {
      "text/plain": [
       "{}"
      ]
     },
     "execution_count": 4,
     "metadata": {},
     "output_type": "execute_result"
    }
   ],
   "source": [
    "# Emply dictionary\n",
    "\n",
    "d = {}\n",
    "d"
   ]
  },
  {
   "cell_type": "code",
   "execution_count": 5,
   "id": "4e5bfaf9-1508-46ee-9c5d-1ce262edcb3c",
   "metadata": {},
   "outputs": [
    {
     "data": {
      "text/plain": [
       "{'name': 'partho', 'gender': 'male', 'city': 'dhaka'}"
      ]
     },
     "execution_count": 5,
     "metadata": {},
     "output_type": "execute_result"
    }
   ],
   "source": [
    "# 1 Dimensinal\n",
    "\n",
    "d1 = {'name':'partho', 'gender':'male', 'city':'dhaka'}\n",
    "d1"
   ]
  },
  {
   "cell_type": "code",
   "execution_count": 6,
   "id": "a41d48ae-51e0-4ace-b515-d9c278d1390f",
   "metadata": {},
   "outputs": [
    {
     "data": {
      "text/plain": [
       "{(1, 2, 3): 1, 'hello': 'world'}"
      ]
     },
     "execution_count": 6,
     "metadata": {},
     "output_type": "execute_result"
    }
   ],
   "source": [
    "# Mixed keys\n",
    "\n",
    "d2 = {(1,2,3):1, 'hello':'world'}\n",
    "d2"
   ]
  },
  {
   "cell_type": "code",
   "execution_count": 7,
   "id": "54d93ad4-e32b-4623-a61f-65707b8465dd",
   "metadata": {},
   "outputs": [
    {
     "data": {
      "text/plain": [
       "{'name': 'partho', 'age': 40, 3: 3}"
      ]
     },
     "execution_count": 7,
     "metadata": {},
     "output_type": "execute_result"
    }
   ],
   "source": [
    "d3 = dict([('name','partho'),('age',40),(3,3)])\n",
    "d3"
   ]
  },
  {
   "cell_type": "code",
   "execution_count": 8,
   "id": "65aed430-5759-4478-accd-9518962b2fbc",
   "metadata": {},
   "outputs": [
    {
     "data": {
      "text/plain": [
       "{'name': 'partho',\n",
       " 'college': 'central college',\n",
       " 'semester': 4,\n",
       " 'subject': {'ds': 90, 'math': 95, 'statistics': 80}}"
      ]
     },
     "execution_count": 8,
     "metadata": {},
     "output_type": "execute_result"
    }
   ],
   "source": [
    "# 2 Dimensional ----> JSON\n",
    "\n",
    "d = {\n",
    "    'name':'partho',\n",
    "    'college':'central college',\n",
    "    'semester':4,\n",
    "    'subject':{\n",
    "        'ds':90,\n",
    "        'math':95,\n",
    "        'statistics':80\n",
    "    }\n",
    "}\n",
    "d"
   ]
  },
  {
   "cell_type": "code",
   "execution_count": 9,
   "id": "0c0d7a11-7d5e-403d-95dd-aa73e75e934e",
   "metadata": {},
   "outputs": [
    {
     "data": {
      "text/plain": [
       "'partho'"
      ]
     },
     "execution_count": 9,
     "metadata": {},
     "output_type": "execute_result"
    }
   ],
   "source": [
    "d['name']"
   ]
  },
  {
   "cell_type": "code",
   "execution_count": 10,
   "id": "1f251c64-8dd8-4428-854b-474acdf1b271",
   "metadata": {},
   "outputs": [
    {
     "data": {
      "text/plain": [
       "95"
      ]
     },
     "execution_count": 10,
     "metadata": {},
     "output_type": "execute_result"
    }
   ],
   "source": [
    "d['subject']['math']"
   ]
  },
  {
   "cell_type": "code",
   "execution_count": 11,
   "id": "e651767f-341b-4f8d-bea1-ccbfd7490424",
   "metadata": {},
   "outputs": [
    {
     "data": {
      "text/plain": [
       "dict"
      ]
     },
     "execution_count": 11,
     "metadata": {},
     "output_type": "execute_result"
    }
   ],
   "source": [
    "# type()\n",
    "type(d)"
   ]
  },
  {
   "cell_type": "code",
   "execution_count": 12,
   "id": "4d64a0e9-df16-4dd1-948f-64b5d076a150",
   "metadata": {},
   "outputs": [
    {
     "name": "stdout",
     "output_type": "stream",
     "text": [
      "{'name': 'John', 'age': 36, 'country': 'Norway'}\n"
     ]
    }
   ],
   "source": [
    "# dict() Constructor\n",
    "\n",
    "d = dict(name = \"John\", age = 36, country = \"Norway\")\n",
    "print(d)"
   ]
  },
  {
   "cell_type": "markdown",
   "id": "587b486a-f550-441e-83f6-3a25dccaecee",
   "metadata": {},
   "source": [
    "# Access Dictionary Items"
   ]
  },
  {
   "cell_type": "code",
   "execution_count": 14,
   "id": "a477dcc4-5e2f-4289-b63a-c0eae73c0c5b",
   "metadata": {},
   "outputs": [
    {
     "data": {
      "text/plain": [
       "'Mustang'"
      ]
     },
     "execution_count": 14,
     "metadata": {},
     "output_type": "execute_result"
    }
   ],
   "source": [
    "car = {\n",
    "  \"brand\": \"Ford\",\n",
    "  \"model\": \"Mustang\",\n",
    "  \"year\": 1964\n",
    "}\n",
    "car[\"model\"]"
   ]
  },
  {
   "cell_type": "code",
   "execution_count": 15,
   "id": "11e18913-0bc2-4665-9016-743d504a2d50",
   "metadata": {},
   "outputs": [
    {
     "data": {
      "text/plain": [
       "90"
      ]
     },
     "execution_count": 15,
     "metadata": {},
     "output_type": "execute_result"
    }
   ],
   "source": [
    "d = {\n",
    "    'name':'partho',\n",
    "    'college':'central college',\n",
    "    'semester':4,\n",
    "    'subject':{\n",
    "        'ds':90,\n",
    "        'math':95,\n",
    "        'statistics':80\n",
    "    }\n",
    "}\n",
    "\n",
    "d['subject']['ds']"
   ]
  },
  {
   "cell_type": "code",
   "execution_count": 16,
   "id": "bfd00baa-9d7a-4eb3-ad09-db729bbd9356",
   "metadata": {},
   "outputs": [
    {
     "data": {
      "text/plain": [
       "1964"
      ]
     },
     "execution_count": 16,
     "metadata": {},
     "output_type": "execute_result"
    }
   ],
   "source": [
    "# get()\n",
    "\n",
    "car.get('year')"
   ]
  },
  {
   "cell_type": "code",
   "execution_count": 17,
   "id": "f3d57a36-c562-4035-a4d2-d8f3e7c01d73",
   "metadata": {},
   "outputs": [
    {
     "data": {
      "text/plain": [
       "dict_keys(['name', 'college', 'semester', 'subject'])"
      ]
     },
     "execution_count": 17,
     "metadata": {},
     "output_type": "execute_result"
    }
   ],
   "source": [
    "# keys() -----> list of all the keys in the dictionary.\n",
    "\n",
    "d.keys()"
   ]
  },
  {
   "cell_type": "code",
   "execution_count": 18,
   "id": "3db149dd-83bf-4e97-9ff6-6b98643bc544",
   "metadata": {},
   "outputs": [
    {
     "data": {
      "text/plain": [
       "dict_values(['partho', 'central college', 4, {'ds': 90, 'math': 95, 'statistics': 80}])"
      ]
     },
     "execution_count": 18,
     "metadata": {},
     "output_type": "execute_result"
    }
   ],
   "source": [
    "# values() -------->  list of all the values in the dictionary.\n",
    "d.values()"
   ]
  },
  {
   "cell_type": "code",
   "execution_count": 19,
   "id": "12c6f1b3-020d-41d4-8138-d74f82ca932a",
   "metadata": {},
   "outputs": [
    {
     "data": {
      "text/plain": [
       "dict_items([('brand', 'Ford'), ('model', 'Mustang'), ('year', 1964)])"
      ]
     },
     "execution_count": 19,
     "metadata": {},
     "output_type": "execute_result"
    }
   ],
   "source": [
    "# items() method will return each item in a dictionary, as tuples in a list.\n",
    "\n",
    "car = {\n",
    "\"brand\": \"Ford\",\n",
    "\"model\": \"Mustang\",\n",
    "\"year\": 1964\n",
    "}\n",
    "\n",
    "x = car.items()\n",
    "x"
   ]
  },
  {
   "cell_type": "code",
   "execution_count": 20,
   "id": "2b45e68c-4f98-4399-9099-cb92250dd017",
   "metadata": {},
   "outputs": [
    {
     "name": "stdout",
     "output_type": "stream",
     "text": [
      "Yes, 'model' is one of the keys in the thisdict dictionary.\n"
     ]
    }
   ],
   "source": [
    "# Check if Key Exists\n",
    "\n",
    "a = {\n",
    "  \"brand\": \"Ford\",\n",
    "  \"model\": \"Mustang\",\n",
    "  \"year\": 1964\n",
    "}\n",
    "if \"model\" in a:\n",
    "  print(\"Yes, 'model' is one of the keys in the thisdict dictionary.\")"
   ]
  },
  {
   "cell_type": "code",
   "execution_count": 21,
   "id": "7c5cfa91-50b4-4d23-b104-a6d050af692c",
   "metadata": {},
   "outputs": [
    {
     "data": {
      "text/plain": [
       "3"
      ]
     },
     "execution_count": 21,
     "metadata": {},
     "output_type": "execute_result"
    }
   ],
   "source": [
    "len(a)"
   ]
  },
  {
   "cell_type": "code",
   "execution_count": 22,
   "id": "5983f409-aa02-4f11-8edc-96327e34982f",
   "metadata": {},
   "outputs": [
    {
     "data": {
      "text/plain": [
       "['year', 'model', 'brand']"
      ]
     },
     "execution_count": 22,
     "metadata": {},
     "output_type": "execute_result"
    }
   ],
   "source": [
    "# sorted()\n",
    "\n",
    "sorted(a, reverse=True)"
   ]
  },
  {
   "cell_type": "markdown",
   "id": "4d1c2796-875b-4ea8-ac3d-cf3025ea7c0f",
   "metadata": {},
   "source": [
    "# Insert items"
   ]
  },
  {
   "cell_type": "code",
   "execution_count": 24,
   "id": "f6d0d720-eb69-4b8d-9d23-32bca217f785",
   "metadata": {},
   "outputs": [
    {
     "data": {
      "text/plain": [
       "{'name': 'partho',\n",
       " 'college': 'central college',\n",
       " 'semester': 4,\n",
       " 'subject': {'ds': 90, 'math': 95, 'statistics': 80, 'calculus': 80}}"
      ]
     },
     "execution_count": 24,
     "metadata": {},
     "output_type": "execute_result"
    }
   ],
   "source": [
    "# Add a new item to the original dictionary\n",
    "\n",
    "d = {\n",
    "    'name':'partho',\n",
    "    'college':'central college',\n",
    "    'semester':4,\n",
    "    'subject':{\n",
    "        'ds':90,\n",
    "        'math':95,\n",
    "        'statistics':80\n",
    "    }\n",
    "}\n",
    "\n",
    "d['subject']['calculus'] = 80\n",
    "d"
   ]
  },
  {
   "cell_type": "code",
   "execution_count": 25,
   "id": "3d006970-f458-4301-9269-1656d2f80072",
   "metadata": {},
   "outputs": [
    {
     "data": {
      "text/plain": [
       "{'name': 'partho',\n",
       " 'college': 'central college',\n",
       " 'semester': 4,\n",
       " 'subject': {'ds': 90, 'math': 95, 'statistics': 80, 'calculus': 80},\n",
       " 'session': 2026}"
      ]
     },
     "execution_count": 25,
     "metadata": {},
     "output_type": "execute_result"
    }
   ],
   "source": [
    "d['session'] = 2026\n",
    "d"
   ]
  },
  {
   "cell_type": "markdown",
   "id": "1aa21584-41b9-4fad-be9d-514af057f628",
   "metadata": {},
   "source": [
    "# Change Dictionary Items"
   ]
  },
  {
   "cell_type": "code",
   "execution_count": 27,
   "id": "890e8bbd-43c3-4a93-8d36-2b669c07355e",
   "metadata": {},
   "outputs": [
    {
     "data": {
      "text/plain": [
       "{'brand': 'Ford', 'model': 'Mustang', 'year': 2018}"
      ]
     },
     "execution_count": 27,
     "metadata": {},
     "output_type": "execute_result"
    }
   ],
   "source": [
    "# Change Values\n",
    "\n",
    "d = {\n",
    "  \"brand\": \"Ford\",\n",
    "  \"model\": \"Mustang\",\n",
    "  \"year\": 1964\n",
    "}\n",
    "d[\"year\"] = 2018\n",
    "d"
   ]
  },
  {
   "cell_type": "code",
   "execution_count": 28,
   "id": "e89cc7a3-f78c-4d25-a68f-e45c811e02ee",
   "metadata": {},
   "outputs": [
    {
     "data": {
      "text/plain": [
       "{'brand': 'Ford', 'model': 'Mustang', 'year': 1966}"
      ]
     },
     "execution_count": 28,
     "metadata": {},
     "output_type": "execute_result"
    }
   ],
   "source": [
    "# update() method will update the dictionary with the items from the given argument.\n",
    "\n",
    "d = {\n",
    "  \"brand\": \"Ford\",\n",
    "  \"model\": \"Mustang\",\n",
    "  \"year\": 1964\n",
    "}\n",
    "d.update({'year':1966})\n",
    "d"
   ]
  },
  {
   "cell_type": "markdown",
   "id": "27c2f8b7-7303-4d6e-9309-836e2ab48899",
   "metadata": {},
   "source": [
    "# Remove Dictionary Items"
   ]
  },
  {
   "cell_type": "code",
   "execution_count": 30,
   "id": "1955c735-9468-4e15-a707-4916ead7e094",
   "metadata": {},
   "outputs": [
    {
     "data": {
      "text/plain": [
       "{'brand': 'Ford', 'year': 1964}"
      ]
     },
     "execution_count": 30,
     "metadata": {},
     "output_type": "execute_result"
    }
   ],
   "source": [
    "# pop() ----> method removes the item with the specified key name\n",
    "\n",
    "d = {\n",
    "  \"brand\": \"Ford\",\n",
    "  \"model\": \"Mustang\",\n",
    "  \"year\": 1964\n",
    "}\n",
    "d.pop('model')\n",
    "d"
   ]
  },
  {
   "cell_type": "code",
   "execution_count": 31,
   "id": "65458d7a-1c65-4581-a9c3-d27f3862c07f",
   "metadata": {},
   "outputs": [
    {
     "data": {
      "text/plain": [
       "{'brand': 'Ford', 'model': 'Mustang'}"
      ]
     },
     "execution_count": 31,
     "metadata": {},
     "output_type": "execute_result"
    }
   ],
   "source": [
    "# popitem() -----> method removes the last inserted item\n",
    "\n",
    "d = {\n",
    "  \"brand\": \"Ford\",\n",
    "  \"model\": \"Mustang\",\n",
    "  \"year\": 1964\n",
    "}\n",
    "d.popitem()\n",
    "d"
   ]
  },
  {
   "cell_type": "code",
   "execution_count": 32,
   "id": "6abbab4a-5efc-403a-9953-43a2754f385f",
   "metadata": {},
   "outputs": [
    {
     "data": {
      "text/plain": [
       "{'brand': 'Ford', 'model': 'Mustang'}"
      ]
     },
     "execution_count": 32,
     "metadata": {},
     "output_type": "execute_result"
    }
   ],
   "source": [
    "# del keyword removes the item with the specified key name.\n",
    "\n",
    "d = {\n",
    "  \"brand\": \"Ford\",\n",
    "  \"model\": \"Mustang\",\n",
    "  \"year\": 1964\n",
    "}\n",
    "\n",
    "del d['year']\n",
    "d"
   ]
  },
  {
   "cell_type": "code",
   "execution_count": 33,
   "id": "e9b2f1c1-9029-4d72-88f1-443c78e08ca2",
   "metadata": {},
   "outputs": [],
   "source": [
    "# del\n",
    "\n",
    "d = {\n",
    "  \"brand\": \"Ford\",\n",
    "  \"model\": \"Mustang\",\n",
    "  \"year\": 1964\n",
    "}\n",
    "del d"
   ]
  },
  {
   "cell_type": "code",
   "execution_count": 34,
   "id": "d322b198-5641-486b-8c56-8e6bb7e00701",
   "metadata": {},
   "outputs": [
    {
     "data": {
      "text/plain": [
       "{}"
      ]
     },
     "execution_count": 34,
     "metadata": {},
     "output_type": "execute_result"
    }
   ],
   "source": [
    "# clear() method empties the dictionary\n",
    "\n",
    "d = {\n",
    "  \"brand\": \"Ford\",\n",
    "  \"model\": \"Mustang\",\n",
    "  \"year\": 1964\n",
    "}\n",
    "d.clear()\n",
    "d"
   ]
  },
  {
   "cell_type": "markdown",
   "id": "daf1763b-f7e4-4ae4-b898-e032c3e6e226",
   "metadata": {},
   "source": [
    "# Loop Dictionaries"
   ]
  },
  {
   "cell_type": "code",
   "execution_count": 36,
   "id": "d6c4c9a1-6a5b-4e97-9676-ee7e8588ce78",
   "metadata": {},
   "outputs": [
    {
     "name": "stdout",
     "output_type": "stream",
     "text": [
      "brand\n",
      "model\n",
      "year\n"
     ]
    }
   ],
   "source": [
    "# for loop ---->  all key names\n",
    "\n",
    "d = {\n",
    "  \"brand\": \"Ford\",\n",
    "  \"model\": \"Mustang\",\n",
    "  \"year\": 1964\n",
    "}\n",
    "\n",
    "for i in d:\n",
    "    print(i)"
   ]
  },
  {
   "cell_type": "code",
   "execution_count": 37,
   "id": "b1423cb1-e605-47db-9b01-60fc615d8ce4",
   "metadata": {},
   "outputs": [
    {
     "name": "stdout",
     "output_type": "stream",
     "text": [
      "Ford\n",
      "Mustang\n",
      "1964\n"
     ]
    }
   ],
   "source": [
    "# for loop ---->  all values\n",
    "\n",
    "d = {\n",
    "  \"brand\": \"Ford\",\n",
    "  \"model\": \"Mustang\",\n",
    "  \"year\": 1964\n",
    "}\n",
    "\n",
    "for i in d:\n",
    "    print(d[i])"
   ]
  },
  {
   "cell_type": "code",
   "execution_count": 38,
   "id": "c2ee1954-f116-41f9-9d18-6cee8215eab7",
   "metadata": {},
   "outputs": [
    {
     "name": "stdout",
     "output_type": "stream",
     "text": [
      "Ford\n",
      "Mustang\n",
      "1964\n"
     ]
    }
   ],
   "source": [
    "# for loop ---> values()\n",
    "\n",
    "d = {\n",
    "  \"brand\": \"Ford\",\n",
    "  \"model\": \"Mustang\",\n",
    "  \"year\": 1964\n",
    "}\n",
    "\n",
    "for i in d.values():\n",
    "    print(i)"
   ]
  },
  {
   "cell_type": "code",
   "execution_count": 39,
   "id": "0dd0ed1b-3521-4651-8de7-fbea0367f719",
   "metadata": {},
   "outputs": [
    {
     "name": "stdout",
     "output_type": "stream",
     "text": [
      "brand\n",
      "model\n",
      "year\n"
     ]
    }
   ],
   "source": [
    "# for loop ---> keys()\n",
    "\n",
    "d = {\n",
    "  \"brand\": \"Ford\",\n",
    "  \"model\": \"Mustang\",\n",
    "  \"year\": 1964\n",
    "}\n",
    "\n",
    "for i in d.keys():\n",
    "    print(i)"
   ]
  },
  {
   "cell_type": "code",
   "execution_count": 40,
   "id": "550996d6-6294-4b04-953e-7cb0fe9502d6",
   "metadata": {},
   "outputs": [
    {
     "name": "stdout",
     "output_type": "stream",
     "text": [
      "brand Ford\n",
      "model Mustang\n",
      "year 1964\n"
     ]
    }
   ],
   "source": [
    "# for loop ---> items()\n",
    "\n",
    "d = {\n",
    "  \"brand\": \"Ford\",\n",
    "  \"model\": \"Mustang\",\n",
    "  \"year\": 1964\n",
    "}\n",
    "\n",
    "for i, j in d.items():\n",
    "    print(i,j)"
   ]
  },
  {
   "cell_type": "markdown",
   "id": "8ff061e7-6032-4a54-8188-eb342a69e01a",
   "metadata": {},
   "source": [
    "# Copy Dictionaries"
   ]
  },
  {
   "cell_type": "code",
   "execution_count": 42,
   "id": "226c6e0f-3cf4-4bfe-aae1-c8a291787d05",
   "metadata": {},
   "outputs": [
    {
     "data": {
      "text/plain": [
       "{'brand': 'Ford', 'model': 'Mustang', 'year': 1964}"
      ]
     },
     "execution_count": 42,
     "metadata": {},
     "output_type": "execute_result"
    }
   ],
   "source": [
    "# Copy()\n",
    "\n",
    "d = {\n",
    "  \"brand\": \"Ford\",\n",
    "  \"model\": \"Mustang\",\n",
    "  \"year\": 1964\n",
    "}\n",
    "\n",
    "d1= d.copy()\n",
    "d1"
   ]
  },
  {
   "cell_type": "code",
   "execution_count": 43,
   "id": "c3f1bdb3-f514-4c68-b6de-d8ea26a3c379",
   "metadata": {},
   "outputs": [
    {
     "data": {
      "text/plain": [
       "{'brand': 'Ford', 'model': 'Mustang', 'year': 1964}"
      ]
     },
     "execution_count": 43,
     "metadata": {},
     "output_type": "execute_result"
    }
   ],
   "source": [
    "# dict()\n",
    "\n",
    "d = {\n",
    "  \"brand\": \"Ford\",\n",
    "  \"model\": \"Mustang\",\n",
    "  \"year\": 1964\n",
    "}\n",
    "d1 = dict(d)\n",
    "d1"
   ]
  },
  {
   "cell_type": "markdown",
   "id": "1f479905-1e1e-40f1-8067-7798386e5292",
   "metadata": {},
   "source": [
    "# Nested Dictionaries \n",
    "\n",
    "A dictionary can contain dictionaries, this is called nested dictionaries."
   ]
  },
  {
   "cell_type": "code",
   "execution_count": 45,
   "id": "b5c74cad-b82c-4e52-a1e3-f89959c9d8c8",
   "metadata": {},
   "outputs": [
    {
     "data": {
      "text/plain": [
       "{'person1': {'name': 'partho', 'age': 25},\n",
       " 'person2': {'name': 'abhik', 'age': 6},\n",
       " 'person3': {'name': 'sherena', 'age': 25}}"
      ]
     },
     "execution_count": 45,
     "metadata": {},
     "output_type": "execute_result"
    }
   ],
   "source": [
    "# Nested Dictionaries\n",
    "\n",
    "details={\n",
    "    'person1':{\n",
    "        'name':'partho',\n",
    "        'age':25\n",
    "    },\n",
    "    'person2':{\n",
    "        'name':'abhik',\n",
    "        'age': 6\n",
    "    },\n",
    "    'person3':{\n",
    "        'name':'sherena',\n",
    "        'age':25\n",
    "    }\n",
    "}\n",
    "details"
   ]
  },
  {
   "cell_type": "code",
   "execution_count": 46,
   "id": "907ec59c-d928-4e09-a231-849a0a65033a",
   "metadata": {},
   "outputs": [
    {
     "data": {
      "text/plain": [
       "{'person1': {'name': 'partho', 'age': 25},\n",
       " 'person2': {'name': 'abhik', 'age': 6},\n",
       " 'person3': {'name': 'sherena', 'age': 25}}"
      ]
     },
     "execution_count": 46,
     "metadata": {},
     "output_type": "execute_result"
    }
   ],
   "source": [
    "# Create three dictionaries, then create one dictionary that will contain the other three dictionaries:\n",
    "person1 ={\n",
    "        'name':'partho',\n",
    "        'age':25\n",
    "    }\n",
    "person2={\n",
    "        'name':'abhik',\n",
    "        'age': 6\n",
    "    }\n",
    "person3={\n",
    "        'name':'sherena',\n",
    "        'age':25\n",
    "    }\n",
    "\n",
    "\n",
    "myfamily={\n",
    "    'person1': person1,\n",
    "    'person2': person2,\n",
    "    'person3': person3 \n",
    "}\n",
    "myfamily"
   ]
  },
  {
   "cell_type": "code",
   "execution_count": 47,
   "id": "98e77979-ce79-4d15-a30b-fecd17c757b9",
   "metadata": {},
   "outputs": [
    {
     "name": "stdout",
     "output_type": "stream",
     "text": [
      "abhik\n",
      "25\n"
     ]
    }
   ],
   "source": [
    "# Access Items in Nested Dictionaries\n",
    "\n",
    "print(myfamily['person2']['name'])\n",
    "print(myfamily['person3']['age'])"
   ]
  },
  {
   "cell_type": "code",
   "execution_count": 48,
   "id": "5b4269e0-1f2a-4629-8613-bf0c125c460d",
   "metadata": {},
   "outputs": [
    {
     "name": "stdout",
     "output_type": "stream",
     "text": [
      "person1\n",
      "name: partho\n",
      "age: 25\n",
      "person2\n",
      "name: abhik\n",
      "age: 6\n",
      "person3\n",
      "name: sherena\n",
      "age: 25\n"
     ]
    }
   ],
   "source": [
    "# items() ---- Loop Through Nested Dictionaries\n",
    "\n",
    "for x, obj in myfamily.items():\n",
    "    print(x)\n",
    "\n",
    "    for y in obj:\n",
    "        print(y + ':', obj[y])"
   ]
  },
  {
   "cell_type": "markdown",
   "id": "5dad0a29-4ad8-491e-a515-f4508eb19528",
   "metadata": {},
   "source": [
    "# Dictionary Comprehension\n",
    "\n",
    "{key:value **for** vars **in** iterable}"
   ]
  },
  {
   "cell_type": "code",
   "execution_count": 50,
   "id": "0c8cd663-8afb-48d3-9f10-5a0dfe20ee10",
   "metadata": {},
   "outputs": [
    {
     "data": {
      "text/plain": [
       "{1: 1, 2: 4, 3: 9, 4: 16, 5: 25, 6: 36, 7: 49, 8: 64, 9: 81, 10: 100}"
      ]
     },
     "execution_count": 50,
     "metadata": {},
     "output_type": "execute_result"
    }
   ],
   "source": [
    "{i:i**2 for i in range(1,11)}"
   ]
  },
  {
   "cell_type": "code",
   "execution_count": 51,
   "id": "f59d1e43-f97d-4e9a-ae3d-2247d0e486d7",
   "metadata": {},
   "outputs": [
    {
     "data": {
      "text/plain": [
       "{'a': 200, 'b': 400, 'c': 600}"
      ]
     },
     "execution_count": 51,
     "metadata": {},
     "output_type": "execute_result"
    }
   ],
   "source": [
    "d = {'a':100, 'b':200, 'c':300}\n",
    "\n",
    "{key:value*2 for (key,value) in d.items()}"
   ]
  },
  {
   "cell_type": "code",
   "execution_count": 52,
   "id": "11d265b5-c873-4ca7-9a0a-99cecedcbfa1",
   "metadata": {},
   "outputs": [
    {
     "data": {
      "text/plain": [
       "{'sunday': 25,\n",
       " 'monday': 28,\n",
       " 'tuesday': 32,\n",
       " 'wednesday': 27,\n",
       " 'thuresday': 25,\n",
       " 'friday': 24,\n",
       " 'saturday': 29}"
      ]
     },
     "execution_count": 52,
     "metadata": {},
     "output_type": "execute_result"
    }
   ],
   "source": [
    "# zip()\n",
    "\n",
    "days = ['sunday','monday','tuesday','wednesday','thuresday','friday','saturday']\n",
    "temperature = [25,28,32,27,25,24,29]\n",
    "{i:j for (i,j) in zip(days, temperature)}"
   ]
  },
  {
   "cell_type": "markdown",
   "id": "648243f6-3dc9-4ac4-81f1-409993e7cd1a",
   "metadata": {},
   "source": [
    "# Questions"
   ]
  },
  {
   "cell_type": "markdown",
   "id": "b2ae61c1-f107-48c3-9e27-d1dd9c58b4f2",
   "metadata": {},
   "source": [
    "# 🔹 **Basic Level (1–10)**"
   ]
  },
  {
   "cell_type": "code",
   "execution_count": 55,
   "id": "0835e925-7dc9-4c62-81c6-43eff819b179",
   "metadata": {},
   "outputs": [],
   "source": [
    "# 1. What is a dictionary in Python? How is it different from a list?"
   ]
  },
  {
   "cell_type": "code",
   "execution_count": 56,
   "id": "edfa4bfc-d179-47b6-ace0-f9a6b2cfc07e",
   "metadata": {},
   "outputs": [
    {
     "data": {
      "text/plain": [
       "{'name': 'partho', 'age': 25, 'grade': 'A'}"
      ]
     },
     "execution_count": 56,
     "metadata": {},
     "output_type": "execute_result"
    }
   ],
   "source": [
    "# 2. Create a dictionary of a student with keys: `\"name\"`, `\"age\"`, `\"grade\"`.\n",
    "\n",
    "# Answer:\n",
    "d = {\n",
    "    'name': 'partho',\n",
    "    'age':25,\n",
    "    'grade': 'A'\n",
    "}\n",
    "d"
   ]
  },
  {
   "cell_type": "code",
   "execution_count": 57,
   "id": "9726acde-e27e-4d59-9cf3-5ffb9a4a6cc9",
   "metadata": {},
   "outputs": [
    {
     "data": {
      "text/plain": [
       "'partho'"
      ]
     },
     "execution_count": 57,
     "metadata": {},
     "output_type": "execute_result"
    }
   ],
   "source": [
    "# 3. How do you access the value associated with a key in a dictionary?\n",
    "\n",
    "# Answer:\n",
    "d = {\n",
    "    'name': 'partho',\n",
    "    'age':25,\n",
    "    'grade': 'A'\n",
    "}\n",
    "d['name']"
   ]
  },
  {
   "cell_type": "code",
   "execution_count": 58,
   "id": "8a5353ec-1239-4ad4-b248-f946e69d7fcc",
   "metadata": {},
   "outputs": [],
   "source": [
    "# 4. What happens if you access a key that doesn’t exist in a dictionary?\n",
    "\n",
    "# Answer: KeyError"
   ]
  },
  {
   "cell_type": "code",
   "execution_count": 59,
   "id": "aa97b873-9fc4-4d49-8396-f8748c22df62",
   "metadata": {},
   "outputs": [
    {
     "data": {
      "text/plain": [
       "{'name': 'partho', 'age': 27, 'grade': 'A'}"
      ]
     },
     "execution_count": 59,
     "metadata": {},
     "output_type": "execute_result"
    }
   ],
   "source": [
    "# 5. How do you update a dictionary value for a given key?\n",
    "\n",
    "# Answer:\n",
    "d = {\n",
    "    'name': 'partho',\n",
    "    'age':25,\n",
    "    'grade': 'A'\n",
    "}\n",
    "d['age'] = 27\n",
    "d"
   ]
  },
  {
   "cell_type": "code",
   "execution_count": 60,
   "id": "c947d353-e203-4c4d-88f6-febab589a11f",
   "metadata": {},
   "outputs": [
    {
     "data": {
      "text/plain": [
       "{'name': 'partho', 'age': 25, 'grade': 'A', 'marks': 85}"
      ]
     },
     "execution_count": 60,
     "metadata": {},
     "output_type": "execute_result"
    }
   ],
   "source": [
    "# 6. Add a new key-value pair to the dictionary: `marks: 85`.\n",
    "\n",
    "# Answer:\n",
    "d = {\n",
    "    'name': 'partho',\n",
    "    'age':25,\n",
    "    'grade': 'A'\n",
    "}\n",
    "\n",
    "d['marks'] = 85\n",
    "d"
   ]
  },
  {
   "cell_type": "code",
   "execution_count": 61,
   "id": "ed37b513-198f-4b06-a355-81b779e2e0e9",
   "metadata": {},
   "outputs": [
    {
     "data": {
      "text/plain": [
       "{'name': 'partho', 'age': 25}"
      ]
     },
     "execution_count": 61,
     "metadata": {},
     "output_type": "execute_result"
    }
   ],
   "source": [
    "# 7. Remove a key `\"grade\"` from the dictionary.\n",
    "\n",
    "# Answer:\n",
    "d = {\n",
    "    'name': 'partho',\n",
    "    'age':25,\n",
    "    'grade': 'A'\n",
    "}\n",
    "d.pop('grade')\n",
    "d"
   ]
  },
  {
   "cell_type": "code",
   "execution_count": 62,
   "id": "9898f0eb-e031-4adf-a370-eb86aa9061f7",
   "metadata": {},
   "outputs": [
    {
     "data": {
      "text/plain": [
       "dict_keys(['name', 'age', 'grade'])"
      ]
     },
     "execution_count": 62,
     "metadata": {},
     "output_type": "execute_result"
    }
   ],
   "source": [
    "# 8. Write a Python program to print all keys of a dictionary.\n",
    "\n",
    "# Answer:\n",
    "d = {\n",
    "    'name': 'partho',\n",
    "    'age':25,\n",
    "    'grade': 'A'\n",
    "}\n",
    "d.keys()"
   ]
  },
  {
   "cell_type": "code",
   "execution_count": 63,
   "id": "e3a0951c-fde2-4f42-9a7e-a47f819db5e1",
   "metadata": {},
   "outputs": [
    {
     "data": {
      "text/plain": [
       "dict_values(['partho', 25, 'A'])"
      ]
     },
     "execution_count": 63,
     "metadata": {},
     "output_type": "execute_result"
    }
   ],
   "source": [
    "# 9. Write a Python program to print all values of a dictionary.\n",
    "\n",
    "# Answer:\n",
    "d = {\n",
    "    'name': 'partho',\n",
    "    'age':25,\n",
    "    'grade': 'A'\n",
    "}\n",
    "d.values()"
   ]
  },
  {
   "cell_type": "code",
   "execution_count": 64,
   "id": "7a8ff46b-26b5-4f3a-994a-409ce4d86e5f",
   "metadata": {},
   "outputs": [
    {
     "data": {
      "text/plain": [
       "True"
      ]
     },
     "execution_count": 64,
     "metadata": {},
     "output_type": "execute_result"
    }
   ],
   "source": [
    "# 10. Use `in` to check if the key `\"name\"` exists in the dictionary.\n",
    "\n",
    "# Answer:\n",
    "d = {\n",
    "    'name': 'partho',\n",
    "    'age':25,\n",
    "    'grade': 'A'\n",
    "}\n",
    "'name' in d"
   ]
  },
  {
   "cell_type": "markdown",
   "id": "cd85320d-27db-4589-b046-e5d89dac7f15",
   "metadata": {},
   "source": [
    "# 🔹 **Intermediate Level (11–20)**"
   ]
  },
  {
   "cell_type": "code",
   "execution_count": 66,
   "id": "2087ab20-3497-481a-8ea3-ff505284a36b",
   "metadata": {},
   "outputs": [
    {
     "name": "stdout",
     "output_type": "stream",
     "text": [
      "name partho\n",
      "age 25\n",
      "grade A\n"
     ]
    }
   ],
   "source": [
    "# 11. Loop through a dictionary and print key-value pairs.\n",
    "\n",
    "# Answer:\n",
    "d = {\n",
    "    'name': 'partho',\n",
    "    'age':25,\n",
    "    'grade': 'A'\n",
    "}\n",
    "for i, j in d.items():\n",
    "    print(i,j)"
   ]
  },
  {
   "cell_type": "code",
   "execution_count": 67,
   "id": "1e9618e7-d82e-4642-8c08-c1a02d562169",
   "metadata": {},
   "outputs": [
    {
     "data": {
      "text/plain": [
       "{'a': 4, 'b': 6}"
      ]
     },
     "execution_count": 67,
     "metadata": {},
     "output_type": "execute_result"
    }
   ],
   "source": [
    "# 12. Write a dictionary comprehension to square all values in \n",
    "d = {'a': 2, 'b': 3}\n",
    "\n",
    "# Answer\n",
    "{i:j*2 for i,j in d.items()}"
   ]
  },
  {
   "cell_type": "code",
   "execution_count": 68,
   "id": "98944d71-e995-421d-b5ae-7c71ce7fabe5",
   "metadata": {},
   "outputs": [
    {
     "data": {
      "text/plain": [
       "{'a': 2, 'b': 3, 'c': 4, 'd': 5}"
      ]
     },
     "execution_count": 68,
     "metadata": {},
     "output_type": "execute_result"
    }
   ],
   "source": [
    "# 13. Merge two dictionaries using the `update()` method.\n",
    "\n",
    "# Answer:\n",
    "d1 = {'a': 2, 'b': 3}\n",
    "d2 = {'c': 4, 'd': 5}\n",
    "d1.update(d2)\n",
    "d1"
   ]
  },
  {
   "cell_type": "code",
   "execution_count": 69,
   "id": "e40382db-c847-485d-9318-4f5bed2ce953",
   "metadata": {},
   "outputs": [
    {
     "data": {
      "text/plain": [
       "{'a': 1, 'b': 2, 'c': 3}"
      ]
     },
     "execution_count": 69,
     "metadata": {},
     "output_type": "execute_result"
    }
   ],
   "source": [
    "# 14. Convert two lists into a dictionary using `zip()`.\n",
    "\n",
    "# Answer:\n",
    "L1 = ['a','b','c']\n",
    "L2 = [1,2,3]\n",
    "{i:j for (i,j) in zip(L1,L2)}\n"
   ]
  },
  {
   "cell_type": "code",
   "execution_count": 70,
   "id": "5b582a1e-4201-443a-b67d-897607996859",
   "metadata": {},
   "outputs": [
    {
     "name": "stdout",
     "output_type": "stream",
     "text": [
      "['a', 'b', 'c', 'd']\n"
     ]
    }
   ],
   "source": [
    "# 15. How do you get a list of keys from a dictionary?\n",
    "\n",
    "# Answer\n",
    "d = {'a': 2, 'b': 3, 'c': 4, 'd':5}\n",
    "print(list(d.keys()))"
   ]
  },
  {
   "cell_type": "code",
   "execution_count": 71,
   "id": "72f9a57e-62d8-4a82-a2c4-8c72ad908ad0",
   "metadata": {},
   "outputs": [
    {
     "data": {
      "text/plain": [
       "'Not Specified'"
      ]
     },
     "execution_count": 71,
     "metadata": {},
     "output_type": "execute_result"
    }
   ],
   "source": [
    "#🔥16. Use `get()` to safely access a value with a default if the key doesn’t exist.\n",
    "\n",
    "# Answer:\n",
    "d = {'name': 'Partho', 'age': 30}\n",
    "d.get('city', 'Not Specified')"
   ]
  },
  {
   "cell_type": "code",
   "execution_count": 72,
   "id": "64c9d02c-6fac-43ee-bf51-7eef0cb4b17a",
   "metadata": {},
   "outputs": [
    {
     "name": "stdout",
     "output_type": "stream",
     "text": [
      "Partho\n",
      "None\n",
      "N/A\n",
      "Partho\n"
     ]
    }
   ],
   "source": [
    "# 17. Explain the difference between `get()` and direct key access (`[]`).\n",
    "\n",
    "# Answer:\n",
    "d = {'name': 'Partho', 'age': 30}\n",
    "\n",
    "# Using get()\n",
    "print(d.get('name'))        # Output: Partho\n",
    "print(d.get('gender'))      # Output: None\n",
    "print(d.get('gender', 'N/A'))  # Output: N/A\n",
    "\n",
    "# Using []\n",
    "print(d['name'])            # Output: Partho\n",
    "# print(d['gender'])          # ❌ Raises KeyError"
   ]
  },
  {
   "cell_type": "code",
   "execution_count": 73,
   "id": "71d53fb1-a187-4762-b220-97f437880d4b",
   "metadata": {},
   "outputs": [
    {
     "name": "stdout",
     "output_type": "stream",
     "text": [
      "{'b': 1, 'a': 3, 'n': 2}\n"
     ]
    }
   ],
   "source": [
    "# 18. Use a `for` loop to count the frequency of each character in a string.\n",
    "\n",
    "# Answer:\n",
    "string = 'banana'\n",
    "char_freq = {}\n",
    "\n",
    "for char in string:\n",
    "    if char in char_freq:\n",
    "        char_freq[char] +=1\n",
    "    else:\n",
    "        char_freq[char] = 1\n",
    "print(char_freq)"
   ]
  },
  {
   "cell_type": "code",
   "execution_count": 74,
   "id": "3d1a7a53-0794-4a48-9157-54c83c77140c",
   "metadata": {},
   "outputs": [
    {
     "data": {
      "text/plain": [
       "{'a': 2, 'b': 5, 'c': 3, 'd': 4}"
      ]
     },
     "execution_count": 74,
     "metadata": {},
     "output_type": "execute_result"
    }
   ],
   "source": [
    "# 🔥 19. How can you sort a dictionary by its keys?\n",
    "\n",
    "# Answer:\n",
    "d = {'a': 2, 'c': 3, 'd': 4, 'b':5}\n",
    "\n",
    "dict(sorted(d.items()))"
   ]
  },
  {
   "cell_type": "code",
   "execution_count": 75,
   "id": "594c5ee3-df35-4259-a9db-9c3052f7c364",
   "metadata": {},
   "outputs": [
    {
     "data": {
      "text/plain": [
       "{'b': 1, 'd': 2, 'c': 3, 'a': 8}"
      ]
     },
     "execution_count": 75,
     "metadata": {},
     "output_type": "execute_result"
    }
   ],
   "source": [
    "# 🔥 20. How can you sort a dictionary by its values?\n",
    "\n",
    "# Answer:\n",
    "d = {'a': 8, 'c': 3, 'd': 2, 'b':1}\n",
    "\n",
    "dict(sorted(d.items(), key=lambda item: item[1]))"
   ]
  },
  {
   "cell_type": "markdown",
   "id": "b5e1f5bc-a7c1-45fb-a1ff-5773e43429bf",
   "metadata": {},
   "source": [
    "# 🔹 **Advanced / Data Science-Oriented Level (21–30)**"
   ]
  },
  {
   "cell_type": "code",
   "execution_count": 77,
   "id": "5a0186f8-92f5-4643-a8d9-a89061d97068",
   "metadata": {},
   "outputs": [
    {
     "name": "stdout",
     "output_type": "stream",
     "text": [
      "     Name Grade  GPA GPA_1\n",
      "0  Partho     A  4.0   4.0\n",
      "1   Abhik     B  3.0   3.0\n",
      "2  Sheren     A  4.0   4.0\n",
      "3    John     C  2.0   2.0\n",
      "4   Robin     E  NaN     E\n"
     ]
    }
   ],
   "source": [
    "# 🔥 21. You have a column of a DataFrame. How can you map values using a dictionary?\n",
    "\n",
    "# Answer:\n",
    "import pandas as pd\n",
    "\n",
    "# Sample DataFrame\n",
    "df = pd.DataFrame({\n",
    "    'Name':['Partho','Abhik','Sheren','John','Robin'],\n",
    "    'Grade':['A','B','A','C','E']})\n",
    "\n",
    "# Dictionary to map values\n",
    "grade_mapping = {'A': 4.0, 'B': 3.0, 'C': 2.0}\n",
    "\n",
    "# Apply mapping\n",
    "df['GPA'] = df['Grade'].map(grade_mapping)        # For unmatched values ----> returns NaN\n",
    "df['GPA_1'] = df['Grade'].replace(grade_mapping)  # For unmatched values ----> Remains unchanged\n",
    "\n",
    "print(df)"
   ]
  },
  {
   "cell_type": "code",
   "execution_count": 78,
   "id": "f97251e8-8c14-4504-bde7-323143a8b900",
   "metadata": {},
   "outputs": [],
   "source": [
    "# 22. Explain how dictionaries are used in JSON and API responses."
   ]
  },
  {
   "cell_type": "code",
   "execution_count": 79,
   "id": "4604c8c3-765c-44d9-85f5-f21ea1154201",
   "metadata": {},
   "outputs": [
    {
     "name": "stdout",
     "output_type": "stream",
     "text": [
      "{1: 'a', 2: 'b', 3: 'c'}\n"
     ]
    }
   ],
   "source": [
    "# 23. How do you invert a dictionary (make values into keys)?\n",
    "\n",
    "# Answer:\n",
    "original = {'a': 1, 'b': 2, 'c': 3}\n",
    "inverted = {v: k for k, v in original.items()}\n",
    "\n",
    "print(inverted)  # Output: {1: 'a', 2: 'b', 3: 'c'}"
   ]
  },
  {
   "cell_type": "code",
   "execution_count": 80,
   "id": "cd9707f7-4c8f-427f-b0a9-f8985595fa5c",
   "metadata": {},
   "outputs": [
    {
     "name": "stdout",
     "output_type": "stream",
     "text": [
      "{1: ['a', 'c'], 2: ['b']}\n"
     ]
    }
   ],
   "source": [
    "# 24. How do you handle duplicate values when inverting a dictionary?\n",
    "\n",
    "# Answer:\n",
    "original = {'a': 1, 'b': 2, 'c': 1}\n",
    "from collections import defaultdict\n",
    "\n",
    "inverted = defaultdict(list)\n",
    "for k, v in original.items():\n",
    "    inverted[v].append(k)\n",
    "\n",
    "print(dict(inverted))  # Output: {1: ['a', 'c'], 2: ['b']}"
   ]
  },
  {
   "cell_type": "code",
   "execution_count": 81,
   "id": "985f47db-3033-4dfa-96aa-87ef07de5d92",
   "metadata": {},
   "outputs": [
    {
     "data": {
      "text/plain": [
       "{'Math': {'mean': 86.6, 'median': 88.0, 'std': 5.458937625582473},\n",
       " 'Science': {'mean': 87.6, 'median': 89.0, 'std': 5.319774431308154},\n",
       " 'English': {'mean': 73.8, 'median': 74.0, 'std': 3.03315017762062}}"
      ]
     },
     "execution_count": 81,
     "metadata": {},
     "output_type": "execute_result"
    }
   ],
   "source": [
    "# 25. Use a dictionary to store statistics (mean, median, std) for multiple columns.\n",
    "\n",
    "# Answer:\n",
    "import pandas as pd\n",
    "\n",
    "# Sample DataFrame\n",
    "df = pd.DataFrame({\n",
    "    'Math': [85, 90, 78, 92, 88],\n",
    "    'Science': [80, 85, 89, 94, 90],\n",
    "    'English': [75, 78, 72, 70, 74]\n",
    "})\n",
    "\n",
    "# Initialize dictionary to store stats\n",
    "stats = {}\n",
    "\n",
    "# Loop through each column and compute stats\n",
    "for col in df.columns:\n",
    "    stats[col] = {\n",
    "        'mean': df[col].mean(),\n",
    "        'median': df[col].median(),\n",
    "        'std': df[col].std()\n",
    "    }\n",
    "\n",
    "stats"
   ]
  },
  {
   "cell_type": "code",
   "execution_count": 82,
   "id": "413b179c-f478-4bf7-8aa9-f514a0656414",
   "metadata": {},
   "outputs": [
    {
     "name": "stdout",
     "output_type": "stream",
     "text": [
      "Bob's Marks: {'Math': 75, 'Science': 80, 'English': 82}\n",
      "Alice's marks in Science: 90\n"
     ]
    }
   ],
   "source": [
    "# 26. Use a nested dictionary to store students and their subject-wise marks.\n",
    "\n",
    "# Answer:\n",
    "students = {\n",
    "    'Alice': {'Math': 85, 'Science': 90, 'English': 78},\n",
    "    'Bob': {'Math': 75, 'Science': 80, 'English': 82},\n",
    "    'Charlie': {'Math': 92, 'Science': 88, 'English': 85}\n",
    "}\n",
    "print(\"Bob's Marks:\",students['Bob'])\n",
    "print(\"Alice's marks in Science:\",students['Alice']['Science'])"
   ]
  },
  {
   "cell_type": "code",
   "execution_count": 83,
   "id": "5d77774e-84b7-49c9-a4ab-35b903899e27",
   "metadata": {},
   "outputs": [
    {
     "name": "stdout",
     "output_type": "stream",
     "text": [
      "Alice's mark:\n",
      "   Math:85\n",
      "   Science:90\n",
      "   English:78\n",
      "Bob's mark:\n",
      "   Math:75\n",
      "   Science:80\n",
      "   English:82\n",
      "Charlie's mark:\n",
      "   Math:92\n",
      "   Science:88\n",
      "   English:85\n"
     ]
    }
   ],
   "source": [
    "for student, subjects in students.items():\n",
    "    print(f\"{student}'s mark:\")\n",
    "    for subject, mark in subjects.items():\n",
    "        print(f\"   {subject}:{mark}\")"
   ]
  },
  {
   "cell_type": "code",
   "execution_count": 84,
   "id": "6f64ffc0-a398-4f06-819a-91888d634097",
   "metadata": {},
   "outputs": [
    {
     "name": "stdout",
     "output_type": "stream",
     "text": [
      "defaultdict(<class 'int'>, {'b': 1, 'a': 3, 'n': 2})\n"
     ]
    }
   ],
   "source": [
    "# 27. What is `defaultdict` and how is it helpful in frequency counting?\n",
    "\n",
    "# Answer:\n",
    "from collections import defaultdict\n",
    "\n",
    "text = 'banana'\n",
    "char_count = defaultdict(int)\n",
    "for char in text:\n",
    "    char_count[char] +=1\n",
    "print(char_count)"
   ]
  },
  {
   "cell_type": "raw",
   "id": "b67142cb-0912-461c-ab5c-4c22aa02554d",
   "metadata": {},
   "source": [
    "# 28. What is `Counter` from `collections` and how is it related to dictionaries\n",
    "\n",
    "Answer:\n",
    "# Counter is a class in Python's collections module used to count hashable elements like strings, numbers, or tuples. It works like a dictionary but is specifically designed to count items.\n",
    "\n",
    "How is it related to dictionaries?\n",
    "\n",
    "Counter is a subclass of dict.\n",
    "It stores elements as keys, and their counts as values.\n",
    "You can use most dictionary methods with it."
   ]
  },
  {
   "cell_type": "code",
   "execution_count": 85,
   "id": "55889d91-ebeb-4ab0-8368-c965f71a308c",
   "metadata": {},
   "outputs": [
    {
     "name": "stdout",
     "output_type": "stream",
     "text": [
      "{4: ['data'], 7: ['science'], 2: ['is', 'AI'], 3: ['fun', 'big'], 8: ['learning']}\n"
     ]
    }
   ],
   "source": [
    "# 29. Write a program to group words with the same length using a dictionary.\n",
    "\n",
    "# Answer:\n",
    "words = [\"data\", \"science\", \"is\", \"fun\", \"AI\", \"big\", \"learning\"]\n",
    "\n",
    "# Dictionary to group by length\n",
    "length_groups = {}\n",
    "\n",
    "for word in words:\n",
    "    length = len(word)\n",
    "    if length not in length_groups:\n",
    "        length_groups[length] = []\n",
    "    length_groups[length].append(word)\n",
    "\n",
    "# Display the grouped dictionary\n",
    "print(length_groups)"
   ]
  },
  {
   "cell_type": "code",
   "execution_count": 86,
   "id": "1a2a6789-4df1-4cb3-9652-1cd81094ddd9",
   "metadata": {},
   "outputs": [
    {
     "name": "stdout",
     "output_type": "stream",
     "text": [
      "{'name', 'age', 'country', 'hobby', 'course'}\n"
     ]
    }
   ],
   "source": [
    "# 30. Given a list of dictionaries, extract all unique keys.\n",
    "\n",
    "# Answer:\n",
    "list_of_dicts = [\n",
    "    {\"name\": \"Partho\", \"age\": 43},\n",
    "    {\"course\": \"Data Science\", \"country\": \"Bangladesh\"},\n",
    "    {\"name\": \"Abhik\", \"hobby\": \"Drawing\"}\n",
    "]\n",
    "\n",
    "# Extract all unique keys\n",
    "unique_keys = set()\n",
    "for d in list_of_dicts:\n",
    "    unique_keys.update(d.keys())\n",
    "\n",
    "print(unique_keys)"
   ]
  },
  {
   "cell_type": "markdown",
   "id": "30a283b1-db26-4c2d-99a4-5bcfedf4a79c",
   "metadata": {},
   "source": [
    "# The End"
   ]
  }
 ],
 "metadata": {
  "kernelspec": {
   "display_name": "Python [conda env:base] *",
   "language": "python",
   "name": "conda-base-py"
  },
  "language_info": {
   "codemirror_mode": {
    "name": "ipython",
    "version": 3
   },
   "file_extension": ".py",
   "mimetype": "text/x-python",
   "name": "python",
   "nbconvert_exporter": "python",
   "pygments_lexer": "ipython3",
   "version": "3.12.7"
  }
 },
 "nbformat": 4,
 "nbformat_minor": 5
}
