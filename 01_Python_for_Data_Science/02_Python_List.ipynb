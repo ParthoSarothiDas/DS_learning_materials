{
 "cells": [
  {
   "cell_type": "markdown",
   "id": "ffdbe8c3-d221-4307-8b56-dd63660ae553",
   "metadata": {},
   "source": [
    "#  Data Science Learning Journey  \n",
    "*Curiosity to Capability — One Notebook at a Time*\n",
    "\n",
    "---\n",
    "Compiled and authored by **Partho Sarothi Das**   \n",
    "\tDhaka, Bangladesh  \n",
    "\tBachelor's & Master's in Statistics  \n",
    "\tInvestment Banking Professional → Aspiring Data Scientist "
   ]
  },
  {
   "cell_type": "markdown",
   "id": "b4ea9be7-68c4-455c-9545-246148912346",
   "metadata": {},
   "source": [
    "# Python Collections (Arrays)_1"
   ]
  },
  {
   "cell_type": "raw",
   "id": "a8ccc148-01f5-414a-a79a-a5e33ade3ee2",
   "metadata": {},
   "source": [
    "There are four collection data types in the Python programming language:\n",
    "\n",
    "List is a collection which is ordered and changeable. Allows duplicate members.\n",
    "Tuple is a collection which is ordered and unchangeable. Allows duplicate members.\n",
    "Set is a collection which is unordered, unchangeable*, and unindexed. No duplicate members.\n",
    "Dictionary is a collection which is ordered** and changeable. No duplicate members."
   ]
  },
  {
   "cell_type": "markdown",
   "id": "2d3def05-1f48-4617-9a4a-c176423f12b0",
   "metadata": {},
   "source": [
    "# List  \n",
    "Lists are used to store multiple items in a single variable."
   ]
  },
  {
   "cell_type": "code",
   "execution_count": 3,
   "id": "94cf8561-78b1-441d-834c-59d243a8f026",
   "metadata": {},
   "outputs": [],
   "source": [
    "L = [20, 'Partho', 3.5, [2,3,4]]"
   ]
  },
  {
   "cell_type": "code",
   "execution_count": 4,
   "id": "1e9c1d2c-41fe-46db-9c10-72deeabd7181",
   "metadata": {},
   "outputs": [
    {
     "data": {
      "text/plain": [
       "(20, 'Partho', 3.5, [2, 3, 4])"
      ]
     },
     "execution_count": 4,
     "metadata": {},
     "output_type": "execute_result"
    }
   ],
   "source": [
    "# Index\n",
    "L[0], L[1], L[2], L[3]"
   ]
  },
  {
   "cell_type": "code",
   "execution_count": 5,
   "id": "044cf249-4313-41e3-a580-3246cd26c071",
   "metadata": {},
   "outputs": [],
   "source": [
    "a = []           # empty\n",
    "a = [1,2,3,4]    # Homo\n",
    "a = [[1,2,3],[4,5,6]] # 2D\n",
    "a= [[[1,2],[3,4],[5,6]]] # 3D\n",
    "a = [a, True, 4.6, 'python'] # Hetrogeneous"
   ]
  },
  {
   "cell_type": "code",
   "execution_count": 6,
   "id": "bf2f0ced-f518-4a9d-b5b4-7cafe67d51b1",
   "metadata": {},
   "outputs": [
    {
     "data": {
      "text/plain": [
       "['D', 'a', 't', 'a', ' ', 'S', 'c', 'i', 'e', 'n', 'c', 'e']"
      ]
     },
     "execution_count": 6,
     "metadata": {},
     "output_type": "execute_result"
    }
   ],
   "source": [
    "#Type Conversion\n",
    "a = list('Data Science')\n",
    "a"
   ]
  },
  {
   "cell_type": "code",
   "execution_count": 7,
   "id": "64d6919b-db73-4aa3-af00-8f4ac21a873b",
   "metadata": {},
   "outputs": [
    {
     "data": {
      "text/plain": [
       "[1, 2, 3, 4]"
      ]
     },
     "execution_count": 7,
     "metadata": {},
     "output_type": "execute_result"
    }
   ],
   "source": [
    "# list() Constructor\n",
    "\n",
    "L = list((1,2,3,4))\n",
    "L"
   ]
  },
  {
   "cell_type": "code",
   "execution_count": 8,
   "id": "ec7c3c97-f44b-41ee-912a-684a6dd34da8",
   "metadata": {},
   "outputs": [
    {
     "name": "stdout",
     "output_type": "stream",
     "text": [
      "<class 'list'>\n"
     ]
    }
   ],
   "source": [
    "# type()\n",
    "\n",
    "print(type(L))"
   ]
  },
  {
   "cell_type": "markdown",
   "id": "2448810b-786b-4007-9bb2-3ee3bf939d1c",
   "metadata": {},
   "source": [
    "# Access List Items"
   ]
  },
  {
   "cell_type": "code",
   "execution_count": 10,
   "id": "ee769120-22ca-4114-b76d-4d7b2ccc3cef",
   "metadata": {},
   "outputs": [
    {
     "name": "stdout",
     "output_type": "stream",
     "text": [
      "banana\n"
     ]
    }
   ],
   "source": [
    "# List items are indexed and can be accessed by referring to the index number:\n",
    "\n",
    "L = [\"apple\", \"banana\", \"cherry\"]\n",
    "print(L[1])"
   ]
  },
  {
   "cell_type": "code",
   "execution_count": 11,
   "id": "c8ca4ebe-05a2-4444-aed1-0c4863319aee",
   "metadata": {},
   "outputs": [
    {
     "name": "stdout",
     "output_type": "stream",
     "text": [
      "cherry\n"
     ]
    }
   ],
   "source": [
    "# Negative Indexing :   -1 refers to the last item, -2 refers to the second last item etc.\n",
    "\n",
    "print(L[-1])"
   ]
  },
  {
   "cell_type": "code",
   "execution_count": 12,
   "id": "b6b899d3-07e2-4042-87f7-c2f4cc33ee03",
   "metadata": {},
   "outputs": [
    {
     "name": "stdout",
     "output_type": "stream",
     "text": [
      "['cherry', 'orange', 'kiwi']\n"
     ]
    }
   ],
   "source": [
    "# Range of Indexes\n",
    "\n",
    "L = [\"apple\", \"banana\", \"cherry\", \"orange\", \"kiwi\", \"melon\", \"mango\"]\n",
    "print(L[2:5])\n",
    "\n",
    "# Note: The search will start at index 2 (included) and end at index 5 (not included)."
   ]
  },
  {
   "cell_type": "code",
   "execution_count": 13,
   "id": "275b4d8f-9a12-4330-9af3-d8db5e4d467f",
   "metadata": {},
   "outputs": [
    {
     "data": {
      "text/plain": [
       "['apple', 'banana', 'cherry', 'orange']"
      ]
     },
     "execution_count": 13,
     "metadata": {},
     "output_type": "execute_result"
    }
   ],
   "source": [
    "L[:4]"
   ]
  },
  {
   "cell_type": "code",
   "execution_count": 14,
   "id": "4b38fc78-431d-4198-9903-f9aae79bbb01",
   "metadata": {},
   "outputs": [
    {
     "data": {
      "text/plain": [
       "['orange', 'kiwi', 'melon', 'mango']"
      ]
     },
     "execution_count": 14,
     "metadata": {},
     "output_type": "execute_result"
    }
   ],
   "source": [
    "L[3:]"
   ]
  },
  {
   "cell_type": "code",
   "execution_count": 15,
   "id": "707bbb80-3c61-46ff-9deb-52fc17fdc58c",
   "metadata": {},
   "outputs": [
    {
     "data": {
      "text/plain": [
       "['kiwi', 'melon']"
      ]
     },
     "execution_count": 15,
     "metadata": {},
     "output_type": "execute_result"
    }
   ],
   "source": [
    "# Range of Negative Indexes\n",
    "\n",
    "L[-3:-1]"
   ]
  },
  {
   "cell_type": "code",
   "execution_count": 16,
   "id": "8fa3c10c-bbee-45cb-9519-4eb2cbdc12c5",
   "metadata": {},
   "outputs": [
    {
     "data": {
      "text/plain": [
       "['cherry', 'orange', 'kiwi', 'melon', 'mango']"
      ]
     },
     "execution_count": 16,
     "metadata": {},
     "output_type": "execute_result"
    }
   ],
   "source": [
    "L[-5:]"
   ]
  },
  {
   "cell_type": "code",
   "execution_count": 17,
   "id": "406ea0b3-0e90-4e27-9e2f-c7e6e8f67129",
   "metadata": {},
   "outputs": [
    {
     "data": {
      "text/plain": [
       "['apple', 'banana', 'cherry', 'orange']"
      ]
     },
     "execution_count": 17,
     "metadata": {},
     "output_type": "execute_result"
    }
   ],
   "source": [
    "L[:-3]"
   ]
  },
  {
   "cell_type": "code",
   "execution_count": 18,
   "id": "3f43df30-4722-43cc-9f5b-916bfcf23dac",
   "metadata": {},
   "outputs": [
    {
     "name": "stdout",
     "output_type": "stream",
     "text": [
      "Yes, 'apple' is in the fruits list\n"
     ]
    }
   ],
   "source": [
    "# Check if Item Exists\n",
    "\n",
    "L = [\"apple\", \"banana\", \"cherry\"]\n",
    "if \"apple\" in L:\n",
    "  print(\"Yes, 'apple' is in the fruits list\")"
   ]
  },
  {
   "cell_type": "markdown",
   "id": "d002ee4c-ce54-479d-a856-e12c5ea654f0",
   "metadata": {},
   "source": [
    "# Change List Items\n",
    "\n",
    "To change the value of a specific item, refer to the index number:"
   ]
  },
  {
   "cell_type": "code",
   "execution_count": 20,
   "id": "182f51d2-3702-4495-bf80-80162b3ede6e",
   "metadata": {},
   "outputs": [
    {
     "data": {
      "text/plain": [
       "['mango', 'banana', 'cherry']"
      ]
     },
     "execution_count": 20,
     "metadata": {},
     "output_type": "execute_result"
    }
   ],
   "source": [
    "L = [\"apple\", \"banana\", \"cherry\"]\n",
    "L[0] = 'mango'\n",
    "L"
   ]
  },
  {
   "cell_type": "code",
   "execution_count": 21,
   "id": "68cfb368-9757-4d75-9ae4-e97a46d26395",
   "metadata": {},
   "outputs": [
    {
     "data": {
      "text/plain": [
       "['mango', 'banana', 'jackfruit']"
      ]
     },
     "execution_count": 21,
     "metadata": {},
     "output_type": "execute_result"
    }
   ],
   "source": [
    "L[-1] = 'jackfruit'\n",
    "L"
   ]
  },
  {
   "cell_type": "code",
   "execution_count": 22,
   "id": "051a81cf-9319-464d-af8b-bfe0b450c665",
   "metadata": {},
   "outputs": [
    {
     "data": {
      "text/plain": [
       "['apple', 'jackfruit', 'grape', 'orange', 'kiwi', 'mango']"
      ]
     },
     "execution_count": 22,
     "metadata": {},
     "output_type": "execute_result"
    }
   ],
   "source": [
    "# Change a Range of Item Values\n",
    "\n",
    "L = [\"apple\", \"banana\", \"cherry\", \"orange\", \"kiwi\", \"mango\"]\n",
    "\n",
    "L[1:3] = ['jackfruit', 'grape']\n",
    "L"
   ]
  },
  {
   "cell_type": "code",
   "execution_count": 23,
   "id": "f4a79dd2-3247-44df-a03b-e441d1534b4f",
   "metadata": {},
   "outputs": [
    {
     "data": {
      "text/plain": [
       "['apple', 'blackcurrant', 'watermelon', 'cherry']"
      ]
     },
     "execution_count": 23,
     "metadata": {},
     "output_type": "execute_result"
    }
   ],
   "source": [
    "# If insert more items than replace, the new items will be inserted where specified, and the remaining items will move accordingly:\n",
    "L = [\"apple\", \"banana\", \"cherry\"]\n",
    "L[1:2] = [\"blackcurrant\", \"watermelon\"]\n",
    "L"
   ]
  },
  {
   "cell_type": "code",
   "execution_count": 24,
   "id": "2d24a58d-9c17-4d5b-97fb-7463b0d77773",
   "metadata": {},
   "outputs": [
    {
     "data": {
      "text/plain": [
       "['apple', 'mango']"
      ]
     },
     "execution_count": 24,
     "metadata": {},
     "output_type": "execute_result"
    }
   ],
   "source": [
    "# If you insert less items than you replace, the new items will be inserted where you specified, and the remaining items will move accordingly:\n",
    "\n",
    "L[1:5] = ['mango']\n",
    "L"
   ]
  },
  {
   "cell_type": "markdown",
   "id": "19cdfb35-7c83-45cf-9c95-7d175ce5a199",
   "metadata": {},
   "source": [
    "# Insert items in a list"
   ]
  },
  {
   "cell_type": "code",
   "execution_count": 26,
   "id": "a11abdf2-38f8-4053-b4f6-e8f192f45557",
   "metadata": {},
   "outputs": [
    {
     "data": {
      "text/plain": [
       "[1, 2, 3, 4, 5, 6]"
      ]
     },
     "execution_count": 26,
     "metadata": {},
     "output_type": "execute_result"
    }
   ],
   "source": [
    "# append() -----> Add an item at the end.\n",
    "\n",
    "L = [1,2,3,4,5]\n",
    "L.append(6)\n",
    "L"
   ]
  },
  {
   "cell_type": "code",
   "execution_count": 27,
   "id": "b52a82dc-2053-45f1-abb9-543fbb750140",
   "metadata": {},
   "outputs": [
    {
     "data": {
      "text/plain": [
       "[1, 2, 3, 4, 5, [6, 7, 8]]"
      ]
     },
     "execution_count": 27,
     "metadata": {},
     "output_type": "execute_result"
    }
   ],
   "source": [
    "L = [1,2,3,4,5]\n",
    "L.append([6,7,8])\n",
    "L"
   ]
  },
  {
   "cell_type": "code",
   "execution_count": 28,
   "id": "9c03b0a6-faff-44e1-a013-f6d4108a4f31",
   "metadata": {},
   "outputs": [
    {
     "data": {
      "text/plain": [
       "[1, 2, 3, 4, 5, 7, 8, 9]"
      ]
     },
     "execution_count": 28,
     "metadata": {},
     "output_type": "execute_result"
    }
   ],
   "source": [
    "# extend() ------> Add another list with list\n",
    "\n",
    "L = [1,2,3,4,5]\n",
    "L.extend([7,8,9])\n",
    "L"
   ]
  },
  {
   "cell_type": "code",
   "execution_count": 29,
   "id": "5b6352a4-a0c9-459a-819f-0affb5c76486",
   "metadata": {},
   "outputs": [
    {
     "data": {
      "text/plain": [
       "[1, 2, 3, 4, 5, 6]"
      ]
     },
     "execution_count": 29,
     "metadata": {},
     "output_type": "execute_result"
    }
   ],
   "source": [
    "L1 = [1,2,3]\n",
    "L2 = [4,5,6]\n",
    "\n",
    "L1.extend(L2)\n",
    "L1"
   ]
  },
  {
   "cell_type": "code",
   "execution_count": 30,
   "id": "1efbd47d-41ab-4196-a99d-f50455f8e2e9",
   "metadata": {},
   "outputs": [
    {
     "data": {
      "text/plain": [
       "[1, 2, 3, 4, 5, 6]"
      ]
     },
     "execution_count": 30,
     "metadata": {},
     "output_type": "execute_result"
    }
   ],
   "source": [
    "# extend() method -----> can add any iterable object (tuples, sets, dictionaries etc.).\n",
    "\n",
    "L = [1,2,3]\n",
    "tup = (4,5,6)\n",
    "\n",
    "L.extend(tup)\n",
    "L"
   ]
  },
  {
   "cell_type": "code",
   "execution_count": 31,
   "id": "a65e4c39-06c6-42b0-a3ed-1f2e9e6c6b16",
   "metadata": {},
   "outputs": [
    {
     "data": {
      "text/plain": [
       "[1, 2, 3, 4, 5, 6]"
      ]
     },
     "execution_count": 31,
     "metadata": {},
     "output_type": "execute_result"
    }
   ],
   "source": [
    "# extend() with sets\n",
    "L = [1,2,3]\n",
    "s = {4,5,6}\n",
    "L.extend(s)\n",
    "L"
   ]
  },
  {
   "cell_type": "code",
   "execution_count": 32,
   "id": "09b7db4e-0321-4cc0-949b-752cd1ed0696",
   "metadata": {},
   "outputs": [
    {
     "data": {
      "text/plain": [
       "['apple', 'orange', 1, 2]"
      ]
     },
     "execution_count": 32,
     "metadata": {},
     "output_type": "execute_result"
    }
   ],
   "source": [
    "L = ['apple', 'orange']\n",
    "d = {\n",
    "    1:'mango',\n",
    "    2:'jackfruit'\n",
    "}\n",
    "\n",
    "L.extend(d)\n",
    "L"
   ]
  },
  {
   "cell_type": "code",
   "execution_count": 33,
   "id": "c6751447-6c37-4c7e-912d-7d42c4165f00",
   "metadata": {},
   "outputs": [
    {
     "data": {
      "text/plain": [
       "[1, 100, 2, 3, 4, 5]"
      ]
     },
     "execution_count": 33,
     "metadata": {},
     "output_type": "execute_result"
    }
   ],
   "source": [
    "# insert() ------> To insert a list item at a specified index\n",
    "\n",
    "L = [1,2,3,4,5]\n",
    "L.insert(1, 100)\n",
    "L"
   ]
  },
  {
   "cell_type": "markdown",
   "id": "03721be5-5f93-4364-bd38-279996ec0861",
   "metadata": {},
   "source": [
    "# Removing list items"
   ]
  },
  {
   "cell_type": "code",
   "execution_count": 35,
   "id": "d375db02-714b-4a61-8cde-bd54e880d95f",
   "metadata": {},
   "outputs": [
    {
     "data": {
      "text/plain": [
       "[2, 3, 4, 5]"
      ]
     },
     "execution_count": 35,
     "metadata": {},
     "output_type": "execute_result"
    }
   ],
   "source": [
    "# Using index\n",
    "\n",
    "L = [1,2,3,4,5]\n",
    "del L[0]\n",
    "L"
   ]
  },
  {
   "cell_type": "code",
   "execution_count": 36,
   "id": "b68c241b-4bcc-482d-9cfa-63c4f12e571b",
   "metadata": {},
   "outputs": [
    {
     "data": {
      "text/plain": [
       "[1, 2, 3, 4]"
      ]
     },
     "execution_count": 36,
     "metadata": {},
     "output_type": "execute_result"
    }
   ],
   "source": [
    "# Using negative index\n",
    "\n",
    "L = [1,2,3,4,5]\n",
    "del L[-1]\n",
    "L"
   ]
  },
  {
   "cell_type": "code",
   "execution_count": 37,
   "id": "fcd10b33-11ca-4e7a-a081-d3155330abaf",
   "metadata": {},
   "outputs": [
    {
     "data": {
      "text/plain": [
       "[1, 4, 5]"
      ]
     },
     "execution_count": 37,
     "metadata": {},
     "output_type": "execute_result"
    }
   ],
   "source": [
    "# Using slicing\n",
    "\n",
    "L = [1,2,3,4,5]\n",
    "del L[1:3]\n",
    "L"
   ]
  },
  {
   "cell_type": "code",
   "execution_count": 38,
   "id": "0ea6209a-ca31-4687-b142-210c24242529",
   "metadata": {},
   "outputs": [],
   "source": [
    "# Delect entire list\n",
    "\n",
    "L = [1,2,3,4,5]\n",
    "del L"
   ]
  },
  {
   "cell_type": "code",
   "execution_count": 39,
   "id": "98003b53-9a3e-46d7-a362-7a662427106d",
   "metadata": {},
   "outputs": [
    {
     "data": {
      "text/plain": [
       "[1, 3, 4, 5]"
      ]
     },
     "execution_count": 39,
     "metadata": {},
     "output_type": "execute_result"
    }
   ],
   "source": [
    "# remove() method ------> removes the specified item.\n",
    "\n",
    "L = [1,2,3,4,5]\n",
    "L.remove(2)\n",
    "L"
   ]
  },
  {
   "cell_type": "code",
   "execution_count": 40,
   "id": "bc55babc-1f31-42cc-a221-c746a3e37f12",
   "metadata": {},
   "outputs": [
    {
     "data": {
      "text/plain": [
       "[1, 3, 4]"
      ]
     },
     "execution_count": 40,
     "metadata": {},
     "output_type": "execute_result"
    }
   ],
   "source": [
    "# pop() ---> Remove Specified Index\n",
    "\n",
    "L = [1,2,3,4]\n",
    "L.pop(1)\n",
    "L"
   ]
  },
  {
   "cell_type": "code",
   "execution_count": 41,
   "id": "349db62d-f376-49d1-bc15-376dca4c0e6b",
   "metadata": {},
   "outputs": [
    {
     "data": {
      "text/plain": [
       "[1, 2, 3]"
      ]
     },
     "execution_count": 41,
     "metadata": {},
     "output_type": "execute_result"
    }
   ],
   "source": [
    "# Last value remove\n",
    "\n",
    "L = [1,2,3,4]\n",
    "L.pop()\n",
    "L"
   ]
  },
  {
   "cell_type": "code",
   "execution_count": 42,
   "id": "48d9d1d6-8419-48b1-b5e5-51ad5b9b7eaa",
   "metadata": {},
   "outputs": [
    {
     "data": {
      "text/plain": [
       "[]"
      ]
     },
     "execution_count": 42,
     "metadata": {},
     "output_type": "execute_result"
    }
   ],
   "source": [
    "# clear() -----> clear all the contents.\n",
    "\n",
    "L = [1,2,3,4]\n",
    "L.clear()\n",
    "L"
   ]
  },
  {
   "cell_type": "markdown",
   "id": "f8411018-f8a4-465e-9c4d-2934b78c57d0",
   "metadata": {},
   "source": [
    "# List Functions\n",
    "\n",
    "len, min, max, sum, sorted"
   ]
  },
  {
   "cell_type": "code",
   "execution_count": 44,
   "id": "6e6e6d16-4740-4c10-b128-2c89f6b2838f",
   "metadata": {},
   "outputs": [
    {
     "data": {
      "text/plain": [
       "8"
      ]
     },
     "execution_count": 44,
     "metadata": {},
     "output_type": "execute_result"
    }
   ],
   "source": [
    "# len() -----> Number of items\n",
    "\n",
    "L = [1,5,8,2,4,1,9,4]\n",
    "len(L)"
   ]
  },
  {
   "cell_type": "code",
   "execution_count": 45,
   "id": "6eef5892-fefb-42de-8ef5-ee7767eefd42",
   "metadata": {},
   "outputs": [
    {
     "data": {
      "text/plain": [
       "1"
      ]
     },
     "execution_count": 45,
     "metadata": {},
     "output_type": "execute_result"
    }
   ],
   "source": [
    "# min() -------> Minimum value\n",
    "\n",
    "L = [1,5,8,2,4,1,9,4]\n",
    "min(L)"
   ]
  },
  {
   "cell_type": "code",
   "execution_count": 46,
   "id": "b0847b5f-7722-4549-b2f8-b78597c2c693",
   "metadata": {},
   "outputs": [
    {
     "data": {
      "text/plain": [
       "9"
      ]
     },
     "execution_count": 46,
     "metadata": {},
     "output_type": "execute_result"
    }
   ],
   "source": [
    "# max() -----> Maximum value\n",
    "\n",
    "L = [1,5,8,2,4,1,9,4]\n",
    "max(L)"
   ]
  },
  {
   "cell_type": "code",
   "execution_count": 5,
   "id": "547b83da-d337-4e5e-8260-c152c9f71b23",
   "metadata": {},
   "outputs": [
    {
     "data": {
      "text/plain": [
       "6"
      ]
     },
     "execution_count": 5,
     "metadata": {},
     "output_type": "execute_result"
    }
   ],
   "source": [
    "# sum() -----> sum of the values\n",
    "\n",
    "L = [1,2,3]\n",
    "sum(L)"
   ]
  },
  {
   "cell_type": "code",
   "execution_count": 47,
   "id": "e8967fc4-4e36-4078-93af-540e4ea8442a",
   "metadata": {},
   "outputs": [
    {
     "data": {
      "text/plain": [
       "[1, 1, 2, 4, 4, 5, 8, 9]"
      ]
     },
     "execution_count": 47,
     "metadata": {},
     "output_type": "execute_result"
    }
   ],
   "source": [
    "# sorted() -------> arange ascending order (Temporary)\n",
    "\n",
    "L = [1,5,8,2,4,1,9,4]\n",
    "sorted(L)"
   ]
  },
  {
   "cell_type": "code",
   "execution_count": 48,
   "id": "52c19720-3cd7-4a7a-bc96-572778d7a792",
   "metadata": {},
   "outputs": [
    {
     "data": {
      "text/plain": [
       "[9, 8, 5, 4, 4, 2, 1, 1]"
      ]
     },
     "execution_count": 48,
     "metadata": {},
     "output_type": "execute_result"
    }
   ],
   "source": [
    "# sorted(reverse = True) -------> arange decending order (Temporary)\n",
    "\n",
    "L = [1,5,8,2,4,1,9,4]\n",
    "sorted(L, reverse = True)"
   ]
  },
  {
   "cell_type": "code",
   "execution_count": 49,
   "id": "8bbda323-89c4-4688-8132-ab3c48e5bc46",
   "metadata": {},
   "outputs": [
    {
     "data": {
      "text/plain": [
       "[1, 1, 2, 4, 4, 5, 8, 9]"
      ]
     },
     "execution_count": 49,
     "metadata": {},
     "output_type": "execute_result"
    }
   ],
   "source": [
    "# sort() --------> arange ascending order (Permanent)\n",
    "\n",
    "L = [1,5,8,2,4,1,9,4]\n",
    "L.sort()\n",
    "L"
   ]
  },
  {
   "cell_type": "code",
   "execution_count": 50,
   "id": "8a6c74f0-5988-4c2f-87fb-fdfe813939fb",
   "metadata": {},
   "outputs": [
    {
     "data": {
      "text/plain": [
       "[1, 5, 8, 2, 4, 1, 9, 4]"
      ]
     },
     "execution_count": 50,
     "metadata": {},
     "output_type": "execute_result"
    }
   ],
   "source": [
    "# reverse() -----------> arange decending order (Permanent)\n",
    "\n",
    "L.reverse()\n",
    "L = [1,5,8,2,4,1,9,4]\n",
    "L"
   ]
  },
  {
   "cell_type": "code",
   "execution_count": 51,
   "id": "48c883ae-6ca3-48ff-9962-e764c8c9b731",
   "metadata": {},
   "outputs": [
    {
     "data": {
      "text/plain": [
       "3"
      ]
     },
     "execution_count": 51,
     "metadata": {},
     "output_type": "execute_result"
    }
   ],
   "source": [
    "# count() ----------> find the total number of a specific value\n",
    "\n",
    "L = [1,2,4,1,3,5,1,7,4,4,9]\n",
    "L.count(1)"
   ]
  },
  {
   "cell_type": "code",
   "execution_count": 52,
   "id": "f0dcc19e-fbef-48dd-8e67-52bf0926ca6a",
   "metadata": {},
   "outputs": [
    {
     "data": {
      "text/plain": [
       "1"
      ]
     },
     "execution_count": 52,
     "metadata": {},
     "output_type": "execute_result"
    }
   ],
   "source": [
    "# index()  ---------> find the index no of a specific value\n",
    "\n",
    "L = ['apple', 'banana', 'orange']\n",
    "L.index('banana')"
   ]
  },
  {
   "cell_type": "markdown",
   "id": "31b0585c-5687-4352-b9e0-24ad5bfdd63d",
   "metadata": {},
   "source": [
    "# join/concatenation operations on lists"
   ]
  },
  {
   "cell_type": "code",
   "execution_count": 54,
   "id": "d6e7cf20-9333-4b9a-8706-53eea722245a",
   "metadata": {},
   "outputs": [
    {
     "data": {
      "text/plain": [
       "[1, 2, 3, 4, 5, 6]"
      ]
     },
     "execution_count": 54,
     "metadata": {},
     "output_type": "execute_result"
    }
   ],
   "source": [
    "# Addition ----> concatenation/ Join list\n",
    "\n",
    "L1 = [1,2,3]\n",
    "L2 = [4,5,6]\n",
    "\n",
    "L1+L2"
   ]
  },
  {
   "cell_type": "code",
   "execution_count": 55,
   "id": "6c47e1cb-067a-4ccd-8fcc-53324f15a521",
   "metadata": {},
   "outputs": [
    {
     "data": {
      "text/plain": [
       "['apple', 'orange', 'apple', 'orange']"
      ]
     },
     "execution_count": 55,
     "metadata": {},
     "output_type": "execute_result"
    }
   ],
   "source": [
    "# Multiplication\n",
    "\n",
    "L1 = ['apple', 'orange']\n",
    "L1*2"
   ]
  },
  {
   "cell_type": "markdown",
   "id": "4c55039b-43af-4a66-906a-70d5d22d0f29",
   "metadata": {},
   "source": [
    "# Copy a List"
   ]
  },
  {
   "cell_type": "code",
   "execution_count": 57,
   "id": "a625280e-6dcc-43e6-82ba-36a1f9e6ad58",
   "metadata": {},
   "outputs": [
    {
     "name": "stdout",
     "output_type": "stream",
     "text": [
      "L1= [1, 2, 3, 4, 5, 10]\n",
      "L= [1, 2, 3, 4, 5, 10]\n"
     ]
    }
   ],
   "source": [
    "# We cannot copy a list simply by typing list2 = list1, because: list2 will only be a reference to list1, \n",
    "# and changes made in list1 will automatically also be made in list2.\n",
    "\n",
    "L = [1,2,3,4,5]\n",
    "L1 = L  # Not the proper way to copy\n",
    "\n",
    "L1.append(10)\n",
    "print('L1=',L1)\n",
    "print('L=', L)"
   ]
  },
  {
   "cell_type": "code",
   "execution_count": 58,
   "id": "461b0b92-8167-47e9-ad25-2261594cad68",
   "metadata": {},
   "outputs": [
    {
     "name": "stdout",
     "output_type": "stream",
     "text": [
      "Previous: L1= [1, 2, 3, 4, 5]\n",
      "After append: L1= [1, 2, 3, 4, 5, 10]\n",
      "After append: L= [1, 2, 3, 4, 5]\n"
     ]
    }
   ],
   "source": [
    "# copy() ------> to copy list\n",
    "\n",
    "L = [1,2,3,4,5]\n",
    "L1 = L.copy()\n",
    "print('Previous: L1=',L1)\n",
    "\n",
    "L1.append(10)\n",
    "print('After append: L1=',L1)\n",
    "print('After append: L=',L)"
   ]
  },
  {
   "cell_type": "code",
   "execution_count": 59,
   "id": "dc73b598-421d-4d4e-ba28-19cfe0093249",
   "metadata": {},
   "outputs": [
    {
     "name": "stdout",
     "output_type": "stream",
     "text": [
      "['apple', 'banana', 'cherry']\n"
     ]
    }
   ],
   "source": [
    "# slice Operator (:) ------> to copy list\n",
    "\n",
    "L = [\"apple\", \"banana\", \"cherry\"]\n",
    "L1 = L[:]\n",
    "print(L1)"
   ]
  },
  {
   "cell_type": "markdown",
   "id": "90f120c3-c8ac-4df0-ad4b-6dd9812e619b",
   "metadata": {},
   "source": [
    "# Loop Lists"
   ]
  },
  {
   "cell_type": "code",
   "execution_count": 61,
   "id": "b5de40b4-44c0-497b-9562-a02bd80ae830",
   "metadata": {},
   "outputs": [
    {
     "name": "stdout",
     "output_type": "stream",
     "text": [
      "apple\n",
      "banana\n",
      "orange\n"
     ]
    }
   ],
   "source": [
    "# for loop\n",
    "L = ['apple','banana','orange']\n",
    "for x in L:\n",
    "    print(x)"
   ]
  },
  {
   "cell_type": "code",
   "execution_count": 62,
   "id": "14818975-6f58-451c-ae84-41ba095f2bee",
   "metadata": {},
   "outputs": [
    {
     "name": "stdout",
     "output_type": "stream",
     "text": [
      "apple\n",
      "banana\n",
      "orange\n"
     ]
    }
   ],
   "source": [
    "# Loop Through the Index Numbers\n",
    "\n",
    "L = ['apple', 'banana', 'orange']\n",
    "for i in range(len(L)):\n",
    "    print(L[i])"
   ]
  },
  {
   "cell_type": "code",
   "execution_count": 63,
   "id": "4159e0b1-d021-47c4-b7ed-9b4e25c0d86e",
   "metadata": {},
   "outputs": [
    {
     "name": "stdout",
     "output_type": "stream",
     "text": [
      "apple\n",
      "banana\n",
      "orange\n"
     ]
    }
   ],
   "source": [
    "# Using a While Loop\n",
    "\n",
    "L = ['apple', 'banana', 'orange']\n",
    "i = 0\n",
    "while i < len(L):\n",
    "    print(L[i])\n",
    "    i +=1"
   ]
  },
  {
   "cell_type": "code",
   "execution_count": 64,
   "id": "3e821aa6-6cf3-4b77-884c-3412068e30d9",
   "metadata": {},
   "outputs": [
    {
     "name": "stdout",
     "output_type": "stream",
     "text": [
      "1\n",
      "2\n",
      "3\n",
      "4\n"
     ]
    },
    {
     "data": {
      "text/plain": [
       "[None, None, None, None]"
      ]
     },
     "execution_count": 64,
     "metadata": {},
     "output_type": "execute_result"
    }
   ],
   "source": [
    "# Looping Using List Comprehension\n",
    "\n",
    "L = [1,2,3,4]\n",
    "[print(x) for x in L]"
   ]
  },
  {
   "cell_type": "markdown",
   "id": "aef6722f-30ab-4162-97d5-986c41ae8182",
   "metadata": {},
   "source": [
    "# Looping Using List Comprehension  \n",
    "\n",
    "The Syntax:  \n",
    "newlist = [expression **for** item **in** iterable **if** condition == **True**]"
   ]
  },
  {
   "cell_type": "code",
   "execution_count": 66,
   "id": "9189fd1b-7c59-409d-894b-14243f3a52e1",
   "metadata": {},
   "outputs": [
    {
     "name": "stdout",
     "output_type": "stream",
     "text": [
      "['apple', 'banana', 'mango']\n"
     ]
    }
   ],
   "source": [
    "# Normal function\n",
    "\n",
    "fruits = [\"apple\", \"banana\", \"cherry\", \"kiwi\", \"mango\"]\n",
    "newlist = []\n",
    "\n",
    "for x in fruits:\n",
    "  if \"a\" in x:\n",
    "    newlist.append(x)\n",
    "\n",
    "print(newlist)"
   ]
  },
  {
   "cell_type": "code",
   "execution_count": 67,
   "id": "12eb3cd9-119d-4945-b71f-4173db53a9df",
   "metadata": {},
   "outputs": [
    {
     "data": {
      "text/plain": [
       "['apple', 'banana', 'mango']"
      ]
     },
     "execution_count": 67,
     "metadata": {},
     "output_type": "execute_result"
    }
   ],
   "source": [
    "# List comprehension\n",
    "\n",
    "fruits = ['apple','banana','cherry','kiqi','mango']\n",
    "newlist = [x for x in fruits if 'a' in x]\n",
    "newlist"
   ]
  },
  {
   "cell_type": "code",
   "execution_count": 68,
   "id": "fe95209b-ed5a-4225-a54c-47bccaf06eec",
   "metadata": {},
   "outputs": [
    {
     "data": {
      "text/plain": [
       "['apple']"
      ]
     },
     "execution_count": 68,
     "metadata": {},
     "output_type": "execute_result"
    }
   ],
   "source": [
    "# List comprehension\n",
    "\n",
    "fruits = ['apple','banana','cherry','kiqi','mango']\n",
    "L = [x for x in fruits if x.startswith('a')]\n",
    "L"
   ]
  },
  {
   "cell_type": "code",
   "execution_count": 69,
   "id": "d0efe0d1-161f-4099-bc7d-afa8f10dfb9b",
   "metadata": {},
   "outputs": [
    {
     "data": {
      "text/plain": [
       "['mango']"
      ]
     },
     "execution_count": 69,
     "metadata": {},
     "output_type": "execute_result"
    }
   ],
   "source": [
    "# List comprehension\n",
    "\n",
    "fruits = ['apple','banana','cherry','kiqi','mango']\n",
    "L = [x for x in fruits if x.endswith('o')]\n",
    "L"
   ]
  },
  {
   "cell_type": "code",
   "execution_count": 70,
   "id": "6c8aad27-9b24-4e60-9914-1fa289316195",
   "metadata": {},
   "outputs": [
    {
     "data": {
      "text/plain": [
       "['apple', 'orange', 'cherry', 'kiqi', 'mango']"
      ]
     },
     "execution_count": 70,
     "metadata": {},
     "output_type": "execute_result"
    }
   ],
   "source": [
    "# List comprehension\n",
    "\n",
    "fruits = ['apple','banana','cherry','kiqi','mango']\n",
    "L = [x if x!='banana' else 'orange' for x in fruits]\n",
    "L"
   ]
  },
  {
   "cell_type": "code",
   "execution_count": 71,
   "id": "eb5fb0dd-5eff-4823-a39a-43b6298bb160",
   "metadata": {},
   "outputs": [
    {
     "data": {
      "text/plain": [
       "['42', '5', '43']"
      ]
     },
     "execution_count": 71,
     "metadata": {},
     "output_type": "execute_result"
    }
   ],
   "source": [
    "# List comprehension\n",
    "\n",
    "L = ['Partho', '42', 'Abhik', '5', 'Sherena', '43']\n",
    "L1 = [x for x in L if x.isdigit()]\n",
    "L1"
   ]
  },
  {
   "cell_type": "code",
   "execution_count": 72,
   "id": "1470192c-c9d0-4a0f-9d3f-f4d2cdc69286",
   "metadata": {},
   "outputs": [
    {
     "data": {
      "text/plain": [
       "['Partho', 'Abhik', 'Sherena']"
      ]
     },
     "execution_count": 72,
     "metadata": {},
     "output_type": "execute_result"
    }
   ],
   "source": [
    "# List comprehension\n",
    "\n",
    "L = ['Partho', '42', 'Abhik', '5', 'Sherena', '43']\n",
    "L1 = [x for x in L if x.isalpha()]\n",
    "L1"
   ]
  },
  {
   "cell_type": "code",
   "execution_count": 73,
   "id": "84e75dfc-6ce2-4fa1-b9d8-bc54ffc1bb1b",
   "metadata": {},
   "outputs": [
    {
     "data": {
      "text/plain": [
       "['apple', 'banana', 'cherry', 'kiqi', 'mango']"
      ]
     },
     "execution_count": 73,
     "metadata": {},
     "output_type": "execute_result"
    }
   ],
   "source": [
    "# List comprehension\n",
    "\n",
    "newlist = [x for x in fruits]\n",
    "newlist"
   ]
  },
  {
   "cell_type": "code",
   "execution_count": 74,
   "id": "dec8c4d5-030f-404f-8225-1989c449a14f",
   "metadata": {},
   "outputs": [
    {
     "data": {
      "text/plain": [
       "[1, 2, 3, 4, 5, 6, 7, 8, 9, 10]"
      ]
     },
     "execution_count": 74,
     "metadata": {},
     "output_type": "execute_result"
    }
   ],
   "source": [
    "# List comprehension\n",
    "\n",
    "L = [x for x in range(1, 11)]\n",
    "L"
   ]
  },
  {
   "cell_type": "code",
   "execution_count": 75,
   "id": "f6cfe3f0-bf71-4f9d-8fb9-cf6f3e2f5fb2",
   "metadata": {},
   "outputs": [
    {
     "data": {
      "text/plain": [
       "[2, 4, 6, 8, 10]"
      ]
     },
     "execution_count": 75,
     "metadata": {},
     "output_type": "execute_result"
    }
   ],
   "source": [
    "L = [1,2,3,4,5,6,7,8,9,10]\n",
    "\n",
    "even = [x for x in L if x%2 == 0]\n",
    "even"
   ]
  },
  {
   "cell_type": "code",
   "execution_count": 76,
   "id": "158bc380-8793-416e-a113-a4ff34aa0274",
   "metadata": {},
   "outputs": [
    {
     "data": {
      "text/plain": [
       "[1, 3, 5, 7, 9]"
      ]
     },
     "execution_count": 76,
     "metadata": {},
     "output_type": "execute_result"
    }
   ],
   "source": [
    "odd = [x for x in L if x%2 != 0]\n",
    "odd"
   ]
  },
  {
   "cell_type": "code",
   "execution_count": 77,
   "id": "a2e92e1c-9ba8-4aa4-a1ea-a2afaa39943a",
   "metadata": {},
   "outputs": [
    {
     "data": {
      "text/plain": [
       "[1, 2, 3, 0, 2, 1, 3]"
      ]
     },
     "execution_count": 77,
     "metadata": {},
     "output_type": "execute_result"
    }
   ],
   "source": [
    "# List comprehension\n",
    "\n",
    "L = [1,2,3,8,6,7,0,2,1,3,8,9,10]\n",
    "\n",
    "L1 = [x for x in L if x<5]\n",
    "L1"
   ]
  },
  {
   "cell_type": "code",
   "execution_count": 78,
   "id": "046c4f0b-1a7b-4249-b423-38e3ea25c565",
   "metadata": {},
   "outputs": [
    {
     "data": {
      "text/plain": [
       "['APPLE', 'BANANA', 'CHERRY', 'KIQI', 'MANGO']"
      ]
     },
     "execution_count": 78,
     "metadata": {},
     "output_type": "execute_result"
    }
   ],
   "source": [
    "# List comprehension\n",
    "\n",
    "fruits = ['apple','banana','cherry','kiqi','mango']\n",
    "\n",
    "upper = [x.upper() for x in fruits]\n",
    "upper"
   ]
  },
  {
   "cell_type": "code",
   "execution_count": 79,
   "id": "b6cb2bda-a290-455d-b76e-deda7f7eadcf",
   "metadata": {},
   "outputs": [
    {
     "data": {
      "text/plain": [
       "[3, 4, 5, 6, 7]"
      ]
     },
     "execution_count": 79,
     "metadata": {},
     "output_type": "execute_result"
    }
   ],
   "source": [
    "# List comprehension\n",
    "\n",
    "L = [1,2,3,4,5]\n",
    "L1 = [x+2 for x in L]\n",
    "L1"
   ]
  },
  {
   "cell_type": "code",
   "execution_count": 80,
   "id": "c517a345-b4db-412d-950e-c7b55298156d",
   "metadata": {},
   "outputs": [
    {
     "data": {
      "text/plain": [
       "[1, 4, 9, 16, 25]"
      ]
     },
     "execution_count": 80,
     "metadata": {},
     "output_type": "execute_result"
    }
   ],
   "source": [
    "# List comprehension\n",
    "\n",
    "L = [1,2,3,4,5]\n",
    "L1 = [x**2 for x in L]\n",
    "L1"
   ]
  },
  {
   "cell_type": "code",
   "execution_count": 81,
   "id": "02cb4516-f434-4cb5-87f5-dc7b74b0907e",
   "metadata": {},
   "outputs": [
    {
     "data": {
      "text/plain": [
       "[5, 10, 15, 20, 25, 30, 35, 40, 45, 50]"
      ]
     },
     "execution_count": 81,
     "metadata": {},
     "output_type": "execute_result"
    }
   ],
   "source": [
    "# List comprehension\n",
    "\n",
    "L = [x for x in range(1,51) if x%5 ==0]\n",
    "L"
   ]
  },
  {
   "cell_type": "code",
   "execution_count": 82,
   "id": "dada76b6-f09d-440b-b84a-ecc9f6c49ec2",
   "metadata": {},
   "outputs": [
    {
     "data": {
      "text/plain": [
       "[(1, 4), (2, 5), (3, 6)]"
      ]
     },
     "execution_count": 82,
     "metadata": {},
     "output_type": "execute_result"
    }
   ],
   "source": [
    "# zip() ---------> zip two lists\n",
    "\n",
    "L1 = [1,2,3]\n",
    "L2 = [4,5,6]\n",
    "list(zip(L1,L2))"
   ]
  },
  {
   "cell_type": "markdown",
   "id": "37d84037-5c7b-4f19-87fc-5ae2fed7cdd3",
   "metadata": {},
   "source": [
    "# Exam Questions"
   ]
  },
  {
   "cell_type": "markdown",
   "id": "d7f8e276-8553-48fc-8de5-e659b2e4da31",
   "metadata": {},
   "source": [
    "### 🔹 **Basic Level (1–10): Fundamentals**"
   ]
  },
  {
   "cell_type": "code",
   "execution_count": 85,
   "id": "dcf461d2-c753-41d8-876b-83f9fcea6254",
   "metadata": {},
   "outputs": [],
   "source": [
    "# 1. What is a list in Python? How does it differ from a tuple?"
   ]
  },
  {
   "cell_type": "code",
   "execution_count": 86,
   "id": "11dcf8f7-9ba8-4dd6-9364-2981abcfce20",
   "metadata": {},
   "outputs": [
    {
     "data": {
      "text/plain": [
       "[]"
      ]
     },
     "execution_count": 86,
     "metadata": {},
     "output_type": "execute_result"
    }
   ],
   "source": [
    "# 2. How do you create an empty list in Python?\n",
    "\n",
    "# Answer:\n",
    "L= []\n",
    "L"
   ]
  },
  {
   "cell_type": "code",
   "execution_count": 87,
   "id": "b1eb7beb-3928-47cf-b461-ff260d119b6e",
   "metadata": {},
   "outputs": [
    {
     "data": {
      "text/plain": [
       "[1, 2, 3, 100]"
      ]
     },
     "execution_count": 87,
     "metadata": {},
     "output_type": "execute_result"
    }
   ],
   "source": [
    "# 3. Write a Python expression to append the value 100 to a list named `data`.\n",
    "\n",
    "# Answer:\n",
    "data = [1,2,3]\n",
    "data.append(100)\n",
    "data"
   ]
  },
  {
   "cell_type": "code",
   "execution_count": 88,
   "id": "e89dd99d-6a9a-41b5-b1c0-6bbcc8fbfe14",
   "metadata": {},
   "outputs": [
    {
     "data": {
      "text/plain": [
       "[2, 3, 4, 5]"
      ]
     },
     "execution_count": 88,
     "metadata": {},
     "output_type": "execute_result"
    }
   ],
   "source": [
    "# 4. How do you remove the first element from a list `numbers`?\n",
    "\n",
    "# Answer:\n",
    "numbers = [1,2,3,4,5]\n",
    "numbers.pop(0)\n",
    "numbers"
   ]
  },
  {
   "cell_type": "code",
   "execution_count": 89,
   "id": "475b3b3b-6102-4ebc-a6c0-f196127c3c6b",
   "metadata": {},
   "outputs": [
    {
     "data": {
      "text/plain": [
       "[7, 3, 8, 1, 7, 4, 3]"
      ]
     },
     "execution_count": 89,
     "metadata": {},
     "output_type": "execute_result"
    }
   ],
   "source": [
    "# 5. Write a Python code to reverse the elements in a list named `a`.\n",
    "\n",
    "# Answer:\n",
    "a = [3,4,7,1,8,3,7]\n",
    "a.reverse()\n",
    "a"
   ]
  },
  {
   "cell_type": "code",
   "execution_count": 90,
   "id": "b0c49df2-5bf0-44d1-9d97-59c47cbfd039",
   "metadata": {},
   "outputs": [
    {
     "data": {
      "text/plain": [
       "5"
      ]
     },
     "execution_count": 90,
     "metadata": {},
     "output_type": "execute_result"
    }
   ],
   "source": [
    "# 6. How can you find the length of a list called `values`?\n",
    "\n",
    "# Answer:\n",
    "values = [1,2,3,4,5]\n",
    "len(values)"
   ]
  },
  {
   "cell_type": "code",
   "execution_count": 91,
   "id": "f013cca9-efc6-49c8-bcab-71dd2368ec54",
   "metadata": {},
   "outputs": [
    {
     "data": {
      "text/plain": [
       "[1, 4, 9, 16, 25, 36, 49, 64, 81, 100]"
      ]
     },
     "execution_count": 91,
     "metadata": {},
     "output_type": "execute_result"
    }
   ],
   "source": [
    "# 7. Write a list comprehension to create a list of squares of numbers from 1 to 10.\n",
    "\n",
    "# Answer:\n",
    "L = [x**2 for x in range(1,11)]\n",
    "L"
   ]
  },
  {
   "cell_type": "code",
   "execution_count": 92,
   "id": "1c148eaa-6108-4c5c-a9d9-0814a00100ac",
   "metadata": {},
   "outputs": [],
   "source": [
    "# 8. What is the output of `['a', 'b', 'c'] * 2`?\n",
    "\n",
    "# Answer: ['a', 'b', 'c', 'a', 'b', 'c']"
   ]
  },
  {
   "cell_type": "code",
   "execution_count": 93,
   "id": "3350758e-8fc3-4a4e-8f08-1b5e05db6886",
   "metadata": {},
   "outputs": [
    {
     "name": "stdout",
     "output_type": "stream",
     "text": [
      "50 is not in list\n"
     ]
    },
    {
     "data": {
      "text/plain": [
       "[None]"
      ]
     },
     "execution_count": 93,
     "metadata": {},
     "output_type": "execute_result"
    }
   ],
   "source": [
    "# 9. How can you check whether the element 50 exists in a list `scores`?\n",
    "\n",
    "# Answer:\n",
    "scores = [1,2,3,4,50]\n",
    "[print('50 is in the list') if x in scores else print('50 is not in list')]"
   ]
  },
  {
   "cell_type": "code",
   "execution_count": 94,
   "id": "7a3e38f5-127f-483b-b476-0d993b286cd9",
   "metadata": {},
   "outputs": [],
   "source": [
    "# 10. Explain the difference between `.append()` and `.extend()` methods in lists.\n",
    "\n",
    "# Answer:\n"
   ]
  },
  {
   "cell_type": "markdown",
   "id": "c93363c2-fb23-4124-afc5-99e381a8d472",
   "metadata": {},
   "source": [
    "### 🔹 **Intermediate Level (11–20): Indexing, Slicing, Operations**"
   ]
  },
  {
   "cell_type": "code",
   "execution_count": 96,
   "id": "bc9be665-15c6-4915-a0e6-4ed60319746e",
   "metadata": {},
   "outputs": [
    {
     "data": {
      "text/plain": [
       "[6, 7, 8]"
      ]
     },
     "execution_count": 96,
     "metadata": {},
     "output_type": "execute_result"
    }
   ],
   "source": [
    "# 11. Write a Python code to extract the last 3 elements of a list `my_list`.\n",
    "\n",
    "# Answer:\n",
    "my_list = [1,2,3,4,5,6,7,8]\n",
    "my_list[-3:]"
   ]
  },
  {
   "cell_type": "code",
   "execution_count": 97,
   "id": "5dd7ed25-be19-4cbb-9cb9-1aa9e63472b4",
   "metadata": {},
   "outputs": [
    {
     "data": {
      "text/plain": [
       "30"
      ]
     },
     "execution_count": 97,
     "metadata": {},
     "output_type": "execute_result"
    }
   ],
   "source": [
    "# 12. If `lst = [10, 20, 30, 40]`, what is the output of `lst[-2]`?\n",
    "\n",
    "# Answer:  30\n",
    "lst = [10, 20, 30, 40]\n",
    "lst[-2]"
   ]
  },
  {
   "cell_type": "code",
   "execution_count": 98,
   "id": "5e02df58-3430-4b95-8541-2780fb3ec879",
   "metadata": {},
   "outputs": [
    {
     "data": {
      "text/plain": [
       "['d', 'a', 't', 'a']"
      ]
     },
     "execution_count": 98,
     "metadata": {},
     "output_type": "execute_result"
    }
   ],
   "source": [
    "# 13. What is the result of `list('data')`?\n",
    "\n",
    "# Answer: ['d', 'a', 't', 'a']\n",
    "list('data')"
   ]
  },
  {
   "cell_type": "code",
   "execution_count": 99,
   "id": "c9680f1b-b8f3-4316-bff9-08147d5af3a2",
   "metadata": {},
   "outputs": [
    {
     "data": {
      "text/plain": [
       "[1, 2, 99, 4]"
      ]
     },
     "execution_count": 99,
     "metadata": {},
     "output_type": "execute_result"
    }
   ],
   "source": [
    "# 14. Modify the third element of a list `x = [1, 2, 3, 4]` to 99.\n",
    "\n",
    "# Answer:\n",
    "x = [1, 2, 3, 4]\n",
    "x[2] = 99\n",
    "x"
   ]
  },
  {
   "cell_type": "code",
   "execution_count": 100,
   "id": "9b09cbf6-7aee-4958-9aca-ce2f59befb78",
   "metadata": {},
   "outputs": [
    {
     "data": {
      "text/plain": [
       "[1, 2, 3, 4]"
      ]
     },
     "execution_count": 100,
     "metadata": {},
     "output_type": "execute_result"
    }
   ],
   "source": [
    "# 15. Combine two lists `a = [1, 2]` and `b = [3, 4]` into one list.\n",
    "\n",
    "# Answer:\n",
    "a = [1, 2]\n",
    "b = [3, 4]\n",
    "a+b"
   ]
  },
  {
   "cell_type": "code",
   "execution_count": 101,
   "id": "1864a399-8834-4f8a-9789-829bfdcfcbe9",
   "metadata": {},
   "outputs": [
    {
     "data": {
      "text/plain": [
       "[1, 2, 500, 3, 4, 5]"
      ]
     },
     "execution_count": 101,
     "metadata": {},
     "output_type": "execute_result"
    }
   ],
   "source": [
    "# 16. How do you insert an element `500` at index `2` of the list `nums`?\n",
    "\n",
    "# Answer:\n",
    "nums = [1,2,3,4,5]\n",
    "nums.insert(2,500)\n",
    "nums"
   ]
  },
  {
   "cell_type": "code",
   "execution_count": 102,
   "id": "74e89626-4046-4521-815f-58c355a0da8f",
   "metadata": {},
   "outputs": [
    {
     "data": {
      "text/plain": [
       "[1, 2, 3]"
      ]
     },
     "execution_count": 102,
     "metadata": {},
     "output_type": "execute_result"
    }
   ],
   "source": [
    "# 17. Remove all occurrences of `0` from this list:\n",
    "x = [0, 1, 0, 2, 0, 3]\n",
    "\n",
    "# Answer:\n",
    "x = [i for i in x if i!=0]\n",
    "x"
   ]
  },
  {
   "cell_type": "code",
   "execution_count": 103,
   "id": "a03c5bef-05e4-40ce-8d92-d580a79c573c",
   "metadata": {},
   "outputs": [
    {
     "data": {
      "text/plain": [
       "[5, 3, 2, 1]"
      ]
     },
     "execution_count": 103,
     "metadata": {},
     "output_type": "execute_result"
    }
   ],
   "source": [
    "# 18. Sort the list in descending order.\n",
    "items = [3, 1, 5, 2]\n",
    "\n",
    "# Answer:\n",
    "sorted(items, reverse=True)"
   ]
  },
  {
   "cell_type": "code",
   "execution_count": 104,
   "id": "bef1326d-26d0-4eb0-b8ac-5ca3de9dab05",
   "metadata": {},
   "outputs": [],
   "source": [
    "# 19. Explain what happens if you try to access an index that doesn’t exist in a list.\n",
    "\n",
    "# Answer: IndexError: list index out of range\n",
    "L = [1,2,3,4]\n",
    "# L[10]"
   ]
  },
  {
   "cell_type": "code",
   "execution_count": 105,
   "id": "1306ce4c-9504-4333-aed4-8d6052229087",
   "metadata": {},
   "outputs": [
    {
     "data": {
      "text/plain": [
       "30"
      ]
     },
     "execution_count": 105,
     "metadata": {},
     "output_type": "execute_result"
    }
   ],
   "source": [
    "# 20. Write a function that returns the sum of all even numbers in a list.\n",
    "L = [1,2,3,4,5,6,7,8,9,10]\n",
    "\n",
    "# Answer:\n",
    "def sum_even_number(anylist):\n",
    "    sum=0\n",
    "    for x in anylist:\n",
    "        if x%2 == 0:\n",
    "            sum +=x\n",
    "    return sum\n",
    "\n",
    "sum_even_number(L)"
   ]
  },
  {
   "cell_type": "markdown",
   "id": "3cc9a68a-f175-4e78-83aa-9e6eb1c7f897",
   "metadata": {},
   "source": [
    "### 🔹 **Advanced Level (21–30): Data Science Applications**"
   ]
  },
  {
   "cell_type": "code",
   "execution_count": 107,
   "id": "f587da0a-f604-4171-8250-30b5246e9e64",
   "metadata": {},
   "outputs": [
    {
     "data": {
      "text/plain": [
       "array([1, 2, 3, 4, 5])"
      ]
     },
     "execution_count": 107,
     "metadata": {},
     "output_type": "execute_result"
    }
   ],
   "source": [
    "# 21. How can you convert a list of numbers to a NumPy array? Why is this useful?\n",
    "L = [1,2,3,4,5]\n",
    "\n",
    "# Answer:\n",
    "import numpy as np\n",
    "L_numpy = np.array(L)\n",
    "L_numpy"
   ]
  },
  {
   "cell_type": "code",
   "execution_count": 108,
   "id": "7803bb79-5635-4936-8068-5904bec9e8fa",
   "metadata": {},
   "outputs": [
    {
     "data": {
      "text/plain": [
       "[5, 10, 15]"
      ]
     },
     "execution_count": 108,
     "metadata": {},
     "output_type": "execute_result"
    }
   ],
   "source": [
    "# 22. Given `data = ['5', '10', '15']`, convert it to a list of integers.\n",
    "data = ['5', '10', '15']\n",
    "\n",
    "# Answer:\n",
    "data_int = [int(x) for x in data]\n",
    "data_int"
   ]
  },
  {
   "cell_type": "code",
   "execution_count": 109,
   "id": "1454cf1e-060b-4994-976d-a749ac497bc9",
   "metadata": {},
   "outputs": [
    {
     "data": {
      "text/plain": [
       "[-1, -2, -5, -9]"
      ]
     },
     "execution_count": 109,
     "metadata": {},
     "output_type": "execute_result"
    }
   ],
   "source": [
    "# 23. Write a list comprehension to filter out only negative numbers from a list.\n",
    "L = [1,2,-1,-2,3,4,5,-5,-9]\n",
    "\n",
    "# Answer:\n",
    "L_negative = [x for x in L if x<0]\n",
    "L_negative"
   ]
  },
  {
   "cell_type": "code",
   "execution_count": 110,
   "id": "20dfece7-61b3-4dc8-9776-5ed860a4f965",
   "metadata": {},
   "outputs": [
    {
     "data": {
      "text/plain": [
       "[1, 2, 3, 4, 5]"
      ]
     },
     "execution_count": 110,
     "metadata": {},
     "output_type": "execute_result"
    }
   ],
   "source": [
    "# 24. Flatten the following tnested list into  [1, 2, 3, 4, 5]\n",
    "L = [[1, 2], [3, 4], [5]]\n",
    "\n",
    "# Answer:\n",
    "flatten = [x for sublist in L for x in sublist]\n",
    "flatten"
   ]
  },
  {
   "cell_type": "code",
   "execution_count": 111,
   "id": "ad3c3a21-d8e7-428d-b9ea-daf8909c126c",
   "metadata": {},
   "outputs": [
    {
     "data": {
      "text/plain": [
       "[1, 2, 3, 4]"
      ]
     },
     "execution_count": 111,
     "metadata": {},
     "output_type": "execute_result"
    }
   ],
   "source": [
    "# 25. How would you remove duplicate values from a list while preserving the order?\n",
    "data = [1, 2, 2, 3, 1, 4]\n",
    "\n",
    "# Answer:\n",
    "def remove_duplicates(anylist):\n",
    "    seen = set()\n",
    "    return [x for x in anylist if not(x in seen or seen.add(x))]\n",
    "\n",
    "remove_duplicates(data)"
   ]
  },
  {
   "cell_type": "code",
   "execution_count": 112,
   "id": "23a9eb2d-4c22-4e3a-b9d5-a0f67479f8aa",
   "metadata": {},
   "outputs": [
    {
     "data": {
      "text/plain": [
       "'science'"
      ]
     },
     "execution_count": 112,
     "metadata": {},
     "output_type": "execute_result"
    }
   ],
   "source": [
    "# 26. Given a list of strings, write a function to return the longest string.\n",
    "L = ['data','science','python','pandas','numpy']\n",
    "\n",
    "# Answer:\n",
    "max(L, key=len)"
   ]
  },
  {
   "cell_type": "code",
   "execution_count": 113,
   "id": "9d70b867-8504-4319-9c3e-237fa4dc1c57",
   "metadata": {},
   "outputs": [
    {
     "name": "stdout",
     "output_type": "stream",
     "text": [
      "{'apple': 3, 'banana': 2, 'orange': 1}\n"
     ]
    }
   ],
   "source": [
    "# 27. How can you calculate the frequency of each unique element in a list?\n",
    "\n",
    "# Answer:\n",
    "data = ['apple', 'banana', 'apple', 'orange', 'banana', 'apple']\n",
    "frequency = {}\n",
    "for item in data:\n",
    "    frequency[item] = frequency.get(item, 0) + 1\n",
    "print(frequency)"
   ]
  },
  {
   "cell_type": "code",
   "execution_count": 114,
   "id": "35b884eb-07d4-4040-b7d5-56d30e9268a7",
   "metadata": {},
   "outputs": [
    {
     "name": "stdout",
     "output_type": "stream",
     "text": [
      "Average temperature: 30.56°C\n"
     ]
    }
   ],
   "source": [
    "# 28. Use a list to store values of a time series (e.g., daily temperature), and write code to find the average.\n",
    "temperatures = [30.5, 31.0, 29.8, 32.2, 30.0, 28.9, 31.5]\n",
    "\n",
    "# Answer:\n",
    "average_temp = sum(temperatures) / len(temperatures)\n",
    "print(f\"Average temperature: {average_temp:.2f}°C\")"
   ]
  },
  {
   "cell_type": "code",
   "execution_count": 115,
   "id": "2bae9634-b6f4-4db2-978a-7d2dbb0f2328",
   "metadata": {},
   "outputs": [
    {
     "name": "stdout",
     "output_type": "stream",
     "text": [
      "[25, 30, 22]\n"
     ]
    }
   ],
   "source": [
    "# 29. Given a list of dictionaries representing people, extract a list of all ages.\n",
    "people = [{\"name\": \"A\", \"age\": 25}, {\"name\": \"B\", \"age\": 30}, {\"name\": \"C\", \"age\": 22}]\n",
    "\n",
    "# Answer:\n",
    "ages = [person[\"age\"] for person in people]\n",
    "print(ages)"
   ]
  },
  {
   "cell_type": "code",
   "execution_count": 116,
   "id": "0eb6d47e-b8c3-4df1-a766-d30493a7fe15",
   "metadata": {},
   "outputs": [
    {
     "data": {
      "text/plain": [
       "['A', 'B', 'C']"
      ]
     },
     "execution_count": 116,
     "metadata": {},
     "output_type": "execute_result"
    }
   ],
   "source": [
    "# If want to extract the names\n",
    "names = [person[\"name\"] for person in people]\n",
    "names"
   ]
  },
  {
   "cell_type": "code",
   "execution_count": 117,
   "id": "a61045c8-be96-4004-8bda-e242b7672224",
   "metadata": {},
   "outputs": [
    {
     "name": "stdout",
     "output_type": "stream",
     "text": [
      "Queue after enqueues: ['A', 'B', 'C']\n",
      "Dequeued: A\n",
      "Queue after dequeue: ['B', 'C']\n"
     ]
    }
   ],
   "source": [
    "# 30. Use a list to simulate a queue and perform enqueue and dequeue operations.\n",
    "\n",
    "# Answer:\n",
    "queue = []\n",
    "\n",
    "# Enqueue operations\n",
    "queue.append('A')\n",
    "queue.append('B')\n",
    "queue.append('C')\n",
    "print(\"Queue after enqueues:\", queue)\n",
    "\n",
    "# Dequeue operations\n",
    "first = queue.pop(0)\n",
    "print(\"Dequeued:\", first)\n",
    "print(\"Queue after dequeue:\", queue)"
   ]
  },
  {
   "cell_type": "markdown",
   "id": "9b014b80-d4e9-4c26-a701-71c740e0fe1b",
   "metadata": {},
   "source": [
    "# The End"
   ]
  }
 ],
 "metadata": {
  "kernelspec": {
   "display_name": "Python [conda env:base] *",
   "language": "python",
   "name": "conda-base-py"
  },
  "language_info": {
   "codemirror_mode": {
    "name": "ipython",
    "version": 3
   },
   "file_extension": ".py",
   "mimetype": "text/x-python",
   "name": "python",
   "nbconvert_exporter": "python",
   "pygments_lexer": "ipython3",
   "version": "3.12.7"
  }
 },
 "nbformat": 4,
 "nbformat_minor": 5
}
