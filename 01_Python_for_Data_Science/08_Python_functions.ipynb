{
 "cells": [
  {
   "cell_type": "markdown",
   "id": "5c1b07af-9fd0-416e-9426-9a7d10d212c5",
   "metadata": {},
   "source": [
    "#  Data Science Learning Journey  \n",
    "*Curiosity to Capability — One Notebook at a Time*\n",
    "\n",
    "---\n",
    "Compiled and authored by **Partho Sarothi Das**   \n",
    "\tDhaka, Bangladesh  \n",
    "\tBachelor's & Master's in Statistics  \n",
    "\tInvestment Banking Professional → Aspiring Data Scientist \n",
    "    \n",
    "---"
   ]
  },
  {
   "cell_type": "markdown",
   "id": "a5c6f798-d477-4b42-8057-0c02a3edc67b",
   "metadata": {},
   "source": [
    "# Functions\n",
    "\n",
    "A function is a block of reusable code which only runs when it is called.\n",
    "\n",
    "**Why Use Functions?**\n",
    "- Reusability: Write once, use many times.\n",
    "- Modularity: Divide large programs into small pieces.\n",
    "- Readability: Easier to understand and maintain.\n",
    "- Debugging: Easy to isolate errors.\n",
    "\n",
    "**Types of Functions**\n",
    "- Built-in Functions (e.g., print(), len(), sum())\n",
    "- User-defined Functions\n",
    "\n",
    "**Parameters or Arguments**\n",
    "\n",
    "The terms parameter and argument can be used for the same thing: information that are passed into a function.\n",
    "\n",
    "- A parameter is the variable listed inside the parentheses in the function definition.\n",
    "- An argument is the value that is sent to the function when it is called."
   ]
  },
  {
   "cell_type": "code",
   "execution_count": 3,
   "id": "fdab6137-e60d-4ff0-8f09-e212ef070a2b",
   "metadata": {},
   "outputs": [],
   "source": [
    "# Syntax:\n",
    "\n",
    "def function_name(parameters):\n",
    "    \"\"\"Optional docstring\"\"\"\n",
    "    # Code block\n",
    "    return value  # optional"
   ]
  },
  {
   "cell_type": "code",
   "execution_count": 4,
   "id": "90f04fda-c53f-495f-bab9-3a2c691a1e98",
   "metadata": {},
   "outputs": [
    {
     "name": "stdout",
     "output_type": "stream",
     "text": [
      "I have a strong passion for data science and its real-world applications.\n"
     ]
    }
   ],
   "source": [
    "def func_one():\n",
    "    print('I have a strong passion for data science and its real-world applications.')\n",
    "    \n",
    "# Calling a function\n",
    "func_one()"
   ]
  },
  {
   "cell_type": "code",
   "execution_count": 5,
   "id": "82a2e105-cbc3-4d6f-847f-7bd56a06dc52",
   "metadata": {},
   "outputs": [
    {
     "data": {
      "text/plain": [
       "'even'"
      ]
     },
     "execution_count": 5,
     "metadata": {},
     "output_type": "execute_result"
    }
   ],
   "source": [
    "# function ----> with docstring\n",
    "\n",
    "def is_even(num):\n",
    "  \"\"\"\n",
    "  This function returns if a given number is odd or even.\n",
    "  input - any valid integer\n",
    "  output - odd/even\n",
    "  created on - 4th July 2025\n",
    "  \"\"\"\n",
    "  if type(num) == int:\n",
    "    if num % 2 == 0:\n",
    "      return 'even'\n",
    "    else:\n",
    "      return 'odd'\n",
    "  else:\n",
    "    return 'It is not an integer.'\n",
    "\n",
    "# Calling the function\n",
    "is_even(4)"
   ]
  },
  {
   "cell_type": "code",
   "execution_count": 6,
   "id": "562fb53e-0b89-4315-912c-b234a1b4cfda",
   "metadata": {},
   "outputs": [
    {
     "name": "stdout",
     "output_type": "stream",
     "text": [
      "1  :  odd\n",
      "2  :  even\n",
      "3  :  odd\n",
      "4  :  even\n",
      "5  :  odd\n",
      "6  :  even\n",
      "7  :  odd\n",
      "8  :  even\n",
      "9  :  odd\n",
      "10  :  even\n"
     ]
    }
   ],
   "source": [
    "# Calling 'is_even' function with for.\n",
    "\n",
    "for i in range (1,11):\n",
    "    x = is_even(i)\n",
    "    print(i,' : ',x)"
   ]
  },
  {
   "cell_type": "markdown",
   "id": "d0349405-bfb8-4a5e-a52f-32cc4d7fed2a",
   "metadata": {},
   "source": [
    "# Parameters and Arguments\n",
    "\n",
    "Information can be passed into functions as arguments.\n",
    "\n",
    "- Default Argument\n",
    "- Positional Argument\n",
    "- Keyword Argument\n",
    "- Arbitrary ----> *args and **kwargs"
   ]
  },
  {
   "cell_type": "code",
   "execution_count": 8,
   "id": "becd464e-b754-4cb7-98d8-8c8e5f1c84ac",
   "metadata": {},
   "outputs": [
    {
     "name": "stdout",
     "output_type": "stream",
     "text": [
      "Good Morning, person\n",
      "Good Morning, John\n"
     ]
    }
   ],
   "source": [
    "# Default Argument\n",
    "\n",
    "def greet(name = 'person'):\n",
    "    print('Good Morning,', name)\n",
    "\n",
    "greet()\n",
    "greet('John')\n",
    "\n",
    "# Here (name = 'person') is default argument. If we do not pass any argument default argument will execute."
   ]
  },
  {
   "cell_type": "code",
   "execution_count": 9,
   "id": "7facc673-5a19-49b8-b306-f72e7a793f33",
   "metadata": {},
   "outputs": [
    {
     "name": "stdout",
     "output_type": "stream",
     "text": [
      "Good Morning, John\n"
     ]
    }
   ],
   "source": [
    "# Positional Argument\n",
    "\n",
    "def greet(name = 'person'):\n",
    "    print('Good Morning,', name)\n",
    "\n",
    "greet('John')\n",
    "\n",
    "# Here \"greet('John')\" is positional argument."
   ]
  },
  {
   "cell_type": "code",
   "execution_count": 10,
   "id": "f4b8428c-63a3-408b-9a81-37fdeb46e377",
   "metadata": {},
   "outputs": [
    {
     "name": "stdout",
     "output_type": "stream",
     "text": [
      "Good Morning, John\n"
     ]
    }
   ],
   "source": [
    "# Keyword Argument\n",
    "\n",
    "def greet(name = 'person'):\n",
    "    print('Good Morning,', name)\n",
    "\n",
    "greet(name = 'John') \n",
    "# Here \"name = 'John'\" is keyword argument."
   ]
  },
  {
   "cell_type": "code",
   "execution_count": 11,
   "id": "8c1ed063-b33d-46e1-b482-d98ed7e7770a",
   "metadata": {},
   "outputs": [
    {
     "name": "stdout",
     "output_type": "stream",
     "text": [
      "Positional: ('Python', 3)\n",
      "Keyword: {'level': 'Beginner', 'type': 'Lecture'}\n"
     ]
    }
   ],
   "source": [
    "# Arbitrary ----> *args(tuple) and **kwargs (dictionary)\n",
    "\n",
    "def info(*args, **kwargs):\n",
    "    print(\"Positional:\", args)\n",
    "    print(\"Keyword:\", kwargs)\n",
    "\n",
    "info(\"Python\", 3, level=\"Beginner\", type=\"Lecture\")"
   ]
  },
  {
   "cell_type": "code",
   "execution_count": 12,
   "id": "19e7c03e-3dad-4b15-97d2-174d9248dd91",
   "metadata": {},
   "outputs": [
    {
     "name": "stdout",
     "output_type": "stream",
     "text": [
      "(1, 2, 3, 4)\n"
     ]
    }
   ],
   "source": [
    "# Arbitrary --- > *args\n",
    "\n",
    "def numbers(*num):\n",
    "    print(num)\n",
    "\n",
    "numbers(1,2,3,4)"
   ]
  },
  {
   "cell_type": "code",
   "execution_count": 13,
   "id": "ed9803af-eb53-42ac-b6d0-62789196ef9a",
   "metadata": {},
   "outputs": [
    {
     "name": "stdout",
     "output_type": "stream",
     "text": [
      "{'first': 2, 'second': 4, 'third': 6}\n"
     ]
    }
   ],
   "source": [
    "# Arbitrary -----> **kwargs\n",
    "\n",
    "def even_num(**num):\n",
    "    print(num)\n",
    "\n",
    "even_num(first = 2, second = 4, third = 6)"
   ]
  },
  {
   "cell_type": "code",
   "execution_count": 14,
   "id": "8be0809b-f10c-42c5-8e6b-8ffa2c2ffe90",
   "metadata": {},
   "outputs": [],
   "source": [
    "# Passing a List as an Argument\n",
    "\n",
    "def my_function(food):\n",
    "  for x in food:\n",
    "    print(x)"
   ]
  },
  {
   "cell_type": "code",
   "execution_count": 15,
   "id": "3d52611a-33db-4cd9-be66-53101ff86b11",
   "metadata": {},
   "outputs": [
    {
     "name": "stdout",
     "output_type": "stream",
     "text": [
      "f\n",
      "r\n",
      "u\n",
      "i\n",
      "t\n",
      "s\n"
     ]
    }
   ],
   "source": [
    "# Passing -----> string\n",
    "\n",
    "my_function('fruits')"
   ]
  },
  {
   "cell_type": "code",
   "execution_count": 16,
   "id": "52974736-ad40-40aa-a19c-f18c7714d5bc",
   "metadata": {},
   "outputs": [
    {
     "name": "stdout",
     "output_type": "stream",
     "text": [
      "Apple\n",
      "Banana\n",
      "Orange\n"
     ]
    }
   ],
   "source": [
    "# Passing -----> list\n",
    "fruits =['Apple', 'Banana', 'Orange']\n",
    "my_function(fruits)"
   ]
  },
  {
   "cell_type": "code",
   "execution_count": 17,
   "id": "c04b9365-59fd-4a6d-b685-3602157b952c",
   "metadata": {},
   "outputs": [
    {
     "name": "stdout",
     "output_type": "stream",
     "text": [
      "1\n",
      "2\n",
      "3\n",
      "Apple\n",
      "Banana\n",
      "Orange\n"
     ]
    }
   ],
   "source": [
    "# Passing -----> dictionary\n",
    "fruits ={1:'Apple', 2:'Banana', 3:'Orange'}\n",
    "\n",
    "my_function(fruits)\n",
    "my_function(fruits.values())"
   ]
  },
  {
   "cell_type": "code",
   "execution_count": 18,
   "id": "12275732-b534-49cd-86e6-4305a81d36bb",
   "metadata": {},
   "outputs": [
    {
     "data": {
      "text/plain": [
       "'hello'"
      ]
     },
     "execution_count": 18,
     "metadata": {},
     "output_type": "execute_result"
    }
   ],
   "source": [
    "# Passing -----> Function as Argument\n",
    "\n",
    "def shout(text):\n",
    "    return text.upper()\n",
    "\n",
    "def whisper(text):\n",
    "    return text.lower()\n",
    "\n",
    "def speak(func):\n",
    "    return func('Hello')\n",
    "\n",
    "speak(shout)\n",
    "speak(whisper)"
   ]
  },
  {
   "cell_type": "code",
   "execution_count": 19,
   "id": "4197072d-b35b-4be5-a465-1005b397abb9",
   "metadata": {},
   "outputs": [
    {
     "name": "stdout",
     "output_type": "stream",
     "text": [
      "120\n"
     ]
    }
   ],
   "source": [
    "# Recursive Functions -----> A function that calls itself.\n",
    "\n",
    "def factorial(n):\n",
    "    if n == 1:\n",
    "        return 1\n",
    "    return n * factorial(n - 1)\n",
    "\n",
    "print(factorial(5))  # Output: 120"
   ]
  },
  {
   "cell_type": "code",
   "execution_count": 20,
   "id": "8158b8e1-6109-4afd-8739-6c5d5f4feae2",
   "metadata": {},
   "outputs": [
    {
     "name": "stdout",
     "output_type": "stream",
     "text": [
      "2\n"
     ]
    }
   ],
   "source": [
    "# Positional-Only Arguments\n",
    "\n",
    "def only_positional_argument(x, /):\n",
    "    print(x)\n",
    "\n",
    "only_positional_argument(2)\n",
    "# Note : only_positional_argument(x = 2) will occure a error."
   ]
  },
  {
   "cell_type": "code",
   "execution_count": 21,
   "id": "9afa3b36-869b-4022-9a9c-5161365d9828",
   "metadata": {},
   "outputs": [
    {
     "name": "stdout",
     "output_type": "stream",
     "text": [
      "3\n"
     ]
    }
   ],
   "source": [
    "# Keyword-Only Arguments\n",
    "\n",
    "def only_keyword_argument(*, x):\n",
    "    print(x)\n",
    "\n",
    "only_keyword_argument(x= 3)\n",
    "# Note : only_keyword_argument(3) will occure a error"
   ]
  },
  {
   "cell_type": "code",
   "execution_count": 22,
   "id": "fbee36e0-4ea6-43ed-9691-7f44d596b1b8",
   "metadata": {},
   "outputs": [
    {
     "name": "stdout",
     "output_type": "stream",
     "text": [
      "14\n"
     ]
    }
   ],
   "source": [
    "# Combine Positional-Only and Keyword-Only\n",
    "\n",
    "def both(a, b, /, *, c, d):\n",
    "    print(a+b+c+d)\n",
    "\n",
    "both(2, 3, c=4, d=5)"
   ]
  },
  {
   "cell_type": "markdown",
   "id": "bb7ea2ce-927b-4784-acc1-6bb412a25a4e",
   "metadata": {},
   "source": [
    "# Return statement"
   ]
  },
  {
   "cell_type": "code",
   "execution_count": 24,
   "id": "5078f232-a975-42dd-9112-8b50e17d18b0",
   "metadata": {},
   "outputs": [
    {
     "name": "stdout",
     "output_type": "stream",
     "text": [
      "15\n"
     ]
    }
   ],
   "source": [
    "# Return Statement ---- > Ends the function and optionally returns a value.\n",
    "\n",
    "def add(a, b):\n",
    "    return a + b\n",
    "\n",
    "result = add(10, 5)\n",
    "print(result)"
   ]
  },
  {
   "cell_type": "code",
   "execution_count": 25,
   "id": "e62c9450-3788-4a68-8ead-0607c8fa98ef",
   "metadata": {},
   "outputs": [
    {
     "name": "stdout",
     "output_type": "stream",
     "text": [
      "4\n"
     ]
    }
   ],
   "source": [
    "def test(x):\n",
    "    print(x)\n",
    "test(4)"
   ]
  },
  {
   "cell_type": "code",
   "execution_count": 26,
   "id": "d58218c2-284b-4efd-84e7-e863546969b0",
   "metadata": {},
   "outputs": [
    {
     "name": "stdout",
     "output_type": "stream",
     "text": [
      "2\n"
     ]
    }
   ],
   "source": [
    "test(x=2)"
   ]
  },
  {
   "cell_type": "markdown",
   "id": "4b349dab-c088-4536-bdf3-747c760a0d8a",
   "metadata": {},
   "source": [
    "# Lambda function\n",
    "\n",
    "A lambda function is a small anonymous function.   \n",
    "A lambda function can take any number of arguments, but can only have one expression."
   ]
  },
  {
   "cell_type": "code",
   "execution_count": 28,
   "id": "6cedd823-3904-4ba2-b4de-b4ed75153195",
   "metadata": {},
   "outputs": [
    {
     "data": {
      "text/plain": [
       "<function __main__.<lambda>(arguments)>"
      ]
     },
     "execution_count": 28,
     "metadata": {},
     "output_type": "execute_result"
    }
   ],
   "source": [
    "# Syntax\n",
    "\n",
    "lambda arguments : expression"
   ]
  },
  {
   "cell_type": "code",
   "execution_count": 29,
   "id": "ccc9be3c-6df2-4e23-a5d8-efa30a07a9a1",
   "metadata": {},
   "outputs": [
    {
     "data": {
      "text/plain": [
       "14"
      ]
     },
     "execution_count": 29,
     "metadata": {},
     "output_type": "execute_result"
    }
   ],
   "source": [
    "# Add 10 to argument a, and return the result.\n",
    "\n",
    "x = lambda a: a+10\n",
    "x(4)"
   ]
  },
  {
   "cell_type": "code",
   "execution_count": 30,
   "id": "8098f291-5d9d-48ce-8d7b-88ed3fde9f72",
   "metadata": {},
   "outputs": [
    {
     "data": {
      "text/plain": [
       "10"
      ]
     },
     "execution_count": 30,
     "metadata": {},
     "output_type": "execute_result"
    }
   ],
   "source": [
    "# Multiply argument a with argument b and return the result.\n",
    "\n",
    "x = lambda a,b : a * b\n",
    "x(2,5)"
   ]
  },
  {
   "cell_type": "code",
   "execution_count": 31,
   "id": "b6e6b372-7372-4034-a2d4-c16073f17380",
   "metadata": {},
   "outputs": [
    {
     "data": {
      "text/plain": [
       "18"
      ]
     },
     "execution_count": 31,
     "metadata": {},
     "output_type": "execute_result"
    }
   ],
   "source": [
    "# Summation of arguments a,b,c and return the result.\n",
    "\n",
    "x = lambda a,b,c : a+b+c\n",
    "x(4,6,8)"
   ]
  },
  {
   "cell_type": "markdown",
   "id": "9551cfef-a10c-4d8c-a2d8-b444acc956a5",
   "metadata": {},
   "source": [
    "# map"
   ]
  },
  {
   "cell_type": "code",
   "execution_count": 85,
   "id": "52d0ed95-50d0-4e26-8cc4-bc91ca2576b1",
   "metadata": {},
   "outputs": [
    {
     "data": {
      "text/plain": [
       "[1, 4, 9, 16, 25]"
      ]
     },
     "execution_count": 85,
     "metadata": {},
     "output_type": "execute_result"
    }
   ],
   "source": [
    "# square the items of a list\n",
    "\n",
    "list(map(lambda x:x**2,[1,2,3,4,5]))"
   ]
  },
  {
   "cell_type": "code",
   "execution_count": 90,
   "id": "ed0ac811-f027-4f6f-b0b8-8642587584b8",
   "metadata": {},
   "outputs": [
    {
     "data": {
      "text/plain": [
       "['odd', 'even', 'odd', 'even', 'odd']"
      ]
     },
     "execution_count": 90,
     "metadata": {},
     "output_type": "execute_result"
    }
   ],
   "source": [
    "# odd/even labelling of list items\n",
    "\n",
    "L = [1,2,3,4,5]\n",
    "list(map(lambda x:'even' if x%2 == 0 else 'odd',L))"
   ]
  },
  {
   "cell_type": "code",
   "execution_count": 92,
   "id": "0e9d16fa-0da1-4640-b02b-9bb6b293690f",
   "metadata": {},
   "outputs": [
    {
     "data": {
      "text/plain": [
       "['male', 'male', 'female']"
      ]
     },
     "execution_count": 92,
     "metadata": {},
     "output_type": "execute_result"
    }
   ],
   "source": [
    "# fetch names from a list of dict\n",
    "\n",
    "users = [\n",
    "    {\n",
    "        'name':'Robin',\n",
    "        'age':45,\n",
    "        'gender':'male'\n",
    "    },\n",
    "    {\n",
    "        'name':'John',\n",
    "        'age':33,\n",
    "        'gender':'male'\n",
    "    },\n",
    "    {\n",
    "        'name':'Roy',\n",
    "        'age':50,\n",
    "        'gender':'female'\n",
    "    }\n",
    "]\n",
    "\n",
    "list(map(lambda users:users['gender'],users))"
   ]
  },
  {
   "cell_type": "markdown",
   "id": "3f7705b0-b5fb-4455-8f59-0ff79efd7dce",
   "metadata": {},
   "source": [
    "# Filter"
   ]
  },
  {
   "cell_type": "code",
   "execution_count": 95,
   "id": "69e9de1d-a3f8-4d53-a65c-02f6f30d8b93",
   "metadata": {},
   "outputs": [
    {
     "data": {
      "text/plain": [
       "[6, 7]"
      ]
     },
     "execution_count": 95,
     "metadata": {},
     "output_type": "execute_result"
    }
   ],
   "source": [
    "# numbers greater than 5\n",
    "L = [3,4,5,6,7]\n",
    "\n",
    "# Answer:\n",
    "list(filter(lambda x:x>5,L))"
   ]
  },
  {
   "cell_type": "code",
   "execution_count": 99,
   "id": "77b798af-fd62-40dc-9e51-7220c995e8a2",
   "metadata": {},
   "outputs": [
    {
     "data": {
      "text/plain": [
       "['apple']"
      ]
     },
     "execution_count": 99,
     "metadata": {},
     "output_type": "execute_result"
    }
   ],
   "source": [
    "# fetch fruits starting with 'a'\n",
    "fruits = ['apple','guava','cherry']\n",
    "\n",
    "# Answer:\n",
    "list(filter(lambda x: x.startswith('a'), fruits))"
   ]
  },
  {
   "cell_type": "markdown",
   "id": "88bef595-e4d9-4c02-b3c8-e3c51ca8fde4",
   "metadata": {},
   "source": [
    "# Practice Exercises"
   ]
  },
  {
   "cell_type": "markdown",
   "id": "9522be86-4771-4932-ae4b-f37e80bcbf46",
   "metadata": {},
   "source": [
    "## 🔸 Easy"
   ]
  },
  {
   "cell_type": "code",
   "execution_count": 34,
   "id": "abad0f65-794f-4b58-bafb-dfbc8cd259d6",
   "metadata": {},
   "outputs": [
    {
     "name": "stdout",
     "output_type": "stream",
     "text": [
      "The maximum value is 20\n"
     ]
    }
   ],
   "source": [
    "# 1. Write a function to find the maximum of 3 numbers.\n",
    "\n",
    "def maximum_value(a, b, c):\n",
    "    if a > b and a > c:\n",
    "        return a\n",
    "    elif b > c:\n",
    "        return b\n",
    "    else:\n",
    "        return c\n",
    "\n",
    "result = maximum_value(10,20,8)\n",
    "print('The maximum value is', result)"
   ]
  },
  {
   "cell_type": "code",
   "execution_count": 35,
   "id": "703bf826-4f99-4c7c-b1b9-772404ba39c0",
   "metadata": {},
   "outputs": [
    {
     "data": {
      "text/plain": [
       "'HSEDALGNAB'"
      ]
     },
     "execution_count": 35,
     "metadata": {},
     "output_type": "execute_result"
    }
   ],
   "source": [
    "# 2. Create a function that reverses a string.\n",
    "\n",
    "def reverse_string(text):\n",
    "    reverse = text[::-1]\n",
    "    return reverse\n",
    "\n",
    "reverse_string('BANGLADESH')"
   ]
  },
  {
   "cell_type": "code",
   "execution_count": 36,
   "id": "a2f2ede0-c678-45ed-b101-0d6cec3c5b1c",
   "metadata": {},
   "outputs": [
    {
     "data": {
      "text/plain": [
       "'Even'"
      ]
     },
     "execution_count": 36,
     "metadata": {},
     "output_type": "execute_result"
    }
   ],
   "source": [
    "# 3. Write a function that checks if a number is even.\n",
    "\n",
    "def even_checker(num):\n",
    "    if not isinstance(num, int):\n",
    "        raise ValueError(\"Input must be an integer.\")\n",
    "    return \"Even\" if num%2 == 0 else \"Odd\"\n",
    "even_checker(2)"
   ]
  },
  {
   "cell_type": "markdown",
   "id": "75107b73-dc71-4ebd-a638-58539be342aa",
   "metadata": {},
   "source": [
    "## 🔸 Intermediate"
   ]
  },
  {
   "cell_type": "code",
   "execution_count": 38,
   "id": "6c4c0dc2-8fa3-48ab-9969-0660eb324a48",
   "metadata": {},
   "outputs": [
    {
     "data": {
      "text/plain": [
       "2"
      ]
     },
     "execution_count": 38,
     "metadata": {},
     "output_type": "execute_result"
    }
   ],
   "source": [
    "# 4. Write a function to count vowels in a sentence.\n",
    "\n",
    "# Answer:\n",
    "def vowel_count(text):\n",
    "    if not isinstance (text, str):\n",
    "        raise ValueError(\"Input must be a string.\")\n",
    "    else:\n",
    "        count = 0\n",
    "        vowel = 'aeiouAEIOU'\n",
    "        for char in text:\n",
    "            if char in vowel:\n",
    "                count +=1\n",
    "        return count\n",
    "vowel_count('abhik')"
   ]
  },
  {
   "cell_type": "code",
   "execution_count": 39,
   "id": "5cf7f73e-b0c1-4f4a-af64-e5498fbf971c",
   "metadata": {},
   "outputs": [
    {
     "data": {
      "text/plain": [
       "2"
      ]
     },
     "execution_count": 39,
     "metadata": {},
     "output_type": "execute_result"
    }
   ],
   "source": [
    "# Alternate solution of Q4:\n",
    "\n",
    "# Answer:\n",
    "def vowel_count_short(text):\n",
    "    if not isinstance (text, str):\n",
    "        raise ValueError (\"Input must be a string.\")\n",
    "    return sum(1 for char in text if char in 'aeiouAEIOU')\n",
    "\n",
    "vowel_count_short('Denmark')"
   ]
  },
  {
   "cell_type": "code",
   "execution_count": 40,
   "id": "4e2c9975-c7ed-4be4-a0f1-1b6ac0cb783b",
   "metadata": {},
   "outputs": [],
   "source": [
    "# 5. Write a recursive function to compute nth Fibonacci numbers.\n",
    "\n",
    "# Answer:\n"
   ]
  },
  {
   "cell_type": "code",
   "execution_count": 41,
   "id": "6ecb3fb4-70a4-4c5e-898b-6bc4d788317c",
   "metadata": {},
   "outputs": [
    {
     "data": {
      "text/plain": [
       "[1, 2, 3, 4, 5, 'mango']"
      ]
     },
     "execution_count": 41,
     "metadata": {},
     "output_type": "execute_result"
    }
   ],
   "source": [
    "# 6. Create a function that takes a list and returns only unique elements.\n",
    "\n",
    "# Answer:\n",
    "def unique_values(mylist):\n",
    "    unique = set(mylist)\n",
    "    unique_list = list(unique)\n",
    "    return unique_list\n",
    "\n",
    "L = [1,2,3,4,2,3,5,1,2,3,4,5, 'mango','mango']\n",
    "unique_values(L)\n",
    "\n",
    "# Note: set() do not preserve the original order of the elements."
   ]
  },
  {
   "cell_type": "code",
   "execution_count": 42,
   "id": "ad7c1a1e-2888-4997-a6bb-fbc697f30a59",
   "metadata": {},
   "outputs": [
    {
     "data": {
      "text/plain": [
       "[2, 1, 5, 3, 4, 'mango']"
      ]
     },
     "execution_count": 42,
     "metadata": {},
     "output_type": "execute_result"
    }
   ],
   "source": [
    "# Alternate solution ----->  preserve original order\n",
    "\n",
    "def unique_values_ordered(mylist):\n",
    "    seen = set()\n",
    "    unique =[]\n",
    "    for item in mylist:\n",
    "        if item not in seen:\n",
    "            seen.add(item)\n",
    "            unique.append(item)\n",
    "    return unique\n",
    "\n",
    "L = [2,1,5,3,4,2,3,5,1,2,3,4,5, 'mango','mango']\n",
    "unique_values_ordered(L)"
   ]
  },
  {
   "cell_type": "markdown",
   "id": "8634f8da-ae75-4613-b843-1b09f583361a",
   "metadata": {},
   "source": [
    "## 🔸 Advanced"
   ]
  },
  {
   "cell_type": "code",
   "execution_count": 44,
   "id": "386bafc7-96f0-49ef-af10-ad6453aa6929",
   "metadata": {},
   "outputs": [
    {
     "data": {
      "text/plain": [
       "[(4, 1), (3, 2), (1, 3), (2, 5)]"
      ]
     },
     "execution_count": 44,
     "metadata": {},
     "output_type": "execute_result"
    }
   ],
   "source": [
    "# 7. Use a lambda function to sort a list of tuples by second value.\n",
    "\n",
    "# Answer:\n",
    "L = [(1,3), (4,1), (2,5), (3,2)]\n",
    "sorted(L, key = lambda x : x[1])"
   ]
  },
  {
   "cell_type": "code",
   "execution_count": 45,
   "id": "8bf73668-bfd8-4743-88aa-b33a905954e6",
   "metadata": {},
   "outputs": [],
   "source": [
    "# 8. Write a function to apply a given function to all elements of a list (map style).\n",
    "\n",
    "# Answer:\n"
   ]
  },
  {
   "cell_type": "markdown",
   "id": "e2d670b4-6b8e-4fdb-88af-8360222163c9",
   "metadata": {},
   "source": [
    "## 🧪 Part 1: Functions – \\[20 Questions]\n",
    "\n",
    "### 🔹 Basic Definitions & Usage\n",
    "\n",
    "1. **What is the purpose of a function in Python?**\n",
    "2. **How do you define a function in Python?**\n",
    "3. **What is the default return value of a function if no return statement is used?**\n",
    "4. **What is the difference between a parameter and an argument?**\n",
    "5. **Can a function return multiple values? Give an example.**\n",
    "6. **What is the scope of a variable declared inside a function?**\n",
    "7. **What does the `return` statement do?**\n",
    "8. **What happens if you define a function with no parameters but call it with arguments?**\n",
    "9. **Write a function that checks if a number is even or odd.**\n",
    "10. **Write a function that takes a list and returns the sum of all its even numbers.**\n",
    "\n",
    "### 🔹 Intermediate Logic\n",
    "\n",
    "11. **Write a function to find the factorial of a number using recursion.**\n",
    "\n",
    "12. **What is the output of this function?**\n",
    "\n",
    "    ```python\n",
    "    def add(a, b=5):\n",
    "        return a + b\n",
    "\n",
    "    print(add(3))\n",
    "    ```\n",
    "\n",
    "13. **Explain the difference between `*args` and `**kwargs`.**\n",
    "\n",
    "14. **Create a function using `*args` that returns the product of all arguments.**\n",
    "\n",
    "15. **Create a function using `**kwargs` that prints all key-value pairs.**\n",
    "\n",
    "16. **Write a function to check whether a string is a palindrome.**\n",
    "\n",
    "17. **What will be the result of this call?**\n",
    "\n",
    "    ```python\n",
    "    def f(a, b=2, c=3):\n",
    "        return a + b + c\n",
    "    print(f(1, c=4))\n",
    "    ```\n",
    "\n",
    "18. **Write a function that counts the number of vowels in a string.**\n",
    "\n",
    "19. **What is the output? Explain scope.**\n",
    "\n",
    "    ```python\n",
    "    x = 5\n",
    "    def change():\n",
    "        x = 10\n",
    "        print(x)\n",
    "    change()\n",
    "    print(x)\n",
    "    ```\n",
    "\n",
    "20. **Write a function that accepts a string and returns a dictionary with the count of each character.**\n",
    "\n",
    "---\n",
    "\n",
    "## ⚡ Part 2: Lambda Functions – \\[10 Questions]\n",
    "\n",
    "### 🔹 Basic Concepts\n",
    "\n",
    "21. **What is a lambda function in Python?**\n",
    "\n",
    "22. **What is the syntax of a lambda function?**\n",
    "\n",
    "23. **Rewrite this function as a lambda:**\n",
    "\n",
    "    ```python\n",
    "    def square(x):\n",
    "        return x ** 2\n",
    "    ```\n",
    "\n",
    "24. **Use a lambda function with `map()` to double all numbers in a list.**\n",
    "\n",
    "25. **Use a lambda function with `filter()` to extract only even numbers from a list.**\n",
    "\n",
    "26. **What does this return?**\n",
    "\n",
    "    ```python\n",
    "    list(map(lambda x: x*3, [1, 2, 3]))\n",
    "    ```\n",
    "\n",
    "27. **Use a lambda function to sort a list of tuples by the second item in each tuple.**\n",
    "\n",
    "28. **What will this return?**\n",
    "\n",
    "    ```python\n",
    "    add = lambda a, b: a + b\n",
    "    print(add(3, 5))\n",
    "    ```\n",
    "\n",
    "29. **When should you use a lambda function instead of `def`?**\n",
    "\n",
    "30. **Use a lambda with `reduce()` to find the product of all elements in a list.**\n",
    "\n",
    "    > (*Hint*: `from functools import reduce`)\n"
   ]
  },
  {
   "cell_type": "markdown",
   "id": "08ace7cb-bee7-475f-b670-d779602bd5d5",
   "metadata": {},
   "source": [
    "# The End"
   ]
  }
 ],
 "metadata": {
  "kernelspec": {
   "display_name": "Python [conda env:base] *",
   "language": "python",
   "name": "conda-base-py"
  },
  "language_info": {
   "codemirror_mode": {
    "name": "ipython",
    "version": 3
   },
   "file_extension": ".py",
   "mimetype": "text/x-python",
   "name": "python",
   "nbconvert_exporter": "python",
   "pygments_lexer": "ipython3",
   "version": "3.12.7"
  }
 },
 "nbformat": 4,
 "nbformat_minor": 5
}
