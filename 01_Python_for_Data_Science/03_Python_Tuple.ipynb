{
 "cells": [
  {
   "cell_type": "markdown",
   "id": "6618a08c-e984-42a8-ab91-f2f5180486bd",
   "metadata": {},
   "source": [
    "#  Data Science Learning Journey  \n",
    "*Curiosity to Capability — One Notebook at a Time*\n",
    "\n",
    "---\n",
    "Compiled and authored by **Partho Sarothi Das**   \n",
    "\tDhaka, Bangladesh  \n",
    "\tBachelor's & Master's in Statistics  \n",
    "\tInvestment Banking Professional → Aspiring Data Scientist "
   ]
  },
  {
   "cell_type": "markdown",
   "id": "7c28fe0f-64b4-4a3d-bfc3-9fedaf2e0826",
   "metadata": {},
   "source": [
    "# Python Collections (Arrays)_2"
   ]
  },
  {
   "cell_type": "raw",
   "id": "9a71e531-97aa-4741-aacf-ed1ca0138352",
   "metadata": {},
   "source": [
    "There are four collection data types in the Python programming language:\n",
    "\n",
    "List is a collection which is ordered and changeable. Allows duplicate members.\n",
    "Tuple is a collection which is ordered and unchangeable. Allows duplicate members.\n",
    "Set is a collection which is unordered, unchangeable*, and unindexed. No duplicate members.\n",
    "Dictionary is a collection which is ordered** and changeable. No duplicate members."
   ]
  },
  {
   "cell_type": "markdown",
   "id": "6054238e-a9aa-46b8-975a-fbbe060b8161",
   "metadata": {},
   "source": [
    "# Tuple\n",
    "\n",
    "Tuples are used to store multiple items in a single variable.\n",
    "- Ordered\n",
    "- Unchangeble, immutable , \n",
    "- Allow Duplicate"
   ]
  },
  {
   "cell_type": "code",
   "execution_count": 3,
   "id": "2900bb33-4653-42ea-a125-249c0902cdee",
   "metadata": {},
   "outputs": [
    {
     "data": {
      "text/plain": [
       "('apple', 'banana', 'orange')"
      ]
     },
     "execution_count": 3,
     "metadata": {},
     "output_type": "execute_result"
    }
   ],
   "source": [
    "t = ('apple','banana','orange')\n",
    "t"
   ]
  },
  {
   "cell_type": "code",
   "execution_count": 4,
   "id": "669e1b88-2d2b-425d-bfe9-77dd711a3a9b",
   "metadata": {},
   "outputs": [],
   "source": [
    "t1 = ()        # emply\n",
    "t2 = ('hello',)  # a tuple with single item ---- > need to add a comma at the end\n",
    "t3 = (1,2,3,4)  # Homo\n",
    "t4 = (1, 2.5, True, [1,2,3])   # hetro\n",
    "t5 = (1,2,3, (5,6))  # Tuple"
   ]
  },
  {
   "cell_type": "code",
   "execution_count": 5,
   "id": "08734452-f626-4add-b7b6-3d2fa7c712e3",
   "metadata": {},
   "outputs": [
    {
     "data": {
      "text/plain": [
       "('h', 'e', 'l', 'l', 'o')"
      ]
     },
     "execution_count": 5,
     "metadata": {},
     "output_type": "execute_result"
    }
   ],
   "source": [
    "#Type Conversion\n",
    "\n",
    "t = tuple('hello')\n",
    "t"
   ]
  },
  {
   "cell_type": "code",
   "execution_count": 6,
   "id": "74d1bb50-a83a-4a4e-8a82-5954a43c6016",
   "metadata": {},
   "outputs": [
    {
     "data": {
      "text/plain": [
       "tuple"
      ]
     },
     "execution_count": 6,
     "metadata": {},
     "output_type": "execute_result"
    }
   ],
   "source": [
    "# type()\n",
    "\n",
    "a = (1,2,3)\n",
    "type(a)"
   ]
  },
  {
   "cell_type": "code",
   "execution_count": 7,
   "id": "bb58755b-befa-47fe-a397-2d387c31dfd6",
   "metadata": {},
   "outputs": [
    {
     "data": {
      "text/plain": [
       "('apple', 'banana', 'orange')"
      ]
     },
     "execution_count": 7,
     "metadata": {},
     "output_type": "execute_result"
    }
   ],
   "source": [
    "# tuple() Constructor\n",
    "\n",
    "t = tuple(('apple', 'banana', 'orange'))\n",
    "t"
   ]
  },
  {
   "cell_type": "markdown",
   "id": "7173e1e1-6f17-4b3a-9e59-983307c90127",
   "metadata": {},
   "source": [
    "# Access tuple items"
   ]
  },
  {
   "cell_type": "code",
   "execution_count": 9,
   "id": "337a2f59-e62f-46ea-a1fa-1e189dfa1457",
   "metadata": {},
   "outputs": [
    {
     "data": {
      "text/plain": [
       "'apple'"
      ]
     },
     "execution_count": 9,
     "metadata": {},
     "output_type": "execute_result"
    }
   ],
   "source": [
    "# Indexing\n",
    "\n",
    "t = ('apple','banana','orange')\n",
    "t[0]"
   ]
  },
  {
   "cell_type": "code",
   "execution_count": 10,
   "id": "f12b8232-7f4f-4fb9-8842-028ea8770b77",
   "metadata": {},
   "outputs": [
    {
     "data": {
      "text/plain": [
       "'orange'"
      ]
     },
     "execution_count": 10,
     "metadata": {},
     "output_type": "execute_result"
    }
   ],
   "source": [
    "# Negative Indexing\n",
    "\n",
    "t = ('apple','banana','orange')\n",
    "t[-1]"
   ]
  },
  {
   "cell_type": "code",
   "execution_count": 11,
   "id": "d7bf11d3-bd77-410e-bc93-e7fbd8e437ac",
   "metadata": {},
   "outputs": [
    {
     "data": {
      "text/plain": [
       "('banana', 'orange', 'mango')"
      ]
     },
     "execution_count": 11,
     "metadata": {},
     "output_type": "execute_result"
    }
   ],
   "source": [
    "# Slicing\n",
    "\n",
    "t = ('apple','banana','orange', 'mango', 'jackfruit')\n",
    "t[1:4]"
   ]
  },
  {
   "cell_type": "code",
   "execution_count": 12,
   "id": "cf7d418f-58c7-4e58-b784-f0546f422512",
   "metadata": {},
   "outputs": [
    {
     "data": {
      "text/plain": [
       "('banana', 'orange')"
      ]
     },
     "execution_count": 12,
     "metadata": {},
     "output_type": "execute_result"
    }
   ],
   "source": [
    "# Negative Slicing\n",
    "\n",
    "t = ('apple','banana','orange', 'mango', 'jackfruit')\n",
    "t[-4:-2]"
   ]
  },
  {
   "cell_type": "code",
   "execution_count": 13,
   "id": "09249d13-238b-4d9b-bd61-d7e341e87e28",
   "metadata": {},
   "outputs": [
    {
     "data": {
      "text/plain": [
       "('orange', 'mango', 'jackfruit')"
      ]
     },
     "execution_count": 13,
     "metadata": {},
     "output_type": "execute_result"
    }
   ],
   "source": [
    "t[2:]"
   ]
  },
  {
   "cell_type": "code",
   "execution_count": 14,
   "id": "2c94a76e-336c-4163-82fd-0a420a87f5a0",
   "metadata": {},
   "outputs": [
    {
     "data": {
      "text/plain": [
       "('apple', 'banana', 'orange')"
      ]
     },
     "execution_count": 14,
     "metadata": {},
     "output_type": "execute_result"
    }
   ],
   "source": [
    "t[:3]"
   ]
  },
  {
   "cell_type": "code",
   "execution_count": 15,
   "id": "ccebca19-f48f-4295-8a42-d0676233eaba",
   "metadata": {},
   "outputs": [
    {
     "name": "stdout",
     "output_type": "stream",
     "text": [
      "Yes, 'apple' is in the fruits\n"
     ]
    }
   ],
   "source": [
    "# Check if Item Exists\n",
    "\n",
    "t = (\"apple\", \"banana\", \"cherry\")\n",
    "if \"apple\" in t:\n",
    "  print(\"Yes, 'apple' is in the fruits\")"
   ]
  },
  {
   "cell_type": "code",
   "execution_count": 83,
   "id": "e25f7080-8f5b-4906-bfaa-8469ca461123",
   "metadata": {},
   "outputs": [
    {
     "data": {
      "text/plain": [
       "True"
      ]
     },
     "execution_count": 83,
     "metadata": {},
     "output_type": "execute_result"
    }
   ],
   "source": [
    "# Check if Item Exists\n",
    "\n",
    "t = (1,2,3,4,5,6,7)\n",
    "5 in t"
   ]
  },
  {
   "cell_type": "markdown",
   "id": "e2440de9-6299-4971-830a-030923a21f85",
   "metadata": {},
   "source": [
    "# tuple < --- conversion --- > list "
   ]
  },
  {
   "cell_type": "code",
   "execution_count": 17,
   "id": "1b3221b6-7e60-4b69-9d2e-1dfa78ce7f6d",
   "metadata": {},
   "outputs": [
    {
     "data": {
      "text/plain": [
       "[1, 2, 3]"
      ]
     },
     "execution_count": 17,
     "metadata": {},
     "output_type": "execute_result"
    }
   ],
   "source": [
    "# Tuple to List conversion\n",
    "\n",
    "t = (1,2,3)\n",
    "L = list(t)\n",
    "L"
   ]
  },
  {
   "cell_type": "code",
   "execution_count": 18,
   "id": "dcb0d7be-9b15-431c-8520-3db6e29090fa",
   "metadata": {},
   "outputs": [
    {
     "data": {
      "text/plain": [
       "(1, 2, 3)"
      ]
     },
     "execution_count": 18,
     "metadata": {},
     "output_type": "execute_result"
    }
   ],
   "source": [
    "# List to Tuple conversion\n",
    "\n",
    "L = [1,2,3]\n",
    "t = tuple(L)\n",
    "t"
   ]
  },
  {
   "cell_type": "markdown",
   "id": "784ba88f-e7b7-455b-a2c5-6211432e7297",
   "metadata": {},
   "source": [
    "# Change Tuple Values"
   ]
  },
  {
   "cell_type": "raw",
   "id": "0a61cb32-4894-40d7-b1da-7b1f002ed51a",
   "metadata": {},
   "source": [
    "Once a tuple is created, you cannot change its values. Tuples are unchangeable, or immutable as it also is called.\n",
    "\n",
    "But there is a workaround. You can convert the tuple into a list, change the list, and convert the list back into a tuple."
   ]
  },
  {
   "cell_type": "code",
   "execution_count": 20,
   "id": "dedb5004-723a-4495-b652-394a898aadb4",
   "metadata": {},
   "outputs": [
    {
     "data": {
      "text/plain": [
       "(100, 2, 3, 4)"
      ]
     },
     "execution_count": 20,
     "metadata": {},
     "output_type": "execute_result"
    }
   ],
   "source": [
    "\n",
    "t = (1,2,3,4)\n",
    "L = list(t)\n",
    "L[0] = 100\n",
    "t = tuple(L)\n",
    "t"
   ]
  },
  {
   "cell_type": "markdown",
   "id": "a9dedb2a-819c-4b48-9fe8-6e7ecf93d2c4",
   "metadata": {},
   "source": [
    "# Add Items"
   ]
  },
  {
   "cell_type": "code",
   "execution_count": 22,
   "id": "18470d04-69ef-4a22-95b8-377dcc696367",
   "metadata": {},
   "outputs": [
    {
     "data": {
      "text/plain": [
       "(1, 2, 3, 4, 20)"
      ]
     },
     "execution_count": 22,
     "metadata": {},
     "output_type": "execute_result"
    }
   ],
   "source": [
    "# tuple convert to list --->  made change -----> list convert to tuple\n",
    "\n",
    "t = (1,2,3,4)\n",
    "L = list(t)\n",
    "L.append(20)\n",
    "t = tuple(L)\n",
    "t"
   ]
  },
  {
   "cell_type": "code",
   "execution_count": 23,
   "id": "a8bd97f3-b037-4094-9d5f-9893377ce6d4",
   "metadata": {},
   "outputs": [
    {
     "data": {
      "text/plain": [
       "(1, 2, 3, 4, 20)"
      ]
     },
     "execution_count": 23,
     "metadata": {},
     "output_type": "execute_result"
    }
   ],
   "source": [
    "# Add tuple to a tuple\n",
    "\n",
    "t = (1,2,3,4)\n",
    "t1 = (20,)\n",
    "t = t + t1\n",
    "t"
   ]
  },
  {
   "cell_type": "markdown",
   "id": "3984949e-5877-4746-aa40-43496d5bb543",
   "metadata": {},
   "source": [
    "# Remove Items"
   ]
  },
  {
   "cell_type": "code",
   "execution_count": 25,
   "id": "8efc652d-a6e9-490a-84ab-b125ffc13dfc",
   "metadata": {},
   "outputs": [
    {
     "data": {
      "text/plain": [
       "(1, 2, 3)"
      ]
     },
     "execution_count": 25,
     "metadata": {},
     "output_type": "execute_result"
    }
   ],
   "source": [
    "# tuple convert to list --->  made change -----> list convert to tuple\n",
    "\n",
    "t = (1,2,3,4)\n",
    "L = list(t)\n",
    "L.remove(4)\n",
    "t = tuple(L)\n",
    "t"
   ]
  },
  {
   "cell_type": "markdown",
   "id": "9af7c5e2-3dde-4a17-9cfc-6b2dbd11dcd5",
   "metadata": {},
   "source": [
    "# Delete tuple"
   ]
  },
  {
   "cell_type": "code",
   "execution_count": 27,
   "id": "962143fb-d839-424f-bc11-4abebdca5f57",
   "metadata": {},
   "outputs": [],
   "source": [
    "t = (1,2,3,4)\n",
    "del t"
   ]
  },
  {
   "cell_type": "markdown",
   "id": "b855a1d8-6e27-44ce-b8ca-f0e697a325a6",
   "metadata": {},
   "source": [
    "# List Functions\n",
    "\n",
    "len, min, max, sum, sorted"
   ]
  },
  {
   "cell_type": "code",
   "execution_count": 29,
   "id": "261c1b78-5902-49dc-b6f0-d62d5f7a8c1c",
   "metadata": {},
   "outputs": [
    {
     "data": {
      "text/plain": [
       "4"
      ]
     },
     "execution_count": 29,
     "metadata": {},
     "output_type": "execute_result"
    }
   ],
   "source": [
    "# len() -----> Number of items\n",
    "\n",
    "t = (1,2,3,4)\n",
    "len(t)"
   ]
  },
  {
   "cell_type": "code",
   "execution_count": 30,
   "id": "aa37c117-8b38-4ca1-ad75-28f6fa63d780",
   "metadata": {},
   "outputs": [
    {
     "data": {
      "text/plain": [
       "1"
      ]
     },
     "execution_count": 30,
     "metadata": {},
     "output_type": "execute_result"
    }
   ],
   "source": [
    "# min() -------> Minimum value\n",
    "\n",
    "t = (1,5,8,2,4,1,9,4)\n",
    "min(t)"
   ]
  },
  {
   "cell_type": "code",
   "execution_count": 31,
   "id": "e35cb049-044f-495c-9db1-f313f3d8195e",
   "metadata": {},
   "outputs": [
    {
     "data": {
      "text/plain": [
       "9"
      ]
     },
     "execution_count": 31,
     "metadata": {},
     "output_type": "execute_result"
    }
   ],
   "source": [
    "# max() -------> Maximum value\n",
    "\n",
    "t = (1,5,8,2,4,1,9,4)\n",
    "max(t)"
   ]
  },
  {
   "cell_type": "code",
   "execution_count": 32,
   "id": "918b2204-6390-403e-9649-0a7e3d84ac24",
   "metadata": {},
   "outputs": [
    {
     "data": {
      "text/plain": [
       "10"
      ]
     },
     "execution_count": 32,
     "metadata": {},
     "output_type": "execute_result"
    }
   ],
   "source": [
    "# sum() -----> sum of items\n",
    "\n",
    "t = (1,2,3,4)\n",
    "sum(t)"
   ]
  },
  {
   "cell_type": "code",
   "execution_count": 33,
   "id": "a4005bf6-96cc-4539-b11c-d884c14aaad6",
   "metadata": {},
   "outputs": [
    {
     "data": {
      "text/plain": [
       "[1, 1, 2, 4, 4, 5, 8, 9]"
      ]
     },
     "execution_count": 33,
     "metadata": {},
     "output_type": "execute_result"
    }
   ],
   "source": [
    "# sorted() -------> arange ascending order (Temporary)\n",
    "\n",
    "t = (1,5,8,2,4,1,9,4)\n",
    "sorted(t)"
   ]
  },
  {
   "cell_type": "code",
   "execution_count": 34,
   "id": "a0fa224e-d4d7-4ac1-83d7-476a2f37af6f",
   "metadata": {},
   "outputs": [
    {
     "data": {
      "text/plain": [
       "[9, 8, 5, 4, 4, 2, 1, 1]"
      ]
     },
     "execution_count": 34,
     "metadata": {},
     "output_type": "execute_result"
    }
   ],
   "source": [
    "# sorted(reverse = True) -------> arange decending order (Temporary)\n",
    "\n",
    "t = (1,5,8,2,4,1,9,4)\n",
    "sorted(t, reverse = True)"
   ]
  },
  {
   "cell_type": "code",
   "execution_count": 35,
   "id": "f70c70cd-70da-4679-84e2-4f32cd228e2d",
   "metadata": {},
   "outputs": [
    {
     "data": {
      "text/plain": [
       "3"
      ]
     },
     "execution_count": 35,
     "metadata": {},
     "output_type": "execute_result"
    }
   ],
   "source": [
    "# count() ----------> find the total number of a specific value\n",
    "\n",
    "t = (1,2,4,1,3,5,1,7,4,4,9)\n",
    "t.count(1)"
   ]
  },
  {
   "cell_type": "code",
   "execution_count": 36,
   "id": "f21a80a4-961f-4300-a1c1-e892b0667bb9",
   "metadata": {},
   "outputs": [
    {
     "data": {
      "text/plain": [
       "1"
      ]
     },
     "execution_count": 36,
     "metadata": {},
     "output_type": "execute_result"
    }
   ],
   "source": [
    "# index()  ---------> find the index no of a specific value\n",
    "\n",
    "t = ('apple', 'banana', 'orange')\n",
    "t.index('banana')"
   ]
  },
  {
   "cell_type": "markdown",
   "id": "03848241-6ffe-4bf0-8889-31227af6bc29",
   "metadata": {},
   "source": [
    "# join/concatenation operations"
   ]
  },
  {
   "cell_type": "code",
   "execution_count": 38,
   "id": "799717e4-ffb0-42d2-a808-082d47afec4c",
   "metadata": {},
   "outputs": [
    {
     "data": {
      "text/plain": [
       "(1, 2, 3, 4, 5, 6)"
      ]
     },
     "execution_count": 38,
     "metadata": {},
     "output_type": "execute_result"
    }
   ],
   "source": [
    "# Addition ----> concatenation/ Join list\n",
    "\n",
    "t1 = (1,2,3)\n",
    "t2 = (4,5,6)\n",
    "\n",
    "t1+t2"
   ]
  },
  {
   "cell_type": "code",
   "execution_count": 39,
   "id": "470df8a5-dcac-4d13-a671-6d0c3a8cebf3",
   "metadata": {},
   "outputs": [
    {
     "data": {
      "text/plain": [
       "(1, 2, 3, 1, 2, 3)"
      ]
     },
     "execution_count": 39,
     "metadata": {},
     "output_type": "execute_result"
    }
   ],
   "source": [
    "# Multiplication\n",
    "\n",
    "t = (1,2,3)\n",
    "t*2"
   ]
  },
  {
   "cell_type": "markdown",
   "id": "742df3aa-faa5-4d5a-92e6-aed1134ce6fa",
   "metadata": {},
   "source": [
    "# Unpacking a Tuple"
   ]
  },
  {
   "cell_type": "code",
   "execution_count": 41,
   "id": "50141e1f-ae49-4d44-89fc-6135dc61562e",
   "metadata": {},
   "outputs": [
    {
     "data": {
      "text/plain": [
       "('apple', 'banana', 'orange')"
      ]
     },
     "execution_count": 41,
     "metadata": {},
     "output_type": "execute_result"
    }
   ],
   "source": [
    "# When we create a tuple, we normally assign values to it. This is called \"packing\" a tuple:\n",
    "\n",
    "t = (\"apple\",\"banana\",\"orange\")\n",
    "t"
   ]
  },
  {
   "cell_type": "code",
   "execution_count": 42,
   "id": "7e6018de-0163-4304-8410-16259f63eab6",
   "metadata": {},
   "outputs": [
    {
     "name": "stdout",
     "output_type": "stream",
     "text": [
      "apple\n",
      "banana\n",
      "orange\n"
     ]
    }
   ],
   "source": [
    "# Unpacking a tuple:\n",
    "\n",
    "(x,y,z) = t\n",
    "print(x)\n",
    "print(y)\n",
    "print(z)"
   ]
  },
  {
   "cell_type": "code",
   "execution_count": 43,
   "id": "dc614276-9d2c-4a81-be5a-818bfef0236b",
   "metadata": {},
   "outputs": [
    {
     "name": "stdout",
     "output_type": "stream",
     "text": [
      "apple\n",
      "banana\n",
      "['cherry', 'strawberry', 'raspberry']\n"
     ]
    }
   ],
   "source": [
    "# Using Asterisk*\n",
    "\n",
    "fruits = (\"apple\", \"banana\", \"cherry\", \"strawberry\", \"raspberry\")\n",
    "\n",
    "(x, y, *z) = fruits\n",
    "\n",
    "print(x)\n",
    "print(y)\n",
    "print(z)"
   ]
  },
  {
   "cell_type": "code",
   "execution_count": 44,
   "id": "eb9320e4-fb4d-4b45-9d27-ef8b7e5a7867",
   "metadata": {},
   "outputs": [
    {
     "name": "stdout",
     "output_type": "stream",
     "text": [
      "apple\n",
      "['mango', 'papaya', 'pineapple']\n",
      "cherry\n"
     ]
    }
   ],
   "source": [
    "fruits = (\"apple\", \"mango\", \"papaya\", \"pineapple\", \"cherry\")\n",
    "\n",
    "(green, *tropic, red) = fruits\n",
    "\n",
    "print(green)\n",
    "print(tropic)\n",
    "print(red)"
   ]
  },
  {
   "cell_type": "markdown",
   "id": "03c564ce-a174-4916-b978-40cb84d0a8db",
   "metadata": {},
   "source": [
    "### ✅ **Multiple Choice Questions (MCQ)**\n",
    "\n",
    "1. **Which of the following is a valid tuple in Python?**  \n",
    "   a) `[1, 2, 3]`   \n",
    "   b) `{1, 2, 3}`       \n",
    "   c) `(1, 2, 3)`  \n",
    "   d) `\"1, 2, 3\"`     \n",
    "   **Answer:** c\n",
    "\n",
    "2. **What is the output of `type((5,))`?**    \n",
    "   a) `<class 'list'>`    \n",
    "   b) `<class 'tuple'>`    \n",
    "   c) `<class 'int'>`   \n",
    "   d) `<class 'dict'>`   \n",
    "   **Answer:** b   \n",
    "   \n",
    "3. **Tuples are:**     \n",
    "   a) Mutable     \n",
    "   b) Immutable    \n",
    "   c) Changeable    \n",
    "   d) Unordered   \n",
    "   **Answer:** b   \n",
    "   \n",
    "4. **Which method is not available for tuples?**   \n",
    "   a) `count()`    \n",
    "   b) `index()`   \n",
    "   c) `append()`   \n",
    "   d) `len()`    \n",
    "   **Answer:** c   \n",
    "   \n",
    "5. **What does the following code output? `t = (1, 2, 3); print(t[1])`**    \n",
    "   a) 1   \n",
    "   b) 2   \n",
    "   c) 3     \n",
    "   d) Error      \n",
    "   **Answer:** b     \n",
    "    \n",
    "6. **How do you create an empty tuple?**    \n",
    "   a) `[]`    \n",
    "   b) `{}`    \n",
    "   c) `()`    \n",
    "   d) `None`     \n",
    "   **Answer:** c    \n",
    "   \n",
    "7. **Which of the following will result in an error?**    \n",
    "   a) `x = (1, 2, 3)`    \n",
    "   b) `x[0] = 10`    \n",
    "   c) `len((1,))`     \n",
    "   d) `x = tuple(\"abc\")`     \n",
    "   **Answer:** b    \n",
    "   \n",
    "8. **Which of the following can be used to convert a list into a tuple?**    \n",
    "   a) `list()`   \n",
    "   b) `set()`   \n",
    "   c) `dict()`    \n",
    "   d) `tuple()`    \n",
    "   **Answer:** d   \n",
    "   \n",
    "9. **Tuples can be used as dictionary keys because they are:**    \n",
    "   a) Mutable   \n",
    "   b) Lists     \n",
    "   c) Immutable    \n",
    "   d) Functions    \n",
    "   **Answer:** c   \n",
    "    \n",
    "10. **What is the result of `len((1, 2, (3, 4)))`?**   \n",
    "    a) 2   \n",
    "    b) 3   \n",
    "    c) 4     \n",
    "    d) Error   \n",
    "    **Answer:** b    \n",
    "\n",
    "---\n",
    "\n",
    "### ✅ **True/False Questions**  \n",
    "  \n",
    "11. Tuples can contain other tuples.  \n",
    "    **Answer:** True   \n",
    "\n",
    "12. You can use the `append()` method with tuples.  \n",
    "    **Answer:** False   \n",
    "\n",
    "13. Tuples can contain both integers and strings.    \n",
    "    **Answer:** True   \n",
    "\n",
    "14. You can remove elements from a tuple directly.    \n",
    "    **Answer:** False   \n",
    "\n",
    "15. Tuples are ordered collections.    \n",
    "    **Answer:** True   \n",
    "\n",
    "16. Tuples use square brackets `[]`.   \n",
    "    **Answer:** False   \n",
    "\n",
    "17. Tuple elements can be accessed using indexes.   \n",
    "    **Answer:** True   \n",
    "\n",
    "18. `tuple(\"IBM\")` results in `('I', 'B', 'M')`.     \n",
    "    **Answer:** False (Correct: `('I', 'B', 'M')`)   \n",
    "\n",
    "19. Tuples can store duplicate values.   \n",
    "    **Answer:** True   \n",
    "\n",
    "20. Tuples support slicing like lists.   \n",
    "    **Answer:** True   \n",
    "\n",
    "---\n",
    "\n",
    "### ✅ **Code-Based Questions**      \n",
    "\n",
    "21. **What is the output of this code?**\n",
    "\n",
    "```python\n",
    "x = (1, 2, 3)\n",
    "print(x[-1])\n",
    "```\n",
    "\n",
    "**Answer:** 3\n",
    "\n",
    "22. **Write a tuple containing only the number 7.**   \n",
    "    **Answer:** `(7,)`   \n",
    "\n",
    "23. **Convert the list `[1, 2, 3]` to a tuple.**    \n",
    "    **Answer:** `tuple([1, 2, 3])`    \n",
    "\n",
    "24. **What is the output?**   \n",
    "\n",
    "```python\n",
    "t = (1, 2, 3, 2)\n",
    "print(t.count(2))\n",
    "```\n",
    "\n",
    "**Answer:** 2\n",
    "\n",
    "25. **What will `t.index(3)` return for `t = (1, 2, 3, 4)`?**    \n",
    "    **Answer:** 2   \n",
    "\n",
    "26. **Is the following statement valid? Why or why not?**\n",
    "\n",
    "```python\n",
    "t = (1, 2, 3)\n",
    "t[0] = 9\n",
    "```\n",
    "\n",
    "**Answer:** No. Tuples are immutable; you can't change elements.   \n",
    "\n",
    "27. **What is the result of `tuple(\"abc\")`?**   \n",
    "    **Answer:** `('a', 'b', 'c')`   \n",
    "\n",
    "28. **Write code to unpack the tuple `(1, 2, 3)` into variables `a`, `b`, and `c`.**   \n",
    "    **Answer:** `a, b, c = (1, 2, 3)`   \n",
    "\n",
    "29. **Write a tuple that contains a list as its element.**   \n",
    "    **Answer:** `(1, [2, 3], 4)`   \n",
    "\n",
    "30. **Check if the element 5 is in the tuple `t = (1, 3, 5, 7)`.**   \n",
    "    **Answer:** `5 in t`   "
   ]
  },
  {
   "cell_type": "markdown",
   "id": "3d93fb1e-2e43-43cd-a240-d53c923d00dc",
   "metadata": {},
   "source": [
    "# The End"
   ]
  }
 ],
 "metadata": {
  "kernelspec": {
   "display_name": "Python [conda env:base] *",
   "language": "python",
   "name": "conda-base-py"
  },
  "language_info": {
   "codemirror_mode": {
    "name": "ipython",
    "version": 3
   },
   "file_extension": ".py",
   "mimetype": "text/x-python",
   "name": "python",
   "nbconvert_exporter": "python",
   "pygments_lexer": "ipython3",
   "version": "3.12.7"
  }
 },
 "nbformat": 4,
 "nbformat_minor": 5
}
