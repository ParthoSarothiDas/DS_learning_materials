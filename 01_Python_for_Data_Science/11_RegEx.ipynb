{
 "cells": [
  {
   "cell_type": "markdown",
   "id": "0337036e-d1c9-4fc2-8285-b329c7f7da57",
   "metadata": {},
   "source": [
    "#  Data Science Learning Journey  \n",
    "*Curiosity to Capability — One Notebook at a Time*\n",
    "\n",
    "---\n",
    "Compiled and authored by **Partho Sarothi Das**   \n",
    "\tDhaka, Bangladesh  \n",
    "\tBachelor's & Master's in Statistics  \n",
    "\tInvestment Banking Professional → Aspiring Data Scientist \n",
    "    \n",
    "---"
   ]
  },
  {
   "cell_type": "markdown",
   "id": "56fad70b-71d4-44ab-a16e-6f0ff5cf7c9a",
   "metadata": {},
   "source": [
    "# RegEx Module  \n",
    "- A RegEx, or Regular Expression, is a sequence of characters that forms a search pattern.\n",
    "- RegEx can be used to check if a string contains the specified search pattern.\n",
    "### re functions --- > findall(), search(), split(), sub() "
   ]
  },
  {
   "cell_type": "code",
   "execution_count": 3,
   "id": "68c78496-4bdb-452d-b7d0-7e02479176bb",
   "metadata": {},
   "outputs": [],
   "source": [
    "# Import Regular Expressions module\n",
    "\n",
    "import re"
   ]
  },
  {
   "cell_type": "markdown",
   "id": "94a1cb6c-5c8a-4ef8-8539-f3b6d53f7247",
   "metadata": {},
   "source": [
    "### search()\n",
    "\n",
    "- The search() function searches the string for a match, and returns a Match object if there is a match.\n",
    "- If there is more than one match, only the first occurrence of the match will be returned:"
   ]
  },
  {
   "cell_type": "code",
   "execution_count": 5,
   "id": "c457b574-e15e-44ab-9e32-ab7334c2569c",
   "metadata": {},
   "outputs": [
    {
     "name": "stdout",
     "output_type": "stream",
     "text": [
      "Yes! Match found.\n"
     ]
    }
   ],
   "source": [
    "# search() ---> A string starts with I and ends with python.\n",
    "\n",
    "text = \"I love Python\"\n",
    "x = re.search(\"^I.*hon$\", text)\n",
    "if x:\n",
    "    print(\"Yes! Match found.\")\n",
    "else:\n",
    "    print(\"Din't find any match.\")"
   ]
  },
  {
   "cell_type": "code",
   "execution_count": 6,
   "id": "0e33d417-7950-49da-8cda-e099248795e1",
   "metadata": {},
   "outputs": [
    {
     "data": {
      "text/plain": [
       "1"
      ]
     },
     "execution_count": 6,
     "metadata": {},
     "output_type": "execute_result"
    }
   ],
   "source": [
    "# Search for the first white-space character in the string:\n",
    "text = \"I love Python\"\n",
    "x = re.search(r\"\\s\",text)\n",
    "x.start()"
   ]
  },
  {
   "cell_type": "markdown",
   "id": "6fad7c7e-5090-40e8-bfee-db45027a6104",
   "metadata": {},
   "source": [
    "### findall()"
   ]
  },
  {
   "cell_type": "code",
   "execution_count": 8,
   "id": "4d380c1b-c6fa-41fa-9e08-7ccc52657378",
   "metadata": {},
   "outputs": [
    {
     "name": "stdout",
     "output_type": "stream",
     "text": [
      "['want', 'want']\n"
     ]
    }
   ],
   "source": [
    "import re\n",
    "\n",
    "txt = \"I want to study in Denmark and want a worldclass degree.\"\n",
    "x = re.findall(\"want\", txt)\n",
    "print(x)"
   ]
  },
  {
   "cell_type": "code",
   "execution_count": 9,
   "id": "bcf849af-e79f-4c05-8ba1-14c36e42f071",
   "metadata": {},
   "outputs": [
    {
     "name": "stdout",
     "output_type": "stream",
     "text": [
      "[]\n"
     ]
    }
   ],
   "source": [
    "# Return an empty list if no match was found\n",
    "\n",
    "txt = \"I want to study in Denmark and want a worldclass degree.\"\n",
    "x = re.findall(\"go\", txt)\n",
    "print(x)"
   ]
  },
  {
   "cell_type": "markdown",
   "id": "e03afc6b-cd70-4031-a985-dc4198ad8cdd",
   "metadata": {},
   "source": [
    "### split()\n",
    "\n",
    "The split() function returns a list where the string has been split at each match:"
   ]
  },
  {
   "cell_type": "code",
   "execution_count": 11,
   "id": "a4ad40f1-ec73-47bb-9c91-ad050976a815",
   "metadata": {},
   "outputs": [
    {
     "data": {
      "text/plain": [
       "['I', 'need', 'a', 'scholarship', 'to', 'study', 'in', 'Europe.']"
      ]
     },
     "execution_count": 11,
     "metadata": {},
     "output_type": "execute_result"
    }
   ],
   "source": [
    "import re\n",
    "\n",
    "text = \"I need a scholarship to study in Europe.\"\n",
    "x = re.split(r\"\\s\", text)\n",
    "x"
   ]
  },
  {
   "cell_type": "code",
   "execution_count": 12,
   "id": "29629162-dfeb-4b7b-9477-ab48208f94a0",
   "metadata": {},
   "outputs": [
    {
     "data": {
      "text/plain": [
       "['I', 'realy enjoy Data Science.']"
      ]
     },
     "execution_count": 12,
     "metadata": {},
     "output_type": "execute_result"
    }
   ],
   "source": [
    "# Split the string only at the first occurrence\n",
    "\n",
    "import re\n",
    "\n",
    "text = \"I realy enjoy Data Science.\"\n",
    "x = re.split(r\"\\s\", text,1)\n",
    "x"
   ]
  },
  {
   "cell_type": "code",
   "execution_count": 13,
   "id": "af21864e-a0ed-4fc7-8c57-d8b808e1f6cf",
   "metadata": {},
   "outputs": [
    {
     "data": {
      "text/plain": [
       "['I', 'realy', 'enjoy Data Science.']"
      ]
     },
     "execution_count": 13,
     "metadata": {},
     "output_type": "execute_result"
    }
   ],
   "source": [
    "# Split the string only at the first 2 occurrences\n",
    "\n",
    "import re\n",
    "\n",
    "text = \"I realy enjoy Data Science.\"\n",
    "x = re.split(r\"\\s\", text,2)\n",
    "x"
   ]
  },
  {
   "cell_type": "markdown",
   "id": "f4942656-2818-4370-bb0c-ba3ad1da0290",
   "metadata": {},
   "source": [
    "### The sub() Function  \n",
    "The sub() function replaces the matches with the text of your choice:"
   ]
  },
  {
   "cell_type": "code",
   "execution_count": 15,
   "id": "77f8dc20-23e8-42f3-9809-201cb89df8e2",
   "metadata": {},
   "outputs": [
    {
     "data": {
      "text/plain": [
       "'ML**is**amazing!!!'"
      ]
     },
     "execution_count": 15,
     "metadata": {},
     "output_type": "execute_result"
    }
   ],
   "source": [
    "# Replace every white-space character with the '**'\n",
    "\n",
    "text = \"ML is amazing!!!\"\n",
    "re.sub(r\"\\s\", \"**\", text)"
   ]
  },
  {
   "cell_type": "code",
   "execution_count": 16,
   "id": "e29618d0-ca02-40d1-b4bf-74fbd2447faa",
   "metadata": {},
   "outputs": [
    {
     "data": {
      "text/plain": [
       "'ML**can**solve many real-life problems.'"
      ]
     },
     "execution_count": 16,
     "metadata": {},
     "output_type": "execute_result"
    }
   ],
   "source": [
    "# Replace 1st two white-space character with the '**'\n",
    "\n",
    "text = \"ML can solve many real-life problems.\"\n",
    "re.sub(r\"\\s\",\"**\", text,2)"
   ]
  },
  {
   "cell_type": "markdown",
   "id": "863d7254-0291-43a7-8efc-758d1038973b",
   "metadata": {},
   "source": [
    "# Match Object\n",
    "\n",
    "- A Match Object is an object containing information about the search and the result.\n",
    "- If there is no match, the value None will be returned, instead of the Match Object.\n",
    "\n",
    "### The Match object has properties and methods used to retrieve information about the search, and the result:\n",
    "\n",
    "- .span() --- > returns a tuple containing the start-, and end positions of the match.\n",
    "- .string --- > returns the string passed into the function\n",
    "- .group() -- > returns the part of the string where there was a match"
   ]
  },
  {
   "cell_type": "code",
   "execution_count": 18,
   "id": "84bf0607-97ac-4275-8ad0-e279b9606a0d",
   "metadata": {},
   "outputs": [
    {
     "name": "stdout",
     "output_type": "stream",
     "text": [
      "(12, 17)\n"
     ]
    }
   ],
   "source": [
    "# The regular expression looks for any words that starts with an upper case \"S\":\n",
    "\n",
    "import re\n",
    "\n",
    "txt = \"The rain in Spain\"\n",
    "x = re.search(r\"\\bS\\w+\", txt)\n",
    "print(x.span())"
   ]
  },
  {
   "cell_type": "code",
   "execution_count": 19,
   "id": "435513bc-4963-4741-8023-d000ee536141",
   "metadata": {},
   "outputs": [
    {
     "name": "stdout",
     "output_type": "stream",
     "text": [
      "Spain\n"
     ]
    }
   ],
   "source": [
    "# Print the part of the string where there was a match.\n",
    "\n",
    "x = re.search(r\"\\bS\\w+\", txt)\n",
    "print(x.group())"
   ]
  },
  {
   "cell_type": "code",
   "execution_count": 20,
   "id": "becba192-3144-43cb-a221-001dfa0f20aa",
   "metadata": {},
   "outputs": [
    {
     "name": "stdout",
     "output_type": "stream",
     "text": [
      "The rain in Spain\n"
     ]
    }
   ],
   "source": [
    "# Print the string passed into the function:\n",
    "\n",
    "print(x.string)"
   ]
  },
  {
   "cell_type": "markdown",
   "id": "1ee9a56f-3263-4d04-865c-d7c957f52ede",
   "metadata": {},
   "source": [
    "# Metacharacters\n",
    "Metacharacters are characters with a special meaning"
   ]
  },
  {
   "cell_type": "markdown",
   "id": "effa7bf2-a5c1-4b4d-b338-cc55a3a08124",
   "metadata": {},
   "source": [
    "| **Character** | **Description**                          | **Example**     | **Matches**                            |         |                                   |\n",
    "| ------------- | ---------------------------------------- | --------------- | -------------------------------------- | ------- | --------------------------------- |\n",
    "| `[]`          | A **set of characters**                  | `[a-m]`         | Any **one** character from a to m      |         |                                   |\n",
    "| `\\`           | **Escape character** or special sequence | `\\d`            | A digit (same as `[0-9]`)              |         |                                   |\n",
    "| `.`           | **Any character** (except newline `\\n`)  | `he..o`         | Matches e.g. `hello`, `heppo`, `hexxo` |         |                                   |\n",
    "| `^`           | Matches **start of string**              | `^hello`        | Matches if string starts with `hello`  |         |                                   |\n",
    "| `$`           | Matches **end of string**                | `planet$`       | Matches if string ends with `planet`   |         |                                   |\n",
    "| `*`           | **0 or more** of previous character      | `he.*o`         | `heo`, `hello`, `heyyyyyo`, etc.       |         |                                   |\n",
    "| `+`           | **1 or more** of previous character      | `he.+o`         | Requires at least one char in between  |         |                                   |\n",
    "| `?`           | **0 or 1** occurrence of previous char   | `he.?o`         | `heo`, `heoo`, but not `hexxo`         |         |                                   |\n",
    "| `{n}`         | **Exactly n** occurrences                | `he.{2}o`       | `hexxo`, `hello`, not `heo`            |         |                                   |\n",
    "| `{n,m}`       | Between **n and m** repetitions          | `a{1,3}`        | `a`, `aa`, or `aaa`                    |         |                                   |\n",
    "| \\`            | \\`                                       | **OR** operator | \\`falls                                | stays\\` | Matches either `falls` or `stays` |\n",
    "| `()`          | **Grouping** and capturing               | `(ab)+`         | Matches `ab`, `abab`, `ababab`, etc.   |         |                                   |\n"
   ]
  },
  {
   "cell_type": "code",
   "execution_count": 23,
   "id": "357e0b86-d9cf-4cb7-b24a-c2897adc6ee8",
   "metadata": {},
   "outputs": [
    {
     "name": "stdout",
     "output_type": "stream",
     "text": [
      "['l', 'o', 'v', 'e', 'a', 't', 'a', 'c', 'i', 'e', 'n', 'c', 'e']\n",
      "['I', 'D', 'S']\n"
     ]
    }
   ],
   "source": [
    "# [] ---> Find all lower case characters alphabetically between \"a\" and \"m\"\n",
    "\n",
    "text = \"I love Data Science.\"\n",
    "print(re.findall(\"[a-z]\",text))\n",
    "print(re.findall('[A-Z]', text))"
   ]
  },
  {
   "cell_type": "code",
   "execution_count": 24,
   "id": "a7b1dfd5-4cd4-46a4-b474-617d24aa4965",
   "metadata": {},
   "outputs": [
    {
     "data": {
      "text/plain": [
       "['2', '0']"
      ]
     },
     "execution_count": 24,
     "metadata": {},
     "output_type": "execute_result"
    }
   ],
   "source": [
    "# \\d  -----> Find all digit characters\n",
    "\n",
    "text = 'It is a 20 dollar note.'\n",
    "re.findall(r\"\\d\", text)"
   ]
  },
  {
   "cell_type": "code",
   "execution_count": 25,
   "id": "f31c3f1e-1fc3-43d4-9556-8fe717e76506",
   "metadata": {},
   "outputs": [
    {
     "data": {
      "text/plain": [
       "['hello', 'heiio', 'he--o']"
      ]
     },
     "execution_count": 25,
     "metadata": {},
     "output_type": "execute_result"
    }
   ],
   "source": [
    "# Search for a sequence that starts with \"he\", followed by two (any) characters, and an \"o\"\n",
    "\n",
    "text = \"hello planet, heiio planet, he--o planet\"\n",
    "re.findall(\"he..o\", text)"
   ]
  },
  {
   "cell_type": "code",
   "execution_count": 26,
   "id": "4dbe2745-76f4-4a3e-8b84-be2c40a59b6f",
   "metadata": {},
   "outputs": [
    {
     "data": {
      "text/plain": [
       "['hello']"
      ]
     },
     "execution_count": 26,
     "metadata": {},
     "output_type": "execute_result"
    }
   ],
   "source": [
    "# Check if the string starts with 'hello'\n",
    "\n",
    "text = \"hello world!!!\"\n",
    "re.findall(\"^hello\", text)"
   ]
  },
  {
   "cell_type": "code",
   "execution_count": 27,
   "id": "2e93c061-d568-4cb4-bf15-eecef8c58849",
   "metadata": {},
   "outputs": [
    {
     "data": {
      "text/plain": [
       "['apples']"
      ]
     },
     "execution_count": 27,
     "metadata": {},
     "output_type": "execute_result"
    }
   ],
   "source": [
    "#Check if the string ends with 'apples':\n",
    "\n",
    "text = \"I love apples\"\n",
    "re.findall(\"apples$\", text)"
   ]
  },
  {
   "cell_type": "code",
   "execution_count": 28,
   "id": "945c97db-78ce-442e-9441-6c044b7c5c72",
   "metadata": {},
   "outputs": [
    {
     "name": "stdout",
     "output_type": "stream",
     "text": [
      "['Denmark']\n",
      "['beautiful']\n"
     ]
    }
   ],
   "source": [
    "# Zero or more occurrences\n",
    "#Search for a sequence that starts with \"he\", followed by 0 or more  (any) characters, and an \"o\":\n",
    "\n",
    "text = \"Denmark is a very beautiful country.\"\n",
    "print(re.findall(\"Den.*rk\", text)) \n",
    "print(re.findall(\"bea.*ful\", text))"
   ]
  },
  {
   "cell_type": "code",
   "execution_count": 29,
   "id": "c85a9dea-82d4-4ed9-a91c-77847797a110",
   "metadata": {},
   "outputs": [
    {
     "data": {
      "text/plain": [
       "['world']"
      ]
     },
     "execution_count": 29,
     "metadata": {},
     "output_type": "execute_result"
    }
   ],
   "source": [
    "# One or more occurrences\n",
    "\n",
    "text = 'hello world'\n",
    "re.findall('wo.+d', text)"
   ]
  },
  {
   "cell_type": "code",
   "execution_count": 30,
   "id": "1ceff848-b24a-43b7-9dfb-fc1aba36b29f",
   "metadata": {},
   "outputs": [
    {
     "data": {
      "text/plain": [
       "['hello']"
      ]
     },
     "execution_count": 30,
     "metadata": {},
     "output_type": "execute_result"
    }
   ],
   "source": [
    "# Search for a sequence that starts with \"he\", followed excactly 2 (any) characters, and an \"o\":\n",
    "\n",
    "re.findall(\"he.{2}o\", text)"
   ]
  },
  {
   "cell_type": "code",
   "execution_count": 31,
   "id": "1bc1c663-ee20-4022-8fcf-711a391c2df3",
   "metadata": {},
   "outputs": [
    {
     "name": "stdout",
     "output_type": "stream",
     "text": [
      "['falls']\n",
      "Yes, there is at least one match!\n"
     ]
    }
   ],
   "source": [
    "#Check if the string contains either \"falls\" or \"stays\":\n",
    "\n",
    "txt = \"The rain in Spain falls mainly in the plain!\"\n",
    "x = re.findall(\"falls|stays\", txt)\n",
    "print(x)\n",
    "\n",
    "if x:\n",
    "  print(\"Yes, there is at least one match!\")\n",
    "else:\n",
    "  print(\"No match\")"
   ]
  },
  {
   "cell_type": "markdown",
   "id": "b474f302-01af-478b-a2fa-7873d87d0650",
   "metadata": {},
   "source": [
    "# Special Sequences  \n",
    "A special sequence is a \\ followed by one of the characters in the list below, and has a special meaning:"
   ]
  },
  {
   "cell_type": "markdown",
   "id": "dc193392-8b3a-40b7-9167-92cff3ad994f",
   "metadata": {},
   "source": [
    "| **Character** | **Description**                                                                                                                                          | **Example**    |\n",
    "|---------------|----------------------------------------------------------------------------------------------------------------------------------------------------------|----------------|\n",
    "| `\\A`          | Returns a match if the specified characters are at the **beginning of the string**                                                                       | `\"\\AThe\"`      |\n",
    "| `\\b`          | Returns a match where the specified characters are at the **beginning or end of a word** (use raw string `r\"\"`)                                          | `r\"\\bain\"`     |\n",
    "|               |                                                                                                                                                          | `r\"ain\\b\"`     |\n",
    "| `\\B`          | Returns a match where the specified characters are present, but **NOT at the beginning or end of a word** (use raw string `r\"\"`)                         | `r\"\\Bain\"`     |\n",
    "|               |                                                                                                                                                          | `r\"ain\\B\"`     |\n",
    "| `\\d`          | Returns a match where the string contains **digits** (0–9)                                                                                                | `\"\\d\"`         |\n",
    "| `\\D`          | Returns a match where the string **does NOT** contain digits                                                                                              | `\"\\D\"`         |\n",
    "| `\\s`          | Returns a match where the string contains a **whitespace character** (space, tab, newline, etc.)                                                          | `\"\\s\"`         |\n",
    "| `\\S`          | Returns a match where the string **does NOT** contain a whitespace character                                                                              | `\"\\S\"`         |\n",
    "| `\\w`          | Returns a match where the string contains any **word character** (a–Z, 0–9, and `_`)                                                                      | `\"\\w\"`         |\n",
    "| `\\W`          | Returns a match where the string **does NOT** contain any word characters                                                                                 | `\"\\W\"`         |\n",
    "| `\\Z`          | Returns a match if the specified characters are at the **end of the string**                                                                              | `\"Spain\\Z\"`    |\n"
   ]
  },
  {
   "cell_type": "code",
   "execution_count": 34,
   "id": "6f2d8f34-4803-44b3-a7c9-c5d94cf1ae75",
   "metadata": {},
   "outputs": [
    {
     "name": "stdout",
     "output_type": "stream",
     "text": [
      "There is a match.\n"
     ]
    }
   ],
   "source": [
    "# \\A---> #Check if the string starts with \"The\"\n",
    "#  beginning of the string\n",
    "\n",
    "text = \"The train is running late.\"\n",
    "\n",
    "x = re.findall(r\"\\AThe\", text)\n",
    "if x:\n",
    "    print('There is a match.')\n",
    "else:\n",
    "    print('There is no match.')"
   ]
  },
  {
   "cell_type": "code",
   "execution_count": 35,
   "id": "d181bece-c378-4503-ada1-70ce627fd10b",
   "metadata": {},
   "outputs": [
    {
     "name": "stdout",
     "output_type": "stream",
     "text": [
      "['Beginning']\n",
      "['end']\n"
     ]
    }
   ],
   "source": [
    "# \\b ---> beginning or end of a word\n",
    "\n",
    "text1 = 'Beginning of the sentence.'\n",
    "text2 = 'at the end'\n",
    "\n",
    "print(re.findall(r\"\\bBeginning\", text1))\n",
    "print(re.findall(r\"\\bend\", text2))"
   ]
  },
  {
   "cell_type": "code",
   "execution_count": 36,
   "id": "dfe93548-24d2-4baf-96d0-6b386029dad7",
   "metadata": {},
   "outputs": [
    {
     "name": "stdout",
     "output_type": "stream",
     "text": [
      "[]\n",
      "[]\n"
     ]
    }
   ],
   "source": [
    "# \\B ----> NOT at the beginning or end of a word\n",
    "\n",
    "text1 = 'Beginning of the sentence.'\n",
    "text2 = 'at the end'\n",
    "\n",
    "print(re.findall(r\"\\BBeginning\", text1))\n",
    "print(re.findall(r\"\\Bthe\", text2))"
   ]
  },
  {
   "cell_type": "code",
   "execution_count": 37,
   "id": "bda29091-d8b8-42cf-83dd-56cdae6c275a",
   "metadata": {},
   "outputs": [
    {
     "name": "stdout",
     "output_type": "stream",
     "text": [
      "['The']\n",
      "[' ', 'a', 'p', 'p', 'l', 'e', 's', ' ', 'f', 'o', 'r', ' ', ' ', 't', 'a', 'k', 'a', '.']\n",
      "Digit matched\n",
      "Char matched\n"
     ]
    }
   ],
   "source": [
    "# \"\\d\"  \"\\D\"   ----> Check if the string contains any digits (numbers from 0-9):\n",
    "\n",
    "text = '10 apples for 120 taka.'\n",
    "digits = re.findall(r\"\\d\", text)\n",
    "char = re.findall(r\"\\D\", text)\n",
    "print(x)\n",
    "print(char)\n",
    "print('Digit matched') if digits else print(\"Not matched.\")\n",
    "print('Char matched') if char else print(\"Not matched.\")"
   ]
  },
  {
   "cell_type": "code",
   "execution_count": 38,
   "id": "6a9c6017-6b83-491e-81fd-015674c42fdc",
   "metadata": {},
   "outputs": [
    {
     "name": "stdout",
     "output_type": "stream",
     "text": [
      "['T', 'h', 'e', 'r', 'a', 'i', 'n', 'i', 'n', 'S', 'p', 'a', 'i', 'n']\n",
      "Yes, there is at least one match!\n"
     ]
    }
   ],
   "source": [
    "# Return a match at every NON white-space character:\n",
    "\n",
    "import re\n",
    "\n",
    "txt = \"The rain in Spain\"\n",
    "x = re.findall(r\"\\S\", txt)\n",
    "\n",
    "print(x)\n",
    "\n",
    "if x:\n",
    "  print(\"Yes, there is at least one match!\")\n",
    "else:\n",
    "  print(\"No match\")"
   ]
  },
  {
   "cell_type": "code",
   "execution_count": 39,
   "id": "a4330314-cba8-4bda-8e06-3aa3ee7353bb",
   "metadata": {},
   "outputs": [
    {
     "name": "stdout",
     "output_type": "stream",
     "text": [
      "[' ', ' ', ' ']\n",
      "Yes, there is at least one match!\n"
     ]
    }
   ],
   "source": [
    "#Return a match at every white-space character:\n",
    "\n",
    "txt = \"The rain in Spain\"\n",
    "x = re.findall(r\"\\s\", txt)\n",
    "\n",
    "print(x)\n",
    "\n",
    "if x:\n",
    "  print(\"Yes, there is at least one match!\")\n",
    "else:\n",
    "  print(\"No match\")"
   ]
  },
  {
   "cell_type": "code",
   "execution_count": 40,
   "id": "ef5a552b-e1e4-4d18-8a58-90fa446e3187",
   "metadata": {},
   "outputs": [
    {
     "name": "stdout",
     "output_type": "stream",
     "text": [
      "['a', 'b', 'd', 'c', '8', '7', '9', '_', 'b', 'g']\n",
      "[' ', ' ', '$', '%', '#', '@', '!', ')', '(']\n"
     ]
    }
   ],
   "source": [
    "#Return a match at every word character (characters from a to Z, digits from 0-9, and the underscore _ character):\n",
    "\n",
    "txt = \"abdc 879 $%#@_bg!)(\"\n",
    "x = re.findall(r\"\\w\", txt)\n",
    "y = re.findall(r\"\\W\",txt)\n",
    "\n",
    "print(x)\n",
    "print(y)"
   ]
  },
  {
   "cell_type": "code",
   "execution_count": 41,
   "id": "d1bdf61b-5378-4e3b-a910-02f87eaeee99",
   "metadata": {},
   "outputs": [
    {
     "name": "stdout",
     "output_type": "stream",
     "text": [
      "['Spain']\n",
      "Yes, there is a match!\n"
     ]
    }
   ],
   "source": [
    "#Check if the string ends with \"Spain\":\n",
    "\n",
    "txt = \"The rain in Spain\"\n",
    "x = re.findall(r\"Spain\\Z\", txt)\n",
    "\n",
    "print(x)\n",
    "\n",
    "if x:\n",
    "  print(\"Yes, there is a match!\")\n",
    "else:\n",
    "  print(\"No match\")"
   ]
  },
  {
   "cell_type": "markdown",
   "id": "84c196ef-ea8d-4524-9645-844b0bf09263",
   "metadata": {},
   "source": [
    "# Sets\n",
    "A set is a set of characters inside a pair of square brackets [] with a special meaning:"
   ]
  },
  {
   "cell_type": "markdown",
   "id": "8ad0d2d5-ca7c-4237-bd38-625a8ba2de50",
   "metadata": {},
   "source": [
    "| **Set**        | **Description**                                                                                     |\n",
    "|----------------|-----------------------------------------------------------------------------------------------------|\n",
    "| `[arn]`        | Match where **one of the characters** a, r, or n is present                                         |\n",
    "| `[a-n]`        | Match for any **lowercase character** from a to n                                                   |\n",
    "| `[^arn]`       | Match for any character **except** a, r, and n                                                      |\n",
    "| `[0123]`       | Match where **any of the digits** 0, 1, 2, or 3 is present                                           |\n",
    "| `[0-9]`        | Match for **any digit** from 0 to 9                                                                 |\n",
    "| `[0-5][0-9]`   | Match for any **two-digit number from 00 to 59**                                                    |\n",
    "| `[a-zA-Z]`     | Match for **any letter**, lowercase or uppercase                                                    ||\n",
    "| `[+]`          | In sets, special characters like `+`, `*`, `.`, `|`, `()`, `$`, `{}` have **no special meaning**; `[+]` matches literal `+` |            |\n"
   ]
  },
  {
   "cell_type": "code",
   "execution_count": 44,
   "id": "c8354240-fbcc-4ddf-887a-3322ed6580c7",
   "metadata": {},
   "outputs": [
    {
     "data": {
      "text/plain": [
       "['a', 'e']"
      ]
     },
     "execution_count": 44,
     "metadata": {},
     "output_type": "execute_result"
    }
   ],
   "source": [
    "# Check if the string has any a, c, or e characters:\n",
    "\n",
    "text = 'apple'\n",
    "re.findall(\"[ace]\", text)"
   ]
  },
  {
   "cell_type": "code",
   "execution_count": 45,
   "id": "365a9257-c24c-4f01-82b4-ffeb4a783a0f",
   "metadata": {},
   "outputs": [
    {
     "data": {
      "text/plain": [
       "['a', 'e']"
      ]
     },
     "execution_count": 45,
     "metadata": {},
     "output_type": "execute_result"
    }
   ],
   "source": [
    "# Check if the string has any characters between a and g\n",
    "\n",
    "text = 'apple'\n",
    "re.findall(\"[a-g]\", text)"
   ]
  },
  {
   "cell_type": "code",
   "execution_count": 46,
   "id": "80a9d2ab-b9e1-423a-b619-dc93a6ec5e20",
   "metadata": {},
   "outputs": [
    {
     "data": {
      "text/plain": [
       "['p', 'p', 'l']"
      ]
     },
     "execution_count": 46,
     "metadata": {},
     "output_type": "execute_result"
    }
   ],
   "source": [
    "# Check if the string has other characters than a, c, or e characters.\n",
    "\n",
    "text = 'apple'\n",
    "re.findall(\"[^ace]\", text)"
   ]
  },
  {
   "cell_type": "code",
   "execution_count": 47,
   "id": "e7dc29c7-b33f-4a48-8ef8-81e3208c1bb3",
   "metadata": {},
   "outputs": [
    {
     "data": {
      "text/plain": [
       "['p', 'p', 'l']"
      ]
     },
     "execution_count": 47,
     "metadata": {},
     "output_type": "execute_result"
    }
   ],
   "source": [
    "text = 'apple'\n",
    "re.findall(\"[^a-e]\", text)"
   ]
  },
  {
   "cell_type": "code",
   "execution_count": 48,
   "id": "16009373-6518-496c-811d-736b203d5c80",
   "metadata": {},
   "outputs": [
    {
     "data": {
      "text/plain": [
       "['0']"
      ]
     },
     "execution_count": 48,
     "metadata": {},
     "output_type": "execute_result"
    }
   ],
   "source": [
    "# Check if the string has any 0, 1, 2, or 3 digits:\n",
    "\n",
    "text = \"I have 50 apples\"\n",
    "re.findall(\"[0123]\", text)"
   ]
  },
  {
   "cell_type": "code",
   "execution_count": 49,
   "id": "ced01a72-3e58-4794-bdc5-dc39f6ceab24",
   "metadata": {},
   "outputs": [
    {
     "data": {
      "text/plain": [
       "['1', '2']"
      ]
     },
     "execution_count": 49,
     "metadata": {},
     "output_type": "execute_result"
    }
   ],
   "source": [
    "# Check if the string has any 0-5 digits:\n",
    "\n",
    "text = \"I have 1298 apples\"\n",
    "re.findall(\"[0-5]\", text)"
   ]
  },
  {
   "cell_type": "code",
   "execution_count": 50,
   "id": "fdc30a64-4683-48fe-bf80-84db32a724cf",
   "metadata": {},
   "outputs": [
    {
     "name": "stdout",
     "output_type": "stream",
     "text": [
      "['11', '45']\n"
     ]
    }
   ],
   "source": [
    "# Check if the string has any two-digit numbers, from 00 to 59:\n",
    "\n",
    "txt = \"8 times before 11:45 AM\"\n",
    "x = re.findall(\"[0-5][0-9]\", txt)\n",
    "\n",
    "print(x)"
   ]
  },
  {
   "cell_type": "code",
   "execution_count": 51,
   "id": "d6eedef8-0d95-424f-b551-45472cb2d9eb",
   "metadata": {},
   "outputs": [
    {
     "data": {
      "text/plain": [
       "['I', 'h', 'a', 'v', 'e', 'b', 'o', 'u', 'g', 'h', 't', 'e', 'g', 'g', 's']"
      ]
     },
     "execution_count": 51,
     "metadata": {},
     "output_type": "execute_result"
    }
   ],
   "source": [
    "# Check if the string has any characters from a to z lower case, and A to Z upper case:\n",
    "\n",
    "text = 'I have bought 50 eggs.'\n",
    "re.findall(\"[a-zA-Z]\", text)"
   ]
  },
  {
   "cell_type": "code",
   "execution_count": 52,
   "id": "9df2fcfc-a798-409a-a4a1-88a44a368603",
   "metadata": {},
   "outputs": [
    {
     "data": {
      "text/plain": [
       "['+']"
      ]
     },
     "execution_count": 52,
     "metadata": {},
     "output_type": "execute_result"
    }
   ],
   "source": [
    "# Check if the string has any + characters:\n",
    "\n",
    "text = 'I have +50 apples'\n",
    "re.findall(\"[+]\",text)"
   ]
  },
  {
   "cell_type": "markdown",
   "id": "ac2adf88-2c04-45de-9051-79d8220b7689",
   "metadata": {},
   "source": [
    "# ✅ Basic Level (1–10)"
   ]
  },
  {
   "cell_type": "code",
   "execution_count": null,
   "id": "9909a07b-5cb6-48c9-a598-287f3a87e9b9",
   "metadata": {},
   "outputs": [],
   "source": [
    "# 1. **What is a regular expression? How is it used in Python?**\n",
    "# 2. **What does the `re` module do in Python?**\n",
    "# 3. **What function is used to search for a pattern in a string?**\n",
    "# 4. **Write a regex to find any digit from 0 to 9.**\n",
    "# 5. **What is the difference between `re.search()` and `re.match()`?**\n",
    "# 6. **What does the regex pattern `.` (dot) match?**\n",
    "# 7. **Write a regex to match a string that starts with `\"The\"` using `^`.**\n",
    "# 8. **What is the purpose of `[]` in regex? Give an example.**\n",
    "# 9. **How do you escape a special character like `.` in regex?**\n",
    "# 10. **What does the `+` operator mean in regular expressions?**"
   ]
  },
  {
   "cell_type": "markdown",
   "id": "0f5b1994-3d51-4cb0-9ff6-459efdb4df92",
   "metadata": {},
   "source": [
    "# ✅ Intermediate Level (11–20)"
   ]
  },
  {
   "cell_type": "code",
   "execution_count": null,
   "id": "25beccc2-d232-434a-aa2e-c791b0936fcb",
   "metadata": {},
   "outputs": [],
   "source": [
    "# 11. **What does `\\s` match in regular expressions? How about `\\S`?**\n",
    "# 12. **What’s the difference between `\\d`, `\\D`, `\\w`, and `\\W`?**\n",
    "# 13. **Write a regex to find all words in a string using `re.findall()` and `\\w+`.**\n",
    "# 14. **What does the pattern `[a-zA-Z]` match?**\n",
    "# 15. **How do you use `|` (pipe) in regex? Show with an example.**\n",
    "# 16. **What is the purpose of parentheses `()` in regex?**\n",
    "# 17. **Write a pattern that matches email addresses.**\n",
    "# 18. **What will `re.findall(r'\\bcat\\b', \"The cat sat on the catalog\")` return?**\n",
    "# 19. **How do you match a literal `\\` backslash character in regex?**\n",
    "# 20. **Write a regex pattern to extract all numbers from the string: `\"Order 12, 25 apples and 30 bananas\"`**"
   ]
  },
  {
   "cell_type": "markdown",
   "id": "b587c7de-e2cd-4a4d-b524-a8f6d36aff62",
   "metadata": {},
   "source": [
    "# ✅ Advanced Level (21–30)"
   ]
  },
  {
   "cell_type": "code",
   "execution_count": null,
   "id": "2661a89e-d40e-482e-9c3e-77de41b1bd23",
   "metadata": {},
   "outputs": [],
   "source": [
    "# 21. **What is the difference between greedy and non-greedy quantifiers in regex? Show example.**\n",
    "# 22. **Explain how `re.sub()` works with an example.**\n",
    "# 23. **Write a pattern to match valid Bangladeshi phone numbers: starts with `01` and has 11 digits.**\n",
    "# 24. **How do you extract the domain from an email using regex?**\n",
    "# 25. **Write a regex to match strings that end with `.csv` or `.txt`**\n",
    "# 26. **What does `re.split(r'\\s+', text)` do?**\n",
    "# 27. **Write a regex to match dates in the format `DD-MM-YYYY`.**\n",
    "# 28. **How can you compile a regex pattern and reuse it multiple times?**\n",
    "# 29. **Explain the role of `(?i)` in regex.**\n",
    "# 30. **Write a regex to validate a strong password: at least one uppercase, one lowercase, one digit, and one special character.**"
   ]
  }
 ],
 "metadata": {
  "kernelspec": {
   "display_name": "Python [conda env:base] *",
   "language": "python",
   "name": "conda-base-py"
  },
  "language_info": {
   "codemirror_mode": {
    "name": "ipython",
    "version": 3
   },
   "file_extension": ".py",
   "mimetype": "text/x-python",
   "name": "python",
   "nbconvert_exporter": "python",
   "pygments_lexer": "ipython3",
   "version": "3.12.7"
  }
 },
 "nbformat": 4,
 "nbformat_minor": 5
}
