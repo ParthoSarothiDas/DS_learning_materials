{
 "cells": [
  {
   "cell_type": "markdown",
   "id": "001770bc-5a3b-4375-9716-73d35fe49935",
   "metadata": {},
   "source": [
    "#  Data Science Learning Journey  \n",
    "*Curiosity to Capability — One Notebook at a Time*\n",
    "\n",
    "---\n",
    "Compiled and authored by **Partho Sarothi Das**   \n",
    "\tDhaka, Bangladesh  \n",
    "\tBachelor's & Master's in Statistics  \n",
    "\tInvestment Banking Professional → Aspiring Data Scientist \n",
    "    \n",
    "---"
   ]
  },
  {
   "cell_type": "code",
   "execution_count": 2,
   "id": "170b2164-1736-4135-aa9e-2a70f9e07c04",
   "metadata": {},
   "outputs": [],
   "source": [
    "import pandas as pd\n",
    "import numpy as np"
   ]
  },
  {
   "cell_type": "markdown",
   "id": "464eed77-d70d-4262-b106-8de8654d50d9",
   "metadata": {},
   "source": [
    "# Vectorized operations"
   ]
  },
  {
   "cell_type": "markdown",
   "id": "99a1f1f2-b7b1-4546-9714-5eace9e6d7b2",
   "metadata": {},
   "source": [
    "### Definition:\n",
    "\n",
    "Instead of processing one element at a time, vectorized operations apply a function to all elements simultaneously, using optimized low-level code (often C or Cython under the hood)."
   ]
  },
  {
   "cell_type": "markdown",
   "id": "4ac2b1d5-2343-42aa-b4a3-74b5c5d98973",
   "metadata": {},
   "source": [
    "### Example (Python list vs pandas Series):"
   ]
  },
  {
   "cell_type": "code",
   "execution_count": 6,
   "id": "c7cbe4d8-22ce-4119-b50f-5cfcbe01dbb3",
   "metadata": {},
   "outputs": [
    {
     "name": "stdout",
     "output_type": "stream",
     "text": [
      "0    11\n",
      "1    12\n",
      "2    13\n",
      "3    14\n",
      "4    15\n",
      "dtype: int64\n"
     ]
    }
   ],
   "source": [
    "# Vectorized way (pandas/NumPy):\n",
    "\n",
    "s = pd.Series([1, 2, 3, 4, 5])\n",
    "result = s + 10\n",
    "print(result)"
   ]
  },
  {
   "cell_type": "code",
   "execution_count": 7,
   "id": "16ddfeb6-627a-4901-9987-059597f3ab8e",
   "metadata": {},
   "outputs": [
    {
     "name": "stdout",
     "output_type": "stream",
     "text": [
      "[11, 12, 13, 14, 15]\n"
     ]
    }
   ],
   "source": [
    "# Non-vectorized way (using loop):\n",
    "\n",
    "lst = [1, 2, 3, 4, 5]\n",
    "result = []\n",
    "for i in lst:\n",
    "    result.append(i + 10)\n",
    "print(result)"
   ]
  },
  {
   "cell_type": "markdown",
   "id": "035a7c0b-9c41-4215-8494-11649f6fcdb2",
   "metadata": {},
   "source": [
    "### Usefulness of Vectorized Operations?\n",
    "\n",
    "| Feature       | Benefit                                  |\n",
    "| ------------- | ---------------------------------------- |\n",
    "|  **Speed**       | Much faster (uses optimized C backend)   |\n",
    "|  **Simplicity**  | Cleaner and more readable code           |\n",
    "|  **Performance** | Avoids Python-level loops                |\n",
    "|  **Reliability** | Handles missing values (like `NaN`) well |\n"
   ]
  },
  {
   "cell_type": "markdown",
   "id": "9690f449-58c9-4372-ae33-7d109f1369db",
   "metadata": {},
   "source": [
    "### Examples: Add/Subtract/Multiply:"
   ]
  },
  {
   "cell_type": "code",
   "execution_count": 10,
   "id": "74e7a9e2-7281-4da7-9cd4-49768bae497a",
   "metadata": {},
   "outputs": [
    {
     "data": {
      "text/html": [
       "<div>\n",
       "<style scoped>\n",
       "    .dataframe tbody tr th:only-of-type {\n",
       "        vertical-align: middle;\n",
       "    }\n",
       "\n",
       "    .dataframe tbody tr th {\n",
       "        vertical-align: top;\n",
       "    }\n",
       "\n",
       "    .dataframe thead th {\n",
       "        text-align: right;\n",
       "    }\n",
       "</style>\n",
       "<table border=\"1\" class=\"dataframe\">\n",
       "  <thead>\n",
       "    <tr style=\"text-align: right;\">\n",
       "      <th></th>\n",
       "      <th>fruits</th>\n",
       "      <th>price</th>\n",
       "    </tr>\n",
       "  </thead>\n",
       "  <tbody>\n",
       "    <tr>\n",
       "      <th>0</th>\n",
       "      <td>apple</td>\n",
       "      <td>400</td>\n",
       "    </tr>\n",
       "    <tr>\n",
       "      <th>1</th>\n",
       "      <td>banana</td>\n",
       "      <td>100</td>\n",
       "    </tr>\n",
       "    <tr>\n",
       "      <th>2</th>\n",
       "      <td>orange</td>\n",
       "      <td>300</td>\n",
       "    </tr>\n",
       "  </tbody>\n",
       "</table>\n",
       "</div>"
      ],
      "text/plain": [
       "   fruits  price\n",
       "0   apple    400\n",
       "1  banana    100\n",
       "2  orange    300"
      ]
     },
     "execution_count": 10,
     "metadata": {},
     "output_type": "execute_result"
    }
   ],
   "source": [
    "df = pd.DataFrame({\n",
    "    'fruits': ['apple','banana','orange'],\n",
    "    'price':[400,100,300]\n",
    "})\n",
    "df"
   ]
  },
  {
   "cell_type": "code",
   "execution_count": 11,
   "id": "8026c1a4-16bd-4300-8445-46f028afcbe2",
   "metadata": {},
   "outputs": [
    {
     "data": {
      "text/html": [
       "<div>\n",
       "<style scoped>\n",
       "    .dataframe tbody tr th:only-of-type {\n",
       "        vertical-align: middle;\n",
       "    }\n",
       "\n",
       "    .dataframe tbody tr th {\n",
       "        vertical-align: top;\n",
       "    }\n",
       "\n",
       "    .dataframe thead th {\n",
       "        text-align: right;\n",
       "    }\n",
       "</style>\n",
       "<table border=\"1\" class=\"dataframe\">\n",
       "  <thead>\n",
       "    <tr style=\"text-align: right;\">\n",
       "      <th></th>\n",
       "      <th>fruits</th>\n",
       "      <th>price</th>\n",
       "    </tr>\n",
       "  </thead>\n",
       "  <tbody>\n",
       "    <tr>\n",
       "      <th>0</th>\n",
       "      <td>apple</td>\n",
       "      <td>410</td>\n",
       "    </tr>\n",
       "    <tr>\n",
       "      <th>1</th>\n",
       "      <td>banana</td>\n",
       "      <td>110</td>\n",
       "    </tr>\n",
       "    <tr>\n",
       "      <th>2</th>\n",
       "      <td>orange</td>\n",
       "      <td>310</td>\n",
       "    </tr>\n",
       "  </tbody>\n",
       "</table>\n",
       "</div>"
      ],
      "text/plain": [
       "   fruits  price\n",
       "0   apple    410\n",
       "1  banana    110\n",
       "2  orange    310"
      ]
     },
     "execution_count": 11,
     "metadata": {},
     "output_type": "execute_result"
    }
   ],
   "source": [
    "# Add\n",
    "df['price'] = df['price'] + 10\n",
    "df"
   ]
  },
  {
   "cell_type": "code",
   "execution_count": 12,
   "id": "8bef97b6-6dc3-4727-b353-b7e0cd406155",
   "metadata": {},
   "outputs": [
    {
     "data": {
      "text/html": [
       "<div>\n",
       "<style scoped>\n",
       "    .dataframe tbody tr th:only-of-type {\n",
       "        vertical-align: middle;\n",
       "    }\n",
       "\n",
       "    .dataframe tbody tr th {\n",
       "        vertical-align: top;\n",
       "    }\n",
       "\n",
       "    .dataframe thead th {\n",
       "        text-align: right;\n",
       "    }\n",
       "</style>\n",
       "<table border=\"1\" class=\"dataframe\">\n",
       "  <thead>\n",
       "    <tr style=\"text-align: right;\">\n",
       "      <th></th>\n",
       "      <th>fruits</th>\n",
       "      <th>price</th>\n",
       "    </tr>\n",
       "  </thead>\n",
       "  <tbody>\n",
       "    <tr>\n",
       "      <th>0</th>\n",
       "      <td>apple</td>\n",
       "      <td>400</td>\n",
       "    </tr>\n",
       "    <tr>\n",
       "      <th>1</th>\n",
       "      <td>banana</td>\n",
       "      <td>100</td>\n",
       "    </tr>\n",
       "    <tr>\n",
       "      <th>2</th>\n",
       "      <td>orange</td>\n",
       "      <td>300</td>\n",
       "    </tr>\n",
       "  </tbody>\n",
       "</table>\n",
       "</div>"
      ],
      "text/plain": [
       "   fruits  price\n",
       "0   apple    400\n",
       "1  banana    100\n",
       "2  orange    300"
      ]
     },
     "execution_count": 12,
     "metadata": {},
     "output_type": "execute_result"
    }
   ],
   "source": [
    "# Subtraction\n",
    "df['price'] = df['price'] - 10\n",
    "df"
   ]
  },
  {
   "cell_type": "code",
   "execution_count": 13,
   "id": "11b16140-01a4-43d2-93c9-98f3324bf75f",
   "metadata": {},
   "outputs": [
    {
     "data": {
      "text/html": [
       "<div>\n",
       "<style scoped>\n",
       "    .dataframe tbody tr th:only-of-type {\n",
       "        vertical-align: middle;\n",
       "    }\n",
       "\n",
       "    .dataframe tbody tr th {\n",
       "        vertical-align: top;\n",
       "    }\n",
       "\n",
       "    .dataframe thead th {\n",
       "        text-align: right;\n",
       "    }\n",
       "</style>\n",
       "<table border=\"1\" class=\"dataframe\">\n",
       "  <thead>\n",
       "    <tr style=\"text-align: right;\">\n",
       "      <th></th>\n",
       "      <th>fruits</th>\n",
       "      <th>price</th>\n",
       "    </tr>\n",
       "  </thead>\n",
       "  <tbody>\n",
       "    <tr>\n",
       "      <th>0</th>\n",
       "      <td>apple</td>\n",
       "      <td>440.0</td>\n",
       "    </tr>\n",
       "    <tr>\n",
       "      <th>1</th>\n",
       "      <td>banana</td>\n",
       "      <td>110.0</td>\n",
       "    </tr>\n",
       "    <tr>\n",
       "      <th>2</th>\n",
       "      <td>orange</td>\n",
       "      <td>330.0</td>\n",
       "    </tr>\n",
       "  </tbody>\n",
       "</table>\n",
       "</div>"
      ],
      "text/plain": [
       "   fruits  price\n",
       "0   apple  440.0\n",
       "1  banana  110.0\n",
       "2  orange  330.0"
      ]
     },
     "execution_count": 13,
     "metadata": {},
     "output_type": "execute_result"
    }
   ],
   "source": [
    "# Multiple\n",
    "\n",
    "df['price'] = df['price'] * 1.1 # Increase all prices by 10%\n",
    "df"
   ]
  },
  {
   "cell_type": "markdown",
   "id": "fedf93cd-ed05-492d-8e8e-9c001419f47c",
   "metadata": {},
   "source": [
    "### Examples: String operations"
   ]
  },
  {
   "cell_type": "code",
   "execution_count": 15,
   "id": "97b9f5b8-9859-4e80-b983-05f81cdf905b",
   "metadata": {},
   "outputs": [
    {
     "data": {
      "text/html": [
       "<div>\n",
       "<style scoped>\n",
       "    .dataframe tbody tr th:only-of-type {\n",
       "        vertical-align: middle;\n",
       "    }\n",
       "\n",
       "    .dataframe tbody tr th {\n",
       "        vertical-align: top;\n",
       "    }\n",
       "\n",
       "    .dataframe thead th {\n",
       "        text-align: right;\n",
       "    }\n",
       "</style>\n",
       "<table border=\"1\" class=\"dataframe\">\n",
       "  <thead>\n",
       "    <tr style=\"text-align: right;\">\n",
       "      <th></th>\n",
       "      <th>fruits</th>\n",
       "      <th>price</th>\n",
       "    </tr>\n",
       "  </thead>\n",
       "  <tbody>\n",
       "    <tr>\n",
       "      <th>0</th>\n",
       "      <td>APPLE</td>\n",
       "      <td>440.0</td>\n",
       "    </tr>\n",
       "    <tr>\n",
       "      <th>1</th>\n",
       "      <td>BANANA</td>\n",
       "      <td>110.0</td>\n",
       "    </tr>\n",
       "    <tr>\n",
       "      <th>2</th>\n",
       "      <td>ORANGE</td>\n",
       "      <td>330.0</td>\n",
       "    </tr>\n",
       "  </tbody>\n",
       "</table>\n",
       "</div>"
      ],
      "text/plain": [
       "   fruits  price\n",
       "0   APPLE  440.0\n",
       "1  BANANA  110.0\n",
       "2  ORANGE  330.0"
      ]
     },
     "execution_count": 15,
     "metadata": {},
     "output_type": "execute_result"
    }
   ],
   "source": [
    "df['fruits'] = df['fruits'].str.upper()\n",
    "df"
   ]
  },
  {
   "cell_type": "markdown",
   "id": "38065e16-41d9-46a8-a2f9-8257474c7bb4",
   "metadata": {},
   "source": [
    "### Condition checking:"
   ]
  },
  {
   "cell_type": "code",
   "execution_count": 17,
   "id": "8bb8f0e2-b0ea-4993-a540-95545b5e2925",
   "metadata": {},
   "outputs": [
    {
     "data": {
      "text/plain": [
       "0    False\n",
       "1     True\n",
       "2     True\n",
       "dtype: bool"
      ]
     },
     "execution_count": 17,
     "metadata": {},
     "output_type": "execute_result"
    }
   ],
   "source": [
    "s = pd.Series([5, 10, 15])\n",
    "s > 7"
   ]
  },
  {
   "cell_type": "markdown",
   "id": "a21d82cb-b1ea-424e-8bee-4fa319d3cd4e",
   "metadata": {},
   "source": [
    "# String operations"
   ]
  },
  {
   "cell_type": "markdown",
   "id": "e0888ee4-a30d-4c52-8b17-33400ab22428",
   "metadata": {},
   "source": [
    "### Accessing ---> .str <--- Methods\n",
    "\n",
    "In pandas, string operations are primarily performed using the .str accessor, which allows vectorized string functions on Series of string values. These operations are powerful and efficient for text processing, data cleaning, and feature engineering."
   ]
  },
  {
   "cell_type": "markdown",
   "id": "99f98f20-2e3a-4a36-a534-f4dab9c4a5e8",
   "metadata": {},
   "source": [
    "### Convert to lowercase ---> str.lower( )"
   ]
  },
  {
   "cell_type": "code",
   "execution_count": 21,
   "id": "b433139d-4b52-4a0d-a6cd-06d60321ab36",
   "metadata": {},
   "outputs": [
    {
     "data": {
      "text/plain": [
       "0     apple\n",
       "1    banana\n",
       "2    cherry\n",
       "3    banana\n",
       "4      None\n",
       "dtype: object"
      ]
     },
     "execution_count": 21,
     "metadata": {},
     "output_type": "execute_result"
    }
   ],
   "source": [
    "s = pd.Series(['apple', 'banana', 'cherry', 'Banana', None])\n",
    "\n",
    "s.str.lower()"
   ]
  },
  {
   "cell_type": "markdown",
   "id": "8f474160-0a9e-4045-9afe-f93f5bcf144c",
   "metadata": {},
   "source": [
    "### Convert to uppercase ---> str.upper()"
   ]
  },
  {
   "cell_type": "code",
   "execution_count": 23,
   "id": "22a13c57-d06f-4e1c-830e-e97a69a25c9e",
   "metadata": {},
   "outputs": [
    {
     "data": {
      "text/plain": [
       "0     APPLE\n",
       "1    BANANA\n",
       "2    CHERRY\n",
       "3    BANANA\n",
       "4      None\n",
       "dtype: object"
      ]
     },
     "execution_count": 23,
     "metadata": {},
     "output_type": "execute_result"
    }
   ],
   "source": [
    "s.str.upper()"
   ]
  },
  {
   "cell_type": "markdown",
   "id": "b8a7d565-98fa-4625-a4bc-7ee698e11c20",
   "metadata": {},
   "source": [
    "### Capitalize first letter ---> str.capitalize()"
   ]
  },
  {
   "cell_type": "code",
   "execution_count": 25,
   "id": "603e3b12-48cf-485f-ac87-24848406d17b",
   "metadata": {},
   "outputs": [
    {
     "data": {
      "text/plain": [
       "0     Apple\n",
       "1    Banana\n",
       "2    Cherry\n",
       "3    Banana\n",
       "4      None\n",
       "dtype: object"
      ]
     },
     "execution_count": 25,
     "metadata": {},
     "output_type": "execute_result"
    }
   ],
   "source": [
    "s.str.capitalize()"
   ]
  },
  {
   "cell_type": "markdown",
   "id": "97200724-4a69-4996-8cd4-5595a38ba191",
   "metadata": {},
   "source": [
    "### Strip whitespace ---> str.strip()"
   ]
  },
  {
   "cell_type": "code",
   "execution_count": 27,
   "id": "05b8dc7f-88a6-4f95-b66b-6c79a5230c21",
   "metadata": {},
   "outputs": [
    {
     "data": {
      "text/plain": [
       "0     apple\n",
       "1    banana\n",
       "2    cherry\n",
       "3    Banana\n",
       "4      None\n",
       "dtype: object"
      ]
     },
     "execution_count": 27,
     "metadata": {},
     "output_type": "execute_result"
    }
   ],
   "source": [
    "s = pd.Series([' apple', 'banana  ', 'cherry', '  Banana', None])\n",
    "s.str.strip()"
   ]
  },
  {
   "cell_type": "markdown",
   "id": "1fdb245b-ef36-4cb9-81da-a78f26690c0b",
   "metadata": {},
   "source": [
    "### Length of strings ---> str.len()"
   ]
  },
  {
   "cell_type": "code",
   "execution_count": 29,
   "id": "af867653-1247-4d0b-9886-01052611cae9",
   "metadata": {},
   "outputs": [
    {
     "data": {
      "text/plain": [
       "0    5.0\n",
       "1    6.0\n",
       "2    6.0\n",
       "3    6.0\n",
       "4    NaN\n",
       "dtype: float64"
      ]
     },
     "execution_count": 29,
     "metadata": {},
     "output_type": "execute_result"
    }
   ],
   "source": [
    "s = pd.Series(['apple', 'banana', 'cherry', 'Banana', None])\n",
    "s.str.len()"
   ]
  },
  {
   "cell_type": "markdown",
   "id": "59dd1682-169c-413e-b32c-92f63bbcbbe7",
   "metadata": {},
   "source": [
    "### Replace substrings ---> str.replace(old, new)"
   ]
  },
  {
   "cell_type": "code",
   "execution_count": 31,
   "id": "11935700-0977-41d9-bd14-319b90b9371e",
   "metadata": {},
   "outputs": [
    {
     "data": {
      "text/plain": [
       "0     @pple\n",
       "1    b@n@n@\n",
       "2    cherry\n",
       "3    B@n@n@\n",
       "4      None\n",
       "dtype: object"
      ]
     },
     "execution_count": 31,
     "metadata": {},
     "output_type": "execute_result"
    }
   ],
   "source": [
    "s.str.replace('a', '@')"
   ]
  },
  {
   "cell_type": "markdown",
   "id": "ceef7927-f43b-46c4-a4df-0a083677ac29",
   "metadata": {},
   "source": [
    "### Contains substring ---> str.contains(pat)"
   ]
  },
  {
   "cell_type": "code",
   "execution_count": 33,
   "id": "3ad08eda-f501-4f60-8edb-2367c41a8173",
   "metadata": {},
   "outputs": [
    {
     "data": {
      "text/plain": [
       "0     True\n",
       "1     True\n",
       "2    False\n",
       "3     True\n",
       "4     None\n",
       "dtype: object"
      ]
     },
     "execution_count": 33,
     "metadata": {},
     "output_type": "execute_result"
    }
   ],
   "source": [
    "s.str.contains('a')"
   ]
  },
  {
   "cell_type": "markdown",
   "id": "9842c8e7-d87a-4f38-92c5-fe92bd72f78f",
   "metadata": {},
   "source": [
    "### Starts with ---> str.startswith(pat)"
   ]
  },
  {
   "cell_type": "code",
   "execution_count": 35,
   "id": "01f80195-fba8-48ec-95ff-b1e2e9a3adc6",
   "metadata": {},
   "outputs": [
    {
     "data": {
      "text/plain": [
       "0    False\n",
       "1     True\n",
       "2    False\n",
       "Name: fruits, dtype: bool"
      ]
     },
     "execution_count": 35,
     "metadata": {},
     "output_type": "execute_result"
    }
   ],
   "source": [
    "df = pd.DataFrame({\n",
    "    'fruits': ['apple','banana','orange'],\n",
    "    'price':[400,100,300]\n",
    "})\n",
    "df\n",
    "\n",
    "df['fruits'].str.startswith('b')"
   ]
  },
  {
   "cell_type": "markdown",
   "id": "f6b3919f-d58a-437c-8867-f0dccc1b9fda",
   "metadata": {},
   "source": [
    "### Ends with ---> str.endswith(pat)"
   ]
  },
  {
   "cell_type": "code",
   "execution_count": 37,
   "id": "b49cea54-2e40-4ab6-886e-1fa89461f872",
   "metadata": {},
   "outputs": [
    {
     "data": {
      "text/plain": [
       "0     True\n",
       "1    False\n",
       "2     True\n",
       "Name: fruits, dtype: bool"
      ]
     },
     "execution_count": 37,
     "metadata": {},
     "output_type": "execute_result"
    }
   ],
   "source": [
    "df['fruits'].str.endswith('e')"
   ]
  },
  {
   "cell_type": "markdown",
   "id": "f388f88b-89a0-4c3c-abf9-00cbda47a5f9",
   "metadata": {},
   "source": [
    "### Find substring index ---> str.find(pat)"
   ]
  },
  {
   "cell_type": "code",
   "execution_count": 39,
   "id": "208a9128-f8b0-48be-af15-28cba534faa3",
   "metadata": {},
   "outputs": [
    {
     "data": {
      "text/plain": [
       "0    1\n",
       "1   -1\n",
       "2   -1\n",
       "Name: fruits, dtype: int64"
      ]
     },
     "execution_count": 39,
     "metadata": {},
     "output_type": "execute_result"
    }
   ],
   "source": [
    "df['fruits'].str.find('p')"
   ]
  },
  {
   "cell_type": "markdown",
   "id": "3c748a97-4532-467a-864c-416dd5a68eeb",
   "metadata": {},
   "source": [
    "### Get character at position --->  str.get(i)"
   ]
  },
  {
   "cell_type": "code",
   "execution_count": 41,
   "id": "fe171a85-f958-4d54-aac2-7f082609945a",
   "metadata": {},
   "outputs": [
    {
     "data": {
      "text/plain": [
       "0    a\n",
       "1    b\n",
       "2    o\n",
       "Name: fruits, dtype: object"
      ]
     },
     "execution_count": 41,
     "metadata": {},
     "output_type": "execute_result"
    }
   ],
   "source": [
    "df['fruits'].str.get(0)"
   ]
  },
  {
   "cell_type": "markdown",
   "id": "7dfbe1f9-0672-4527-9815-498a11d4d7bb",
   "metadata": {},
   "source": [
    "### Repeat strings --->  str.repeat(n)"
   ]
  },
  {
   "cell_type": "code",
   "execution_count": 43,
   "id": "a23cb664-8156-47ad-9da6-2dafd4a90f10",
   "metadata": {},
   "outputs": [
    {
     "data": {
      "text/plain": [
       "0      appleapple\n",
       "1    bananabanana\n",
       "2    cherrycherry\n",
       "3    BananaBanana\n",
       "4            None\n",
       "dtype: object"
      ]
     },
     "execution_count": 43,
     "metadata": {},
     "output_type": "execute_result"
    }
   ],
   "source": [
    "s = pd.Series(['apple', 'banana', 'cherry', 'Banana', None])\n",
    "s.str.repeat(2)"
   ]
  },
  {
   "cell_type": "markdown",
   "id": "37499b0a-5c7f-4cae-a725-4c6ba2577555",
   "metadata": {},
   "source": [
    "### Pad strings ---> str.pad(width, side='left', fillchar=' ')"
   ]
  },
  {
   "cell_type": "code",
   "execution_count": 45,
   "id": "e875fa1d-720b-453d-aabd-ad92a4072c2a",
   "metadata": {},
   "outputs": [
    {
     "data": {
      "text/plain": [
       "['     apple', '    banana', '    cherry', '    Banana', None]"
      ]
     },
     "execution_count": 45,
     "metadata": {},
     "output_type": "execute_result"
    }
   ],
   "source": [
    "s.str.pad(10).to_list()"
   ]
  },
  {
   "cell_type": "markdown",
   "id": "b742caba-622c-4083-b16c-4351b2bcc253",
   "metadata": {},
   "source": [
    "### Split strings ---> str.split(sep)"
   ]
  },
  {
   "cell_type": "code",
   "execution_count": 47,
   "id": "192ed68e-b50a-471c-89d7-0591e04e9de9",
   "metadata": {},
   "outputs": [
    {
     "data": {
      "text/plain": [
       "0     [apple]\n",
       "1    [banana]\n",
       "2    [cherry]\n",
       "3    [Banana]\n",
       "4        None\n",
       "dtype: object"
      ]
     },
     "execution_count": 47,
     "metadata": {},
     "output_type": "execute_result"
    }
   ],
   "source": [
    "s.str.split(',')"
   ]
  },
  {
   "cell_type": "markdown",
   "id": "85870e7a-259d-40ec-962a-e0a4011c6be0",
   "metadata": {},
   "source": [
    "### Join lists into string ---> str.join(iterable)"
   ]
  },
  {
   "cell_type": "code",
   "execution_count": 49,
   "id": "f84d084e-5888-4b6c-bb31-8af227d34af1",
   "metadata": {},
   "outputs": [
    {
     "data": {
      "text/plain": [
       "0      a-p-p-l-e\n",
       "1    b-a-n-a-n-a\n",
       "2    c-h-e-r-r-y\n",
       "3    B-a-n-a-n-a\n",
       "4           None\n",
       "dtype: object"
      ]
     },
     "execution_count": 49,
     "metadata": {},
     "output_type": "execute_result"
    }
   ],
   "source": [
    "s.str.join('-')"
   ]
  },
  {
   "cell_type": "code",
   "execution_count": 50,
   "id": "ef28c536-1d86-4881-a382-be21b281398d",
   "metadata": {},
   "outputs": [
    {
     "data": {
      "text/plain": [
       "0      a-p-p-l-e\n",
       "1    b-a-n-a-n-a\n",
       "2    o-r-a-n-g-e\n",
       "Name: fruits, dtype: object"
      ]
     },
     "execution_count": 50,
     "metadata": {},
     "output_type": "execute_result"
    }
   ],
   "source": [
    "df['fruits'].str.join('-')"
   ]
  },
  {
   "cell_type": "markdown",
   "id": "3b7b61a0-d369-4b62-957a-be60e38056bf",
   "metadata": {},
   "source": [
    "### Extract with regex ---> str.extract(pattern)"
   ]
  },
  {
   "cell_type": "code",
   "execution_count": 52,
   "id": "ee5d3541-bf53-42b5-83d5-5928adfb0d9a",
   "metadata": {},
   "outputs": [
    {
     "data": {
      "text/html": [
       "<div>\n",
       "<style scoped>\n",
       "    .dataframe tbody tr th:only-of-type {\n",
       "        vertical-align: middle;\n",
       "    }\n",
       "\n",
       "    .dataframe tbody tr th {\n",
       "        vertical-align: top;\n",
       "    }\n",
       "\n",
       "    .dataframe thead th {\n",
       "        text-align: right;\n",
       "    }\n",
       "</style>\n",
       "<table border=\"1\" class=\"dataframe\">\n",
       "  <thead>\n",
       "    <tr style=\"text-align: right;\">\n",
       "      <th></th>\n",
       "      <th>0</th>\n",
       "    </tr>\n",
       "  </thead>\n",
       "  <tbody>\n",
       "    <tr>\n",
       "      <th>0</th>\n",
       "      <td>gmail</td>\n",
       "    </tr>\n",
       "    <tr>\n",
       "      <th>1</th>\n",
       "      <td>hotmail</td>\n",
       "    </tr>\n",
       "    <tr>\n",
       "      <th>2</th>\n",
       "      <td>yahoo</td>\n",
       "    </tr>\n",
       "  </tbody>\n",
       "</table>\n",
       "</div>"
      ],
      "text/plain": [
       "         0\n",
       "0    gmail\n",
       "1  hotmail\n",
       "2    yahoo"
      ]
     },
     "execution_count": 52,
     "metadata": {},
     "output_type": "execute_result"
    }
   ],
   "source": [
    "emails = pd.Series(['abc@gmail.com', 'xyz@hotmail.com', 'test@yahoo.com'])\n",
    "\n",
    "emails.str.extract(r'@(\\w+)\\.com')\n",
    "# Output: DataFrame with email providers"
   ]
  },
  {
   "cell_type": "markdown",
   "id": "7db61875-f981-429e-a28f-5acda772749e",
   "metadata": {},
   "source": [
    "### Count substring occurrences ---> str.count(pat)"
   ]
  },
  {
   "cell_type": "code",
   "execution_count": 54,
   "id": "d095adf3-5119-4191-956d-d51d6db9cf1b",
   "metadata": {},
   "outputs": [
    {
     "data": {
      "text/plain": [
       "0    1.0\n",
       "1    3.0\n",
       "2    0.0\n",
       "3    3.0\n",
       "4    NaN\n",
       "dtype: float64"
      ]
     },
     "execution_count": 54,
     "metadata": {},
     "output_type": "execute_result"
    }
   ],
   "source": [
    "s.str.count('a')"
   ]
  },
  {
   "cell_type": "markdown",
   "id": "b7f95580-13f5-4201-9449-a484670f700f",
   "metadata": {},
   "source": [
    "### Match full regex --->  str.match(pat)"
   ]
  },
  {
   "cell_type": "code",
   "execution_count": 56,
   "id": "a569631a-3ee3-483e-907d-cbfa29514c97",
   "metadata": {},
   "outputs": [
    {
     "data": {
      "text/plain": [
       "0     True\n",
       "1     True\n",
       "2     True\n",
       "3    False\n",
       "4     None\n",
       "dtype: object"
      ]
     },
     "execution_count": 56,
     "metadata": {},
     "output_type": "execute_result"
    }
   ],
   "source": [
    "s.str.match('^[a-z]+$')"
   ]
  }
 ],
 "metadata": {
  "kernelspec": {
   "display_name": "Python [conda env:base] *",
   "language": "python",
   "name": "conda-base-py"
  },
  "language_info": {
   "codemirror_mode": {
    "name": "ipython",
    "version": 3
   },
   "file_extension": ".py",
   "mimetype": "text/x-python",
   "name": "python",
   "nbconvert_exporter": "python",
   "pygments_lexer": "ipython3",
   "version": "3.12.7"
  }
 },
 "nbformat": 4,
 "nbformat_minor": 5
}
