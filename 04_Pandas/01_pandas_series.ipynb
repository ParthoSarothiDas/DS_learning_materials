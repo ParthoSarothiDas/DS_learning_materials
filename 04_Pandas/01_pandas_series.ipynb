{
 "cells": [
  {
   "cell_type": "markdown",
   "id": "9c068b0e-3efa-4772-935e-20a201d24169",
   "metadata": {},
   "source": [
    "#  Data Science Learning Journey  \n",
    "*Curiosity to Capability — One Notebook at a Time*\n",
    "\n",
    "---\n",
    "Compiled and authored by **Partho Sarothi Das**   \n",
    "\tDhaka, Bangladesh  \n",
    "\tBachelor's & Master's in Statistics  \n",
    "\tInvestment Banking Professional → Aspiring Data Scientist \n",
    "    \n",
    "---"
   ]
  },
  {
   "cell_type": "markdown",
   "id": "42b94d10-c24d-4240-a85c-8e93a8c72f5e",
   "metadata": {},
   "source": [
    "# Pandas Introduction\n",
    "\n",
    "- Pandas is a Python library used for working with data sets.\n",
    "- It has functions for analyzing, cleaning, exploring, and manipulating data.\n",
    "- The name \"Pandas\" has a reference to both \"Panel Data\", and \"Python Data Analysis\" and was created by Wes McKinney in 2008.\n",
    "\n",
    "# Why Use Pandas?\n",
    "\n",
    "- Pandas allows us to analyze big data and make conclusions based on statistical theories.\n",
    "- Pandas can clean messy data sets, and make them readable and relevant.\n",
    "- Relevant data is very important in data science."
   ]
  },
  {
   "cell_type": "code",
   "execution_count": 19,
   "id": "6f8989a6-03a1-42e7-a3bc-540bb442744e",
   "metadata": {},
   "outputs": [],
   "source": [
    "# Importing Pandas\n",
    "\n",
    "import pandas as pd"
   ]
  },
  {
   "cell_type": "code",
   "execution_count": 21,
   "id": "d826f8b8-6d9d-45ba-ac21-681ecbf81ac2",
   "metadata": {},
   "outputs": [
    {
     "name": "stdout",
     "output_type": "stream",
     "text": [
      "2.2.3\n"
     ]
    }
   ],
   "source": [
    "# Checking Pandas Version\n",
    "\n",
    "print(pd.__version__)"
   ]
  },
  {
   "cell_type": "markdown",
   "id": "04872922-4c73-45c7-a1f7-4bad6f7f2619",
   "metadata": {},
   "source": [
    "# Pandas Series\n",
    "\n",
    "- A Pandas Series is like a column in a table.\n",
    "- It is a one-dimensional array holding data of any type."
   ]
  },
  {
   "cell_type": "markdown",
   "id": "71c6736a-9c8e-4159-8d13-8aa08a89d791",
   "metadata": {},
   "source": [
    "### Series from List"
   ]
  },
  {
   "cell_type": "code",
   "execution_count": 25,
   "id": "80bf160e-9fcf-41dd-a05a-2ed29dca34b6",
   "metadata": {},
   "outputs": [
    {
     "data": {
      "text/plain": [
       "0    1\n",
       "1    2\n",
       "2    4\n",
       "3    2\n",
       "4    7\n",
       "dtype: int64"
      ]
     },
     "execution_count": 25,
     "metadata": {},
     "output_type": "execute_result"
    }
   ],
   "source": [
    "# Series from ----> List ----> integer\n",
    "\n",
    "import pandas as pd\n",
    "\n",
    "a = [1,2,4,2,7]\n",
    "s = pd.Series(a)\n",
    "s"
   ]
  },
  {
   "cell_type": "code",
   "execution_count": 27,
   "id": "7c073487-16a4-4213-a39b-87a48ad364fd",
   "metadata": {},
   "outputs": [
    {
     "data": {
      "text/plain": [
       "0    Bangladesh\n",
       "1         India\n",
       "2         Nepal\n",
       "dtype: object"
      ]
     },
     "execution_count": 27,
     "metadata": {},
     "output_type": "execute_result"
    }
   ],
   "source": [
    "# Series from ----> List ----> string\n",
    "\n",
    "L = ['Bangladesh','India', 'Nepal']\n",
    "pd.Series(L)"
   ]
  },
  {
   "cell_type": "code",
   "execution_count": 29,
   "id": "fb72e0a1-e387-4f1d-9b5f-51cbe6bbe6e2",
   "metadata": {},
   "outputs": [
    {
     "data": {
      "text/plain": [
       "Statistics    90\n",
       "ML            80\n",
       "Math          70\n",
       "dtype: int64"
      ]
     },
     "execution_count": 29,
     "metadata": {},
     "output_type": "execute_result"
    }
   ],
   "source": [
    "# Custom Index\n",
    "\n",
    "marks = [90, 80, 70]\n",
    "subjects = ['Statistics','ML', 'Math']\n",
    "pd.Series(marks, index = subjects)"
   ]
  },
  {
   "cell_type": "code",
   "execution_count": 31,
   "id": "0518b24d-09f5-43c4-b22a-2a9a6879460a",
   "metadata": {},
   "outputs": [
    {
     "data": {
      "text/plain": [
       "Statistics    90\n",
       "ML            80\n",
       "Math          70\n",
       "Name: student1, dtype: int64"
      ]
     },
     "execution_count": 31,
     "metadata": {},
     "output_type": "execute_result"
    }
   ],
   "source": [
    "# setting a name \n",
    "\n",
    "marks = pd.Series(marks, index=subjects, name='student1')\n",
    "marks"
   ]
  },
  {
   "cell_type": "markdown",
   "id": "1502aab6-62ab-4cf8-9467-65f0fe0d8b95",
   "metadata": {},
   "source": [
    "### Series from dict"
   ]
  },
  {
   "cell_type": "code",
   "execution_count": 21,
   "id": "864f7b68-78fa-48b0-8fdd-f6729a9fd62b",
   "metadata": {},
   "outputs": [
    {
     "data": {
      "text/plain": [
       "Partho    43\n",
       "Sheren    43\n",
       "Abhik      5\n",
       "dtype: int64"
      ]
     },
     "execution_count": 21,
     "metadata": {},
     "output_type": "execute_result"
    }
   ],
   "source": [
    "age = {\n",
    "    'Partho':43,\n",
    "    'Sheren':43,\n",
    "    'Abhik':5\n",
    "}\n",
    "\n",
    "ages = pd.Series(age)\n",
    "ages"
   ]
  },
  {
   "cell_type": "markdown",
   "id": "a5b5758e-17fe-4c1a-a9fe-4aa0718973b7",
   "metadata": {},
   "source": [
    "### Series Attributes"
   ]
  },
  {
   "cell_type": "code",
   "execution_count": 24,
   "id": "802f5a93-b66b-4e65-a378-7c3d8bec7b24",
   "metadata": {},
   "outputs": [
    {
     "data": {
      "text/plain": [
       "3"
      ]
     },
     "execution_count": 24,
     "metadata": {},
     "output_type": "execute_result"
    }
   ],
   "source": [
    "# Size\n",
    "\n",
    "ages.size"
   ]
  },
  {
   "cell_type": "code",
   "execution_count": 28,
   "id": "ca12fd8b-a38e-4dfe-be78-f85d80e1a02f",
   "metadata": {},
   "outputs": [
    {
     "data": {
      "text/plain": [
       "dtype('int64')"
      ]
     },
     "execution_count": 28,
     "metadata": {},
     "output_type": "execute_result"
    }
   ],
   "source": [
    "# dtype\n",
    "\n",
    "ages.dtype"
   ]
  },
  {
   "cell_type": "code",
   "execution_count": 32,
   "id": "da6f735c-0545-405d-87f1-c5fe5279fd11",
   "metadata": {},
   "outputs": [
    {
     "data": {
      "text/plain": [
       "False"
      ]
     },
     "execution_count": 32,
     "metadata": {},
     "output_type": "execute_result"
    }
   ],
   "source": [
    "# is_unique\n",
    "\n",
    "ages.is_unique"
   ]
  },
  {
   "cell_type": "code",
   "execution_count": 36,
   "id": "84765918-9824-4e09-b271-80db2c8a3ac2",
   "metadata": {},
   "outputs": [
    {
     "data": {
      "text/plain": [
       "Index(['Partho', 'Sheren', 'Abhik'], dtype='object')"
      ]
     },
     "execution_count": 36,
     "metadata": {},
     "output_type": "execute_result"
    }
   ],
   "source": [
    "# Index\n",
    "\n",
    "ages.index"
   ]
  },
  {
   "cell_type": "code",
   "execution_count": 40,
   "id": "54d48e63-5a4b-4142-a17f-996459cf5687",
   "metadata": {},
   "outputs": [
    {
     "data": {
      "text/plain": [
       "array([43, 43,  5], dtype=int64)"
      ]
     },
     "execution_count": 40,
     "metadata": {},
     "output_type": "execute_result"
    }
   ],
   "source": [
    "# Values\n",
    "\n",
    "ages.values"
   ]
  },
  {
   "cell_type": "markdown",
   "id": "d06cc5b1-e3ab-4128-975c-2dec6549e446",
   "metadata": {},
   "source": [
    "### Series using read_csv"
   ]
  },
  {
   "cell_type": "code",
   "execution_count": 52,
   "id": "17961348-5a2a-448f-91cc-cdc9f65711e0",
   "metadata": {},
   "outputs": [
    {
     "data": {
      "text/plain": [
       "0     2\n",
       "1     6\n",
       "2     4\n",
       "3     8\n",
       "4     6\n",
       "5     9\n",
       "6     5\n",
       "7     3\n",
       "8     1\n",
       "9     6\n",
       "10    8\n",
       "11    9\n",
       "12    8\n",
       "13    7\n",
       "14    3\n",
       "Name: 1, dtype: int64"
      ]
     },
     "execution_count": 52,
     "metadata": {},
     "output_type": "execute_result"
    }
   ],
   "source": [
    "# with one column\n",
    "\n",
    "s = pd.read_csv('./data/series1.csv').squeeze()\n",
    "s"
   ]
  },
  {
   "cell_type": "code",
   "execution_count": 59,
   "id": "92818970-23e6-45a7-8eac-ac4536470efa",
   "metadata": {},
   "outputs": [
    {
     "data": {
      "text/plain": [
       "subject\n",
       "ML               90\n",
       "stat             95\n",
       "math             80\n",
       "Deep Learning    95\n",
       "Name: marks, dtype: int64"
      ]
     },
     "execution_count": 59,
     "metadata": {},
     "output_type": "execute_result"
    }
   ],
   "source": [
    "# with two column\n",
    "\n",
    "s = pd.read_csv('./data/series2.csv', index_col='subject').squeeze()\n",
    "s"
   ]
  },
  {
   "cell_type": "markdown",
   "id": "2f516481-a120-4960-91ad-6db323322544",
   "metadata": {},
   "source": [
    "### Series methods"
   ]
  },
  {
   "cell_type": "code",
   "execution_count": 78,
   "id": "8256fb07-e0bd-46b7-b895-1c1709f7dda6",
   "metadata": {},
   "outputs": [
    {
     "data": {
      "text/plain": [
       "0    1\n",
       "1    2\n",
       "2    6\n",
       "3    4\n",
       "4    8\n",
       "Name: Number, dtype: int64"
      ]
     },
     "execution_count": 78,
     "metadata": {},
     "output_type": "execute_result"
    }
   ],
   "source": [
    "s = pd.read_csv('./data/series1.csv').squeeze()\n",
    "s.head()"
   ]
  },
  {
   "cell_type": "code",
   "execution_count": 80,
   "id": "7e26928d-cc52-41b9-a73c-142508c4f144",
   "metadata": {},
   "outputs": [
    {
     "data": {
      "text/plain": [
       "11    8\n",
       "12    9\n",
       "13    8\n",
       "14    7\n",
       "15    3\n",
       "Name: Number, dtype: int64"
      ]
     },
     "execution_count": 80,
     "metadata": {},
     "output_type": "execute_result"
    }
   ],
   "source": [
    "# tail\n",
    "s.tail()"
   ]
  },
  {
   "cell_type": "code",
   "execution_count": 82,
   "id": "99dfe49c-b5c4-4580-a85f-775184d41303",
   "metadata": {},
   "outputs": [
    {
     "data": {
      "text/plain": [
       "7     5\n",
       "3     4\n",
       "15    3\n",
       "Name: Number, dtype: int64"
      ]
     },
     "execution_count": 82,
     "metadata": {},
     "output_type": "execute_result"
    }
   ],
   "source": [
    "# Sample()\n",
    "\n",
    "s.sample(3)"
   ]
  },
  {
   "cell_type": "code",
   "execution_count": 84,
   "id": "ec6d5ef2-d9c6-43d9-8228-cbebc178a0b5",
   "metadata": {},
   "outputs": [
    {
     "data": {
      "text/plain": [
       "Number\n",
       "6    3\n",
       "8    3\n",
       "1    2\n",
       "9    2\n",
       "3    2\n",
       "2    1\n",
       "4    1\n",
       "5    1\n",
       "7    1\n",
       "Name: count, dtype: int64"
      ]
     },
     "execution_count": 84,
     "metadata": {},
     "output_type": "execute_result"
    }
   ],
   "source": [
    "# value_counts()\n",
    "\n",
    "s.value_counts()"
   ]
  },
  {
   "cell_type": "code",
   "execution_count": 104,
   "id": "2b9ba035-fd02-4a19-a7c8-35be54226a2a",
   "metadata": {},
   "outputs": [
    {
     "data": {
      "text/plain": [
       "subject\n",
       "stat             95\n",
       "Deep Learning    95\n",
       "ML               90\n",
       "calculas         86\n",
       "math             80\n",
       "Name: marks, dtype: int64"
      ]
     },
     "execution_count": 104,
     "metadata": {},
     "output_type": "execute_result"
    }
   ],
   "source": [
    "# sort_values\n",
    "\n",
    "marks = pd.read_csv('./data/series2.csv', index_col='subject').squeeze()\n",
    "marks.sort_values(ascending=False)"
   ]
  },
  {
   "cell_type": "code",
   "execution_count": 108,
   "id": "89648190-14ac-4bb7-b404-cb80f840ca30",
   "metadata": {},
   "outputs": [
    {
     "data": {
      "text/plain": [
       "subject\n",
       "Deep Learning    95\n",
       "ML               90\n",
       "calculas         86\n",
       "math             80\n",
       "stat             95\n",
       "Name: marks, dtype: int64"
      ]
     },
     "execution_count": 108,
     "metadata": {},
     "output_type": "execute_result"
    }
   ],
   "source": [
    "# sort_index\n",
    "\n",
    "marks.sort_index()"
   ]
  },
  {
   "cell_type": "code",
   "execution_count": 112,
   "id": "60e0c022-11c1-4ec8-a308-f5069980c34f",
   "metadata": {},
   "outputs": [
    {
     "data": {
      "text/plain": [
       "subject\n",
       "Deep Learning    95\n",
       "ML               90\n",
       "calculas         86\n",
       "math             80\n",
       "stat             95\n",
       "Name: marks, dtype: int64"
      ]
     },
     "execution_count": 112,
     "metadata": {},
     "output_type": "execute_result"
    }
   ],
   "source": [
    "# sort_index\n",
    "\n",
    "marks.sort_index(ascending=True, inplace=True)\n",
    "marks"
   ]
  },
  {
   "cell_type": "markdown",
   "id": "2999e3fd-fbcb-40c6-881c-243c61dc742c",
   "metadata": {},
   "source": [
    "### Series Maths Methods"
   ]
  },
  {
   "cell_type": "code",
   "execution_count": 115,
   "id": "1af072f6-9a35-4400-9b04-9447786996fb",
   "metadata": {},
   "outputs": [
    {
     "data": {
      "text/plain": [
       "5"
      ]
     },
     "execution_count": 115,
     "metadata": {},
     "output_type": "execute_result"
    }
   ],
   "source": [
    "# count\n",
    "\n",
    "marks.count()"
   ]
  },
  {
   "cell_type": "code",
   "execution_count": 117,
   "id": "50b16bc6-d557-459c-9287-98612c13eae1",
   "metadata": {},
   "outputs": [
    {
     "data": {
      "text/plain": [
       "446"
      ]
     },
     "execution_count": 117,
     "metadata": {},
     "output_type": "execute_result"
    }
   ],
   "source": [
    "# sum\n",
    "\n",
    "marks.sum()"
   ]
  },
  {
   "cell_type": "code",
   "execution_count": 119,
   "id": "4d2407e8-1ce5-4a42-ad0e-321c0f6befd8",
   "metadata": {},
   "outputs": [
    {
     "name": "stdout",
     "output_type": "stream",
     "text": [
      "89.2\n",
      "90.0\n",
      "0    95\n",
      "Name: marks, dtype: int64\n",
      "6.379655163094632\n",
      "40.699999999999996\n"
     ]
    }
   ],
   "source": [
    "# mean -> median -> mode -> std -> var\n",
    "\n",
    "print(marks.mean())\n",
    "print(marks.median())\n",
    "print(marks.mode())\n",
    "print(marks.std())\n",
    "print(marks.var())"
   ]
  },
  {
   "cell_type": "code",
   "execution_count": 121,
   "id": "00351d60-5fc2-4d38-9284-7f973e0f892d",
   "metadata": {},
   "outputs": [
    {
     "data": {
      "text/plain": [
       "80"
      ]
     },
     "execution_count": 121,
     "metadata": {},
     "output_type": "execute_result"
    }
   ],
   "source": [
    "# Minimum value\n",
    "\n",
    "marks.min()"
   ]
  },
  {
   "cell_type": "code",
   "execution_count": 123,
   "id": "bf4af5fb-c408-430c-a58a-d13f4fb07ca9",
   "metadata": {},
   "outputs": [
    {
     "data": {
      "text/plain": [
       "95"
      ]
     },
     "execution_count": 123,
     "metadata": {},
     "output_type": "execute_result"
    }
   ],
   "source": [
    "# Maximum value\n",
    "\n",
    "marks.max()"
   ]
  },
  {
   "cell_type": "code",
   "execution_count": 131,
   "id": "9e489e7c-633d-44ed-94a4-16fc9e57e1b1",
   "metadata": {},
   "outputs": [
    {
     "data": {
      "text/plain": [
       "count     5.000000\n",
       "mean     89.200000\n",
       "std       6.379655\n",
       "min      80.000000\n",
       "25%      86.000000\n",
       "50%      90.000000\n",
       "75%      95.000000\n",
       "max      95.000000\n",
       "Name: marks, dtype: float64"
      ]
     },
     "execution_count": 131,
     "metadata": {},
     "output_type": "execute_result"
    }
   ],
   "source": [
    "# Describe\n",
    "\n",
    "marks.describe()"
   ]
  },
  {
   "cell_type": "markdown",
   "id": "5605869e-28bd-4254-88fa-15b16e10682f",
   "metadata": {},
   "source": [
    "### Series Indexing"
   ]
  },
  {
   "cell_type": "code",
   "execution_count": 15,
   "id": "4e24e4cf-f53f-42b3-a84e-d4100375b13f",
   "metadata": {},
   "outputs": [
    {
     "data": {
      "text/plain": [
       "0    12\n",
       "1    13\n",
       "2    14\n",
       "3    35\n",
       "4    46\n",
       "5    57\n",
       "6    58\n",
       "7    79\n",
       "8     9\n",
       "dtype: int64"
      ]
     },
     "execution_count": 15,
     "metadata": {},
     "output_type": "execute_result"
    }
   ],
   "source": [
    "# integer indexing\n",
    "x = pd.Series([12,13,14,35,46,57,58,79,9])\n",
    "x"
   ]
  },
  {
   "cell_type": "code",
   "execution_count": 35,
   "id": "018059d7-45ee-4da9-99e1-7da763b94202",
   "metadata": {},
   "outputs": [
    {
     "data": {
      "text/plain": [
       "13"
      ]
     },
     "execution_count": 35,
     "metadata": {},
     "output_type": "execute_result"
    }
   ],
   "source": [
    "x[1]"
   ]
  },
  {
   "cell_type": "code",
   "execution_count": 37,
   "id": "0fcf4ca4-4998-4e6c-8562-80df655c1e1b",
   "metadata": {},
   "outputs": [
    {
     "data": {
      "text/plain": [
       "3    35\n",
       "4    46\n",
       "5    57\n",
       "dtype: int64"
      ]
     },
     "execution_count": 37,
     "metadata": {},
     "output_type": "execute_result"
    }
   ],
   "source": [
    "# slicing\n",
    "\n",
    "x[3:6]"
   ]
  },
  {
   "cell_type": "code",
   "execution_count": 41,
   "id": "dcf18ea8-34f8-4950-8bc5-8fbd6564a0af",
   "metadata": {},
   "outputs": [
    {
     "data": {
      "text/plain": [
       "4    46\n",
       "5    57\n",
       "6    58\n",
       "7    79\n",
       "8     9\n",
       "dtype: int64"
      ]
     },
     "execution_count": 41,
     "metadata": {},
     "output_type": "execute_result"
    }
   ],
   "source": [
    "# # negative slicing\n",
    "\n",
    "x[-5:]"
   ]
  },
  {
   "cell_type": "code",
   "execution_count": 49,
   "id": "357593cd-31cc-46ca-91d9-cb38166414c6",
   "metadata": {},
   "outputs": [
    {
     "data": {
      "text/plain": [
       "0    12\n",
       "2    14\n",
       "4    46\n",
       "6    58\n",
       "8     9\n",
       "dtype: int64"
      ]
     },
     "execution_count": 49,
     "metadata": {},
     "output_type": "execute_result"
    }
   ],
   "source": [
    "x[::2]"
   ]
  },
  {
   "cell_type": "code",
   "execution_count": 51,
   "id": "d1178525-b12d-48fd-8981-cd590f08a83f",
   "metadata": {},
   "outputs": [
    {
     "data": {
      "text/plain": [
       "1    13\n",
       "3    35\n",
       "7    79\n",
       "dtype: int64"
      ]
     },
     "execution_count": 51,
     "metadata": {},
     "output_type": "execute_result"
    }
   ],
   "source": [
    "# Fancy indexing\n",
    "\n",
    "x[[1,3,7]]"
   ]
  },
  {
   "cell_type": "markdown",
   "id": "b7202d12-ed1a-43f1-ba60-c36714070617",
   "metadata": {},
   "source": [
    "### Editing Series"
   ]
  },
  {
   "cell_type": "code",
   "execution_count": 58,
   "id": "7de47957-dff2-4ac6-9e4b-502c88b32a58",
   "metadata": {},
   "outputs": [
    {
     "data": {
      "text/plain": [
       "0    12\n",
       "1    13\n",
       "2    14\n",
       "3    35\n",
       "4    46\n",
       "5    57\n",
       "6    58\n",
       "7    79\n",
       "8     9\n",
       "dtype: int64"
      ]
     },
     "execution_count": 58,
     "metadata": {},
     "output_type": "execute_result"
    }
   ],
   "source": [
    "x"
   ]
  },
  {
   "cell_type": "code",
   "execution_count": 60,
   "id": "c50e18a8-7442-4726-92b0-c0580c5f9389",
   "metadata": {},
   "outputs": [
    {
     "data": {
      "text/plain": [
       "0    12\n",
       "1    10\n",
       "2    14\n",
       "3    35\n",
       "4    46\n",
       "5    57\n",
       "6    58\n",
       "7    79\n",
       "8     9\n",
       "dtype: int64"
      ]
     },
     "execution_count": 60,
     "metadata": {},
     "output_type": "execute_result"
    }
   ],
   "source": [
    "x[1] = 10\n",
    "x"
   ]
  },
  {
   "cell_type": "code",
   "execution_count": 66,
   "id": "19557097-d968-44b4-af4a-dd965f891b78",
   "metadata": {},
   "outputs": [
    {
     "data": {
      "text/plain": [
       "0      12\n",
       "1      10\n",
       "2      14\n",
       "3      35\n",
       "4      46\n",
       "5      57\n",
       "6      58\n",
       "7      79\n",
       "8       9\n",
       "10    100\n",
       "dtype: int64"
      ]
     },
     "execution_count": 66,
     "metadata": {},
     "output_type": "execute_result"
    }
   ],
   "source": [
    "# what if an index does not exist\n",
    "\n",
    "x[10] = 100\n",
    "x"
   ]
  },
  {
   "cell_type": "code",
   "execution_count": 69,
   "id": "7be4d486-9aba-4994-87db-ac3fe3b06d40",
   "metadata": {},
   "outputs": [
    {
     "data": {
      "text/plain": [
       "0       0\n",
       "1       0\n",
       "2       0\n",
       "3      35\n",
       "4      46\n",
       "5      57\n",
       "6      58\n",
       "7      79\n",
       "8       9\n",
       "10    100\n",
       "dtype: int64"
      ]
     },
     "execution_count": 69,
     "metadata": {},
     "output_type": "execute_result"
    }
   ],
   "source": [
    "# edit by   fancy indexing\n",
    "\n",
    "x[[0,1,2]] = [0,0,0]\n",
    "x"
   ]
  },
  {
   "cell_type": "code",
   "execution_count": 71,
   "id": "795bb0be-1792-425b-bada-d54258e6789d",
   "metadata": {},
   "outputs": [
    {
     "data": {
      "text/plain": [
       "0     100\n",
       "1     200\n",
       "2     300\n",
       "3      35\n",
       "4      46\n",
       "5      57\n",
       "6      58\n",
       "7      79\n",
       "8       9\n",
       "10    100\n",
       "dtype: int64"
      ]
     },
     "execution_count": 71,
     "metadata": {},
     "output_type": "execute_result"
    }
   ],
   "source": [
    "x[0:3] =  [100,200,300]\n",
    "x"
   ]
  },
  {
   "cell_type": "markdown",
   "id": "417d225c-0d72-446a-89da-6651c5022cec",
   "metadata": {},
   "source": [
    "### Series with Python Functionalities"
   ]
  },
  {
   "cell_type": "code",
   "execution_count": 78,
   "id": "646a6241-c14a-4726-8493-136b1d67ae50",
   "metadata": {},
   "outputs": [
    {
     "data": {
      "text/plain": [
       "10"
      ]
     },
     "execution_count": 78,
     "metadata": {},
     "output_type": "execute_result"
    }
   ],
   "source": [
    "len(x)"
   ]
  },
  {
   "cell_type": "code",
   "execution_count": 80,
   "id": "0a39973b-8ae0-451b-aa47-9c83960e881b",
   "metadata": {},
   "outputs": [
    {
     "data": {
      "text/plain": [
       "pandas.core.series.Series"
      ]
     },
     "execution_count": 80,
     "metadata": {},
     "output_type": "execute_result"
    }
   ],
   "source": [
    "type(x)"
   ]
  },
  {
   "cell_type": "code",
   "execution_count": 82,
   "id": "faa56fa8-6a3f-46e0-b053-acdc99056612",
   "metadata": {},
   "outputs": [
    {
     "data": {
      "text/plain": [
       "[9, 35, 46, 57, 58, 79, 100, 100, 200, 300]"
      ]
     },
     "execution_count": 82,
     "metadata": {},
     "output_type": "execute_result"
    }
   ],
   "source": [
    "sorted(x)"
   ]
  },
  {
   "cell_type": "code",
   "execution_count": 89,
   "id": "1aec2c5f-a161-4708-8560-22059a357eac",
   "metadata": {},
   "outputs": [
    {
     "data": {
      "text/plain": [
       "[100, 200, 300, 35, 46, 57, 58, 79, 9, 100]"
      ]
     },
     "execution_count": 89,
     "metadata": {},
     "output_type": "execute_result"
    }
   ],
   "source": [
    "# type conversion\n",
    "\n",
    "list(x)"
   ]
  },
  {
   "cell_type": "code",
   "execution_count": 91,
   "id": "4037dbbb-8817-49d9-9b40-1ed106b9b1b4",
   "metadata": {},
   "outputs": [
    {
     "data": {
      "text/plain": [
       "{0: 100, 1: 200, 2: 300, 3: 35, 4: 46, 5: 57, 6: 58, 7: 79, 8: 9, 10: 100}"
      ]
     },
     "execution_count": 91,
     "metadata": {},
     "output_type": "execute_result"
    }
   ],
   "source": [
    "dict(x)"
   ]
  },
  {
   "cell_type": "code",
   "execution_count": 95,
   "id": "bf86411e-aa21-4b72-b978-763d64a4eb43",
   "metadata": {},
   "outputs": [
    {
     "data": {
      "text/plain": [
       "Dhaka       40\n",
       "Dinajpur    30\n",
       "Sylhet      35\n",
       "Khulna      28\n",
       "dtype: int64"
      ]
     },
     "execution_count": 95,
     "metadata": {},
     "output_type": "execute_result"
    }
   ],
   "source": [
    "city = ['Dhaka', 'Dinajpur', 'Sylhet', 'Khulna']\n",
    "value = [40, 30, 35, 28]\n",
    "cities = pd.Series(value, index=city)\n",
    "cities"
   ]
  },
  {
   "cell_type": "code",
   "execution_count": 101,
   "id": "db5a895e-d017-4ab8-b717-ff2cfccffc59",
   "metadata": {},
   "outputs": [
    {
     "data": {
      "text/plain": [
       "{'Dhaka': 40, 'Dinajpur': 30, 'Sylhet': 35, 'Khulna': 28}"
      ]
     },
     "execution_count": 101,
     "metadata": {},
     "output_type": "execute_result"
    }
   ],
   "source": [
    "# Series ---> to ----> Dictionary\n",
    "\n",
    "dict(cities)"
   ]
  },
  {
   "cell_type": "code",
   "execution_count": 113,
   "id": "e5cc50b7-9997-4b41-88f6-79e0280b968e",
   "metadata": {},
   "outputs": [
    {
     "data": {
      "text/plain": [
       "True"
      ]
     },
     "execution_count": 113,
     "metadata": {},
     "output_type": "execute_result"
    }
   ],
   "source": [
    "# membership operator\n",
    "\n",
    "28 in cities.values"
   ]
  },
  {
   "cell_type": "code",
   "execution_count": 111,
   "id": "bc5bd5fd-2f36-4b38-99f8-6010ae8fe158",
   "metadata": {},
   "outputs": [
    {
     "data": {
      "text/plain": [
       "True"
      ]
     },
     "execution_count": 111,
     "metadata": {},
     "output_type": "execute_result"
    }
   ],
   "source": [
    "'Dhaka' in cities"
   ]
  },
  {
   "cell_type": "code",
   "execution_count": 115,
   "id": "c0804f6a-9b1e-4308-9781-668d6d043b59",
   "metadata": {},
   "outputs": [
    {
     "name": "stdout",
     "output_type": "stream",
     "text": [
      "Dhaka\n",
      "Dinajpur\n",
      "Sylhet\n",
      "Khulna\n"
     ]
    }
   ],
   "source": [
    "# Looping\n",
    "for i in cities.index:\n",
    "    print(i)"
   ]
  },
  {
   "cell_type": "code",
   "execution_count": 117,
   "id": "b51d992a-4d1c-4269-907a-28b4c4ef0983",
   "metadata": {},
   "outputs": [
    {
     "name": "stdout",
     "output_type": "stream",
     "text": [
      "40\n",
      "30\n",
      "35\n",
      "28\n"
     ]
    }
   ],
   "source": [
    "# Looping\n",
    "for i in cities.values:\n",
    "    print(i)"
   ]
  },
  {
   "cell_type": "code",
   "execution_count": 123,
   "id": "a06f2b8d-0829-4563-a3c7-dbbdc05560b3",
   "metadata": {},
   "outputs": [
    {
     "data": {
      "text/plain": [
       "Dhaka       140\n",
       "Dinajpur    130\n",
       "Sylhet      135\n",
       "Khulna      128\n",
       "dtype: int64"
      ]
     },
     "execution_count": 123,
     "metadata": {},
     "output_type": "execute_result"
    }
   ],
   "source": [
    "# Arithmetic Operators(Broadcasting)\n",
    "\n",
    "100 + cities"
   ]
  },
  {
   "cell_type": "code",
   "execution_count": 125,
   "id": "6dc211e6-77d1-4023-8464-1649acc24f0a",
   "metadata": {},
   "outputs": [
    {
     "data": {
      "text/plain": [
       "Dhaka        True\n",
       "Dinajpur    False\n",
       "Sylhet       True\n",
       "Khulna      False\n",
       "dtype: bool"
      ]
     },
     "execution_count": 125,
     "metadata": {},
     "output_type": "execute_result"
    }
   ],
   "source": [
    "cities>= 35"
   ]
  },
  {
   "cell_type": "markdown",
   "id": "83798dd4-ffd6-4d2a-b7eb-62425b5769db",
   "metadata": {},
   "source": [
    "### Boolean Indexing on Series"
   ]
  },
  {
   "cell_type": "code",
   "execution_count": 144,
   "id": "6a699fb0-1c97-4a23-9303-19d398d103e6",
   "metadata": {},
   "outputs": [],
   "source": [
    "vk = pd.read_csv('data/vk.csv').squeeze()"
   ]
  },
  {
   "cell_type": "code",
   "execution_count": 146,
   "id": "d940beaf-89db-47d2-a747-a45e2de9b0d9",
   "metadata": {},
   "outputs": [
    {
     "data": {
      "text/html": [
       "<div>\n",
       "<style scoped>\n",
       "    .dataframe tbody tr th:only-of-type {\n",
       "        vertical-align: middle;\n",
       "    }\n",
       "\n",
       "    .dataframe tbody tr th {\n",
       "        vertical-align: top;\n",
       "    }\n",
       "\n",
       "    .dataframe thead th {\n",
       "        text-align: right;\n",
       "    }\n",
       "</style>\n",
       "<table border=\"1\" class=\"dataframe\">\n",
       "  <thead>\n",
       "    <tr style=\"text-align: right;\">\n",
       "      <th></th>\n",
       "      <th>match_id</th>\n",
       "      <th>batsman_runs</th>\n",
       "    </tr>\n",
       "  </thead>\n",
       "  <tbody>\n",
       "    <tr>\n",
       "      <th>0</th>\n",
       "      <td>12</td>\n",
       "      <td>62</td>\n",
       "    </tr>\n",
       "    <tr>\n",
       "      <th>1</th>\n",
       "      <td>17</td>\n",
       "      <td>28</td>\n",
       "    </tr>\n",
       "    <tr>\n",
       "      <th>2</th>\n",
       "      <td>20</td>\n",
       "      <td>64</td>\n",
       "    </tr>\n",
       "    <tr>\n",
       "      <th>3</th>\n",
       "      <td>27</td>\n",
       "      <td>0</td>\n",
       "    </tr>\n",
       "    <tr>\n",
       "      <th>4</th>\n",
       "      <td>30</td>\n",
       "      <td>10</td>\n",
       "    </tr>\n",
       "    <tr>\n",
       "      <th>...</th>\n",
       "      <td>...</td>\n",
       "      <td>...</td>\n",
       "    </tr>\n",
       "    <tr>\n",
       "      <th>136</th>\n",
       "      <td>624</td>\n",
       "      <td>75</td>\n",
       "    </tr>\n",
       "    <tr>\n",
       "      <th>137</th>\n",
       "      <td>626</td>\n",
       "      <td>113</td>\n",
       "    </tr>\n",
       "    <tr>\n",
       "      <th>138</th>\n",
       "      <td>632</td>\n",
       "      <td>54</td>\n",
       "    </tr>\n",
       "    <tr>\n",
       "      <th>139</th>\n",
       "      <td>633</td>\n",
       "      <td>0</td>\n",
       "    </tr>\n",
       "    <tr>\n",
       "      <th>140</th>\n",
       "      <td>636</td>\n",
       "      <td>54</td>\n",
       "    </tr>\n",
       "  </tbody>\n",
       "</table>\n",
       "<p>141 rows × 2 columns</p>\n",
       "</div>"
      ],
      "text/plain": [
       "     match_id  batsman_runs\n",
       "0          12            62\n",
       "1          17            28\n",
       "2          20            64\n",
       "3          27             0\n",
       "4          30            10\n",
       "..        ...           ...\n",
       "136       624            75\n",
       "137       626           113\n",
       "138       632            54\n",
       "139       633             0\n",
       "140       636            54\n",
       "\n",
       "[141 rows x 2 columns]"
      ]
     },
     "execution_count": 146,
     "metadata": {},
     "output_type": "execute_result"
    }
   ],
   "source": [
    "vk"
   ]
  },
  {
   "cell_type": "code",
   "execution_count": null,
   "id": "c62f0f1f-6e08-4a91-a366-9fe183e68b65",
   "metadata": {},
   "outputs": [],
   "source": []
  },
  {
   "cell_type": "code",
   "execution_count": null,
   "id": "3357e981-ca95-4bc5-87cf-abae4a58f4b6",
   "metadata": {},
   "outputs": [],
   "source": []
  },
  {
   "cell_type": "code",
   "execution_count": null,
   "id": "8d34f7c2-00e3-4cc2-b69c-7623abd1e43e",
   "metadata": {},
   "outputs": [],
   "source": []
  }
 ],
 "metadata": {
  "kernelspec": {
   "display_name": "Python [conda env:base] *",
   "language": "python",
   "name": "conda-base-py"
  },
  "language_info": {
   "codemirror_mode": {
    "name": "ipython",
    "version": 3
   },
   "file_extension": ".py",
   "mimetype": "text/x-python",
   "name": "python",
   "nbconvert_exporter": "python",
   "pygments_lexer": "ipython3",
   "version": "3.12.7"
  }
 },
 "nbformat": 4,
 "nbformat_minor": 5
}
