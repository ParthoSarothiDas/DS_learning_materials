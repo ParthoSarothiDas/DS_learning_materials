{
 "cells": [
  {
   "cell_type": "markdown",
   "id": "51e61334-82bb-47a3-a805-3306fede2e8a",
   "metadata": {},
   "source": [
    "#  Data Science Learning Journey  \n",
    "*Curiosity to Capability — One Notebook at a Time*\n",
    "\n",
    "---\n",
    "Compiled and authored by **Partho Sarothi Das**   \n",
    "\tDhaka, Bangladesh  \n",
    "\tBachelor's & Master's in Statistics  \n",
    "\tInvestment Banking Professional → Aspiring Data Scientist \n",
    "    \n",
    "---"
   ]
  },
  {
   "cell_type": "markdown",
   "id": "6e082dc1-1891-4d57-806d-f6452d387bfa",
   "metadata": {},
   "source": [
    "# MultiIndex\n",
    "\n",
    "In Pandas, a MultiIndex (also called a hierarchical index) is an advanced indexing feature that allows us to work with multiple levels of indexes on your Series or DataFrame. It's particularly useful when dealing with higher-dimensional data in a 2D structure."
   ]
  },
  {
   "cell_type": "markdown",
   "id": "bafd88ac-2b90-40e0-a52c-24d2e62c79b7",
   "metadata": {},
   "source": [
    "### What is a MultiIndex?\n",
    "\n",
    "A MultiIndex is an index object containing multiple levels (or labels) of indexing on axes (rows or columns). Think of it as a way to group rows or columns under multiple keys."
   ]
  },
  {
   "cell_type": "markdown",
   "id": "34c20902-342d-4a54-9521-2080c09bdedb",
   "metadata": {},
   "source": [
    "# Creating a MultiIndex"
   ]
  },
  {
   "cell_type": "markdown",
   "id": "690fa095-3776-4cfe-8b64-80450cd2e667",
   "metadata": {},
   "source": [
    "### 1. From tuples:"
   ]
  },
  {
   "cell_type": "code",
   "execution_count": 6,
   "id": "6b3ee978-75dc-48cd-afbf-d0adc8d81a28",
   "metadata": {},
   "outputs": [
    {
     "data": {
      "text/html": [
       "<div>\n",
       "<style scoped>\n",
       "    .dataframe tbody tr th:only-of-type {\n",
       "        vertical-align: middle;\n",
       "    }\n",
       "\n",
       "    .dataframe tbody tr th {\n",
       "        vertical-align: top;\n",
       "    }\n",
       "\n",
       "    .dataframe thead th {\n",
       "        text-align: right;\n",
       "    }\n",
       "</style>\n",
       "<table border=\"1\" class=\"dataframe\">\n",
       "  <thead>\n",
       "    <tr style=\"text-align: right;\">\n",
       "      <th></th>\n",
       "      <th></th>\n",
       "      <th>value</th>\n",
       "    </tr>\n",
       "    <tr>\n",
       "      <th>letter</th>\n",
       "      <th>number</th>\n",
       "      <th></th>\n",
       "    </tr>\n",
       "  </thead>\n",
       "  <tbody>\n",
       "    <tr>\n",
       "      <th rowspan=\"2\" valign=\"top\">A</th>\n",
       "      <th>1</th>\n",
       "      <td>10</td>\n",
       "    </tr>\n",
       "    <tr>\n",
       "      <th>2</th>\n",
       "      <td>20</td>\n",
       "    </tr>\n",
       "    <tr>\n",
       "      <th rowspan=\"2\" valign=\"top\">B</th>\n",
       "      <th>1</th>\n",
       "      <td>30</td>\n",
       "    </tr>\n",
       "    <tr>\n",
       "      <th>2</th>\n",
       "      <td>40</td>\n",
       "    </tr>\n",
       "  </tbody>\n",
       "</table>\n",
       "</div>"
      ],
      "text/plain": [
       "               value\n",
       "letter number       \n",
       "A      1          10\n",
       "       2          20\n",
       "B      1          30\n",
       "       2          40"
      ]
     },
     "execution_count": 6,
     "metadata": {},
     "output_type": "execute_result"
    }
   ],
   "source": [
    "import pandas as pd\n",
    "\n",
    "index = pd.MultiIndex.from_tuples([('A', 1), ('A', 2), ('B', 1), ('B', 2)], names=['letter', 'number'])\n",
    "df = pd.DataFrame({'value': [10, 20, 30, 40]}, index=index)\n",
    "df"
   ]
  },
  {
   "cell_type": "markdown",
   "id": "2a47d34e-fecc-4ef7-974a-835dc96b6e7e",
   "metadata": {},
   "source": [
    "### 2. From a product of iterables:"
   ]
  },
  {
   "cell_type": "code",
   "execution_count": 8,
   "id": "f2928375-0200-44b8-ad04-67d8033de9f9",
   "metadata": {},
   "outputs": [
    {
     "data": {
      "text/html": [
       "<div>\n",
       "<style scoped>\n",
       "    .dataframe tbody tr th:only-of-type {\n",
       "        vertical-align: middle;\n",
       "    }\n",
       "\n",
       "    .dataframe tbody tr th {\n",
       "        vertical-align: top;\n",
       "    }\n",
       "\n",
       "    .dataframe thead th {\n",
       "        text-align: right;\n",
       "    }\n",
       "</style>\n",
       "<table border=\"1\" class=\"dataframe\">\n",
       "  <thead>\n",
       "    <tr style=\"text-align: right;\">\n",
       "      <th></th>\n",
       "      <th></th>\n",
       "      <th>value</th>\n",
       "    </tr>\n",
       "    <tr>\n",
       "      <th>letter</th>\n",
       "      <th>number</th>\n",
       "      <th></th>\n",
       "    </tr>\n",
       "  </thead>\n",
       "  <tbody>\n",
       "    <tr>\n",
       "      <th rowspan=\"2\" valign=\"top\">A</th>\n",
       "      <th>1</th>\n",
       "      <td>10</td>\n",
       "    </tr>\n",
       "    <tr>\n",
       "      <th>2</th>\n",
       "      <td>20</td>\n",
       "    </tr>\n",
       "    <tr>\n",
       "      <th rowspan=\"2\" valign=\"top\">B</th>\n",
       "      <th>1</th>\n",
       "      <td>30</td>\n",
       "    </tr>\n",
       "    <tr>\n",
       "      <th>2</th>\n",
       "      <td>40</td>\n",
       "    </tr>\n",
       "  </tbody>\n",
       "</table>\n",
       "</div>"
      ],
      "text/plain": [
       "               value\n",
       "letter number       \n",
       "A      1          10\n",
       "       2          20\n",
       "B      1          30\n",
       "       2          40"
      ]
     },
     "execution_count": 8,
     "metadata": {},
     "output_type": "execute_result"
    }
   ],
   "source": [
    "arrays = [['A', 'A', 'B', 'B'], [1, 2, 1, 2]]\n",
    "index = pd.MultiIndex.from_arrays(arrays, names=('letter', 'number'))\n",
    "df = pd.DataFrame({'value': [10, 20, 30, 40]}, index=index)\n",
    "df"
   ]
  },
  {
   "cell_type": "markdown",
   "id": "e9f5cd0d-aab9-418a-b2e2-fa9584ed6f90",
   "metadata": {},
   "source": [
    "### 3. From a DataFrame:"
   ]
  },
  {
   "cell_type": "code",
   "execution_count": 10,
   "id": "6148b962-053a-4152-9281-9ca494eb551a",
   "metadata": {},
   "outputs": [
    {
     "data": {
      "text/html": [
       "<div>\n",
       "<style scoped>\n",
       "    .dataframe tbody tr th:only-of-type {\n",
       "        vertical-align: middle;\n",
       "    }\n",
       "\n",
       "    .dataframe tbody tr th {\n",
       "        vertical-align: top;\n",
       "    }\n",
       "\n",
       "    .dataframe thead th {\n",
       "        text-align: right;\n",
       "    }\n",
       "</style>\n",
       "<table border=\"1\" class=\"dataframe\">\n",
       "  <thead>\n",
       "    <tr style=\"text-align: right;\">\n",
       "      <th></th>\n",
       "      <th></th>\n",
       "      <th>pop</th>\n",
       "    </tr>\n",
       "    <tr>\n",
       "      <th>city</th>\n",
       "      <th>year</th>\n",
       "      <th></th>\n",
       "    </tr>\n",
       "  </thead>\n",
       "  <tbody>\n",
       "    <tr>\n",
       "      <th rowspan=\"2\" valign=\"top\">Dinajpur</th>\n",
       "      <th>2000</th>\n",
       "      <td>1.5</td>\n",
       "    </tr>\n",
       "    <tr>\n",
       "      <th>2001</th>\n",
       "      <td>1.7</td>\n",
       "    </tr>\n",
       "    <tr>\n",
       "      <th rowspan=\"2\" valign=\"top\">Sylhet</th>\n",
       "      <th>2000</th>\n",
       "      <td>2.4</td>\n",
       "    </tr>\n",
       "    <tr>\n",
       "      <th>2001</th>\n",
       "      <td>2.9</td>\n",
       "    </tr>\n",
       "  </tbody>\n",
       "</table>\n",
       "</div>"
      ],
      "text/plain": [
       "               pop\n",
       "city     year     \n",
       "Dinajpur 2000  1.5\n",
       "         2001  1.7\n",
       "Sylhet   2000  2.4\n",
       "         2001  2.9"
      ]
     },
     "execution_count": 10,
     "metadata": {},
     "output_type": "execute_result"
    }
   ],
   "source": [
    "city = pd.DataFrame({\n",
    "    'city': ['Dinajpur', 'Dinajpur', 'Sylhet', 'Sylhet'],\n",
    "    'year': [2000, 2001, 2000, 2001],\n",
    "    'pop': [1.5, 1.7, 2.4, 2.9]\n",
    "})\n",
    "city = city.set_index(['city', 'year'])  # Create MultiIndex from columns\n",
    "city"
   ]
  },
  {
   "cell_type": "markdown",
   "id": "84d4ea52-b2c0-4a3e-915f-f4a52e66ff80",
   "metadata": {},
   "source": [
    "# Accessing Data in a MultiIndex DataFrame"
   ]
  },
  {
   "cell_type": "markdown",
   "id": "dc340257-bdb6-4b8a-b52b-79d808297c67",
   "metadata": {},
   "source": [
    "### .loc[ ] with tuple:"
   ]
  },
  {
   "cell_type": "code",
   "execution_count": 13,
   "id": "f2a8eb4a-2721-4446-a0c3-668f590e8062",
   "metadata": {},
   "outputs": [
    {
     "data": {
      "text/plain": [
       "value    10\n",
       "Name: (A, 1), dtype: int64"
      ]
     },
     "execution_count": 13,
     "metadata": {},
     "output_type": "execute_result"
    }
   ],
   "source": [
    "df.loc[('A', 1)]"
   ]
  },
  {
   "cell_type": "markdown",
   "id": "06859947-f966-44d7-921d-9cf748ee160f",
   "metadata": {},
   "source": [
    "### Slicing using ---> pd.IndexSlice"
   ]
  },
  {
   "cell_type": "code",
   "execution_count": 15,
   "id": "2a45bb59-d499-4c20-ab2e-878d959fdcd0",
   "metadata": {},
   "outputs": [
    {
     "data": {
      "text/html": [
       "<div>\n",
       "<style scoped>\n",
       "    .dataframe tbody tr th:only-of-type {\n",
       "        vertical-align: middle;\n",
       "    }\n",
       "\n",
       "    .dataframe tbody tr th {\n",
       "        vertical-align: top;\n",
       "    }\n",
       "\n",
       "    .dataframe thead th {\n",
       "        text-align: right;\n",
       "    }\n",
       "</style>\n",
       "<table border=\"1\" class=\"dataframe\">\n",
       "  <thead>\n",
       "    <tr style=\"text-align: right;\">\n",
       "      <th></th>\n",
       "      <th></th>\n",
       "      <th>value</th>\n",
       "    </tr>\n",
       "    <tr>\n",
       "      <th>letter</th>\n",
       "      <th>number</th>\n",
       "      <th></th>\n",
       "    </tr>\n",
       "  </thead>\n",
       "  <tbody>\n",
       "    <tr>\n",
       "      <th>A</th>\n",
       "      <th>1</th>\n",
       "      <td>10</td>\n",
       "    </tr>\n",
       "    <tr>\n",
       "      <th>B</th>\n",
       "      <th>1</th>\n",
       "      <td>30</td>\n",
       "    </tr>\n",
       "  </tbody>\n",
       "</table>\n",
       "</div>"
      ],
      "text/plain": [
       "               value\n",
       "letter number       \n",
       "A      1          10\n",
       "B      1          30"
      ]
     },
     "execution_count": 15,
     "metadata": {},
     "output_type": "execute_result"
    }
   ],
   "source": [
    "idx = pd.IndexSlice\n",
    "df.loc[idx['A':'B', 1], :]\n"
   ]
  },
  {
   "cell_type": "markdown",
   "id": "e4046fbe-6be3-48d3-ae3e-417027d8bfc6",
   "metadata": {},
   "source": [
    "# MultiIndex Columns"
   ]
  },
  {
   "cell_type": "code",
   "execution_count": 17,
   "id": "62d5008c-8237-489a-97c5-03a1a840f01f",
   "metadata": {},
   "outputs": [
    {
     "data": {
      "text/html": [
       "<div>\n",
       "<style scoped>\n",
       "    .dataframe tbody tr th:only-of-type {\n",
       "        vertical-align: middle;\n",
       "    }\n",
       "\n",
       "    .dataframe tbody tr th {\n",
       "        vertical-align: top;\n",
       "    }\n",
       "\n",
       "    .dataframe thead tr th {\n",
       "        text-align: left;\n",
       "    }\n",
       "</style>\n",
       "<table border=\"1\" class=\"dataframe\">\n",
       "  <thead>\n",
       "    <tr>\n",
       "      <th></th>\n",
       "      <th colspan=\"2\" halign=\"left\">Math</th>\n",
       "      <th colspan=\"2\" halign=\"left\">Science</th>\n",
       "    </tr>\n",
       "    <tr>\n",
       "      <th></th>\n",
       "      <th>Score</th>\n",
       "      <th>Grade</th>\n",
       "      <th>Score</th>\n",
       "      <th>Grade</th>\n",
       "    </tr>\n",
       "  </thead>\n",
       "  <tbody>\n",
       "    <tr>\n",
       "      <th>0</th>\n",
       "      <td>90</td>\n",
       "      <td>A</td>\n",
       "      <td>85</td>\n",
       "      <td>B+</td>\n",
       "    </tr>\n",
       "    <tr>\n",
       "      <th>1</th>\n",
       "      <td>88</td>\n",
       "      <td>B</td>\n",
       "      <td>89</td>\n",
       "      <td>A</td>\n",
       "    </tr>\n",
       "  </tbody>\n",
       "</table>\n",
       "</div>"
      ],
      "text/plain": [
       "   Math       Science      \n",
       "  Score Grade   Score Grade\n",
       "0    90     A      85    B+\n",
       "1    88     B      89     A"
      ]
     },
     "execution_count": 17,
     "metadata": {},
     "output_type": "execute_result"
    }
   ],
   "source": [
    "columns = pd.MultiIndex.from_product([['Math', 'Science'], ['Score', 'Grade']])\n",
    "df = pd.DataFrame([[90, 'A', 85, 'B+'], [88, 'B', 89, 'A']], columns=columns)\n",
    "df"
   ]
  },
  {
   "cell_type": "markdown",
   "id": "08e3252a-d935-4e12-b8b0-acfa3b6dbd18",
   "metadata": {},
   "source": [
    "# Practical Uses of MultiIndex\n",
    "\n",
    "- Time-series with hierarchical structure (e.g., region, year, quarter)\n",
    "\n",
    "- Panel data (e.g., firm-level data over time)\n",
    "\n",
    "- Nested grouping in groupby()"
   ]
  },
  {
   "cell_type": "markdown",
   "id": "9cdf867b-b638-41b0-b945-9966ba3fd185",
   "metadata": {},
   "source": [
    "# Tips for Working with MultiIndex\n",
    "\n",
    "- Always name your index levels to avoid confusion.\n",
    "\n",
    "- Use sort_index() before slicing if you get warnings.\n",
    "\n",
    "- IndexSlice is powerful for multi-level filtering."
   ]
  },
  {
   "cell_type": "code",
   "execution_count": null,
   "id": "13c9f2de-88bd-4c84-917a-4aec9c94d5d6",
   "metadata": {},
   "outputs": [],
   "source": []
  }
 ],
 "metadata": {
  "kernelspec": {
   "display_name": "Python [conda env:base] *",
   "language": "python",
   "name": "conda-base-py"
  },
  "language_info": {
   "codemirror_mode": {
    "name": "ipython",
    "version": 3
   },
   "file_extension": ".py",
   "mimetype": "text/x-python",
   "name": "python",
   "nbconvert_exporter": "python",
   "pygments_lexer": "ipython3",
   "version": "3.12.7"
  }
 },
 "nbformat": 4,
 "nbformat_minor": 5
}
