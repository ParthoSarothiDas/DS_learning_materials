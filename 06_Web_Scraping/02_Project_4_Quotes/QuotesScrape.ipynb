{
 "cells": [
  {
   "cell_type": "code",
   "execution_count": 1,
   "id": "b2326b38-ef03-4b9f-b2f0-b9afec566873",
   "metadata": {},
   "outputs": [],
   "source": [
    "import numpy as np\n",
    "import pandas as pd\n",
    "import requests\n",
    "from bs4 import BeautifulSoup"
   ]
  },
  {
   "cell_type": "code",
   "execution_count": 3,
   "id": "7609b90c-8441-4d37-b344-f237b037bdef",
   "metadata": {},
   "outputs": [],
   "source": [
    "website = requests.get('https://quotes.toscrape.com/page/1/').text\n",
    "soup=BeautifulSoup(website,'lxml')\n",
    "con = soup.find_all('div', class_='quote')"
   ]
  },
  {
   "cell_type": "code",
   "execution_count": 63,
   "id": "d51e3485-2f16-4785-9c05-c8cfc66e53f5",
   "metadata": {},
   "outputs": [],
   "source": [
    "all_dfs = []\n",
    "for j in range (1,10):\n",
    "    website = requests.get('https://quotes.toscrape.com/page/{}/'.format(j)).text\n",
    "    soup=BeautifulSoup(website,'lxml')\n",
    "    con = soup.find_all('div', class_='quote')\n",
    "    quote = []\n",
    "    author = []\n",
    "    for i in con:\n",
    "        quote.append(i.find(class_='text').text.strip())\n",
    "        author.append(i.find(class_='author').text)\n",
    "    d={\n",
    "        'quote':quote,\n",
    "        'author':author\n",
    "    }\n",
    "    df = pd.DataFrame(d)\n",
    "    all_dfs.append(df)\n",
    "\n",
    "final = pd.concat(all_dfs, ignore_index=True)"
   ]
  },
  {
   "cell_type": "code",
   "execution_count": 77,
   "id": "f59b6cf9-cf69-4b05-8bbb-1a8767130872",
   "metadata": {},
   "outputs": [],
   "source": [
    "final['quote']=final['quote'].str.replace('“','', regex=False)\n",
    "final['quote']=final['quote'].str.replace('”','', regex=False)"
   ]
  },
  {
   "cell_type": "code",
   "execution_count": 79,
   "id": "67643dfc-f94e-4319-b76a-3a77a4bcd248",
   "metadata": {},
   "outputs": [
    {
     "data": {
      "text/plain": [
       "'The world as we have created it is a process of our thinking. It cannot be changed without changing our thinking.'"
      ]
     },
     "execution_count": 79,
     "metadata": {},
     "output_type": "execute_result"
    }
   ],
   "source": [
    "final['quote'][0]"
   ]
  },
  {
   "cell_type": "code",
   "execution_count": 81,
   "id": "1ab71dea-d4b7-4b4d-b7a8-f2ff293fd2f4",
   "metadata": {},
   "outputs": [],
   "source": [
    "final.to_csv('Quotes.csv')"
   ]
  },
  {
   "cell_type": "code",
   "execution_count": null,
   "id": "c2dbabd7-b8a0-4006-a22e-fb1245243985",
   "metadata": {},
   "outputs": [],
   "source": []
  }
 ],
 "metadata": {
  "kernelspec": {
   "display_name": "Python [conda env:base] *",
   "language": "python",
   "name": "conda-base-py"
  },
  "language_info": {
   "codemirror_mode": {
    "name": "ipython",
    "version": 3
   },
   "file_extension": ".py",
   "mimetype": "text/x-python",
   "name": "python",
   "nbconvert_exporter": "python",
   "pygments_lexer": "ipython3",
   "version": "3.12.7"
  }
 },
 "nbformat": 4,
 "nbformat_minor": 5
}
