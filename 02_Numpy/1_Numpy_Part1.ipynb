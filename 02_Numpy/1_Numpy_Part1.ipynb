{
 "cells": [
  {
   "cell_type": "markdown",
   "id": "d93b875e-3b9b-4bca-84ca-f526d1bfb102",
   "metadata": {},
   "source": [
    "# Import numpy"
   ]
  },
  {
   "cell_type": "code",
   "execution_count": 2,
   "id": "d363e4f6-a773-432e-b56f-c9444cf8a5b3",
   "metadata": {},
   "outputs": [],
   "source": [
    "import numpy as np"
   ]
  },
  {
   "cell_type": "markdown",
   "id": "d81c8610-33cb-468c-a918-bfc56ac6c137",
   "metadata": {},
   "source": [
    "# Creating Numpy Arrays"
   ]
  },
  {
   "cell_type": "markdown",
   "id": "3086cfeb-814b-401a-a508-015c92878825",
   "metadata": {},
   "source": [
    "### 1. From Python Lists or Tuples"
   ]
  },
  {
   "cell_type": "code",
   "execution_count": 5,
   "id": "8e23b4dc-9ca8-4b95-91c7-32a333ecf6ce",
   "metadata": {},
   "outputs": [
    {
     "name": "stdout",
     "output_type": "stream",
     "text": [
      "1D array: \n",
      " [1 2 3]\n",
      "\n",
      "2D array: \n",
      " [[1 2]\n",
      " [3 4]]\n",
      "\n",
      "3D array: \n",
      " [[[1 2]\n",
      "  [3 4]]\n",
      "\n",
      " [[5 6]\n",
      "  [6 7]]]\n"
     ]
    }
   ],
   "source": [
    "arr1 = np.array ([1,2,3])\n",
    "print('1D array: \\n',arr1)\n",
    "\n",
    "arr2 = np.array([[1,2], [3,4]])\n",
    "print('\\n2D array: \\n',arr2)\n",
    "\n",
    "arr3 = np.array([[[1,2],[3,4]],[[5,6],[6,7]]])\n",
    "print('\\n3D array: \\n', arr3)"
   ]
  },
  {
   "cell_type": "markdown",
   "id": "797271b3-7b69-4eb2-9589-03ac42e7d1bc",
   "metadata": {},
   "source": [
    "### 2. Using built-in functions"
   ]
  },
  {
   "cell_type": "code",
   "execution_count": 7,
   "id": "7f956ae0-7893-4d3b-8b9c-d9972d405da4",
   "metadata": {},
   "outputs": [
    {
     "data": {
      "text/plain": [
       "array([[0., 0., 0., 0.],\n",
       "       [0., 0., 0., 0.],\n",
       "       [0., 0., 0., 0.]])"
      ]
     },
     "execution_count": 7,
     "metadata": {},
     "output_type": "execute_result"
    }
   ],
   "source": [
    "# 1. Create array with zeros\n",
    "np.zeros((3,4))"
   ]
  },
  {
   "cell_type": "code",
   "execution_count": 8,
   "id": "c6a01148-70f3-48fe-bcbf-4d944ce06927",
   "metadata": {},
   "outputs": [
    {
     "name": "stdout",
     "output_type": "stream",
     "text": [
      "[[1. 1. 1.]\n",
      " [1. 1. 1.]\n",
      " [1. 1. 1.]\n",
      " [1. 1. 1.]]\n"
     ]
    }
   ],
   "source": [
    "# 2. Create array with ones\n",
    "one = np.ones((4,3))\n",
    "print(one)"
   ]
  },
  {
   "cell_type": "code",
   "execution_count": 9,
   "id": "3bb390a7-88bb-4eb9-ac06-c5f52b65bec1",
   "metadata": {},
   "outputs": [
    {
     "name": "stdout",
     "output_type": "stream",
     "text": [
      "[[100 100 100 100 100]\n",
      " [100 100 100 100 100]\n",
      " [100 100 100 100 100]]\n"
     ]
    }
   ],
   "source": [
    "# 3. Create array with a specific value\n",
    "full_array = np.full((3,5),100)\n",
    "print(full_array)"
   ]
  },
  {
   "cell_type": "code",
   "execution_count": 10,
   "id": "b9d4a461-6c44-4a56-9df2-4df53571c621",
   "metadata": {},
   "outputs": [
    {
     "name": "stdout",
     "output_type": "stream",
     "text": [
      "[[1. 0. 0. 0.]\n",
      " [0. 1. 0. 0.]\n",
      " [0. 0. 1. 0.]\n",
      " [0. 0. 0. 1.]]\n"
     ]
    }
   ],
   "source": [
    "# 4. Identity matrix\n",
    "identity_matrix = np.eye(4)\n",
    "print(identity_matrix)"
   ]
  },
  {
   "cell_type": "markdown",
   "id": "665b8258-7728-431d-9000-d8af06c2627f",
   "metadata": {},
   "source": [
    "### 3. Using Ranges\n",
    "np.arange(start, stop, step)"
   ]
  },
  {
   "cell_type": "code",
   "execution_count": 12,
   "id": "6bf9816c-ccae-4c24-8644-bbf830da66f9",
   "metadata": {},
   "outputs": [
    {
     "data": {
      "text/plain": [
       "array([0, 1, 2, 3, 4, 5, 6, 7, 8, 9])"
      ]
     },
     "execution_count": 12,
     "metadata": {},
     "output_type": "execute_result"
    }
   ],
   "source": [
    "# 1. From 0 to specific number\n",
    "np.arange(10) # Note that last number is excluded."
   ]
  },
  {
   "cell_type": "code",
   "execution_count": 13,
   "id": "bd6e85b9-d974-4dd7-b5dc-093cd9201f9a",
   "metadata": {},
   "outputs": [
    {
     "data": {
      "text/plain": [
       "array([10, 11, 12, 13, 14, 15, 16, 17, 18, 19])"
      ]
     },
     "execution_count": 13,
     "metadata": {},
     "output_type": "execute_result"
    }
   ],
   "source": [
    "# 2.From specific range\n",
    "np.arange(10, 20)"
   ]
  },
  {
   "cell_type": "code",
   "execution_count": 14,
   "id": "ac8eb025-a7a6-4183-80bb-8a4242696e41",
   "metadata": {},
   "outputs": [
    {
     "data": {
      "text/plain": [
       "array([ 1,  4,  7, 10, 13, 16, 19, 22, 25, 28])"
      ]
     },
     "execution_count": 14,
     "metadata": {},
     "output_type": "execute_result"
    }
   ],
   "source": [
    "# 3. Specific range with specific step\n",
    "np.arange (1,30,3)"
   ]
  },
  {
   "cell_type": "code",
   "execution_count": 15,
   "id": "e3c43098-063a-4bb9-aac0-212055e555b7",
   "metadata": {},
   "outputs": [
    {
     "data": {
      "text/plain": [
       "array([0.  , 0.25, 0.5 , 0.75, 1.  ])"
      ]
     },
     "execution_count": 15,
     "metadata": {},
     "output_type": "execute_result"
    }
   ],
   "source": [
    "# 4. np.linspace(start, stop, num)\n",
    "np.linspace(0,1,5)"
   ]
  },
  {
   "cell_type": "markdown",
   "id": "7f5b4623-c154-4e39-a8c8-97482cb6dc08",
   "metadata": {},
   "source": [
    "### 4. Random Arrays"
   ]
  },
  {
   "cell_type": "code",
   "execution_count": 17,
   "id": "a88eebbf-921a-46fa-9532-266310bcc420",
   "metadata": {},
   "outputs": [
    {
     "data": {
      "text/plain": [
       "array([[0.39809521, 0.81756332, 0.0150525 ],\n",
       "       [0.17011657, 0.45655454, 0.03544688]])"
      ]
     },
     "execution_count": 17,
     "metadata": {},
     "output_type": "execute_result"
    }
   ],
   "source": [
    "# 1. Uniform distribution between 0 and 1\n",
    "np.random.rand(2,3)"
   ]
  },
  {
   "cell_type": "code",
   "execution_count": 18,
   "id": "d5ec7137-13a4-4aa8-a7ac-220b85fdf788",
   "metadata": {},
   "outputs": [
    {
     "data": {
      "text/plain": [
       "array([[ 0.66413066,  1.56644285, -0.62162768],\n",
       "       [ 0.78587823, -1.43939017,  1.28483976]])"
      ]
     },
     "execution_count": 18,
     "metadata": {},
     "output_type": "execute_result"
    }
   ],
   "source": [
    "# 2. Standard normal distribution\n",
    "np.random.randn(2,3)"
   ]
  },
  {
   "cell_type": "code",
   "execution_count": 19,
   "id": "e4a3feda-ba60-4d8a-99f6-a172ed34f13d",
   "metadata": {},
   "outputs": [
    {
     "data": {
      "text/plain": [
       "array([[9, 7, 8],\n",
       "       [2, 2, 3]])"
      ]
     },
     "execution_count": 19,
     "metadata": {},
     "output_type": "execute_result"
    }
   ],
   "source": [
    "# 3. Random integer with a range\n",
    "np.random.randint(1,10, size=(2,3))"
   ]
  },
  {
   "cell_type": "markdown",
   "id": "204ceb29-8aac-4fc3-ba64-2413fefb7185",
   "metadata": {},
   "source": [
    "### 5. From Existing Arrays"
   ]
  },
  {
   "cell_type": "code",
   "execution_count": 21,
   "id": "9f8d49bb-a4cb-4204-a211-91b406088068",
   "metadata": {},
   "outputs": [
    {
     "data": {
      "text/plain": [
       "array([1, 2, 3])"
      ]
     },
     "execution_count": 21,
     "metadata": {},
     "output_type": "execute_result"
    }
   ],
   "source": [
    "# 1. From existing arrays\n",
    "original = np.array([1,2,3])\n",
    "copy = np.copy(original)\n",
    "copy"
   ]
  },
  {
   "cell_type": "code",
   "execution_count": 22,
   "id": "24b3a6d7-a84e-49f8-8f0a-d6c80c09e8fe",
   "metadata": {},
   "outputs": [
    {
     "data": {
      "text/plain": [
       "array([[0, 1, 2],\n",
       "       [3, 4, 5]])"
      ]
     },
     "execution_count": 22,
     "metadata": {},
     "output_type": "execute_result"
    }
   ],
   "source": [
    "# 2. Reshape\n",
    "reshape_arr =np.arange(6).reshape((2,3))\n",
    "reshape_arr"
   ]
  },
  {
   "cell_type": "code",
   "execution_count": 23,
   "id": "448c845b-0407-4d18-b0b0-5d1834cd67f5",
   "metadata": {},
   "outputs": [
    {
     "data": {
      "text/plain": [
       "array([0, 1, 2, 3, 4, 5])"
      ]
     },
     "execution_count": 23,
     "metadata": {},
     "output_type": "execute_result"
    }
   ],
   "source": [
    "# 3. ravel()\n",
    "reshape_arr.ravel()"
   ]
  },
  {
   "cell_type": "markdown",
   "id": "893c61de-6b33-42ce-bf2e-353b0ee247dc",
   "metadata": {},
   "source": [
    "# Essential NumPy Array Attributes"
   ]
  },
  {
   "cell_type": "code",
   "execution_count": 25,
   "id": "0029a752-e778-4248-9fcc-d61cb9ce1241",
   "metadata": {},
   "outputs": [],
   "source": [
    "import numpy as np\n",
    "\n",
    "arr = np.array([[1, 2, 3], [4, 5, 6]])"
   ]
  },
  {
   "cell_type": "code",
   "execution_count": 26,
   "id": "b46e3fb6-1d78-4944-8873-19701e34fef8",
   "metadata": {},
   "outputs": [
    {
     "data": {
      "text/plain": [
       "2"
      ]
     },
     "execution_count": 26,
     "metadata": {},
     "output_type": "execute_result"
    }
   ],
   "source": [
    "# 1. Number of dimensions\n",
    "arr.ndim"
   ]
  },
  {
   "cell_type": "code",
   "execution_count": 27,
   "id": "df118c8e-51f4-4c1a-a7a7-466e29ae62b9",
   "metadata": {},
   "outputs": [
    {
     "name": "stdout",
     "output_type": "stream",
     "text": [
      "(2, 3)\n"
     ]
    }
   ],
   "source": [
    "# 2. Shape of the array\n",
    "print(arr.shape)"
   ]
  },
  {
   "cell_type": "code",
   "execution_count": 28,
   "id": "16747769-017f-4d32-a748-1d7cd7a27776",
   "metadata": {},
   "outputs": [
    {
     "name": "stdout",
     "output_type": "stream",
     "text": [
      "6\n"
     ]
    }
   ],
   "source": [
    "# 3. Total number of elements\n",
    "print(arr.size)"
   ]
  },
  {
   "cell_type": "code",
   "execution_count": 29,
   "id": "8be7270c-c15c-465b-b844-4cfcaabfc785",
   "metadata": {},
   "outputs": [
    {
     "name": "stdout",
     "output_type": "stream",
     "text": [
      "int32\n"
     ]
    }
   ],
   "source": [
    "# 4. Data type of elements\n",
    "print(arr.dtype)"
   ]
  },
  {
   "cell_type": "code",
   "execution_count": 30,
   "id": "2872c6e1-e6ab-42a5-a295-ed2e7a0c6c18",
   "metadata": {},
   "outputs": [
    {
     "name": "stdout",
     "output_type": "stream",
     "text": [
      "4\n"
     ]
    }
   ],
   "source": [
    "# 5. Size of each item in bytes\n",
    "print(arr.itemsize)"
   ]
  },
  {
   "cell_type": "code",
   "execution_count": 31,
   "id": "503c0601-1aa6-484e-800f-b52f4646454f",
   "metadata": {},
   "outputs": [
    {
     "name": "stdout",
     "output_type": "stream",
     "text": [
      "24\n"
     ]
    }
   ],
   "source": [
    "# 6. Total bytes consumed\n",
    "print(arr.nbytes)"
   ]
  },
  {
   "cell_type": "code",
   "execution_count": 32,
   "id": "d19f9fac-cd11-4d71-b32e-2ac8c19cf98f",
   "metadata": {},
   "outputs": [
    {
     "name": "stdout",
     "output_type": "stream",
     "text": [
      "[[1 4]\n",
      " [2 5]\n",
      " [3 6]]\n"
     ]
    }
   ],
   "source": [
    "# 7. Transpose of the array\n",
    "print(arr.T)"
   ]
  },
  {
   "cell_type": "code",
   "execution_count": 33,
   "id": "9746cd3c-8cc4-4cbd-8506-dd1870c17d9f",
   "metadata": {},
   "outputs": [
    {
     "data": {
      "text/plain": [
       "<memory at 0x000001A8D0333B90>"
      ]
     },
     "execution_count": 33,
     "metadata": {},
     "output_type": "execute_result"
    }
   ],
   "source": [
    "# Memory Address\n",
    "arr.data"
   ]
  },
  {
   "cell_type": "markdown",
   "id": "4b7d376e-d2a2-4b8a-97d4-57046e7b0e61",
   "metadata": {},
   "source": [
    "Summary Table of Attributes\n",
    "\n",
    "| Attribute    | Description                        | Example Output       |\n",
    "|--------------|------------------------------------|----------------------|\n",
    "| `ndim`       | Number of dimensions               | `2`                  |\n",
    "| `shape`      | Dimensions of array                | `(2, 3)`             |\n",
    "| `size`       | Total number of elements           | `6`                  |\n",
    "| `dtype`      | Type of each element               | `int64`              |\n",
    "| `itemsize`   | Bytes per element                  | `8`                  |\n",
    "| `nbytes`     | Total memory in bytes              | `48`                 |\n",
    "| `T`          | Transpose of the array             | Swaps axes           |"
   ]
  },
  {
   "cell_type": "markdown",
   "id": "97a9ae23-f1d2-4dc0-bf02-c6ab60bf27ed",
   "metadata": {},
   "source": [
    "# NumPy Array Operations"
   ]
  },
  {
   "cell_type": "code",
   "execution_count": 36,
   "id": "7cc435ca-0f90-46fb-88e6-78542c03be2e",
   "metadata": {},
   "outputs": [
    {
     "name": "stdout",
     "output_type": "stream",
     "text": [
      "Sum:  [5 7 9]\n",
      "Subtraction:  [-3 -3 -3]\n",
      "Multiplication:  [ 4 10 18]\n",
      "Division:  [0.25 0.4  0.5 ]\n",
      "Square:  [1 4 9]\n"
     ]
    }
   ],
   "source": [
    "# 1. Arithmetic Operations ---> Element-wise\n",
    "import numpy as np\n",
    "\n",
    "a = np.array([1,2,3])\n",
    "b = np.array([4,5,6])\n",
    "\n",
    "print ('Sum: ',a+b)\n",
    "print('Subtraction: ', a-b)\n",
    "print('Multiplication: ', a*b)\n",
    "print('Division: ', a/b)\n",
    "print('Square: ', a ** 2)"
   ]
  },
  {
   "cell_type": "code",
   "execution_count": 37,
   "id": "1c22c5aa-92d0-47aa-8248-e19da8b77d73",
   "metadata": {},
   "outputs": [
    {
     "name": "stdout",
     "output_type": "stream",
     "text": [
      "Sum of the elements:  21\n",
      "Mean:  3.5\n",
      "Standard Deviation:  1.707825127659933\n",
      "Miminum Value:  1\n",
      "Maximum Value:  6\n",
      "Index of minimum value:  0\n",
      "Index of Maximum value:  5\n"
     ]
    }
   ],
   "source": [
    "# 2. Aggregate Functions \n",
    "arr = np.array([[1,2,3], [4,5,6]])\n",
    "\n",
    "print ('Sum of the elements: ',arr.sum())\n",
    "print('Mean: ', arr.mean())\n",
    "print ('Standard Deviation: ', arr.std())\n",
    "print('Miminum Value: ', arr.min())\n",
    "print ('Maximum Value: ', arr.max())\n",
    "print ('Index of minimum value: ', arr.argmin())\n",
    "print('Index of Maximum value: ', arr.argmax())"
   ]
  },
  {
   "cell_type": "code",
   "execution_count": 38,
   "id": "7ca38096-aed5-4e6f-a590-4317a39d1d3b",
   "metadata": {},
   "outputs": [
    {
     "name": "stdout",
     "output_type": "stream",
     "text": [
      "Colume-wise sum:  [5 7 9]\n",
      "Row-wise sum:  [ 6 15]\n"
     ]
    }
   ],
   "source": [
    "# Axis-wise operations:\n",
    "print('Colume-wise sum: ',arr.sum(axis=0)) \n",
    "print('Row-wise sum: ',arr.sum(axis=1))"
   ]
  },
  {
   "cell_type": "markdown",
   "id": "f9ab71ae-1394-4484-841d-6ffcf7c453b4",
   "metadata": {},
   "source": []
  },
  {
   "cell_type": "code",
   "execution_count": 40,
   "id": "8783d245-2473-4185-9761-3a6ae3b43c09",
   "metadata": {},
   "outputs": [
    {
     "name": "stdout",
     "output_type": "stream",
     "text": [
      "a is grater than b:  [False False  True]\n",
      "a is less than or equal to b:  [ True  True False]\n",
      "a is equal to b:  [False  True False]\n",
      "a is not equal to b : [ True False  True]\n"
     ]
    }
   ],
   "source": [
    "# 3. Comparison & Boolean Operations\n",
    "\n",
    "a = np.array([1,2,3])\n",
    "b = np.array([2,2,2])\n",
    "print('a is grater than b: ',a>b)\n",
    "print ('a is less than or equal to b: ', a<= b)\n",
    "print('a is equal to b: ',a==b)\n",
    "print ('a is not equal to b :', a!=b)"
   ]
  },
  {
   "cell_type": "code",
   "execution_count": 41,
   "id": "d9f99713-1cb7-4cda-a29c-842192fabe34",
   "metadata": {},
   "outputs": [
    {
     "name": "stdout",
     "output_type": "stream",
     "text": [
      "[3]\n"
     ]
    }
   ],
   "source": [
    "# Boolean masking\n",
    "print(a[a>2])"
   ]
  },
  {
   "cell_type": "code",
   "execution_count": 42,
   "id": "8e7b4d5f-7619-44c3-b05f-a6b643b22969",
   "metadata": {},
   "outputs": [],
   "source": [
    "# 4. Matrix Operations\n",
    "\n",
    "A = np.array([[1,2], [3,4]])\n",
    "B = np.array([[5,6], [7,8]])"
   ]
  },
  {
   "cell_type": "code",
   "execution_count": 43,
   "id": "ed4f808d-4a48-47eb-8354-7899ccc37b9d",
   "metadata": {},
   "outputs": [
    {
     "data": {
      "text/plain": [
       "array([[19, 22],\n",
       "       [43, 50]])"
      ]
     },
     "execution_count": 43,
     "metadata": {},
     "output_type": "execute_result"
    }
   ],
   "source": [
    "# Matrix Multiplication\n",
    "A.dot(B)"
   ]
  },
  {
   "cell_type": "code",
   "execution_count": 44,
   "id": "5ca03d86-ae82-4071-8825-47a8e396300f",
   "metadata": {},
   "outputs": [
    {
     "data": {
      "text/plain": [
       "array([[1, 3],\n",
       "       [2, 4]])"
      ]
     },
     "execution_count": 44,
     "metadata": {},
     "output_type": "execute_result"
    }
   ],
   "source": [
    "# Transpose:\n",
    "A.T"
   ]
  },
  {
   "cell_type": "code",
   "execution_count": 45,
   "id": "18184d84-c015-49d7-9235-fc9a9c406b92",
   "metadata": {},
   "outputs": [
    {
     "data": {
      "text/plain": [
       "array([[-2. ,  1. ],\n",
       "       [ 1.5, -0.5]])"
      ]
     },
     "execution_count": 45,
     "metadata": {},
     "output_type": "execute_result"
    }
   ],
   "source": [
    "# Inverese (Only works if A is square and invertible)\n",
    "from numpy.linalg import inv\n",
    "inv(A)"
   ]
  },
  {
   "cell_type": "code",
   "execution_count": 46,
   "id": "311a905c-e306-4d8c-b9e0-7f6548352f0b",
   "metadata": {},
   "outputs": [
    {
     "data": {
      "text/plain": [
       "array([6, 7, 8])"
      ]
     },
     "execution_count": 46,
     "metadata": {},
     "output_type": "execute_result"
    }
   ],
   "source": [
    "# 5. Broadcasting\n",
    "a = np.array([1,2,3])\n",
    "b = 5\n",
    "a+b"
   ]
  },
  {
   "cell_type": "code",
   "execution_count": 47,
   "id": "ae06ffb5-02c5-490f-8b7a-5bc4782747e9",
   "metadata": {},
   "outputs": [
    {
     "data": {
      "text/plain": [
       "array([[5, 6, 7],\n",
       "       [6, 7, 8],\n",
       "       [7, 8, 9]])"
      ]
     },
     "execution_count": 47,
     "metadata": {},
     "output_type": "execute_result"
    }
   ],
   "source": [
    "a = np.array([[1],[2],[3]])\n",
    "b = np.array([4,5,6])\n",
    "a+b"
   ]
  },
  {
   "cell_type": "code",
   "execution_count": 48,
   "id": "ea123ddf-ce4d-40c7-8d8f-0a62dad8b320",
   "metadata": {},
   "outputs": [],
   "source": [
    "# 6. Stacking\n",
    "x = np.array([[1,2]])\n",
    "y = np.array([[3,4]])"
   ]
  },
  {
   "cell_type": "code",
   "execution_count": 49,
   "id": "979196a5-bc28-430f-bfa6-0b2174d1530e",
   "metadata": {},
   "outputs": [
    {
     "data": {
      "text/plain": [
       "array([[1, 2],\n",
       "       [3, 4]])"
      ]
     },
     "execution_count": 49,
     "metadata": {},
     "output_type": "execute_result"
    }
   ],
   "source": [
    "# Vertical Stack\n",
    "np.vstack([x,y])"
   ]
  },
  {
   "cell_type": "code",
   "execution_count": 50,
   "id": "f4092192-c3d1-462a-880d-ffc47ed96f08",
   "metadata": {},
   "outputs": [
    {
     "data": {
      "text/plain": [
       "array([[1, 2, 3, 4]])"
      ]
     },
     "execution_count": 50,
     "metadata": {},
     "output_type": "execute_result"
    }
   ],
   "source": [
    "# Horizontal Stack\n",
    "np.hstack([x,y])"
   ]
  },
  {
   "cell_type": "code",
   "execution_count": 51,
   "id": "274654dd-729a-4730-84b6-ca1982c3bf4c",
   "metadata": {},
   "outputs": [
    {
     "data": {
      "text/plain": [
       "array([1, 2, 3])"
      ]
     },
     "execution_count": 51,
     "metadata": {},
     "output_type": "execute_result"
    }
   ],
   "source": [
    "# 7. Useful Utilities\n",
    "arr = [1 ,2, 4, 4, 6, 2, 1, 1, 2, 6]\n",
    "np.unique(a)"
   ]
  },
  {
   "cell_type": "code",
   "execution_count": 52,
   "id": "856570f4-f7f7-4795-b677-a4abfa0e1256",
   "metadata": {},
   "outputs": [
    {
     "name": "stdout",
     "output_type": "stream",
     "text": [
      "[0 1 2 4]\n"
     ]
    }
   ],
   "source": [
    "unique_values, index = np.unique(arr, return_index=True)\n",
    "print(index)"
   ]
  },
  {
   "cell_type": "code",
   "execution_count": 53,
   "id": "2cd16629-b259-4a7f-834f-938a7237dc49",
   "metadata": {},
   "outputs": [
    {
     "name": "stdout",
     "output_type": "stream",
     "text": [
      "[1 2 4 6]\n",
      "[3 3 2 2]\n"
     ]
    }
   ],
   "source": [
    "unique_vals, counts = np.unique(arr, return_counts=True)\n",
    "print(unique_vals)\n",
    "print(counts)"
   ]
  },
  {
   "cell_type": "code",
   "execution_count": 54,
   "id": "00dc29fe-c2f0-4b02-b494-9d436ed57aeb",
   "metadata": {},
   "outputs": [
    {
     "data": {
      "text/plain": [
       "array([[1],\n",
       "       [2],\n",
       "       [3]])"
      ]
     },
     "execution_count": 54,
     "metadata": {},
     "output_type": "execute_result"
    }
   ],
   "source": [
    "np.sort(a)"
   ]
  }
 ],
 "metadata": {
  "kernelspec": {
   "display_name": "Python [conda env:base] *",
   "language": "python",
   "name": "conda-base-py"
  },
  "language_info": {
   "codemirror_mode": {
    "name": "ipython",
    "version": 3
   },
   "file_extension": ".py",
   "mimetype": "text/x-python",
   "name": "python",
   "nbconvert_exporter": "python",
   "pygments_lexer": "ipython3",
   "version": "3.12.7"
  }
 },
 "nbformat": 4,
 "nbformat_minor": 5
}
