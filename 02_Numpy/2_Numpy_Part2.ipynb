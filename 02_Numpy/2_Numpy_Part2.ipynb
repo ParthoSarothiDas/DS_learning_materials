{
 "cells": [
  {
   "cell_type": "markdown",
   "id": "fd3a783d-3ea3-47c4-ad32-f0fc9821dc99",
   "metadata": {},
   "source": [
    "# NumPy Array Functions"
   ]
  },
  {
   "cell_type": "code",
   "execution_count": 2,
   "id": "5d685835-6643-48ab-96c3-1a8d3e030e6d",
   "metadata": {},
   "outputs": [
    {
     "data": {
      "text/plain": [
       "array([0.        , 1.57079633, 3.14159265])"
      ]
     },
     "execution_count": 2,
     "metadata": {},
     "output_type": "execute_result"
    }
   ],
   "source": [
    "# Mathematical Functions\n",
    "import numpy as np\n",
    "\n",
    "arr = np.array([0, np.pi/2, np.pi])\n",
    "arr"
   ]
  },
  {
   "cell_type": "code",
   "execution_count": 3,
   "id": "1bd7dfab-155e-4b4d-a03e-1a6ae9b698cc",
   "metadata": {},
   "outputs": [
    {
     "name": "stdout",
     "output_type": "stream",
     "text": [
      "[0.0000000e+00 1.0000000e+00 1.2246468e-16]\n",
      "[ 1.000000e+00  6.123234e-17 -1.000000e+00]\n",
      "[ 1.          4.81047738 23.14069263]\n",
      "[0.         0.94421571 1.42108041]\n",
      "[0.         1.25331414 1.77245385]\n"
     ]
    }
   ],
   "source": [
    "print(np.sin(arr))   # [0.0, 1.0, 0.0]\n",
    "print(np.cos(arr))   # [1.0, 0.0, -1.0]\n",
    "print(np.exp(arr))   # Exponential\n",
    "print(np.log(arr + 1))  # Natural log (added 1 to avoid log(0))\n",
    "print(np.sqrt(arr))  # Square root"
   ]
  },
  {
   "cell_type": "code",
   "execution_count": 4,
   "id": "016e5470-7ca3-42d7-a06f-f48e4af8e026",
   "metadata": {},
   "outputs": [
    {
     "name": "stdout",
     "output_type": "stream",
     "text": [
      "[1.23 2.35]\n",
      "[1. 2.]\n",
      "[2. 3.]\n"
     ]
    }
   ],
   "source": [
    "# Round function\n",
    "\n",
    "a = np.array([1.2345, 2.3456])\n",
    "\n",
    "print(np.round(a, 2))    # [1.23 2.35]\n",
    "print(np.floor(a))       # [1. 2.]\n",
    "print(np.ceil(a))        # [2. 3.]"
   ]
  },
  {
   "cell_type": "code",
   "execution_count": 5,
   "id": "f90c7cc3-a998-44b7-b10e-a04f3d7eab0c",
   "metadata": {},
   "outputs": [
    {
     "name": "stdout",
     "output_type": "stream",
     "text": [
      "2.5\n",
      "2.5\n",
      "1.118033988749895\n",
      "1.25\n",
      "2.5\n",
      "3.7\n"
     ]
    }
   ],
   "source": [
    "# Statistical Functions\n",
    "\n",
    "arr = np.array([[1, 2], [3, 4]])\n",
    "\n",
    "print(np.mean(arr))      # Mean\n",
    "print(np.median(arr))    # Median\n",
    "print(np.std(arr))       # Standard deviation\n",
    "print(np.var(arr))       # Variance\n",
    "print(np.percentile(arr, 50))  # 50th percentile\n",
    "print(np.percentile(arr, 90))  # 90th percentile"
   ]
  },
  {
   "cell_type": "code",
   "execution_count": 6,
   "id": "afae59a6-72fc-42de-bc5d-e5b42cfc1505",
   "metadata": {},
   "outputs": [
    {
     "name": "stdout",
     "output_type": "stream",
     "text": [
      "True\n",
      "True\n",
      "['No' 'No' 'Yes' 'Yes']\n"
     ]
    }
   ],
   "source": [
    "# Logical & conditional functions\n",
    "\n",
    "arr = np.array([1, 2, 3, 4])\n",
    "\n",
    "print(np.any(arr > 2))     \n",
    "print(np.all(arr > 0))     \n",
    "print(np.where(arr > 2, 'Yes', 'No')) \n"
   ]
  },
  {
   "cell_type": "code",
   "execution_count": 7,
   "id": "c8981b0a-3688-441d-b3d5-da4d8d247582",
   "metadata": {},
   "outputs": [
    {
     "name": "stdout",
     "output_type": "stream",
     "text": [
      "[1 2 3 4 5 6]\n",
      "[3 4]\n",
      "[1 2]\n",
      "[1 2 5 6]\n"
     ]
    }
   ],
   "source": [
    "# Set functions\n",
    "\n",
    "a = np.array([1, 2, 3, 4])\n",
    "b = np.array([3, 4, 5, 6])\n",
    "\n",
    "print(np.union1d(a, b))         \n",
    "print(np.intersect1d(a, b))     \n",
    "print(np.setdiff1d(a, b))      \n",
    "print(np.setxor1d(a, b))"
   ]
  },
  {
   "cell_type": "code",
   "execution_count": 8,
   "id": "239f382e-131b-4023-9a0a-b3a0b25a6d3d",
   "metadata": {},
   "outputs": [
    {
     "name": "stdout",
     "output_type": "stream",
     "text": [
      "[2 2 3 4 4]\n",
      "[ 1  3  6 10 15]\n",
      "[  1   2   6  24 120]\n"
     ]
    }
   ],
   "source": [
    "# Clipping & Cumulative\n",
    "arr = np.array([1, 2, 3, 4, 5])\n",
    "\n",
    "print(np.clip(arr, 2, 4))  # Limit values to [2, 4]\n",
    "print(np.cumsum(arr))      # Cumulative sum\n",
    "print(np.cumprod(arr))     # Cumulative product"
   ]
  },
  {
   "cell_type": "markdown",
   "id": "1567c75e-5735-4948-910b-cd297351afae",
   "metadata": {},
   "source": [
    "# Splitting Arrays in NumPy\n",
    "Splitting means dividing an array into multiple sub-arrays.\n",
    "\n",
    "Functions for Splitting\n",
    "| Function         | Description                                |\n",
    "|------------------|--------------------------------------------|\n",
    "| `np.split()`     | Split equally along an axis                |\n",
    "| `np.array_split()` | Split **unequally** along an axis        |\n",
    "| `np.hsplit()`    | Split **horizontally** (column-wise)       |\n",
    "| `np.vsplit()`    | Split **vertically** (row-wise)            |\n",
    "| `np.dsplit()`    | Split along **depth** (for 3D arrays)      |"
   ]
  },
  {
   "cell_type": "code",
   "execution_count": 10,
   "id": "0eaa0628-4a68-4ac0-9de5-0879e0df89a8",
   "metadata": {},
   "outputs": [
    {
     "name": "stdout",
     "output_type": "stream",
     "text": [
      "[1 2 3 4 5 6 7 8]\n",
      "[array([1, 2]), array([3, 4]), array([5, 6]), array([7, 8])]\n"
     ]
    }
   ],
   "source": [
    "# 1. np.split(): Equal Split\n",
    "arr = np.array([1,2,3,4, 5,6,7,8])\n",
    "print(arr)\n",
    "\n",
    "print(np.split(arr,4))"
   ]
  },
  {
   "cell_type": "code",
   "execution_count": 11,
   "id": "69bf2a6b-6db4-4882-84e5-052c773474b1",
   "metadata": {},
   "outputs": [
    {
     "data": {
      "text/plain": [
       "[array([1, 2]), array([3, 4]), array([5, 6]), array([7]), array([8])]"
      ]
     },
     "execution_count": 11,
     "metadata": {},
     "output_type": "execute_result"
    }
   ],
   "source": [
    "# 2. Unequal Split Allowed ----> np.array_split()\n",
    "\n",
    "np.array_split(arr, 5)"
   ]
  },
  {
   "cell_type": "code",
   "execution_count": 12,
   "id": "a013680f-cfc7-4674-b529-6684666603e5",
   "metadata": {},
   "outputs": [
    {
     "data": {
      "text/plain": [
       "[array([[1, 2],\n",
       "        [5, 6]]),\n",
       " array([[3, 4],\n",
       "        [7, 8]])]"
      ]
     },
     "execution_count": 12,
     "metadata": {},
     "output_type": "execute_result"
    }
   ],
   "source": [
    "# 3. Horizontal Split (Columns) ----> np.hsplit()\n",
    "arr2d = np.array([[1,2,3,4],\n",
    "                  [5,6,7,8]])\n",
    "\n",
    "np.hsplit(arr2d, 2)"
   ]
  },
  {
   "cell_type": "code",
   "execution_count": 13,
   "id": "480f0689-ba37-4ca7-8712-d7dce1aad525",
   "metadata": {},
   "outputs": [
    {
     "data": {
      "text/plain": [
       "[array([[1, 2, 3, 4]]), array([[5, 6, 7, 8]])]"
      ]
     },
     "execution_count": 13,
     "metadata": {},
     "output_type": "execute_result"
    }
   ],
   "source": [
    "# 4. Vertical Split (Rows) ----> np.vsplit()\n",
    "\n",
    "np.vsplit(arr2d, 2)"
   ]
  },
  {
   "cell_type": "code",
   "execution_count": 14,
   "id": "2010834d-68a3-44fb-b204-021f0e448e23",
   "metadata": {},
   "outputs": [
    {
     "name": "stdout",
     "output_type": "stream",
     "text": [
      "[array([[[0],\n",
      "        [2]],\n",
      "\n",
      "       [[4],\n",
      "        [6]]]), array([[[1],\n",
      "        [3]],\n",
      "\n",
      "       [[5],\n",
      "        [7]]])]\n"
     ]
    }
   ],
   "source": [
    "# 5. Depth Split (3D arrays) ----> np.dsplit()\n",
    "\n",
    "arr3D = np.arange(8).reshape(2, 2, 2)\n",
    "print(np.dsplit(arr3D, 2))"
   ]
  },
  {
   "cell_type": "code",
   "execution_count": 15,
   "id": "ce7d932f-1bd8-4d88-b23d-0be1498ef27c",
   "metadata": {},
   "outputs": [
    {
     "data": {
      "text/plain": [
       "array([[[0, 1],\n",
       "        [2, 3]],\n",
       "\n",
       "       [[4, 5],\n",
       "        [6, 7]]])"
      ]
     },
     "execution_count": 15,
     "metadata": {},
     "output_type": "execute_result"
    }
   ],
   "source": [
    "arr3D"
   ]
  },
  {
   "cell_type": "markdown",
   "id": "357e1a66-e899-4a2f-88fd-4e7b27e970c0",
   "metadata": {},
   "source": [
    "# NumPy Joining Array\n",
    "Joining means combining multiple arrays into a single array.\n",
    "| Function        | Description                   | Adds Axis? |\n",
    "| --------------- | ----------------------------- | ---------- |\n",
    "| `concatenate()` | Join along existing axis      | ❌ No       |\n",
    "| `stack()`       | Join along new axis           | ✅ Yes      |\n",
    "| `hstack()`      | Join along columns            | ❌ No       |\n",
    "| `vstack()`      | Join along rows               | ❌ No       |\n",
    "| `dstack()`      | Join along third axis (depth) | ✅ Yes      |"
   ]
  },
  {
   "cell_type": "code",
   "execution_count": 17,
   "id": "b21bf78f-5915-42bb-b134-0a96806c83f9",
   "metadata": {},
   "outputs": [
    {
     "data": {
      "text/plain": [
       "array([1, 2, 3, 4, 5, 6])"
      ]
     },
     "execution_count": 17,
     "metadata": {},
     "output_type": "execute_result"
    }
   ],
   "source": [
    "# 1. np.concatenate() ---->1D\n",
    "import numpy as np\n",
    "\n",
    "a = np.array([1, 2, 3])\n",
    "b = np.array([4, 5, 6])\n",
    "\n",
    "np.concatenate((a, b))"
   ]
  },
  {
   "cell_type": "code",
   "execution_count": 18,
   "id": "b1bf89c0-ed76-4b80-966a-1bf27fa20583",
   "metadata": {},
   "outputs": [
    {
     "data": {
      "text/plain": [
       "array([[1, 2],\n",
       "       [3, 4],\n",
       "       [5, 6],\n",
       "       [7, 8]])"
      ]
     },
     "execution_count": 18,
     "metadata": {},
     "output_type": "execute_result"
    }
   ],
   "source": [
    "# Concatenate ----> 2D\n",
    "a = np.array([[1, 2], [3, 4]])\n",
    "b = np.array([[5, 6], [7,8]])\n",
    "\n",
    "np.concatenate((a, b), axis=0)\n",
    "# Vertical join: shape becomes (3, 2)\n"
   ]
  },
  {
   "cell_type": "code",
   "execution_count": 19,
   "id": "2a14365d-ea83-4222-abe4-31d599e56e3f",
   "metadata": {},
   "outputs": [
    {
     "name": "stdout",
     "output_type": "stream",
     "text": [
      "[[1 2 3]\n",
      " [4 5 6]]\n",
      "---------------\n",
      "[[1 4]\n",
      " [2 5]\n",
      " [3 6]]\n"
     ]
    }
   ],
   "source": [
    "# 2. np.stack()\n",
    "\n",
    "a = np.array([1, 2, 3])\n",
    "b = np.array([4, 5, 6])\n",
    "\n",
    "print(np.stack((a, b), axis=0))\n",
    "print('-'* 15)\n",
    "print(np.stack((a, b), axis=1))\n",
    "\n",
    "# Transformed to higher dimentions."
   ]
  },
  {
   "cell_type": "code",
   "execution_count": 20,
   "id": "2ca5735d-03b0-4995-90b4-2acf9d7b18b4",
   "metadata": {},
   "outputs": [
    {
     "data": {
      "text/plain": [
       "array([1, 2, 3, 4, 5, 6])"
      ]
     },
     "execution_count": 20,
     "metadata": {},
     "output_type": "execute_result"
    }
   ],
   "source": [
    "# 3. Horizontal Stack ------> np.hstack()\n",
    "\n",
    "np.hstack((a,b))"
   ]
  },
  {
   "cell_type": "code",
   "execution_count": 21,
   "id": "f38c3368-f7e5-44e2-873e-aa61b344a114",
   "metadata": {},
   "outputs": [
    {
     "data": {
      "text/plain": [
       "array([[1, 3],\n",
       "       [2, 4]])"
      ]
     },
     "execution_count": 21,
     "metadata": {},
     "output_type": "execute_result"
    }
   ],
   "source": [
    "# 2D\n",
    "a = np.array([[1], [2]])\n",
    "b = np.array([[3], [4]])\n",
    "\n",
    "np.hstack((a, b))"
   ]
  },
  {
   "cell_type": "code",
   "execution_count": 22,
   "id": "bdda3019-e7b5-4d11-bb56-6a71443d2813",
   "metadata": {},
   "outputs": [
    {
     "data": {
      "text/plain": [
       "array([[1, 2, 3],\n",
       "       [4, 5, 6]])"
      ]
     },
     "execution_count": 22,
     "metadata": {},
     "output_type": "execute_result"
    }
   ],
   "source": [
    "# 4. Vertical Stack ----> np.vstack()\n",
    "\n",
    "a = np.array([1, 2, 3])\n",
    "b = np.array([4, 5, 6])\n",
    "\n",
    "np.vstack((a, b))"
   ]
  },
  {
   "cell_type": "code",
   "execution_count": 23,
   "id": "3de4c674-eb86-45c4-84b9-af204d489e9c",
   "metadata": {},
   "outputs": [
    {
     "data": {
      "text/plain": [
       "array([[[1, 4],\n",
       "        [2, 5],\n",
       "        [3, 6]]])"
      ]
     },
     "execution_count": 23,
     "metadata": {},
     "output_type": "execute_result"
    }
   ],
   "source": [
    "# 5. Depth Stack (for 3D arrays) -----> np.dstack()\n",
    "\n",
    "a = np.array([1, 2, 3])\n",
    "b = np.array([4, 5, 6])\n",
    "\n",
    "np.dstack((a, b))"
   ]
  },
  {
   "cell_type": "markdown",
   "id": "faa95587-6fc2-4e31-965a-fee39b7e1d28",
   "metadata": {},
   "source": [
    "# NumPy Array Indexing\n",
    "Indexing means accessing elements of a NumPy array using indices or conditions.\n",
    "| Type             | Syntax Example           | Purpose                       |\n",
    "| ---------------- | ------------------------ | ----------------------------- |\n",
    "| Basic Indexing   | `arr[2]`                 | Access element at index       |\n",
    "| Slicing          | `arr[1:4]`               | Get a range of values         |\n",
    "| Boolean Indexing | `arr[arr > 10]`          | Filter based on condition     |\n",
    "| Fancy Indexing   | `arr[[0, 2, 4]]`         | Access elements by index list |\n",
    "| 2D Indexing      | `arr[1, 2]`, `arr[1][2]` | Access specific rows/cols     |\n",
    "| `np.where()`     | `np.where(arr > 10)`     | Conditional selection         |"
   ]
  },
  {
   "cell_type": "code",
   "execution_count": 25,
   "id": "067ef22f-c589-4419-8e55-c5a2139dd8b7",
   "metadata": {},
   "outputs": [
    {
     "name": "stdout",
     "output_type": "stream",
     "text": [
      "10\n",
      "50\n"
     ]
    }
   ],
   "source": [
    "# 1. Basic Indexing (1D Arrays)\n",
    "\n",
    "arr = np.array([10, 20, 30, 40, 50])\n",
    "print(arr[0])     # 1st element\n",
    "print(arr[-1])    # last element"
   ]
  },
  {
   "cell_type": "code",
   "execution_count": 26,
   "id": "68d0fc5a-9c8e-49d5-929c-8167ef6f0e84",
   "metadata": {},
   "outputs": [
    {
     "name": "stdout",
     "output_type": "stream",
     "text": [
      "2\n",
      "6\n"
     ]
    }
   ],
   "source": [
    "# 2. Indexing in 2D Arrays\n",
    "\n",
    "arr2d = np.array([[1, 2, 3],\n",
    "                  [4, 5, 6]])\n",
    "\n",
    "print(arr2d[0, 1])   # Row 0, col 1\n",
    "print(arr2d[1, 2])   # Row 1, col 2"
   ]
  },
  {
   "cell_type": "code",
   "execution_count": 27,
   "id": "48290842-9a02-4a5e-8af9-e6835490a2b1",
   "metadata": {},
   "outputs": [
    {
     "data": {
      "text/plain": [
       "6"
      ]
     },
     "execution_count": 27,
     "metadata": {},
     "output_type": "execute_result"
    }
   ],
   "source": [
    "arr2d[1][2]"
   ]
  },
  {
   "cell_type": "code",
   "execution_count": 28,
   "id": "616a1350-6bec-44d2-832f-005c39dfac61",
   "metadata": {},
   "outputs": [
    {
     "name": "stdout",
     "output_type": "stream",
     "text": [
      "[10 20 30]\n",
      "[ 0 10 20]\n",
      "[ 0 20 40]\n"
     ]
    }
   ],
   "source": [
    "# 3. Slicing\n",
    "\n",
    "arr = np.array([0, 10, 20, 30, 40, 50])\n",
    "print(arr[1:4]) # Index no.4 will be excluded.\n",
    "print(arr[:3]) \n",
    "print(arr[::2])"
   ]
  },
  {
   "cell_type": "code",
   "execution_count": 29,
   "id": "f119700d-eadb-44d0-b346-cebb2f3fbdc7",
   "metadata": {},
   "outputs": [
    {
     "data": {
      "text/plain": [
       "array([[20, 30],\n",
       "       [50, 60]])"
      ]
     },
     "execution_count": 29,
     "metadata": {},
     "output_type": "execute_result"
    }
   ],
   "source": [
    "# 2D Slicing\n",
    "\n",
    "arr2d = np.array([[10, 20, 30],\n",
    "                  [40, 50, 60],\n",
    "                  [70, 80, 90]])\n",
    "\n",
    "arr2d[0:2, 1:]"
   ]
  },
  {
   "cell_type": "code",
   "execution_count": 30,
   "id": "697731a5-4d13-4963-bb5e-38b152732702",
   "metadata": {},
   "outputs": [
    {
     "name": "stdout",
     "output_type": "stream",
     "text": [
      "[False False False  True  True]\n",
      "[20 25]\n"
     ]
    }
   ],
   "source": [
    "# 4. Boolean Indexing (Filtering)\n",
    "\n",
    "arr = np.array([5, 10, 15, 20, 25])\n",
    "mask = arr > 15\n",
    "\n",
    "print(mask)\n",
    "print(arr[arr > 15])"
   ]
  },
  {
   "cell_type": "code",
   "execution_count": 31,
   "id": "da0044bf-67fb-4e5c-a994-e72861205ad5",
   "metadata": {},
   "outputs": [
    {
     "data": {
      "text/plain": [
       "array([100, 300, 400])"
      ]
     },
     "execution_count": 31,
     "metadata": {},
     "output_type": "execute_result"
    }
   ],
   "source": [
    "# 5. Fancy Indexing (List of Indices)\n",
    "\n",
    "arr = np.array([100, 200, 300, 400, 500])\n",
    "idx = [0, 2, 3]\n",
    "arr[idx]"
   ]
  },
  {
   "cell_type": "code",
   "execution_count": 32,
   "id": "6d263ac9-e38a-4124-bb86-9696c44dfabd",
   "metadata": {},
   "outputs": [
    {
     "data": {
      "text/plain": [
       "array([100, 300, 400])"
      ]
     },
     "execution_count": 32,
     "metadata": {},
     "output_type": "execute_result"
    }
   ],
   "source": [
    "# Direct\n",
    "arr[[0,2,3]]"
   ]
  },
  {
   "cell_type": "code",
   "execution_count": 33,
   "id": "1a9ff7af-cf5d-44f3-a3cd-2c85b9639a8c",
   "metadata": {},
   "outputs": [
    {
     "name": "stdout",
     "output_type": "stream",
     "text": [
      "[-1 20 -2 40]\n"
     ]
    }
   ],
   "source": [
    "# 6. Advanced ---- Modify Multiple Elements\n",
    "\n",
    "arr = np.array([10, 20, 30, 40])\n",
    "arr[[0, 2]] = [-1, -2]\n",
    "print(arr)  # [-1 20 -2 40]"
   ]
  },
  {
   "cell_type": "code",
   "execution_count": 34,
   "id": "c3dd049b-181e-456b-a732-0245b895df18",
   "metadata": {},
   "outputs": [
    {
     "name": "stdout",
     "output_type": "stream",
     "text": [
      "(array([2, 3], dtype=int64),)\n",
      "[30 40]\n"
     ]
    }
   ],
   "source": [
    "# Use np.where()\n",
    "arr = np.array([10, 20, 30, 40])\n",
    "\n",
    "print(np.where(arr > 25))        # Index Number\n",
    "print(arr[np.where(arr>25)])     # Values"
   ]
  },
  {
   "cell_type": "code",
   "execution_count": 35,
   "id": "1587c5fb-0bbe-4b6a-babb-b1ea0b49df7b",
   "metadata": {},
   "outputs": [
    {
     "data": {
      "text/plain": [
       "array([30, 40])"
      ]
     },
     "execution_count": 35,
     "metadata": {},
     "output_type": "execute_result"
    }
   ],
   "source": [
    "# Multi-Condition Filtering\n",
    "\n",
    "arr = np.array([10, 20, 30, 40, 50])\n",
    "arr[(arr > 20) & (arr < 50)]\n"
   ]
  },
  {
   "cell_type": "markdown",
   "id": "c14523e1-5cdb-41a9-a921-7d71cff6ab00",
   "metadata": {},
   "source": [
    "# NumPy Array Slicing\n",
    "Slicing allows us to extract parts of an array using index ranges.  \n",
    "It uses the syntax: array[start:stop:step]\n",
    "\n",
    "| Expression            | Description                    |\n",
    "| --------------------- | ------------------------------ |\n",
    "| `arr[start:stop]`     | Slice from `start` to `stop-1` |\n",
    "| `arr[:n]`             | First `n` elements             |\n",
    "| `arr[-n:]`            | Last `n` elements              |\n",
    "| `arr[::step]`         | Step through array             |\n",
    "| `arr[::-1]`           | Reverse array                  |\n",
    "| `arr2d[r1:r2, c1:c2]` | 2D slice by rows and columns   |"
   ]
  },
  {
   "cell_type": "code",
   "execution_count": 37,
   "id": "ae8b57e8-4af6-4527-9aa1-38361918e773",
   "metadata": {},
   "outputs": [
    {
     "name": "stdout",
     "output_type": "stream",
     "text": [
      "[20 30 40]\n",
      "[10 20 30]\n",
      "[10 30 50]\n",
      "[60 50 40 30 20 10]\n"
     ]
    }
   ],
   "source": [
    "# 1. 1D Array Slicing – Basics\n",
    "\n",
    "import numpy as np\n",
    "\n",
    "arr = np.array([10, 20, 30, 40, 50, 60])\n",
    "\n",
    "print(arr[1:4])\n",
    "print(arr[:3])\n",
    "print(arr[::2])\n",
    "print(arr[::-1])   #(Reversed)"
   ]
  },
  {
   "cell_type": "code",
   "execution_count": 38,
   "id": "f55c0578-9cc3-4f63-b986-61772e818e2b",
   "metadata": {},
   "outputs": [
    {
     "name": "stdout",
     "output_type": "stream",
     "text": [
      "[[12 13]\n",
      " [22 23]]\n"
     ]
    }
   ],
   "source": [
    "# 2. 2D Array Slicing\n",
    "arr2d = np.array([[11, 12, 13],\n",
    "                  [21, 22, 23],\n",
    "                  [31, 32, 33]])\n",
    "\n",
    "print(arr2d[0:2, 1:3]) "
   ]
  },
  {
   "cell_type": "code",
   "execution_count": 39,
   "id": "91ac9c2b-df3f-4465-8c04-d4bf4a904954",
   "metadata": {},
   "outputs": [
    {
     "data": {
      "text/plain": [
       "array([1, 3, 5])"
      ]
     },
     "execution_count": 39,
     "metadata": {},
     "output_type": "execute_result"
    }
   ],
   "source": [
    "# 3. Slice With Step (Striding)\n",
    "\n",
    "arr = np.array([0, 1, 2, 3, 4, 5, 6, 7])\n",
    "arr[1:7:2]"
   ]
  },
  {
   "cell_type": "code",
   "execution_count": 40,
   "id": "847f997b-fc00-4606-93b5-b5798b0db1e2",
   "metadata": {},
   "outputs": [
    {
     "name": "stdout",
     "output_type": "stream",
     "text": [
      "[[ 0  1  2  3]\n",
      " [ 4  5  6  7]\n",
      " [ 8  9 10 11]\n",
      " [12 13 14 15]] \n",
      "\n"
     ]
    },
    {
     "data": {
      "text/plain": [
       "array([[ 0,  2],\n",
       "       [ 8, 10]])"
      ]
     },
     "execution_count": 40,
     "metadata": {},
     "output_type": "execute_result"
    }
   ],
   "source": [
    "arr2d = np.arange(16).reshape(4, 4)\n",
    "print(arr2d,'\\n')\n",
    "# Take every second row and every second column\n",
    "arr2d[::2, ::2]"
   ]
  },
  {
   "cell_type": "code",
   "execution_count": 41,
   "id": "67f2435f-dbeb-4501-8456-e2c0c8cf8b83",
   "metadata": {},
   "outputs": [
    {
     "data": {
      "text/plain": [
       "array([10, 99, 99, 99, 50])"
      ]
     },
     "execution_count": 41,
     "metadata": {},
     "output_type": "execute_result"
    }
   ],
   "source": [
    "# 4. Modify Arrays Using Slicing\n",
    "\n",
    "arr = np.array([10, 20, 30, 40, 50])\n",
    "arr[1:4] = 99\n",
    "arr"
   ]
  },
  {
   "cell_type": "code",
   "execution_count": 42,
   "id": "6d0b966a-b2ee-413b-90e1-87c9ebd739c8",
   "metadata": {},
   "outputs": [
    {
     "name": "stdout",
     "output_type": "stream",
     "text": [
      "[300 400 500]\n",
      "[200 300 400]\n"
     ]
    }
   ],
   "source": [
    "# 5. Slicing with Negative Indices\n",
    "\n",
    "arr = np.array([100, 200, 300, 400, 500])\n",
    "print(arr[-3:])\n",
    "print(arr[-4:-1])"
   ]
  },
  {
   "cell_type": "code",
   "execution_count": 43,
   "id": "20ae33ae-834e-439b-bd79-4cd9c48f031b",
   "metadata": {},
   "outputs": [
    {
     "data": {
      "text/plain": [
       "array([[ 6,  7],\n",
       "       [10, 11]])"
      ]
     },
     "execution_count": 43,
     "metadata": {},
     "output_type": "execute_result"
    }
   ],
   "source": [
    "# 6. Advanced 2D Slicing Patterns\n",
    "arr2d = np.array([[ 1,  2,  3,  4],\n",
    "                  [ 5,  6,  7,  8],\n",
    "                  [ 9, 10, 11, 12],\n",
    "                  [13, 14, 15, 16]])\n",
    "\n",
    "# Center 2x2 block\n",
    "arr2d[1:3, 1:3]"
   ]
  },
  {
   "cell_type": "code",
   "execution_count": 44,
   "id": "a75c7bcb-4e85-4ec6-b6c3-7baf23655f8f",
   "metadata": {},
   "outputs": [
    {
     "data": {
      "text/plain": [
       "array([[ 1,  4],\n",
       "       [ 5,  8],\n",
       "       [ 9, 12],\n",
       "       [13, 16]])"
      ]
     },
     "execution_count": 44,
     "metadata": {},
     "output_type": "execute_result"
    }
   ],
   "source": [
    "# Extract border\n",
    "arr2d[:, [0, -1]]"
   ]
  },
  {
   "cell_type": "markdown",
   "id": "c8230a92-c29b-4aa5-9650-e5663e5f536c",
   "metadata": {},
   "source": [
    "# NumPy Array Iterating"
   ]
  },
  {
   "cell_type": "code",
   "execution_count": 46,
   "id": "758865de-7870-4134-b3ae-32f4ab7667dc",
   "metadata": {},
   "outputs": [
    {
     "name": "stdout",
     "output_type": "stream",
     "text": [
      "10\n",
      "20\n",
      "30\n"
     ]
    }
   ],
   "source": [
    "# 1. Iterating 1D Arrays (Basic)\n",
    "arr = np.array([10, 20, 30])\n",
    "\n",
    "for x in arr:\n",
    "    print(x)"
   ]
  },
  {
   "cell_type": "code",
   "execution_count": 47,
   "id": "05b7d43e-676b-4ab6-b9b8-b37be464a5f3",
   "metadata": {},
   "outputs": [
    {
     "name": "stdout",
     "output_type": "stream",
     "text": [
      "Row: [1 2]\n",
      "Value: 1\n",
      "Value: 2\n",
      "Row: [3 4]\n",
      "Value: 3\n",
      "Value: 4\n"
     ]
    }
   ],
   "source": [
    "# 2. Iterating 2D Arrays\n",
    "arr2d = np.array([[1, 2], [3, 4]])\n",
    "\n",
    "for row in arr2d:\n",
    "    print(\"Row:\", row)\n",
    "    for val in row:\n",
    "        print(\"Value:\", val)"
   ]
  },
  {
   "cell_type": "code",
   "execution_count": 48,
   "id": "872091d2-a5bf-4cf9-add8-947c81156e57",
   "metadata": {},
   "outputs": [
    {
     "name": "stdout",
     "output_type": "stream",
     "text": [
      "1\n",
      "2\n",
      "3\n",
      "4\n"
     ]
    }
   ],
   "source": [
    "for row in arr2d:\n",
    "    for val in row:\n",
    "        print(val)"
   ]
  },
  {
   "cell_type": "code",
   "execution_count": 49,
   "id": "af29dd48-84e5-4096-89d5-f8e1674e2148",
   "metadata": {},
   "outputs": [
    {
     "name": "stdout",
     "output_type": "stream",
     "text": [
      "1\n",
      "2\n",
      "3\n",
      "4\n",
      "5\n",
      "6\n",
      "7\n",
      "8\n"
     ]
    }
   ],
   "source": [
    "# 3. Iterating 3D Arrays\n",
    "arr3d = np.array([[[1, 2], [3, 4]],\n",
    "                  [[5, 6], [7, 8]]])\n",
    "\n",
    "for block in arr3d:\n",
    "    for row in block:\n",
    "        for val in row:\n",
    "            print(val)"
   ]
  },
  {
   "cell_type": "code",
   "execution_count": 50,
   "id": "54a01bbd-ee31-4f5f-aad4-0234c4155850",
   "metadata": {},
   "outputs": [
    {
     "name": "stdout",
     "output_type": "stream",
     "text": [
      "1\n",
      "2\n",
      "3\n",
      "4\n"
     ]
    }
   ],
   "source": [
    "# 4. Efficient Element-wise Iteration\n",
    "# np.nditer() lets iterate over every element, regardless of dimensions.\n",
    "\n",
    "arr = np.array([[1, 2], [3, 4]])\n",
    "\n",
    "for x in np.nditer(arr):\n",
    "    print(x)"
   ]
  },
  {
   "cell_type": "code",
   "execution_count": 51,
   "id": "fd323a15-3353-45ea-bf66-076d09c182a3",
   "metadata": {},
   "outputs": [
    {
     "name": "stdout",
     "output_type": "stream",
     "text": [
      "[[10 20]\n",
      " [30 40]]\n"
     ]
    }
   ],
   "source": [
    "# Add write access:\n",
    "arr = np.array([[1, 2], [3, 4]])\n",
    "\n",
    "for x in np.nditer(arr, op_flags=['readwrite']):\n",
    "    x[...] = x * 10  # Modify in-place\n",
    "\n",
    "print(arr)  # [[10 20]\n",
    "            #  [30 40]]"
   ]
  },
  {
   "cell_type": "code",
   "execution_count": 52,
   "id": "e016c779-8631-4ae5-bda9-9fb3c2c973fe",
   "metadata": {},
   "outputs": [
    {
     "name": "stdout",
     "output_type": "stream",
     "text": [
      "b'1'\n",
      "b'2'\n",
      "b'3'\n",
      "b'4'\n"
     ]
    }
   ],
   "source": [
    "# 5. Iterating With Data Type Control\n",
    "\n",
    "arr = np.array([[1, 2], [3, 4]])\n",
    "\n",
    "for x in np.nditer(arr, flags=['buffered'], op_dtypes=['S']):\n",
    "    print(x)"
   ]
  },
  {
   "cell_type": "code",
   "execution_count": 53,
   "id": "33507f3b-dcfe-4fc5-8276-d891b137ebd0",
   "metadata": {},
   "outputs": [
    {
     "name": "stdout",
     "output_type": "stream",
     "text": [
      "Index: (0, 0) Value: 10\n",
      "Index: (0, 1) Value: 20\n",
      "Index: (1, 0) Value: 30\n",
      "Index: (1, 1) Value: 40\n"
     ]
    }
   ],
   "source": [
    "# 6. Using np.ndenumerate() – Get Index + Value\n",
    "arr = np.array([[10, 20], [30, 40]])\n",
    "\n",
    "for index, val in np.ndenumerate(arr):\n",
    "    print(\"Index:\", index, \"Value:\", val)\n"
   ]
  },
  {
   "cell_type": "code",
   "execution_count": null,
   "id": "c33aad9e-3905-480b-b738-32180c895692",
   "metadata": {},
   "outputs": [],
   "source": []
  }
 ],
 "metadata": {
  "kernelspec": {
   "display_name": "Python [conda env:base] *",
   "language": "python",
   "name": "conda-base-py"
  },
  "language_info": {
   "codemirror_mode": {
    "name": "ipython",
    "version": 3
   },
   "file_extension": ".py",
   "mimetype": "text/x-python",
   "name": "python",
   "nbconvert_exporter": "python",
   "pygments_lexer": "ipython3",
   "version": "3.12.7"
  }
 },
 "nbformat": 4,
 "nbformat_minor": 5
}
