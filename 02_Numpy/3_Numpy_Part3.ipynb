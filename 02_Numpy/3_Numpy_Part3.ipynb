{
 "cells": [
  {
   "cell_type": "markdown",
   "id": "fda7ba63-d22b-4cd7-a57d-1d3d31d771a7",
   "metadata": {},
   "source": [
    "# Ways to Handle Missing Values in NumPy  \n",
    "np.nan (Not a Number) is a special floating-point value. So the array must be of dtype=float to accommodate it."
   ]
  },
  {
   "cell_type": "code",
   "execution_count": 2,
   "id": "ffe94b1a-0e74-4d75-9332-bd36787fbf8d",
   "metadata": {},
   "outputs": [
    {
     "data": {
      "text/plain": [
       "array([1. , 2.5, nan, 4.5])"
      ]
     },
     "execution_count": 2,
     "metadata": {},
     "output_type": "execute_result"
    }
   ],
   "source": [
    "# 1. Using np.nan for Missing Values\n",
    "import numpy as np\n",
    "\n",
    "arr = np.array([1.0, 2.5, np.nan, 4.5])\n",
    "arr"
   ]
  },
  {
   "cell_type": "code",
   "execution_count": 3,
   "id": "3260d7a6-e040-407e-9004-3a7b03a498bd",
   "metadata": {},
   "outputs": [
    {
     "data": {
      "text/plain": [
       "array([False, False,  True, False])"
      ]
     },
     "execution_count": 3,
     "metadata": {},
     "output_type": "execute_result"
    }
   ],
   "source": [
    "# 2. Detect Missing Values\n",
    "np.isnan(arr)"
   ]
  },
  {
   "cell_type": "code",
   "execution_count": 4,
   "id": "424733a3-5bb1-4d87-9cd2-75861b80e570",
   "metadata": {},
   "outputs": [
    {
     "data": {
      "text/plain": [
       "array([1. , 2.5, 4.5])"
      ]
     },
     "execution_count": 4,
     "metadata": {},
     "output_type": "execute_result"
    }
   ],
   "source": [
    "# 3. Remove Missing Values\n",
    "arr_clean = arr[~np.isnan(arr)]\n",
    "arr_clean"
   ]
  },
  {
   "cell_type": "code",
   "execution_count": 5,
   "id": "1f7c2b32-7d78-44c6-bdd6-a75914c5d9e3",
   "metadata": {},
   "outputs": [
    {
     "data": {
      "text/plain": [
       "8.0"
      ]
     },
     "execution_count": 5,
     "metadata": {},
     "output_type": "execute_result"
    }
   ],
   "source": [
    "# 4. Ignore NaNs in Calculations (use nan-safe functions)\n",
    "\n",
    "np.nanmean(arr)   # Mean ignoring NaN\n",
    "np.nanstd(arr)    # Std dev ignoring NaN\n",
    "np.nansum(arr)    # Sum ignoring NaN"
   ]
  },
  {
   "cell_type": "code",
   "execution_count": 6,
   "id": "a289a1ad-fa0e-4854-9a81-a9e063bb5c98",
   "metadata": {},
   "outputs": [
    {
     "data": {
      "text/plain": [
       "array([1. , 2.5, 0. , 4.5])"
      ]
     },
     "execution_count": 6,
     "metadata": {},
     "output_type": "execute_result"
    }
   ],
   "source": [
    "# 5. Replace NaNs with a Specific Value\n",
    "arr_filled = np.nan_to_num(arr, nan=0)\n",
    "arr_filled"
   ]
  },
  {
   "cell_type": "code",
   "execution_count": 7,
   "id": "4a6a7a6f-7737-412b-9c35-5c5c766aad23",
   "metadata": {},
   "outputs": [
    {
     "data": {
      "text/plain": [
       "array([ 1. ,  2.5, 99. ,  4.5])"
      ]
     },
     "execution_count": 7,
     "metadata": {},
     "output_type": "execute_result"
    }
   ],
   "source": [
    "# Another Way\n",
    "arr[np.isnan(arr)] = 99\n",
    "arr"
   ]
  },
  {
   "cell_type": "code",
   "execution_count": null,
   "id": "dea05231-c28c-47dd-9b88-46059a2c619c",
   "metadata": {},
   "outputs": [],
   "source": []
  },
  {
   "cell_type": "code",
   "execution_count": null,
   "id": "d18213f8-ca49-4a38-b1bb-25bc663f8067",
   "metadata": {},
   "outputs": [],
   "source": []
  }
 ],
 "metadata": {
  "kernelspec": {
   "display_name": "Python [conda env:base] *",
   "language": "python",
   "name": "conda-base-py"
  },
  "language_info": {
   "codemirror_mode": {
    "name": "ipython",
    "version": 3
   },
   "file_extension": ".py",
   "mimetype": "text/x-python",
   "name": "python",
   "nbconvert_exporter": "python",
   "pygments_lexer": "ipython3",
   "version": "3.12.7"
  }
 },
 "nbformat": 4,
 "nbformat_minor": 5
}
