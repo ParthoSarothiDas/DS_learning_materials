{
 "cells": [
  {
   "cell_type": "markdown",
   "id": "a7c073ce-a696-4a5e-a087-458cfd36f24e",
   "metadata": {},
   "source": [
    "#  Data Science Learning Journey  \n",
    "*Curiosity to Capability — One Notebook at a Time*\n",
    "\n",
    "---\n",
    "Compiled and authored by **Partho Sarothi Das**   \n",
    "\tDhaka, Bangladesh  \n",
    "\tBachelor's & Master's in Statistics  \n",
    "\tInvestment Banking Professional → Aspiring Data Scientist \n",
    "    \n",
    "---"
   ]
  },
  {
   "cell_type": "markdown",
   "id": "bd11b420-d7d2-468d-adad-b0cf47789566",
   "metadata": {},
   "source": [
    "# Subquery"
   ]
  },
  {
   "cell_type": "markdown",
   "id": "435b5788-0bcc-4fab-b089-b7fbd8d3f26a",
   "metadata": {},
   "source": [
    "### Definition:\n",
    "\n",
    "In SQL, subqueries (also called *nested queries* or *inner queries*) are queries written **inside another SQL statement**. They can be used in various ways depending on their **position**, **return type**, and **correlation** with the outer query.\n",
    "\n",
    "\n",
    "## Types of Subqueries in SQL\n",
    "\n",
    "### 1. Based on Position in SQL\n",
    "\n",
    "| Type                | Description                                                                         | Example                                                                                                                             |\n",
    "| ------------------- | ----------------------------------------------------------------------------------- | ----------------------------------------------------------------------------------------------------------------------------------- |\n",
    "| **Scalar Subquery** | Returns **a single value** (one row, one column)                                    | `SELECT name FROM users WHERE id = (SELECT MAX(user_id) FROM orders)`                                                               |\n",
    "| **Column Subquery** | Returns **a single column** with **multiple rows**                                  | `SELECT name FROM users WHERE id IN (SELECT user_id FROM orders)`                                                                   |\n",
    "| **Row Subquery**    | Returns **a single row with multiple columns**                                      | `SELECT * FROM employees WHERE (department_id, salary) = (SELECT department_id, MAX(salary) FROM employees GROUP BY department_id)` |\n",
    "| **Table Subquery**  | Returns **multiple rows and columns**, used in `FROM` clause like a temporary table | `SELECT avg_salary FROM (SELECT department_id, AVG(salary) AS avg_salary FROM employees GROUP BY department_id) AS dept_avg`        |\n",
    "\n",
    "---\n",
    "\n",
    "### 2. Based on Correlation\n",
    "\n",
    "| Type                        | Description                                    | Example                                                                                      |\n",
    "| --------------------------- | ---------------------------------------------- | -------------------------------------------------------------------------------------------- |\n",
    "| **Non-Correlated Subquery** | Does **not depend** on outer query             | `SELECT name FROM users WHERE age > (SELECT AVG(age) FROM users)`                            |\n",
    "| **Correlated Subquery**     | **Depends** on outer query’s row-by-row values | `SELECT name FROM users U WHERE EXISTS (SELECT 1 FROM orders O WHERE O.user_id = U.user_id)` |\n",
    "\n",
    "---\n",
    "\n",
    "### 3. Based on Location in Main Query\n",
    "\n",
    "| Location        | Example                                                                                                                                                                             |\n",
    "| --------------- | ----------------------------------------------------------------------------------------------------------------------------------------------------------------------------------- |\n",
    "| **In `SELECT`** | `SELECT name, (SELECT COUNT(*) FROM orders WHERE user_id = users.id) AS order_count FROM users`                                                                                     |\n",
    "| **In `FROM`**   | `SELECT * FROM (SELECT * FROM orders WHERE amount > 1000) AS big_orders`                                                                                                            |\n",
    "| **In `WHERE`**  | `SELECT name FROM users WHERE id IN (SELECT user_id FROM orders)`                                                                                                                   |\n",
    "| **In `HAVING`** | `SELECT user_id, COUNT(*) FROM orders GROUP BY user_id HAVING COUNT(*) > (SELECT AVG(order_count) FROM (SELECT COUNT(*) AS order_count FROM orders GROUP BY user_id) AS avg_table)` |\n",
    "\n",
    "---"
   ]
  },
  {
   "cell_type": "markdown",
   "id": "b7de7441-2542-49a3-88a7-d9c47cd50f4c",
   "metadata": {},
   "source": [
    "### Example\n",
    "*Find the highest score movie from movies table*\n",
    "\n",
    "```sql\n",
    "SELECT * FROM partho.movies\n",
    "WHERE score = (SELECT MAX(score) FROM partho.movies)\n",
    "```"
   ]
  },
  {
   "cell_type": "markdown",
   "id": "bc30a62b-2235-4ffe-a0d9-a51dfc444910",
   "metadata": {},
   "source": [
    "# Independent Subquery - Scalar Subquery"
   ]
  },
  {
   "cell_type": "markdown",
   "id": "ce9c2729-4382-45dc-b5d6-61d5ffd23211",
   "metadata": {},
   "source": [
    "*1. Find the movie with highest profit (vs order by)*\n",
    "\n",
    "```sql\n",
    "SELECT * FROM partho.movies\n",
    "WHERE (gross - budget) = (SELECT MAX(gross - budget) FROM partho.movies)\n",
    "```"
   ]
  },
  {
   "cell_type": "markdown",
   "id": "6d841596-c581-46e6-9ecf-11970880c20d",
   "metadata": {},
   "source": [
    "*2. Find how many movies have a rating > the avg of all the movie ratings (Find the count of above average movies)*\n",
    "\n",
    "```sql\n",
    "SELECT COUNT(*) FROM partho.movies\n",
    "WHERE score > (SELECT AVG(score) FROM partho.movies)\n",
    "```"
   ]
  },
  {
   "cell_type": "markdown",
   "id": "c897b59d-f305-43ad-b038-0b35eba07785",
   "metadata": {},
   "source": [
    "*3. Find the highest rated movie of 2000*\n",
    "\n",
    "```sql\n",
    "SELECT * FROM partho.movies\n",
    "WHERE year = 2000 AND score = (SELECT  MAX(score) FROM partho.movies \n",
    "\t\t\t\tWHERE year=2000)\n",
    "```"
   ]
  },
  {
   "cell_type": "markdown",
   "id": "4a943e92-b156-4471-9186-2458b6dd0c09",
   "metadata": {},
   "source": [
    "*4. Find the highest rated movie among all movies whose number of votes are > the dataset avg votes*\n",
    "\n",
    "```sql\n",
    "SELECT * FROM partho.movies\n",
    " WHERE score = (SELECT MAX(score) FROM partho.movies\n",
    "\t\t\t\t\tWHERE votes > (SELECT AVG(votes) FROM partho.movies))\n",
    "```"
   ]
  },
  {
   "cell_type": "markdown",
   "id": "adb9e014-2e99-4843-a3bd-3590890a2182",
   "metadata": {},
   "source": [
    "# Independent Subquery - Row Subquery (One Col Multi Rows)"
   ]
  },
  {
   "cell_type": "markdown",
   "id": "79e682b7-c25d-4ff5-8ecf-7aabec828612",
   "metadata": {},
   "source": [
    "1. Find all users who never ordered\n",
    "\n",
    "```sql\n",
    "SELECT * FROM zomato.users\n",
    "WHERE user_id NOT IN (SELECT DISTINCT(user_id) FROM zomato.orders)\n",
    "```"
   ]
  },
  {
   "cell_type": "markdown",
   "id": "32e1b872-33fa-4933-9e9e-d290a9494aa9",
   "metadata": {},
   "source": [
    "2. Find all the movies made by top 3 directors (in terms of total gross income)\n",
    "\n",
    "```sql\n",
    "with top_directors AS (SELECT director FROM partho.movies\n",
    "\t\t\t\t\tGROUP BY director\n",
    "\t\t\t\t\tORDER BY SUM(gross) DESC LIMIT 3)\n",
    "\n",
    "SELECT * FROM partho.movies\n",
    "WHERE director IN (SELECT * FROM top_directors)\n",
    "```"
   ]
  },
  {
   "cell_type": "markdown",
   "id": "be1c1ddd-5b60-4a82-a07d-09d660b65745",
   "metadata": {},
   "source": [
    "3. Find all movies of all those actors whose filmography's avg rating > 8.5 (take 25000 votes as cutoff)\n",
    "\n",
    "```sql\n",
    "SELECT * FROM partho.movies\n",
    "WHERE star IN (SELECT star FROM partho.movies\n",
    "\t\t\t\tWHERE votes> 25000\n",
    "\t\t\t\tGROUP BY star\n",
    "\t\t\t\tHAVING AVG(score)> 8.5)\n",
    "```"
   ]
  },
  {
   "cell_type": "markdown",
   "id": "31fd1fb8-cd07-40b7-ac52-21a8c80c2d69",
   "metadata": {},
   "source": [
    "# Independent Subquery - Table Subquery (Multi Col Multi Rows)"
   ]
  },
  {
   "cell_type": "markdown",
   "id": "f51e9e1b-5e5b-4537-ba96-97315d761222",
   "metadata": {},
   "source": [
    "*1. Find the most profitable movie of each year.*\n",
    "\n",
    "```sql\n",
    "SELECT * FROM partho.movies\n",
    "WHERE (year, gross-budget) IN (SELECT year, MAX(gross-budget) \n",
    "\t\t\t\t\t\t\t\tFROM partho.movies\n",
    "\t\t\t\t\t\t\t\tGROUP BY year)\n",
    "```"
   ]
  },
  {
   "cell_type": "markdown",
   "id": "79c872d9-7c8c-4f97-809c-39f339fcc995",
   "metadata": {},
   "source": [
    "*2. Find the highest rated movie of each genre votes cutoff of 25000*\n",
    "\n",
    "```sql\n",
    "SELECT * FROM partho.movies\n",
    "WHERE (genre, score) IN (SELECT genre, MAX(score) FROM partho.movies\n",
    "\t\t\t\t\t\t\t\tWHERE votes > 25000\n",
    "\t\t\t\t\t\t\t\tGROUP BY genre) \n",
    "AND votes> 25000\n",
    "```"
   ]
  },
  {
   "cell_type": "markdown",
   "id": "a78a5710-04b8-4142-9e27-346a17a490da",
   "metadata": {},
   "source": [
    "*3. Find the highest grossing movies of top 5 actor/director combo in terms of total gross income.*\n",
    "\n",
    "```sql\n",
    "WITH top_duos AS(\n",
    "\tSELECT star, director, MAX(gross) \n",
    "\tFROM partho.movies\n",
    "\tGROUP BY star, director\n",
    "\tORDER BY SUM(gross) DESC LIMIT 5\n",
    ")\n",
    "SELECT * FROM partho.movies\n",
    "WHERE (star,director, gross) IN (SELECT * FROM top_duos)\n",
    "```"
   ]
  },
  {
   "cell_type": "markdown",
   "id": "bb01a977-a763-46c9-aa4d-4382de029e6b",
   "metadata": {},
   "source": [
    "# Correlated Subquery"
   ]
  },
  {
   "cell_type": "markdown",
   "id": "891cd33f-68e3-4bfe-b606-748327aabd43",
   "metadata": {},
   "source": [
    "*1. Find all the movies that have a rating higher than the average rating of movies in the same genre.*\n",
    "\n",
    "```sql\n",
    "SELECT * FROM partho.movies M1\n",
    "WHERE score > (SELECT AVG(score) FROM partho.movies M2\n",
    "\t\t\t\tWHERE M1.genre = M2.genre)\n",
    "```"
   ]
  },
  {
   "cell_type": "markdown",
   "id": "4bad1241-ad52-472c-ae0c-ba68c4a7edd3",
   "metadata": {},
   "source": [
    "*2. Find the favorite food of each customer.*\n",
    "\n",
    "```sql\n",
    "WITH fav_food AS(\n",
    "\tSELECT T2.user_id, T1.name, T4.f_name, COUNT(*) AS 'frequency'\n",
    "\tFROM zomato.users T1\n",
    "\tJOIN zomato.orders T2 ON T1.user_id = T2.user_id\n",
    "\tJOIN zomato.order_details T3 ON T2.order_id = T3.order_id\n",
    "\tJOIN zomato.food T4 ON T3.f_id = T4.f_id\n",
    "\tGROUP BY T2.user_id, T1.name, T4.f_name\n",
    ")\n",
    "SELECT * FROM fav_food\n",
    "WHERE frequency = (SELECT MAX(frequency))\t\n",
    "```"
   ]
  },
  {
   "cell_type": "markdown",
   "id": "10273111-37b9-4a09-94b3-c8d4e3aa529e",
   "metadata": {},
   "source": [
    "# Usage with SELECT"
   ]
  },
  {
   "cell_type": "markdown",
   "id": "3b14207f-6348-4f73-9383-b0ad213b5964",
   "metadata": {},
   "source": [
    "*1. Get the percentage of votes for each movie compared of the total number of votes.*\n",
    "\n",
    "```sql\n",
    "SELECT name, votes*100/(SELECT SUM(votes) FROM partho.movies) FROM partho.movies\n",
    "```"
   ]
  },
  {
   "cell_type": "markdown",
   "id": "efc4a653-8ece-4386-8160-97b02fcbc35f",
   "metadata": {},
   "source": [
    "*2. Display all movie names, genre, score, and AVG(score) of genre*\n",
    "\n",
    "```sql\n",
    "SELECT name, genre, score,\n",
    "(SELECT AVG(score) FROM partho.movies M2 WHERE M1.genre=M2.genre)\n",
    "FROM partho.movies M1\n",
    "```"
   ]
  },
  {
   "cell_type": "markdown",
   "id": "9e7ce716-8a28-49dc-be04-72315ffca557",
   "metadata": {},
   "source": [
    "*1. Display average rating of all the restaurants.*\n",
    "\n",
    "```sql\n",
    "SELECT r_name, AVG(restaurant_rating) AS 'avg_ratings'\n",
    "FROM zomato.orders T1\n",
    "JOIN zomato.restaurants T2\n",
    "ON T1.r_id = T2.r_id\n",
    "GROUP BY r_name\n",
    "```"
   ]
  },
  {
   "cell_type": "markdown",
   "id": "3a8c825e-0d52-49e1-b09d-e749f2c5822d",
   "metadata": {},
   "source": [
    "# Usage with having"
   ]
  },
  {
   "cell_type": "markdown",
   "id": "cf74f351-b4f0-46de-bda7-17f3f58b5221",
   "metadata": {},
   "source": [
    "*1. Find genres having avg score>avg score of all the movies*\n",
    "\n",
    "```sql\n",
    "SELECT genre, AVG(score) \n",
    "FROM partho.movies\n",
    "GROUP BY genre\n",
    "HAVING AVG(score) > (SELECT AVG(score) FROM partho.movies)\n",
    "```"
   ]
  },
  {
   "cell_type": "markdown",
   "id": "ffae6433-2fc5-4325-92a2-c210c1a286d3",
   "metadata": {},
   "source": [
    "# Subquery in INSERT"
   ]
  },
  {
   "cell_type": "markdown",
   "id": "31934069-82bc-472d-be1d-36e6711eac9c",
   "metadata": {},
   "source": [
    "*1. Populate a already created loyal_customers table with records of only those customers who have ordered food more than 3 times.*\n",
    "\n",
    "```sql\n",
    "INSERT INTO zomato.loyal_customers\n",
    "(user_id, name)\n",
    "SELECT T1.user_id, T2.name \n",
    "FROM zomato.orders T1\n",
    "JOIN zomato.users T2 ON T1.user_id = T2.user_id\n",
    "GROUP BY T1.user_id, T2.name\n",
    "HAVING COUNT(*) > 3\n",
    "```"
   ]
  },
  {
   "cell_type": "markdown",
   "id": "e5f76e1f-6dd1-44ec-812c-3fc1b76382e8",
   "metadata": {},
   "source": [
    "# Subquery in UPDATE"
   ]
  },
  {
   "cell_type": "markdown",
   "id": "30b62d6e-9ef9-4085-9790-2535c4be7325",
   "metadata": {},
   "source": [
    "*1. Populate the money col of loyal_customer table using the orders table. Provide a 10% app money to all customers based on their order value.*\n",
    "\n",
    "```sql\n",
    "UPDATE zomato.loyal_customers LC\n",
    "JOIN (\n",
    "    SELECT user_id, SUM(amount) * 0.1 AS cashback\n",
    "    FROM zomato.orders\n",
    "    GROUP BY user_id\n",
    ") AS sub ON LC.user_id = sub.user_id\n",
    "SET LC.money = sub.cashback;\n",
    "```"
   ]
  },
  {
   "cell_type": "markdown",
   "id": "684973de-2285-4ea3-b6ff-5c611ea5982b",
   "metadata": {},
   "source": [
    "# Subquery in DELETE"
   ]
  },
  {
   "cell_type": "markdown",
   "id": "afd5aa4a-58bc-4785-9335-04da54280015",
   "metadata": {},
   "source": [
    "*1. Delete all the customers record who have never ordered.*\n",
    "\n",
    "``` sql\n",
    "DELETE FROM zomato.users\n",
    "WHERE user_id IN (SELECT user_id FROM (\n",
    "        SELECT user_id FROM zomato.users\n",
    "        WHERE user_id NOT IN (\n",
    "            SELECT DISTINCT user_id FROM zomato.orders\n",
    "        )\n",
    "    ) AS temp\n",
    ");\n",
    "```"
   ]
  },
  {
   "cell_type": "markdown",
   "id": "460f67de-e678-4f81-ad76-048e722d7386",
   "metadata": {},
   "source": []
  }
 ],
 "metadata": {
  "kernelspec": {
   "display_name": "Python [conda env:base] *",
   "language": "python",
   "name": "conda-base-py"
  },
  "language_info": {
   "codemirror_mode": {
    "name": "ipython",
    "version": 3
   },
   "file_extension": ".py",
   "mimetype": "text/x-python",
   "name": "python",
   "nbconvert_exporter": "python",
   "pygments_lexer": "ipython3",
   "version": "3.12.7"
  }
 },
 "nbformat": 4,
 "nbformat_minor": 5
}
