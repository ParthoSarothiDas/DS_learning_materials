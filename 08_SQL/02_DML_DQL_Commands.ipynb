{
 "cells": [
  {
   "cell_type": "markdown",
   "id": "c033160d-fd8c-4d3d-b44c-fc618cf55c9f",
   "metadata": {},
   "source": [
    "#  Data Science Learning Journey  \n",
    "*Curiosity to Capability — One Notebook at a Time*\n",
    "\n",
    "---\n",
    "Compiled and authored by **Partho Sarothi Das**   \n",
    "\tDhaka, Bangladesh  \n",
    "\tBachelor's & Master's in Statistics  \n",
    "\tInvestment Banking Professional → Aspiring Data Scientist \n",
    "    \n",
    "---"
   ]
  },
  {
   "cell_type": "markdown",
   "id": "ccce6047-d9e6-4482-aa6b-9f8029d28071",
   "metadata": {},
   "source": [
    "# DML – Data Manipulation Language"
   ]
  },
  {
   "cell_type": "markdown",
   "id": "8f973790-ae66-4d0c-924e-755f44385971",
   "metadata": {},
   "source": [
    "## INSERT: Insert data into table"
   ]
  },
  {
   "cell_type": "markdown",
   "id": "a3c6bf1c-0b3b-4f57-8923-ebad645ebb96",
   "metadata": {},
   "source": [
    "### 1. Insert data into a single row\n",
    "\n",
    "```sql\n",
    "INSERT INTO sheren.users (user_id, name, email, password)\n",
    "VALUES (NULL, 'Sherena', 'sherena@gamil.com', '1234')\n",
    "```\n",
    "> **sheren** is database name; **users** is table name\n",
    "\n",
    "*Since 'user_id' is AUTO_INCREMENT, this value can be skiped*\n",
    "\n",
    "```sql\n",
    "INSERT INTO sheren.users (name, email, password)\n",
    "VALUES ('Sherena', 'sherena@gamil.com', '1234')\n",
    "```\n",
    "\n",
    "*If you insert all the values in the correct sequence, you can omit the column names*\n",
    "\n",
    "```sql\n",
    "INSERT INTO sheren.users\n",
    "VALUES (NULL, 'Sherena', 'sherena@gamil.com', '1234')\n",
    "```\n",
    "### 2. Insert data into multiple rows\n",
    "\n",
    "```sql\n",
    "INSERT INTO partho.users VALUES\n",
    "(NULL, 'Amitab', 'amitab@gmail.com','123'),\n",
    "(NULL, 'Shah Rukh', 'shahrukh@gmail.com','124'),\n",
    "(NULL, 'Rani', 'rani@gmail.com', '898'),\n",
    "(NULL, 'Kajol', 'kajol@gmail.com' , '234')\n",
    "```"
   ]
  },
  {
   "cell_type": "markdown",
   "id": "a5b8de3a-3d78-42eb-88fa-20eb82b64d44",
   "metadata": {},
   "source": [
    "### 3. Insert `.csv` file\n",
    "\n",
    "Database_name --> on tables right click ---> Table Data Import Wizard"
   ]
  },
  {
   "cell_type": "markdown",
   "id": "66a6e4f8-3f1a-486f-a6b3-2d78ec24e4e7",
   "metadata": {},
   "source": [
    "## UPDATE : Database update"
   ]
  },
  {
   "cell_type": "markdown",
   "id": "fcfdaf43-e0fd-47be-b6e1-7fe1dfca7188",
   "metadata": {},
   "source": [
    "### Example-1 : \n",
    "**Modify the processor_brand bionic to bionic_pro.**\n",
    "\n",
    "```sql\n",
    "UPDATE partho.smartphones\n",
    "SET processor_brand = 'bionic_pro'\n",
    "WHERE processor_brand = 'bionic'\n",
    "```\n",
    "\n",
    "### Example-2 :\n",
    "**Modify the email and password for name = Partho**\n",
    "\n",
    "```sql\n",
    "UPDATE partho.users\n",
    "SET email = 'partho@gmail.com', password='1234'\n",
    "WHERE name = 'Partho'\n",
    "```"
   ]
  },
  {
   "cell_type": "markdown",
   "id": "5a54b7ea-8b47-4997-a8a3-59e5c1b9e66d",
   "metadata": {},
   "source": [
    "## DELETE : Delete Database"
   ]
  },
  {
   "cell_type": "markdown",
   "id": "cf7ee434-1e3c-4f96-8fa9-de0243abd4bc",
   "metadata": {},
   "source": [
    "### DELETE Syntax\n",
    "\n",
    "```sql\n",
    "DELETE FROM table_name WHERE condition;\n",
    "```\n",
    "\n",
    "### Delete All Records\n",
    "\n",
    "It is possible to delete all rows in a table without deleting the table. This means that the table structure, attributes, and indexes will be intact:\n",
    "\n",
    "```sql\n",
    "DELETE FROM table_name\n",
    "```\n",
    "\n",
    "### Delete a Table\n",
    "\n",
    "```sql\n",
    "DELETE table_name\n",
    "```\n",
    "\n",
    "### Example-1 :\n",
    "**Delete phones with price> 200000**\n",
    "\n",
    "```SQL\n",
    "DELETE FROM partho.smartphones\n",
    "WHERE price > 200000\n",
    "```"
   ]
  },
  {
   "cell_type": "markdown",
   "id": "de55604a-ce9b-4100-9205-7f2b56fc46e2",
   "metadata": {},
   "source": [
    "# DQL – Data Query Language"
   ]
  },
  {
   "cell_type": "markdown",
   "id": "94899e90-fea7-480e-a643-4a2ea00f745d",
   "metadata": {},
   "source": [
    "## SELECT: Retrieving Data"
   ]
  },
  {
   "cell_type": "markdown",
   "id": "a3db3766-56d5-4540-9f95-0c6f938533c2",
   "metadata": {},
   "source": [
    "### 1. To retrieve all the rows\n",
    "\n",
    "```sql\n",
    "SELECT * FROM partho.users\n",
    "```"
   ]
  },
  {
   "cell_type": "markdown",
   "id": "718c1804-0b2a-43bc-bb0e-b7a816c205e3",
   "metadata": {},
   "source": [
    "### 2. Columns Filter\n",
    "\n",
    "```sql\n",
    "SELECT model, price, rating FROM partho.smartphones\n",
    "```\n",
    "**Rename columns:**\n",
    "```sql\n",
    "SELECT model, battery_capacity AS 'Ah', os AS 'Operating System' FROM partho.smartphones\n",
    "```\n",
    "**With some math**\n",
    "\n",
    "**Example-1:**\n",
    "```sql\n",
    "SELECT model, sqrt(resolution_width*resolution_width + resolution_height*resolution_height)/screen_size AS ppi\n",
    "FROM partho.smartphones\n",
    "```\n",
    "**Example-2:**\n",
    "```sql\n",
    "SELECT model, rating/10 FROM partho.smartphones\n",
    "```"
   ]
  },
  {
   "cell_type": "markdown",
   "id": "ef6f5f0f-9e13-40ce-8e2c-84678161090c",
   "metadata": {},
   "source": [
    "### 3. DISTINCT ----> Retrieve unique values\n",
    "\n",
    "**Unique Values**\n",
    "\n",
    "```sql\n",
    "SELECT DISTINCT(model) AS 'All Brands'\n",
    "FROM partho.smartphones\n",
    "```\n",
    "**DISTINCT Combinations**\n",
    "\n",
    "```sql\n",
    "SELECT DISTINCT brand_name, processor_brand \n",
    "FROM partho.smartphones;\n",
    "```"
   ]
  },
  {
   "cell_type": "markdown",
   "id": "ad259138-c5ef-4c26-bed6-9249708c514d",
   "metadata": {},
   "source": [
    "### 4. WHERE ----> Row Filter\n",
    "\n",
    "**Example-1 :** Finding all value for brand_name *samsung*\n",
    "\n",
    "```sql\n",
    "SELECT * FROM partho.smartphones\n",
    "WHERE brand_name = 'samsung'\n",
    "```\n",
    "\n",
    "**Example-2 :** Finding all smartphones whose price is greater than 50000\n",
    "\n",
    "```sql\n",
    "SELECT * FROM partho.smartphones\n",
    "WHERE price>50000\n",
    "```"
   ]
  },
  {
   "cell_type": "markdown",
   "id": "258e3ad4-6024-47b2-b579-8e23d53c5b9f",
   "metadata": {},
   "source": [
    "### 5. ORDER BY\n",
    "\n",
    "**Example-1 :** Find all values for barnd_name *samsung* in **ascending order** on price\n",
    "\n",
    "```sql\n",
    "SELECT * FROM partho.smartphones\n",
    "WHERE brand_name = 'samsung'\n",
    "ORDER BY price DESC\n",
    "```\n",
    "\n",
    "**Example-2 :** Find all values for barnd_name *samsung* in **descending order** on price\n",
    "\n",
    "```sql\n",
    "SELECT * FROM partho.smartphones\n",
    "WHERE brand_name = 'samsung'\n",
    "ORDER BY price DESC\n",
    "```\n",
    "**Example-3 :** Find **top 10** values for barnd_name *apple* in **descending order** on screen_size\n",
    "\n",
    "```sql\n",
    "SELECT brand_name,screen_size FROM partho.smartphones\n",
    "WHERE BRAND_NAME = 'apple'\n",
    "ORDER BY screen_size DESC LIMIT 10\n",
    "```"
   ]
  },
  {
   "cell_type": "markdown",
   "id": "889b9f3d-9961-4d15-be55-b3954a9655d8",
   "metadata": {},
   "source": [
    "### 6. BETWEEN\n",
    "\n",
    "**Example-1 :** Find all phones in the price range 10000 to 20000\n",
    "\n",
    "Process:1\n",
    "\n",
    "```SQL\n",
    "SELECT * FROM partho.smartphones\n",
    "WHERE price BETWEEN 10000 AND 20000\n",
    "```\n",
    "Process:2\n",
    "```sql\n",
    "SELECT * FROM partho.smartphones\n",
    "WHERE price > 10000 AND price < 20000\n",
    "```"
   ]
  },
  {
   "cell_type": "markdown",
   "id": "f4d72068-be51-4097-bd24-7aefef3b5943",
   "metadata": {},
   "source": [
    "### 7. IN\n",
    "\n",
    "```sql\n",
    "SELECT * FROM partho.smartphones\n",
    "WHERE processor_brand IN (\"snapdragon\", \"exynos\", \"bionic\")\n",
    "```"
   ]
  },
  {
   "cell_type": "markdown",
   "id": "8f5e16b9-ecb0-4516-919a-7148bcc5f9ff",
   "metadata": {},
   "source": [
    "### 8. NOT IN\n",
    "\n",
    "```sql\n",
    "SELECT * FROM partho.smartphones\n",
    "WHERE processor_brand NOT IN (\"snapdragon\", \"exynos\", \"bionic\")\n",
    "```"
   ]
  },
  {
   "cell_type": "markdown",
   "id": "e4c9a7cd-8238-4dac-832b-6dd6f2223601",
   "metadata": {},
   "source": [
    "### Excercise\n",
    "\n",
    "**Example-1 :** Find all phones rating > 80, price < 25000\n",
    "\n",
    "```sql\n",
    "SELECT * FROM partho.smartphones\n",
    "WHERE rating > 80 AND price < 25000\n",
    "```\n",
    "\n",
    "**Example-2 :** Find bands who sell phones price>50000 \n",
    "\n",
    "```sql\n",
    "SELECT DISTINCT(brand_name) FROM partho.smartphones\n",
    "WHERE price> 50000\n",
    "```"
   ]
  },
  {
   "cell_type": "markdown",
   "id": "c85ed6af-9055-4181-8d4e-f1deaa51fe06",
   "metadata": {},
   "source": [
    "## Aggregate Functions"
   ]
  },
  {
   "cell_type": "markdown",
   "id": "b5a58b09-ab46-4aa6-8a04-62d8608e56e5",
   "metadata": {},
   "source": [
    "**1. MAX**: Find the highest price in the price column:\n",
    "\n",
    "```sql\n",
    "SELECT MAX(price) FROM partho.smartphones\n",
    "```\n",
    "\n",
    "**2. MIN**: Find the lowest price in the price column:\n",
    "\n",
    "```sql\n",
    "SELECT MIN(price) FROM partho.smartphones\n",
    "```\n",
    "**3. SUM**: Find the total price of all phones\n",
    "\n",
    "```sql\n",
    "SELECT SUM(price) FROM partho.smartphones;\n",
    "```\n",
    "\n",
    "**4. COUNT**: Find the number of samsung phone\n",
    "```sql\n",
    "SELECT COUNT(*) FROM partho.smartphones\n",
    "WHERE brand_name = 'samsung'\n",
    "```\n",
    "\n",
    "**5. COUNT(DISTINCT)**: Find the number of brand available\n",
    "\n",
    "```sql\n",
    "SELECT COUNT(DISTINCT(brand_name)) FROM partho.smartphones\n",
    "```\n",
    "\n",
    "**6. STD**: Standard Deviation of screen size\n",
    "```sql\n",
    "SELECT STD(screen_size) FROM partho.smartphones\n",
    "```\n",
    "\n",
    "**7. VARIANCE**: VARIANCE of screen size\n",
    "\n",
    "```sql\n",
    "SELECT VARIANCE(screen_size) FROM partho.smartphones\n",
    "```\n"
   ]
  },
  {
   "cell_type": "markdown",
   "id": "1c43bb92-68e4-48c6-8cf6-b6c2cf4c1d17",
   "metadata": {},
   "source": [
    "## Scalar Functions"
   ]
  },
  {
   "cell_type": "markdown",
   "id": "921b90fd-b72e-4e70-af97-27f1c2efceda",
   "metadata": {},
   "source": [
    "\n",
    "**1. ROUND**: ROUND the values of screen_size upto 1 decimal\n",
    "\n",
    "```sql\n",
    "SELECT ROUND(screen_size,1) FROM partho.smartphones\n",
    "```\n",
    "\n",
    "**2. CEIL**\n",
    "\n",
    "```sql\n",
    "SELECT CEIL(screen_size) FROM partho.smartphones;\n",
    "```\n",
    "\n",
    "**3. FLOOR**\n",
    "\n",
    "```sql\n",
    "SELECT FLOOR(screen_size) FROM partho.smartphones;\n",
    "```"
   ]
  },
  {
   "cell_type": "markdown",
   "id": "bd42ab77-6167-4054-a401-a34765eaefdf",
   "metadata": {},
   "source": [
    "## Excercise ----> Sorting Data"
   ]
  },
  {
   "cell_type": "markdown",
   "id": "18658a87-169e-48e3-99f6-fce5d5ed3479",
   "metadata": {},
   "source": [
    "*1. Find top 5 Samsung phones with biggest screen size*\n",
    "\n",
    "```sql\n",
    "SELECT  model, screen_size FROM partho.smartphones\n",
    "WHERE brand_name = 'samsung'\n",
    "ORDER BY screen_size DESC LIMIT 5\n",
    "```"
   ]
  },
  {
   "cell_type": "markdown",
   "id": "1a1876b2-55b9-478a-9f61-485670a95bc1",
   "metadata": {},
   "source": [
    "*2. Sort all the phone with in descending order by the number of total cameras*\n",
    "\n",
    "```sql\n",
    "SELECT * FROM partho.smartphones\n",
    "ORDER BY (num_rear_cameras+num_front_cameras) DESC\n",
    "```"
   ]
  },
  {
   "cell_type": "markdown",
   "id": "b549d26b-6986-4421-a031-a2cea8e50342",
   "metadata": {},
   "source": [
    "*3. Sort data on the basis of ppi in decreasing order*\n",
    "\n",
    "```sql\n",
    "SELECT * FROM partho.smartphones\n",
    "ORDER BY SQRT(resolution_height*resolution_height + resolution_width*resolution_width)/screen_size DESC\n",
    "```\n",
    "**Alternative**\n",
    "\n",
    "```sql\n",
    "SELECT brand_name, SQRT(resolution_height*resolution_height + resolution_width*resolution_width)/screen_size as ppi \n",
    "FROM partho.smartphones\n",
    "ORDER BY ppi DESC\n",
    "```"
   ]
  },
  {
   "cell_type": "markdown",
   "id": "b4246166-5043-454f-8360-6125abbbfbaf",
   "metadata": {},
   "source": [
    "*4. Find the phone with 2nd largest battery*\n",
    "\n",
    "```sql\n",
    "SELECT model, battery_capacity FROM partho.smartphones\n",
    "ORDER BY battery_capacity DESC LIMIT 1, 1\n",
    "```\n",
    "\n",
    "Note: LIMIT x,y ---> starts from xth item; Show yth item from xth item"
   ]
  },
  {
   "cell_type": "markdown",
   "id": "9db90f49-996e-4e09-aaed-3a78e2640aeb",
   "metadata": {},
   "source": [
    "*5. Find the name and rating of the worst rated apple phone*\n",
    "\n",
    "```sql\n",
    "SELECT brand_name, rating FROM partho.smartphones\n",
    "WHERE brand_name = 'apple'\n",
    "ORDER BY rating \n",
    "```"
   ]
  },
  {
   "cell_type": "markdown",
   "id": "5976945d-3456-4940-98f3-3e417069d3e5",
   "metadata": {},
   "source": [
    "*6. Sort phones alphabetically and then on the basis of rating in descending order*\n",
    "\n",
    "```sql\n",
    "SELECT * FROM partho.smartphones\n",
    "ORDER BY brand_name, rating DESC\n",
    "```"
   ]
  },
  {
   "cell_type": "markdown",
   "id": "8b10eb8e-61a9-4d54-bc54-f36da5df60a0",
   "metadata": {},
   "source": [
    "*7. Sort phones alphabetically and then on the basis of price in ascending order*\n",
    "\n",
    "```sql\n",
    "SELECT * FROM partho.smartphones\n",
    "ORDER BY brand_name, price\n",
    "```"
   ]
  },
  {
   "cell_type": "markdown",
   "id": "0ee765f4-fba8-44d1-9a4d-0e64bb7c4be7",
   "metadata": {},
   "source": [
    "## Excercise ----> Grouping Data"
   ]
  },
  {
   "cell_type": "markdown",
   "id": "7d85cc4b-66d1-4398-abc3-8df2b499e1cf",
   "metadata": {},
   "source": [
    "*1. Group smartphones by brand and get count, average price, max rating, avg screen size and avg battery capacity*\n",
    "\n",
    "```sql\n",
    "SELECT brand_name, COUNT(*) AS 'Num_phone',\n",
    "ROUND(AVG(price),2) AS 'avg price',\n",
    "MAX(rating) AS 'max rating',\n",
    "ROUND(AVG(screen_size),2) AS 'avg screen size',\n",
    "ROUND(AVG(battery_capacity),2) AS 'avg battery capacity'\n",
    "FROM partho.smartphones\n",
    "GROUP BY brand_name\n",
    "ORDER BY Num_phone DESC\n",
    "```"
   ]
  },
  {
   "cell_type": "markdown",
   "id": "574fb2c1-288d-436c-b148-74f180358c1e",
   "metadata": {},
   "source": [
    "*2. Group smartphones by whether they have an NFC and get the average price and rating*\n",
    "\n",
    "```sql\n",
    "SELECT has_nfc, \n",
    "AVG(price) AS 'avg_price',\n",
    "AVG(rating) AS 'avg_rating'\n",
    "FROM partho.smartphones\n",
    "GROUP BY has_nfc\n",
    "```"
   ]
  },
  {
   "cell_type": "markdown",
   "id": "7e9a38df-7e91-4df2-a32e-c34e6714e8f5",
   "metadata": {},
   "source": [
    "*3. Group smartphones by the extended memory available and get the average price*\n",
    "\n",
    "```sql\n",
    "SELECT extended_memory_available,\n",
    "AVG(price) AS 'AVG_Price'\n",
    "FROM partho.smartphones\n",
    "GROUP BY extended_memory_available\n",
    "```"
   ]
  },
  {
   "cell_type": "markdown",
   "id": "15080fda-cdbd-4ac6-9e8a-8257eb7e9962",
   "metadata": {},
   "source": [
    "*4. Group smartphones by the brand and processor brand and get the count of models and the average primary camera resolution (rear)*\n",
    "\n",
    "```sql\n",
    "SELECT brand_name, processor_brand,\n",
    "COUNT(*) AS 'num_phone',\n",
    "ROUND(AVG(primary_camera_rear)) AS 'avg camera resolution'\n",
    "FROM partho.smartphones\n",
    "GROUP BY brand_name, processor_brand\n",
    "```"
   ]
  },
  {
   "cell_type": "markdown",
   "id": "2c1da4be-705a-43bc-8a02-4ba7e114779c",
   "metadata": {},
   "source": [
    "*5. Find top 5 most costly phone brands*\n",
    "\n",
    "```sql\n",
    "SELECT brand_name,\n",
    "ROUND(AVG(price)) AS 'avg_price'\n",
    "FROM partho.smartphones\n",
    "GROUP BY brand_name\n",
    "ORDER BY avg_price DESC LIMIT 5\n",
    "```"
   ]
  },
  {
   "cell_type": "markdown",
   "id": "f2dafefa-3789-4605-98a8-0827c6c16109",
   "metadata": {},
   "source": [
    "*6. Which brand makes the smallest screen smartphones.*\n",
    "\n",
    "```sql\n",
    "SELECT brand_name, ROUND(avg(screen_size),2) AS 'avg_screen_size'\n",
    "FROM partho.smartphones\n",
    "GROUP BY brand_name ORDER BY avg_screen_size LIMIT 1\n",
    "```"
   ]
  },
  {
   "cell_type": "markdown",
   "id": "ef412175-476a-42d8-b761-f1ada28a70d4",
   "metadata": {},
   "source": [
    "*7. Avg price of 5g phones vs avg price of non 5g phones*\n",
    "\n",
    "```sql\n",
    "SELECT has_5g, AVG(price) AS 'avg_price'\n",
    "FROM partho.smartphones\n",
    "GROUP BY has_5g\n",
    "```"
   ]
  },
  {
   "cell_type": "markdown",
   "id": "29fc35ec-0912-4d87-a7c9-c7ae96170888",
   "metadata": {},
   "source": [
    "*8. Group smartphones by the brand, and find the brand with the highest number of models that have both NFC and an IR blaster.*\n",
    "\n",
    "```sql\n",
    "SELECT brand_name, COUNT(*) AS 'model_count'\n",
    "FROM partho.smartphones\n",
    "WHERE has_nfc = 'True' AND has_ir_blaster = 'True'\n",
    "GROUP BY brand_name\n",
    "ORDER BY model_count DESC LIMIT 1\n",
    "```"
   ]
  },
  {
   "cell_type": "markdown",
   "id": "96ac67ea-17b7-452f-82b1-fe7ae03a2057",
   "metadata": {},
   "source": [
    "*9. Find all Samsung 5g enabled smartphones and find out the avg price for NFC and Non-NFC phones*\n",
    "\n",
    "```sql\n",
    "SELECT has_nfc, AVG(price) AS 'avg_price'\n",
    "FROM partho.smartphones\n",
    "WHERE brand_name = 'samsung' AND has_5g = 'True'\n",
    "GROUP BY has_nfc\n",
    "```"
   ]
  },
  {
   "cell_type": "markdown",
   "id": "7bff27ec-c502-4752-9dcc-0007480d0ed1",
   "metadata": {},
   "source": [
    "*10. Find the phone name, price of the costliest phone.*\n",
    "\n",
    "```sql\n",
    "SELECT brand_name, price FROM partho.smartphones\n",
    "ORDER BY price DESC LIMIT 1\n",
    "```"
   ]
  },
  {
   "cell_type": "markdown",
   "id": "0158a086-87a4-433a-aa9c-163b9d0db53a",
   "metadata": {},
   "source": [
    "## Excercise ----> HAVING\n",
    "\n",
    "SELECT -----> WHERE   \n",
    "GROUP BY ----> HAVING"
   ]
  },
  {
   "cell_type": "markdown",
   "id": "18fa2c2e-bb49-4c5f-990b-d53afb4fefba",
   "metadata": {},
   "source": [
    "*1. Find the avg rating of smartphone brands which have more than 20 phones.*\n",
    "\n",
    "```sql\n",
    "SELECT brand_name, COUNT(*) AS count,\n",
    "ROUND(AVG(price)) AS 'avg_price'\n",
    "FROM partho.smartphones\n",
    "GROUP BY brand_name\n",
    "HAVING count >20\n",
    "```"
   ]
  },
  {
   "cell_type": "markdown",
   "id": "71475f88-99b8-4853-87a9-0e4b4ad30c2c",
   "metadata": {},
   "source": [
    "*2. Find the top 3 brands with the highest avg ram that have a refresh rate of at least 90 Hz and fast charging available and don't consider brands which have less than 10 phones.*\n",
    "\n",
    "```sql\n",
    "SELECT brand_name,\n",
    "avg(ram_capacity) AS 'avg_ram'\n",
    "FROM partho.smartphones\n",
    "WHERE refresh_rate > 90 AND fast_charging_available = '1'\n",
    "GROUP BY brand_name\n",
    "HAVING COUNT(brand_name)>10\n",
    "ORDER BY avg_ram DESC LIMIT 3\n",
    "```"
   ]
  },
  {
   "cell_type": "markdown",
   "id": "7a053e8a-66f4-43e6-bec0-ff71fa524a58",
   "metadata": {},
   "source": [
    "*3. Find the avg price of all the phone brands with avg rating> 70 and num_phones more than 10 among all 5g enabled phones.*\n",
    "\n",
    "```sql\n",
    "SELECT brand_name, \n",
    "AVG(price) AS 'avg_price',\n",
    "AVG(rating) AS 'avg_rating'\n",
    "FROM partho.smartphones\n",
    "WHERE has_5g = 'True'\n",
    "GROUP BY brand_name\n",
    "HAVING avg_rating > 70 AND COUNT(*) > 10\n",
    "```"
   ]
  },
  {
   "cell_type": "markdown",
   "id": "5803401f-9d56-43a2-a9fc-4baa5feb0f1b",
   "metadata": {},
   "source": [
    "---\n",
    "# Excercise on ipl dataset\n",
    "---"
   ]
  },
  {
   "cell_type": "markdown",
   "id": "52744235-292e-4e27-8169-86fd8a6b23cf",
   "metadata": {},
   "source": [
    "*1. Find the top 5 batsman in IPL*\n",
    "\n",
    "```sql\n",
    "SELECT batter, SUM(batsman_run) AS 'total_run'\n",
    "FROM partho.ipl\n",
    "GROUP BY batter\n",
    "ORDER BY total_run DESC LIMIT 5\n",
    "```"
   ]
  },
  {
   "cell_type": "markdown",
   "id": "268ee172-01bd-4bd2-98b2-9de64ffd29e6",
   "metadata": {},
   "source": [
    "*2. Find the 2nd highest 6 hitter in IPL*\n",
    "\n",
    "```sql\n",
    "SELECT batter, COUNT(*) AS num_six FROM partho.ipl\n",
    "WHERE batsman_run = '6'\n",
    "GROUP BY batter\n",
    "ORDER BY num_six DESC LIMIT 1,1\n",
    "```"
   ]
  },
  {
   "cell_type": "markdown",
   "id": "85e79f40-28df-4d63-8193-546c685b86f1",
   "metadata": {},
   "source": [
    "*3. Find Virat Kohli's performance against all IPL teams.*\n",
    "\n",
    "```sql\n",
    "SELECT bowling_team, SUM(batsman_runs) AS 'total_runs' FROM partho.deliveries\n",
    "WHERE batter = 'V Kohli'\n",
    "GROUP BY bowling_team\n",
    "ORDER BY total_runs DESC\n",
    "```"
   ]
  },
  {
   "cell_type": "markdown",
   "id": "325e41c9-40bd-4575-ad76-d16bb6366e3c",
   "metadata": {},
   "source": [
    "*4. Find top 10 batsman with centuries in IPL*\n",
    "\n",
    "```sql\n",
    "SELECT match_id, batter, SUM(batsman_runs) AS 'total_runs'\n",
    "FROM partho.deliveries\n",
    "GROUP BY batter,  match_id\n",
    "HAVING total_runs >=100\n",
    "```"
   ]
  },
  {
   "cell_type": "markdown",
   "id": "463b71d0-b9cd-46d1-b3a6-f9b2c825ea52",
   "metadata": {},
   "source": [
    "*5.  Find the top 5 batsman with highest strike rate who have played a min of 1000 balls*\n",
    "\n",
    "```sql\n",
    "SELECT batter, SUM(batsman_runs) AS 'runs', COUNT(batsman_runs) AS 'total_ball', \n",
    "ROUND(SUM(batsman_runs)*100/COUNT(*),2) AS 'strike_rate' \n",
    "FROM partho.deliveries\n",
    "GROUP BY batter\n",
    "HAVING total_ball>1000\n",
    "ORDER BY strike_rate DESC LIMIT 5\n",
    "```"
   ]
  },
  {
   "cell_type": "markdown",
   "id": "1bf984ba-2f36-4860-9ef4-727d8d28a272",
   "metadata": {},
   "source": [
    "---\n",
    "# Excercise on insurance dataset\n",
    "---"
   ]
  },
  {
   "cell_type": "markdown",
   "id": "410834f0-426f-4feb-8da2-9af5705c02fc",
   "metadata": {},
   "source": [
    "*1. Show records of 'male' patient from 'southwest' region.*\n",
    "\n",
    "```sql\n",
    "SELECT * FROM partho.insurance\n",
    "WHERE gender = 'male' AND region = 'southwest'\n",
    "```"
   ]
  },
  {
   "cell_type": "markdown",
   "id": "eaa15c7b-0d9b-4345-b5e2-a621992d0c3c",
   "metadata": {},
   "source": [
    "*2. Show all records having bmi in range 30 to 45 both inclusive.*\n",
    "\n",
    "```sql\n",
    "SELECT * FROM partho.insurance\n",
    "WHERE bmi BETWEEN 30 AND 45\n",
    "```"
   ]
  },
  {
   "cell_type": "markdown",
   "id": "5e69acaa-695b-452d-ac99-3d2867ea7082",
   "metadata": {},
   "source": [
    "*3. Show minimum and maximum bloodpressure of diabetic patient who smokes. Make column names as MinBP and MaxBP respectively.*\n",
    "\n",
    "```sql\n",
    "SELECT MIN(bloodpressure) AS MinBP,  \n",
    "MAX(bloodpressure) AS MaxBP\n",
    "FROM partho.insurance\n",
    "WHERE smoker = 'Yes'\n",
    "```"
   ]
  },
  {
   "cell_type": "markdown",
   "id": "b1acd0ec-9659-4343-b6ee-64d38f526980",
   "metadata": {},
   "source": [
    "*4. Find no of unique patients who are not from southwest region.*\n",
    "\n",
    "```sql\n",
    "SELECT COUNT(DISTINCT(PatientID)) FROM partho.insurance\n",
    "WHERE region != 'southwest'\n",
    "```"
   ]
  },
  {
   "cell_type": "markdown",
   "id": "6b0d2d8c-b5ee-4129-8496-b47b98fbea5a",
   "metadata": {},
   "source": [
    "*5. Total claim amount from male smoker.*\n",
    "\n",
    "```sql\n",
    "SELECT SUM(claim)  AS total_clain \n",
    "FROM partho.insurance\n",
    "WHERE gender = 'male' AND smoker = 'Yes'\n",
    "```"
   ]
  },
  {
   "cell_type": "markdown",
   "id": "58bc4e6c-f209-47a8-b3ff-e42034ed9eb4",
   "metadata": {},
   "source": [
    "*6. Select all records of south region.*\n",
    "\n",
    "```sql\n",
    "SELECT * FROM partho.insurance\n",
    "WHERE region LIKE 'south%'\n",
    "```"
   ]
  },
  {
   "cell_type": "markdown",
   "id": "86e19108-267f-434f-b5eb-b333ee77269b",
   "metadata": {},
   "source": [
    "*7. No of patient having normal blood pressure. Normal range[90-120]*\n",
    "\n",
    "```sql\n",
    "SELECT * FROM partho.insurance\n",
    "WHERE bloodpressure BETWEEN 90 AND 120\n",
    "```"
   ]
  },
  {
   "cell_type": "markdown",
   "id": "e91e6bf0-2ba0-4eb9-980b-304756262062",
   "metadata": {},
   "source": [
    "*8. What is the average claim amount for non-smoking female patients who are diabetic?*\n",
    "\n",
    "```sql\n",
    "SELECT AVG(claim) AS 'avg_claim' FROM partho.insurance\n",
    "WHERE smoker = 'No' AND gender = 'female' AND diabetic = 'Yes'\n",
    "```"
   ]
  },
  {
   "cell_type": "markdown",
   "id": "4206aeeb-642e-4253-9bfd-c7dde0897732",
   "metadata": {},
   "source": [
    "*9. Write a SQL query to delete all records for patients who are smokers and have no children.*\n",
    "\n",
    "```sql\n",
    "DELETE FROM partho.insurance\n",
    "WHERE smoker = 'Yes' AND children=0\n",
    "```"
   ]
  },
  {
   "cell_type": "markdown",
   "id": "5dc34472-9476-4d9d-9c45-c0f5f65a9639",
   "metadata": {},
   "source": [
    "\n",
    "## JOIN"
   ]
  },
  {
   "cell_type": "markdown",
   "id": "d56cce2b-d92d-4a74-bb92-da42d8b6194d",
   "metadata": {},
   "source": [
    "### Join --- > inner join\n",
    "\n",
    "*Example:1* **All** the columns\n",
    "\n",
    "```sql\n",
    "SELECT * FROM join_class.membership T1\n",
    "JOIN join_class.users1 T2\n",
    "ON T1.user_id = T2.user_id\n",
    "```\n",
    "\n",
    "*Example:2* With **selective** columns\n",
    "\n",
    "```sql\n",
    "SELECT T1.user_id, T1.name, T2.membership_id \n",
    "FROM join_class.users1 T1\n",
    "JOIN join_class.membership T2\n",
    "ON T1.user_id = T2.user_id\n",
    "```"
   ]
  },
  {
   "cell_type": "markdown",
   "id": "2fcc97de-75dc-44a2-b3ef-67dcba56833b",
   "metadata": {},
   "source": [
    "### Left Join\n",
    "\n",
    "```sql\n",
    "SELECT * FROM join_class.membership T1\n",
    "LEFT JOIN join_class.users1 T2\n",
    "ON T1.user_id = T2.user_id\n",
    "```"
   ]
  },
  {
   "cell_type": "markdown",
   "id": "1ba83781-4c32-4183-814c-06700423372a",
   "metadata": {},
   "source": [
    "### Right Join\n",
    "\n",
    "```sql\n",
    "SELECT * FROM join_class.membership T1\n",
    "RIGHT JOIN join_class.users1 T2\n",
    "ON T1.user_id = T2.user_id\n",
    "```"
   ]
  },
  {
   "cell_type": "markdown",
   "id": "315bf739-2119-4b81-b295-0d046395f3f1",
   "metadata": {},
   "source": [
    "### Full Join : UNION\n",
    "\n",
    "```sql\n",
    "SELECT * FROM join_class.membership T1\n",
    "LEFT JOIN join_class.users1 T2\n",
    "ON T1.user_id = T2.user_id\n",
    "UNION\n",
    "SELECT * FROM join_class.membership T1\n",
    "RIGHT JOIN join_class.users1 T2\n",
    "ON T1.user_id = T2.user_id\n",
    "\n",
    "```"
   ]
  },
  {
   "cell_type": "markdown",
   "id": "3e4e8dde-c468-4617-8c00-f09998575d4f",
   "metadata": {},
   "source": [
    "### Cross Join\n",
    "\n",
    "```sql\n",
    "SELECT * FROM join_class.users1\n",
    "CROSS JOIN join_class.groups\n",
    "```"
   ]
  },
  {
   "cell_type": "markdown",
   "id": "525d0665-6827-469b-8840-648a72a35e34",
   "metadata": {},
   "source": [
    "### Set Operations : Should be same table structure"
   ]
  },
  {
   "cell_type": "markdown",
   "id": "4a56005e-d523-472d-96ef-9355adc369d7",
   "metadata": {},
   "source": [
    "### UNION \n",
    ">Join two tables with same table structure and **remove** duplicates\n",
    "\n",
    "```SQL\n",
    "SELECT * FROM join_class.person1\n",
    "UNION\n",
    "SELECT * FROM join_class.person2\n",
    "```"
   ]
  },
  {
   "cell_type": "markdown",
   "id": "84158500-dd45-4c4e-8470-4d0b6f05fb0d",
   "metadata": {},
   "source": [
    "### UNION ALL\n",
    ">Join two tables with same table structure and **keeps** duplicates\n",
    "\n",
    "```SQL\n",
    "SELECT * FROM join_class.person1\n",
    "UNION ALL\n",
    "SELECT * FROM join_class.person2\n",
    "```"
   ]
  },
  {
   "cell_type": "markdown",
   "id": "31e26607-35d5-4c6a-9ab6-b1ba10dde31b",
   "metadata": {},
   "source": [
    "### SELF JOIN\n",
    "\n",
    "```sql\n",
    "SELECT * FROM join_class.users1 T1\n",
    "JOIN join_class.users1 T2\n",
    "ON T1.emergency_contact = T2.user_id\n",
    "```"
   ]
  },
  {
   "cell_type": "markdown",
   "id": "f77ab18e-299b-4e9e-bebe-6927ae03d74c",
   "metadata": {},
   "source": [
    "### Join ON **more than one column**\n",
    "\n",
    "```sql\n",
    "SELECT * FROM join_class.students T1\n",
    "JOIN join_class.class T2\n",
    "ON T1.class_id = T2.class_id\n",
    "AND T1.enrollment_year = T2.class_year\n",
    "```"
   ]
  },
  {
   "cell_type": "markdown",
   "id": "43ec8d4d-0dfd-4a41-9db7-1d4aa8d52ec8",
   "metadata": {},
   "source": [
    "### Excersice ----> join"
   ]
  },
  {
   "cell_type": "markdown",
   "id": "9e989db1-db95-430f-b92a-0a0c367ebc4b",
   "metadata": {},
   "source": [
    "*1. Find order_id, name, city by joining users and orders from flipkart database.*\n",
    "\n",
    "```sql\n",
    "SELECT T1.order_id, T2.name, T2.city\n",
    "FROM flipkart.orders T1\n",
    "JOIN flipkart.users T2\n",
    "ON T1.user_id = T2.user_id\n",
    "```"
   ]
  },
  {
   "cell_type": "markdown",
   "id": "935aa932-faf6-4d61-a479-f09fde3f6f59",
   "metadata": {},
   "source": [
    "2. Find order_id, product category by joining order_details and category from flipkart database.\n",
    "\n",
    "```sql\n",
    "SELECT T1.order_id, T2.category\n",
    "FROM flipkart.order_details T1\n",
    "JOIN flipkart.category T2\n",
    "ON T1.category_id = T2.category_id\n",
    "```"
   ]
  },
  {
   "cell_type": "markdown",
   "id": "dd762e97-539b-4cbe-a91e-fb3b7e159ed1",
   "metadata": {},
   "source": [
    "*3. Find all the orders placed in pune*\n",
    "\n",
    "```sql\n",
    "SELECT * FROM flipkart.orders T1\n",
    "JOIN flipkart.users T2\n",
    "ON T1.user_id = T2.user_id\n",
    "WHERE T2.city = 'Pune'\n",
    "```"
   ]
  },
  {
   "cell_type": "markdown",
   "id": "bb4996b6-f5dd-41de-ab8e-45f6c26090b2",
   "metadata": {},
   "source": [
    "*4. Find all the orders placed in pune by Priyanka*\n",
    "\n",
    "```sql\n",
    "SELECT * FROM flipkart.orders T1\n",
    "JOIN flipkart.users T2\n",
    "ON T1.user_id = T2.user_id\n",
    "WHERE T2.city = 'Pune' AND T2.name = 'Priyanka'\n",
    "```"
   ]
  },
  {
   "cell_type": "markdown",
   "id": "4f422ae3-bf3f-4dce-8a2c-0695e74a21e9",
   "metadata": {},
   "source": [
    "*5. Find all orders under Chairs category*\n",
    "\n",
    "```sql\n",
    "SELECT * FROM flipkart.order_details T1\n",
    "JOIN flipkart.category T2\n",
    "ON T1.category_id = T2.category_id\n",
    "WHERE T2.category = 'Chairs'\n",
    "```"
   ]
  },
  {
   "cell_type": "markdown",
   "id": "3e2eba84-47d9-49ef-b4fa-e823cf0b971c",
   "metadata": {},
   "source": [
    "*6. Find all profitable orders*\n",
    "\n",
    "```sql\n",
    "SELECT T1.order_id, SUM(T2.profit) AS 'total_profit' \n",
    "FROM flipkart.orders T1\n",
    "JOIN flipkart.order_details T2\n",
    "ON T1.order_id = T2.order_id\n",
    "GROUP BY T1.order_id\n",
    "HAVING total_profit>0\n",
    "```"
   ]
  },
  {
   "cell_type": "markdown",
   "id": "dc5159d2-8f54-453a-b6eb-6ad8d2111109",
   "metadata": {},
   "source": [
    "*7. Find the customer who has placed max number of orders*\n",
    "\n",
    "```sql\n",
    "SELECT T1.user_id, T2.name, COUNT(T1.order_id) AS total_orders\n",
    "FROM flipkart.orders T1\n",
    "JOIN flipkart.users T2\n",
    "ON T1.user_id = T2.user_id\n",
    "GROUP BY T1.user_id, T2.name\n",
    "ORDER BY total_orders DESC LIMIT 1\n",
    "```"
   ]
  },
  {
   "cell_type": "markdown",
   "id": "84c1b630-78bd-480b-a2f8-e9fff4911bc5",
   "metadata": {},
   "source": [
    "*8. Which is the most profitable category*\n",
    "\n",
    "```sql\n",
    "SELECT T2.category, SUM(T1.profit) AS 'category_wise_profit'\n",
    "FROM flipkart.order_details T1\n",
    "JOIN flipkart.category T2\n",
    "ON T1.category_id = T2.category_id\n",
    "GROUP BY T2.category\n",
    "ORDER BY category_wise_profit DESC LIMIT 1\n",
    "```"
   ]
  },
  {
   "cell_type": "markdown",
   "id": "a0bbc515-d43a-4640-9601-d87e099ad54d",
   "metadata": {},
   "source": [
    "*9. Which is the most profitable state*\n",
    "\n",
    "```sql\n",
    "SELECT T3.state, SUM(T2.profit) AS 'total_profit' \n",
    "FROM flipkart.orders T1\n",
    "JOIN flipkart.order_details T2\n",
    "ON T1.order_id = T2.order_id\n",
    "JOIN flipkart.users T3\n",
    "ON T1.user_id = T3.user_id\n",
    "GROUP BY T3.state\n",
    "ORDER BY total_profit DESC LIMIT 1\n",
    "```"
   ]
  },
  {
   "cell_type": "markdown",
   "id": "ee8dc266-4765-4823-be16-bfc9cb69302b",
   "metadata": {},
   "source": [
    "*10. Find all categories with profit higher than 5000*\n",
    "\n",
    "```sql\n",
    "SELECT T2.category, SUM(T1.profit) AS 'category_wise_profit'\n",
    "FROM flipkart.order_details T1\n",
    "JOIN flipkart.category T2\n",
    "ON T1.category_id = T2.category_id\n",
    "GROUP BY T2.category\n",
    "HAVING category_wise_profit > 5000\n",
    "```"
   ]
  }
 ],
 "metadata": {
  "kernelspec": {
   "display_name": "Python [conda env:base] *",
   "language": "python",
   "name": "conda-base-py"
  },
  "language_info": {
   "codemirror_mode": {
    "name": "ipython",
    "version": 3
   },
   "file_extension": ".py",
   "mimetype": "text/x-python",
   "name": "python",
   "nbconvert_exporter": "python",
   "pygments_lexer": "ipython3",
   "version": "3.12.7"
  }
 },
 "nbformat": 4,
 "nbformat_minor": 5
}
