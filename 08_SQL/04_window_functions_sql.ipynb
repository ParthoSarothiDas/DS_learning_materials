{
 "cells": [
  {
   "cell_type": "markdown",
   "id": "6a52c281-a13e-46af-975c-1b50ce9417f8",
   "metadata": {},
   "source": [
    "#  Data Science Learning Journey  \n",
    "*Curiosity to Capability — One Notebook at a Time*\n",
    "\n",
    "---\n",
    "Compiled and authored by **Partho Sarothi Das**   \n",
    "\tDhaka, Bangladesh  \n",
    "\tBachelor's & Master's in Statistics  \n",
    "\tInvestment Banking Professional → Aspiring Data Scientist \n",
    "    \n",
    "---"
   ]
  },
  {
   "cell_type": "markdown",
   "id": "a91a0bd5-6759-46d2-afc0-70c7791e0756",
   "metadata": {},
   "source": [
    "# Example of Window Functions"
   ]
  },
  {
   "cell_type": "markdown",
   "id": "613da988-aa8f-4471-becd-18368b27b019",
   "metadata": {},
   "source": [
    "### RANK\n",
    "\n",
    "```sql\n",
    "SELECT *,\n",
    "RANK() OVER(PARTITION BY branch ORDER BY marks DESC)\n",
    "FROM partho.marks\n",
    "```"
   ]
  },
  {
   "cell_type": "markdown",
   "id": "817cd1ca-9253-4959-829d-e36ea56e898c",
   "metadata": {},
   "source": [
    "### DENSE_RANK\n",
    "\n",
    "```sql\n",
    "SELECT *,\n",
    "RANK() OVER(PARTITION BY branch ORDER BY marks DESC)\n",
    "DENSE_RANK() OVER(PARTITION BY branch ORDER BY marks DESC) AS 'dense_rank'\n",
    "FROM partho.marks\n",
    "```\n",
    "> **Note:** Check ECE branch"
   ]
  },
  {
   "cell_type": "markdown",
   "id": "b31b5508-e178-4ef2-abab-f8ad668e0abc",
   "metadata": {},
   "source": [
    "### ROW_NUMBER\n",
    "\n",
    "```sql\n",
    "SELECT *,\n",
    "ROW_NUMBER() OVER(PARTITION BY branch)\n",
    "FROM partho.marks\n",
    "```"
   ]
  },
  {
   "cell_type": "markdown",
   "id": "ce270c74-9911-4557-9398-366984b8dc7a",
   "metadata": {},
   "source": [
    "### CONCAT\n",
    "\n",
    "```sql\n",
    "SELECT *,\n",
    "CONCAT(branch, '-', ROW_NUMBER() OVER(PARTITION BY branch)) AS \"Dept_roll\"\n",
    "FROM partho.marks\n",
    "```"
   ]
  },
  {
   "cell_type": "markdown",
   "id": "c4de3197-053f-4b1b-b92b-9223ac7416a5",
   "metadata": {},
   "source": [
    "### FIRST_VALUE\n",
    "\n",
    "```sql\n",
    "SELECT *,\n",
    "FIRST_VALUE(marks) OVER(PARTITION BY branch ORDER BY marks DESC)\n",
    "FROM partho.marks\n",
    "```"
   ]
  },
  {
   "cell_type": "markdown",
   "id": "bb32b5b8-838c-4404-afc0-4541f82b8a02",
   "metadata": {},
   "source": [
    "### LAST_VALUE\n",
    "\n",
    "```sql\n",
    "SELECT *,\n",
    "LAST_VALUE(marks) OVER(PARTITION BY branch\n",
    "\t\t\t\t\t\tORDER BY marks desc\n",
    "\t\t\t\t\t\tROWS BETWEEN UNBOUNDED PRECEDING AND UNBOUNDED FOLLOWING)\n",
    "FROM partho.marks\n",
    "```"
   ]
  },
  {
   "cell_type": "markdown",
   "id": "d6192b7f-be1c-43f5-92c4-d7c306651f97",
   "metadata": {},
   "source": [
    "### NTH_VALUE\n",
    "\n",
    "```sql\n",
    "SELECT *,\n",
    "NTH_VALUE(marks, 2) OVER(PARTITION BY branch\n",
    "\t\t\t\t\t\tORDER BY marks desc\n",
    "\t\t\t\t\t\tROWS BETWEEN UNBOUNDED PRECEDING AND UNBOUNDED FOLLOWING)\n",
    "FROM partho.marks\n",
    "```"
   ]
  },
  {
   "cell_type": "markdown",
   "id": "0d12263b-2fc6-43f7-9797-67c4b28aba98",
   "metadata": {},
   "source": [
    "### LAG\n",
    "\n",
    "```sql\n",
    "SELECT *,\n",
    "LAG(marks) OVER(ORDER BY student_id)\n",
    "FROM partho.marks\n",
    "```"
   ]
  },
  {
   "cell_type": "markdown",
   "id": "38dd8610-9d3b-4c18-8b8c-2f89cfc557cb",
   "metadata": {},
   "source": [
    "### LEAD\n",
    "\n",
    "```sql\n",
    "SELECT *,\n",
    "LAG(marks) OVER(ORDER BY student_id) AS 'by_lag',\n",
    "LEAD(marks) OVER(ORDER BY student_id) AS 'by_lead'\n",
    "FROM partho.marks\n",
    "```"
   ]
  },
  {
   "cell_type": "markdown",
   "id": "ad8f68d9-ec84-411b-9f80-26930c3b97af",
   "metadata": {},
   "source": [
    "### *Cumulative Average*\n",
    "\n",
    "```sql\n",
    "SELECT \n",
    "ROW_NUMBER() OVER(ORDER BY id) AS match_no,\n",
    "SUM(batsman_run) AS runs,\n",
    "SUM(SUM(batsman_run)) OVER (ROWS BETWEEN UNBOUNDED PRECEDING AND CURRENT ROW) AS career_runs,\n",
    "AVG(SUM(batsman_run)) OVER (ROWS BETWEEN UNBOUNDED PRECEDING AND CURRENT ROW) AS career_avg\n",
    "FROM partho.ipl\n",
    "WHERE batter = \"V Kohli\"\n",
    "GROUP BY ID\n",
    "```"
   ]
  },
  {
   "cell_type": "markdown",
   "id": "5053c32f-9de9-425e-8fb7-881e9d1b008a",
   "metadata": {},
   "source": [
    "### *Moving Average (Runing Average)*\n",
    "\n",
    "```sql\n",
    "SELECT\n",
    "ROW_NUMBER() OVER(ORDER BY id) AS match_no,\n",
    "SUM(batsman_run) AS runs,\n",
    "AVG(SUM(batsman_run)) OVER (ROWS BETWEEN 9 PRECEDING AND CURRENT ROW) AS moving_avg\n",
    "FROM partho.ipl\n",
    "WHERE batter = \"V Kohli\"\n",
    "GROUP BY ID\n",
    "```"
   ]
  },
  {
   "cell_type": "markdown",
   "id": "8d1fe0e8-db5c-4343-ad1f-7beabc22faf5",
   "metadata": {},
   "source": [
    "### Percent_rank\n",
    "\n",
    "*Percent rank is rank by 0 to 1 of all the values*\n",
    "\n",
    "```sql\n",
    "SELECT marks,\n",
    "PERCENT_RANK () OVER(ORDER BY marks) AS pr\n",
    "FROM partho.marks\n",
    "```\n",
    "\n",
    "**Example:** Find Q1, Q2 and Q3 of partho.marks dataset.\n",
    "```sql\n",
    "WITH ranked_marks AS(\n",
    "\t\t\t\t\tSELECT marks,\n",
    "\t\t\t\t\tPERCENT_RANK () OVER (ORDER BY marks) AS pr\n",
    "\t\t\t\t\tFROM partho.marks)\n",
    "SELECT \n",
    "(SELECT MARKS FROM ranked_marks WHERE pr >= 0.25 ORDER BY pr LIMIT 1) AS Q1,\n",
    "(SELECT marks FROM ranked_marks WHERE pr >= 0.50 ORDER BY pr LIMIT 1) AS Q2,\n",
    "(SELECT marks FROM ranked_marks WHERE pr >= 0.75 ORDER BY pr LIMIT 1) AS Q3\n",
    "```"
   ]
  },
  {
   "cell_type": "markdown",
   "id": "98674006-7d57-4549-a2c7-037fc7b24430",
   "metadata": {},
   "source": [
    "### Segmentation\n",
    "\n",
    "```sql\n",
    "SELECT *, \n",
    "NTILE(3) OVER(ORDER BY marks DESC) AS segmentation \n",
    "FROM partho.marks;\n",
    "```\n",
    "\n",
    "**Example:** Segment into three group as budget, mid-range, premium of the smartphone according to price.\n",
    "\n",
    "```sql\n",
    "SELECT brand_name, price,\n",
    "CASE\n",
    "\tWHEN bucket = 1 THEN 'budget'\n",
    "    WHEN bucket = 2 THEN 'mid-range'\n",
    "    WHEN bucket = 3 THEN 'premium'\n",
    "END AS phone_type\n",
    "FROM (\n",
    "\t\t\tSELECT brand_name, price,\n",
    "\t\t\tNTILE(3) OVER(ORDER BY price) AS bucket \n",
    "\t\t\tFROM partho.smartphones) t\n",
    "```"
   ]
  },
  {
   "cell_type": "markdown",
   "id": "a21b4e6a-1c78-487c-aac3-12fb9f4b5237",
   "metadata": {},
   "source": [
    "### Cumulative Distribution Function\n",
    "\n",
    "**Example:**\n",
    "\n",
    "```sql\n",
    "SELECT *,\n",
    "CUME_DIST() OVER(ORDER BY marks) AS 'Percentile_Score'\n",
    "FROM partho.marks;\n",
    "```\n",
    "\n",
    "**Example:** Find all students from the partho.marks table whose marks are in the top 10% based on cumulative distribution.\n",
    "\n",
    "```sql\n",
    "SELECT * FROM(\n",
    "\t\tSELECT *,\n",
    "\t\tCUME_DIST() OVER(ORDER BY marks) AS 'Percentile_Score'\n",
    "\t\tFROM partho.marks) T\n",
    "WHERE Percentile_Score> 0.9\n",
    "```"
   ]
  },
  {
   "cell_type": "markdown",
   "id": "f558a7f3-a496-4d03-bc07-1d3b1e465538",
   "metadata": {},
   "source": [
    "### Partition by Multiple Columns\n",
    "\n",
    "**Example:**"
   ]
  },
  {
   "cell_type": "markdown",
   "id": "03979777-cf5b-4578-aaa8-a6544a98a443",
   "metadata": {},
   "source": [
    "### Median\n",
    "\n",
    "**Example: 1** Find the median marks of all the students.\n",
    "\n",
    "```sql\n",
    "\n",
    "```\n",
    "\n",
    "**Example: 2** Find branchwise median marks of all the students.\n",
    "\n",
    "```sql\n",
    "\n",
    "```"
   ]
  },
  {
   "cell_type": "markdown",
   "id": "29f1c607-5210-4ba7-baa4-6ef0c7cd5995",
   "metadata": {},
   "source": [
    "# Excersice"
   ]
  },
  {
   "cell_type": "markdown",
   "id": "5ea83c90-5ad2-4e04-8efd-26cea330a21c",
   "metadata": {},
   "source": [
    "*1. Find all the students who have marks higher than the avg marks of their respective branch.*\n",
    "\n",
    "```sql\n",
    "SELECT * FROM (SELECT *,\n",
    "AVG(marks) OVER (PARTITION BY branch) AS 'branch_avg'\n",
    "FROM partho.marks) T\n",
    "WHERE T.marks > T.branch_avg\n",
    "```"
   ]
  },
  {
   "cell_type": "markdown",
   "id": "ca15ef05-d36e-428b-b113-17a51cc7af72",
   "metadata": {},
   "source": [
    "*2. Find top 2 most paying customersd of each month.*\n",
    "\n",
    "```sql\n",
    "SELECT * FROM (SELECT  MONTHNAME(date) AS 'month', user_id, SUM(amount) AS 'total',\n",
    "\t\t\t\tRANK() OVER (PARTITION BY MONTHNAME(date) ORDER BY SUM(amount) DESC) AS 'month_rank' \n",
    "\t\t\t\tFROM zomato.orders\n",
    "\t\t\t\tGROUP BY MONTHNAME(date), user_id\n",
    "\t\t\t\tORDER BY MONTHNAME(date)) t\n",
    "\t\t\t\tWHERE t.month_rank<3\n",
    "                ORDER BY month DESC\n",
    "```"
   ]
  },
  {
   "cell_type": "markdown",
   "id": "ef81a240-3481-49e3-bda4-fbf57ff7bb0a",
   "metadata": {},
   "source": [
    "*3. Create roll no from branch and marks.*\n",
    "\n",
    "```sql\n",
    "\n",
    "```"
   ]
  },
  {
   "cell_type": "markdown",
   "id": "ecd6aec0-72cf-4d65-91a8-4201414ec197",
   "metadata": {},
   "source": [
    "*1. Find the branch toppers*\n",
    "\n",
    "```sql\n",
    "SELECT name, branch, marks\n",
    "FROM (SELECT *,\n",
    "\t  FIRST_VALUE(marks) OVER (PARTITION BY branch ORDER BY marks DESC) AS topper_marks\n",
    "\t  FROM partho.marks\n",
    "      ) AS t\n",
    "WHERE marks = topper_marks;\n",
    "```"
   ]
  },
  {
   "cell_type": "markdown",
   "id": "150819d1-c529-4d8c-81f0-f7f8e926356c",
   "metadata": {},
   "source": [
    "*2. FRAME Clause*"
   ]
  },
  {
   "cell_type": "markdown",
   "id": "cfc00d32-4410-44fb-9428-74531bdb8258",
   "metadata": {},
   "source": [
    "*3. Find the last guy of each branch*\n",
    "\n",
    "```sql\n",
    "SELECT * \n",
    "FROM(\n",
    "\tSELECT *,\n",
    "\tLAST_VALUE(marks) OVER(PARTITION BY branch ORDER BY marks DESC\n",
    "\tROWS BETWEEN UNBOUNDED PRECEDING AND UNBOUNDED FOLLOWING) \n",
    "\tAS lowest_marks\n",
    "\tFROM partho.marks\n",
    "\t) AS t\n",
    "WHERE marks = lowest_marks\n",
    "```"
   ]
  },
  {
   "cell_type": "markdown",
   "id": "343c2355-245e-4559-8d05-2ec811adff5b",
   "metadata": {},
   "source": [
    "*4. Alternate way of writing window functions*"
   ]
  },
  {
   "cell_type": "markdown",
   "id": "ff6301ec-3353-4bdf-b41f-72ddf0f519c1",
   "metadata": {},
   "source": [
    "*5. Find he 2nd last guy of each branch*\n",
    "\n",
    "```sql\n",
    "SELECT name, branch, value_2nd\n",
    "FROM (\n",
    "\tSELECT *, \n",
    "\tNTH_VALUE(MARKS, 2) OVER(PARTITION BY branch ORDER BY marks DESC\n",
    "\t\t\t\t\t\tROWS BETWEEN UNBOUNDED PRECEDING AND UNBOUNDED FOLLOWING\n",
    "\t\t\t\t\t\t) AS value_2nd\n",
    "\tFROM partho.marks) AS t\n",
    "WHERE marks = value_2nd\n",
    "```"
   ]
  },
  {
   "cell_type": "markdown",
   "id": "7ba2c413-83fe-450d-96b3-b358ce20b6d2",
   "metadata": {},
   "source": [
    "**Example:** *Find the month on month revenue growth.*\n",
    "\n",
    "```sql\n",
    "WITH monthly_orders AS (SELECT \n",
    "\t\t\t\t\t\tMONTH(date) AS month_num,\n",
    "\t\t\t\t\t\tMONTHNAME(date) AS month_name,\n",
    "\t\t\t\t\t\tSUM(amount) AS total_amount\n",
    "\t\t\t\t\t\tFROM zomato.orders\n",
    "\t\t\t\t\t\tGROUP BY MONTH(date), MONTHNAME(date)\n",
    ")\n",
    "\n",
    "SELECT \n",
    "    month_name, total_amount,\n",
    "    ROUND(\n",
    "        ((total_amount - LAG(total_amount) OVER (ORDER BY month_num)) \n",
    "         / LAG(total_amount) OVER (ORDER BY month_num)) * 100, 2) AS pct_growth\n",
    "FROM monthly_orders\n",
    "ORDER BY month_num;\n",
    "```"
   ]
  },
  {
   "cell_type": "markdown",
   "id": "7e6a1fb6-8a74-49b4-99d6-697fbdf0b37f",
   "metadata": {},
   "source": [
    "### ipl dataset"
   ]
  },
  {
   "cell_type": "markdown",
   "id": "973abf40-37bc-480e-b401-8bd48d60f64d",
   "metadata": {},
   "source": [
    "*1. Who are the top 5 batsman in each ipl team.*\n",
    "\n",
    "```sql\n",
    "SELECT * FROM(\n",
    "\t\tSELECT BattingTeam, batter, SUM(batsman_run) AS total_runs,\n",
    "\t\tDENSE_RANK() OVER(PARTITION BY BattingTeam ORDER BY SUM(batsman_run) DESC) AS rank_within_team\n",
    "\t\tFROM partho.ipl\n",
    "\t\tGROUP BY BattingTeam, batter) t\n",
    "WHERE t.rank_within_team < 6\n",
    "```"
   ]
  },
  {
   "cell_type": "markdown",
   "id": "caef5169-e9fa-4ea6-ba48-4f267c66639c",
   "metadata": {},
   "source": [
    "*2. How many runs V Kohli made upto his 5th, 100th and 150th match (Use cumulative sum)*\n",
    "\n",
    "```sql\n",
    "SELECT * FROM (\n",
    "\tSELECT ID, ROW_NUMBER() OVER(ORDER BY ID) AS match_no,\n",
    "\tSUM(batsman_run) AS runs,\n",
    "\tSUM(SUM(batsman_run)) over(ROWS BETWEEN UNBOUNDED PRECEDING AND CURRENT ROW) AS career_runs\n",
    "\tFROM partho.ipl\n",
    "\tWHERE batter = 'V Kohli'\n",
    "\tGROUP BY ID\n",
    "    ) t\n",
    "WHERE t.match_no = 5 or t.match_no = 100 or t.match_no = 150\n",
    "```"
   ]
  },
  {
   "cell_type": "markdown",
   "id": "4667962c-37c2-461f-9d5b-35a8749fb9cf",
   "metadata": {},
   "source": []
  },
  {
   "cell_type": "markdown",
   "id": "7e534be1-fdbe-416c-bb82-3b21af425bf7",
   "metadata": {},
   "source": [
    "*Find the percentage of total sell amount each restaurants.*\n",
    "\n",
    "```sql\n",
    "SELECT t.f_id, f_name, (total_value/SUM(total_value) OVER()) * 100  AS percent_of_total\n",
    "FROM(SELECT f_id, SUM(amount) AS total_value\n",
    "\t\tFROM zomato.orders t1\n",
    "\t\tJOIN zomato.order_details t2\n",
    "\t\tON t1.order_id = t2.order_id\n",
    "\t\tWHERE r_id = 1\n",
    "\t\tGROUP BY f_id) t\n",
    "JOIN zomato.food t3\n",
    "ON t.f_id = t3.f_id\n",
    "\n",
    "```\n",
    "> This is for restaurant id 1, You can change it by change the value of\n",
    "\n",
    "```sql\n",
    "> WHERE r_id = 1 \n",
    "```"
   ]
  },
  {
   "cell_type": "markdown",
   "id": "a012b891-14c4-4581-b30c-d0b4141b3de2",
   "metadata": {},
   "source": [
    "### DSE Dataset"
   ]
  },
  {
   "cell_type": "markdown",
   "id": "ea196770-41a3-472e-96a3-291edd3bf5a2",
   "metadata": {},
   "source": [
    "*1. Find the monthly trade volume from dse database.*\n",
    "\n",
    "```sql\n",
    "SELECT YEAR(Date) AS year, \n",
    "MONTHNAME(date) AS month, \n",
    "SUM(Volume) AS monthly_volume\n",
    "FROM dse.dse_market_info\n",
    "GROUP BY YEAR(date), MONTHNAME(date)\n",
    "```"
   ]
  },
  {
   "cell_type": "markdown",
   "id": "93398564-d73e-4f12-9109-8d0c32ac1c11",
   "metadata": {},
   "source": [
    "*2. Find the monthly trade volume from dse database (Ascending order).*\n",
    "\n",
    "```sql\n",
    "SELECT YEAR(Date) AS year,\n",
    "MONTH(date) AS month, \n",
    "MONTHNAME(date) AS month_name, \n",
    "SUM(Volume) AS monthly_volume\n",
    "FROM dse.dse_market_info\n",
    "GROUP BY YEAR(date), MONTH(date), MONTHNAME(date)\n",
    "ORDER BY year, month\n",
    "```"
   ]
  },
  {
   "cell_type": "markdown",
   "id": "516517e9-7f60-45d7-89dc-6dc0fcdf6d88",
   "metadata": {},
   "source": [
    "*3. Find out the percentage change of volume monthwise*\n",
    "\n",
    "```sql\n",
    "SELECT YEAR(Date) AS year,\n",
    "MONTH(Date) AS month,\n",
    "MONTHNAME(Date) AS month_name,\n",
    "SUM(Volume) AS month_volume,\n",
    "(SUM(Volume) - LAG(SUM(Volume)) OVER(ORDER BY YEAR(date), MONTH(date))) * 100/SUM(Volume) AS percent_change\n",
    "FROM dse.dse_market_info\n",
    "GROUP BY YEAR(date), MONTH(date), MONTHNAME(date)\n",
    "ORDER BY YEAR, MONTH\n",
    "```"
   ]
  },
  {
   "cell_type": "markdown",
   "id": "610f01cc-8239-4f43-b5cc-36efd4086c9b",
   "metadata": {},
   "source": [
    "*4. Find out the weekly percentage change of volume*\n",
    "\n",
    "```sql\n",
    "SELECT date, volume,\n",
    "(Volume - LAG(volume,7) OVER(ORDER BY YEAR(date), MONTH(date), DATE(date))) * 100/Volume AS weekly_percentage_change\n",
    "FROM dse.dse_market_info\n",
    "```"
   ]
  },
  {
   "cell_type": "markdown",
   "id": "fca8c958-29f5-43bb-becc-36bc4e575b90",
   "metadata": {},
   "source": []
  }
 ],
 "metadata": {
  "kernelspec": {
   "display_name": "Python [conda env:base] *",
   "language": "python",
   "name": "conda-base-py"
  },
  "language_info": {
   "codemirror_mode": {
    "name": "ipython",
    "version": 3
   },
   "file_extension": ".py",
   "mimetype": "text/x-python",
   "name": "python",
   "nbconvert_exporter": "python",
   "pygments_lexer": "ipython3",
   "version": "3.12.7"
  }
 },
 "nbformat": 4,
 "nbformat_minor": 5
}
