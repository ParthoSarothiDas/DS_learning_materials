{
 "cells": [
  {
   "cell_type": "markdown",
   "id": "410da694-7bd4-4066-a679-576fed1f6079",
   "metadata": {},
   "source": [
    "#  Data Science Learning Journey  \n",
    "*Curiosity to Capability — One Notebook at a Time*\n",
    "\n",
    "---\n",
    "Compiled and authored by **Partho Sarothi Das**   \n",
    "\tDhaka, Bangladesh  \n",
    "\tBachelor's & Master's in Statistics  \n",
    "\tInvestment Banking Professional → Aspiring Data Scientist \n",
    "    \n",
    "---"
   ]
  },
  {
   "cell_type": "markdown",
   "id": "7a66b27d-b947-4dd6-ad64-a6bbd88ad3f4",
   "metadata": {},
   "source": [
    "# SQL commands: Five main categories (based on their purpose)"
   ]
  },
  {
   "cell_type": "markdown",
   "id": "3757def1-7ce4-4d40-a4f4-c2dfbebb0a80",
   "metadata": {},
   "source": [
    "### 1. DDL – Data Definition Language\n",
    "\n",
    "These commands define or modify the **structure** of the database (tables, schemas, indexes).\n",
    "\n",
    "| Command      | Purpose                                              | Example                                             |\n",
    "| ------------ | ---------------------------------------------------- | --------------------------------------------------- |\n",
    "| **CREATE**   | Create a new table, database, or object.             | `CREATE TABLE students (id INT, name VARCHAR(50));` |\n",
    "| **ALTER**    | Modify an existing table structure.                  | `ALTER TABLE students ADD age INT;`                 |\n",
    "| **DROP**     | Delete a table, database, or object.                 | `DROP TABLE students;`                              |\n",
    "| **TRUNCATE** | Remove all rows from a table but keep the structure. | `TRUNCATE TABLE students;`                          |\n",
    "| **RENAME**   | Change the name of a database object.                | `RENAME TABLE students TO learners;`                |\n",
    "\n",
    "---\n",
    "\n",
    "### 2. DML – Data Manipulation Language\n",
    "\n",
    "These commands deal with **data inside tables** (insert, update, delete).\n",
    "\n",
    "| Command    | Purpose                   | Example                                             |\n",
    "| ---------- | ------------------------- | --------------------------------------------------- |\n",
    "| **INSERT** | Add new rows of data.     | `INSERT INTO students VALUES (1, 'Partho');`        |\n",
    "| **UPDATE** | Modify existing data.     | `UPDATE students SET name='Partho Das' WHERE id=1;` |\n",
    "| **DELETE** | Remove data from a table. | `DELETE FROM students WHERE id=1;`                  |\n",
    "\n",
    "---\n",
    "\n",
    "### 3. DQL – Data Query Language\n",
    "\n",
    "Used for **retrieving data** from the database.\n",
    "\n",
    "| Command    | Purpose                             | Example                   |\n",
    "| ---------- | ----------------------------------- | ------------------------- |\n",
    "| **SELECT** | Query data from one or more tables. | `SELECT * FROM students;` |\n",
    "\n",
    "---\n",
    "\n",
    "### 4. DCL – Data Control Language\n",
    "\n",
    "Deals with **access control and permissions** in the database.\n",
    "\n",
    "| Command    | Purpose                           | Example                                   |\n",
    "| ---------- | --------------------------------- | ----------------------------------------- |\n",
    "| **GRANT**  | Give privileges to a user.        | `GRANT SELECT ON students TO 'user1';`    |\n",
    "| **REVOKE** | Take back privileges from a user. | `REVOKE SELECT ON students FROM 'user1';` |\n",
    "\n",
    "---\n",
    "\n",
    "### 5. TCL – Transaction Control Language\n",
    "\n",
    "Manages **transactions** in the database to ensure data integrity.\n",
    "\n",
    "| Command       | Purpose                         | Example              |\n",
    "| ------------- | ------------------------------- | -------------------- |\n",
    "| **COMMIT**    | Save changes permanently.       | `COMMIT;`            |\n",
    "| **ROLLBACK**  | Undo changes since last commit. | `ROLLBACK;`          |\n",
    "| **SAVEPOINT** | Set a point to roll back to.    | `SAVEPOINT myPoint;` |\n",
    "\n",
    "---"
   ]
  },
  {
   "cell_type": "markdown",
   "id": "033f56f5-0a64-497c-a8a1-f5f3d45dbd68",
   "metadata": {},
   "source": [
    "# DDL – Data Definition Language"
   ]
  },
  {
   "cell_type": "markdown",
   "id": "6ee82f70-2a28-404b-b040-666ef5b2671f",
   "metadata": {},
   "source": [
    "### CREATE DATABASE\n",
    "\n",
    "*Simple*\n",
    "```SQL\n",
    "CREATE DATABASE test1\n",
    "```\n",
    "*Best practice*\n",
    "\n",
    "```sql\n",
    "CREATE DATABASE IF NOT EXISTS test\n",
    "```"
   ]
  },
  {
   "cell_type": "markdown",
   "id": "e0868d3d-e359-4b78-91d9-ee3a8630dcd7",
   "metadata": {},
   "source": [
    "### DELETE DATABASE\n",
    "\n",
    "*Simple*\n",
    "```SQL\n",
    "DROP DATABASE test1\n",
    "```\n",
    "\n",
    "*Best practice*\n",
    "\n",
    "```SQL\n",
    "DROP DATABASE IF EXISTS test\n",
    "```"
   ]
  },
  {
   "cell_type": "markdown",
   "id": "b8a9d1ce-8f53-4683-b4ff-7cc050c8fac0",
   "metadata": {},
   "source": [
    "### CREATE TABLE\n",
    "\n",
    "```SQL\n",
    "CREATE TABLE users(\n",
    "\tuser_id INTEGER,\n",
    "    name VARCHAR(255),\n",
    "    email VARCHAR(255),\n",
    "    password VARCHAR(255)\n",
    ")\n",
    "```"
   ]
  },
  {
   "cell_type": "markdown",
   "id": "79d6431a-dc5d-44d1-83b1-3c6f09bb3e99",
   "metadata": {},
   "source": [
    "**Main constraints in MySQL:**\n",
    "\n",
    "| Constraint               | Purpose                                                                                                | Example                                            |\n",
    "| ------------------------ | ------------------------------------------------------------------------------------------------------ | -------------------------------------------------- |\n",
    "| **NOT NULL**             | Ensures a column cannot have `NULL` values.                                                            | `name VARCHAR(50) NOT NULL`                        |\n",
    "| **UNIQUE**               | Ensures all values in a column are unique (no duplicates).                                             | `email VARCHAR(100) UNIQUE`                        |\n",
    "| **PRIMARY KEY**          | Uniquely identifies each row; combination of `NOT NULL` + `UNIQUE`.                                    | `id INT PRIMARY KEY`                               |\n",
    "| **FOREIGN KEY**          | Links a column in one table to the **PRIMARY KEY** in another table (maintains referential integrity). | `FOREIGN KEY (dept_id) REFERENCES departments(id)` |\n",
    "| **DEFAULT**              | Sets a default value if none is provided.                                                              | `status VARCHAR(20) DEFAULT 'active'`              |\n",
    "| **CHECK** *(MySQL 8.0+)* | Ensures values meet a condition.                                                                       | `CHECK (age >= 18)`                                |\n",
    "| **AUTO\\_INCREMENT**      | Automatically generates sequential numbers for a column (usually for primary keys).                    | `id INT PRIMARY KEY AUTO_INCREMENT`                |\n"
   ]
  },
  {
   "cell_type": "markdown",
   "id": "decfdb59-9654-4a3f-b8d8-daabf3b25383",
   "metadata": {},
   "source": [
    "**Example Table with Constraints**\n",
    "\n",
    "```sql\n",
    "CREATE TABLE employees (\n",
    "    emp_id INT PRIMARY KEY AUTO_INCREMENT,\n",
    "    name VARCHAR(50) NOT NULL,\n",
    "    email VARCHAR(100) UNIQUE,\n",
    "    age INT CHECK (age >= 18),\n",
    "    dept_id INT,\n",
    "    status VARCHAR(20) DEFAULT 'active'\n",
    "    FOREIGN KEY (dept_id) REFERENCES departments(dept_id)\n",
    ")\n",
    "```\n",
    "\n",
    "> You need to create a departments table."
   ]
  },
  {
   "cell_type": "markdown",
   "id": "2a79333e-0598-4458-b6e1-f93901360b2f",
   "metadata": {},
   "source": [
    "### TRUNCATE TABLE\n",
    "\n",
    "*Remove All Data but Keep Structure*\n",
    "\n",
    "```SQL\n",
    "TRUNCATE TABLE abhik.students\n",
    "```"
   ]
  },
  {
   "cell_type": "markdown",
   "id": "087bdfeb-4af9-4860-a4b4-acc1a74f7a9c",
   "metadata": {},
   "source": [
    "### DROP TABLE\n",
    "\n",
    "```SQL\n",
    "DROP TABLE IF EXISTS abhik.students\n",
    "```"
   ]
  },
  {
   "cell_type": "markdown",
   "id": "d4f588f0-3f62-4b09-b16d-c1b5c794246a",
   "metadata": {},
   "source": [
    "### ALTER TABLE\n",
    "\n",
    "```SQL\n",
    "ALTER TABLE abhik.employees ADD column city VARCHAR(255) NOT NULL\n",
    "```"
   ]
  },
  {
   "cell_type": "markdown",
   "id": "63a1e82c-9ee3-4452-8672-6754346bc812",
   "metadata": {},
   "source": [
    "### Drop a column of a table\n",
    "\n",
    "```SQL\n",
    "ALTER TABLE abhik.employees DROP COLUMN city\n",
    "```"
   ]
  }
 ],
 "metadata": {
  "kernelspec": {
   "display_name": "Python [conda env:base] *",
   "language": "python",
   "name": "conda-base-py"
  },
  "language_info": {
   "codemirror_mode": {
    "name": "ipython",
    "version": 3
   },
   "file_extension": ".py",
   "mimetype": "text/x-python",
   "name": "python",
   "nbconvert_exporter": "python",
   "pygments_lexer": "ipython3",
   "version": "3.12.7"
  }
 },
 "nbformat": 4,
 "nbformat_minor": 5
}
